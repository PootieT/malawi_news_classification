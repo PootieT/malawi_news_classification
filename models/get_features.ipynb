{
 "cells": [
  {
   "cell_type": "code",
   "execution_count": null,
   "id": "2ee3adbd",
   "metadata": {},
   "outputs": [],
   "source": [
    "import os\n",
    "import csv\n",
    "import json\n",
    "import logging\n",
    "import math\n",
    "from typing import List, Dict, Tuple, Callable, Iterable, Optional, Any\n",
    "\n",
    "import torch\n",
    "import torch.nn as nn\n",
    "from sentence_transformers import SentenceTransformer, models, InputExample, losses\n",
    "from sentence_transformers.evaluation import LabelAccuracyEvaluator, SentenceEvaluator\n",
    "from sentence_transformers.util import batch_to_device\n",
    "from torch import Tensor\n",
    "from torch.utils.data import DataLoader\n",
    "from transformers import MT5EncoderModel, AutoConfig\n",
    "from transformers import pipeline, AutoTokenizer\n",
    "\n",
    "model_name = \"google/mt5-small\"\n",
    "base_model = models.Transformer(model_name)\n",
    "# sentence bert repo does not current support mT5 yet (only T5 ironically)\n",
    "MT5EncoderModel._keys_to_ignore_on_load_unexpected = [\"decoder.*\"]\n",
    "mT5_config = AutoConfig.from_pretrained(model_name)   \n",
    "tokenizer = AutoTokenizer.from_pretrained(model_name)"
   ]
  },
  {
   "cell_type": "code",
   "execution_count": null,
   "id": "93e34afa",
   "metadata": {},
   "outputs": [],
   "source": [
    "import pandas as pd\n",
    "train_df=pd.read_csv('C:/Users/leose/second_semester/NLP/malawi_news_classification/data/train.csv')\n",
    "test_df=pd.read_csv('C:/Users/leose/second_semester/NLP/malawi_news_classification/data/test.csv')"
   ]
  },
  {
   "cell_type": "code",
   "execution_count": null,
   "id": "2ec3e92f",
   "metadata": {},
   "outputs": [],
   "source": [
    "train_df['Text']=train_df['Text'].tolist()\n",
    "test_df['Text']=test_df['Text'].tolist()\n",
    "train_batch_sentences=[]\n",
    "test_batch_sentences=[]\n",
    "\n",
    "for frame in train_df['Text']:\n",
    "    train_batch_sentences.append(frame)\n",
    "for sentence in test_df['Text']:\n",
    "    test_batch_sentences.append(frame)"
   ]
  },
  {
   "cell_type": "code",
   "execution_count": null,
   "id": "228cae10",
   "metadata": {},
   "outputs": [],
   "source": [
    "train_batch_sentences"
   ]
  },
  {
   "cell_type": "code",
   "execution_count": null,
   "id": "0a14f8f8",
   "metadata": {},
   "outputs": [],
   "source": [
    "import pickle\n",
    "train_representations=tokenizer(train_batch_sentences,padding=True,truncation=True)\n",
    "test_representations=tokenizer(test_batch_sentences,padding=True,truncation=True)\n",
    "\n",
    "train_filehandler = open(\"train.pkl\",\"wb\")\n",
    "test_filehandler = open(\"test.pkl\",\"wb\")\n",
    "pickle.dump(train_representations,train_filehandler)\n",
    "pickle.dump(test_representations,test_filehandler)\n",
    "train_filehandler.close()\n",
    "test_filehandler.close()"
   ]
  }
 ],
 "metadata": {
  "kernelspec": {
   "display_name": "Python 3 (ipykernel)",
   "language": "python",
   "name": "python3"
  },
  "language_info": {
   "codemirror_mode": {
    "name": "ipython",
    "version": 3
   },
   "file_extension": ".py",
   "mimetype": "text/x-python",
   "name": "python",
   "nbconvert_exporter": "python",
   "pygments_lexer": "ipython3",
   "version": "3.8.11"
  }
 },
 "nbformat": 4,
 "nbformat_minor": 5
}
