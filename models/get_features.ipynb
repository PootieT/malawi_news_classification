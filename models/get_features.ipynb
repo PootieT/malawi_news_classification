{
 "cells": [
  {
   "cell_type": "code",
   "execution_count": 5,
   "id": "2ee3adbd",
   "metadata": {},
   "outputs": [
    {
     "name": "stderr",
     "output_type": "stream",
     "text": [
      "Some weights of the model checkpoint at google/mt5-small were not used when initializing MT5Model: ['lm_head.weight']\n",
      "- This IS expected if you are initializing MT5Model from the checkpoint of a model trained on another task or with another architecture (e.g. initializing a BertForSequenceClassification model from a BertForPreTraining model).\n",
      "- This IS NOT expected if you are initializing MT5Model from the checkpoint of a model that you expect to be exactly identical (initializing a BertForSequenceClassification model from a BertForSequenceClassification model).\n"
     ]
    }
   ],
   "source": [
    "import os\n",
    "import csv\n",
    "import json\n",
    "import logging\n",
    "import math\n",
    "from typing import List, Dict, Tuple, Callable, Iterable, Optional, Any\n",
    "\n",
    "import torch\n",
    "import torch.nn as nn\n",
    "from sentence_transformers import SentenceTransformer, models, InputExample, losses\n",
    "from sentence_transformers.evaluation import LabelAccuracyEvaluator, SentenceEvaluator\n",
    "from sentence_transformers.util import batch_to_device\n",
    "from torch import Tensor\n",
    "from torch.utils.data import DataLoader\n",
    "from transformers import MT5EncoderModel, AutoConfig\n",
    "from transformers import pipeline, AutoTokenizer\n",
    "\n",
    "model_name = \"google/mt5-small\"\n",
    "base_model = models.Transformer(model_name)\n",
    "# sentence bert repo does not current support mT5 yet (only T5 ironically)\n",
    "MT5EncoderModel._keys_to_ignore_on_load_unexpected = [\"decoder.*\"]\n",
    "mT5_config = AutoConfig.from_pretrained(model_name)   \n",
    "tokenizer = AutoTokenizer.from_pretrained(model_name)\n",
    "ex=tokenizer(\"Hello, this one sentence!\", \"And this sentence goes with it.\")"
   ]
  },
  {
   "cell_type": "code",
   "execution_count": 9,
   "id": "93e34afa",
   "metadata": {},
   "outputs": [],
   "source": [
    "import pandas as pd\n",
    "train_df=pd.read_csv('C:/Users/leose/second_semester/NLP/malawi_news_classification/data/train.csv')\n",
    "# test_df=pd.read_csv('C:/Users/leose/second_semester/NLP/malawi_news_classification/data/test.csv')"
   ]
  },
  {
   "cell_type": "code",
   "execution_count": 15,
   "id": "2ec3e92f",
   "metadata": {},
   "outputs": [],
   "source": [
    "train_batch_sentences=[]\n",
    "test_batch_sentences=[]\n",
    "\n",
    "for frame in train_df['Text']:\n",
    "    train_batch_sentences.append(frame)\n",
    "for sentence in test_df['Text']:\n",
    "    test_batch_sentences.append(frame)"
   ]
  },
  {
   "cell_type": "code",
   "execution_count": 33,
   "id": "0a14f8f8",
   "metadata": {},
   "outputs": [],
   "source": [
    "train_representations=tokenizer(train_batch_sentences[:-99],padding=True,truncation=True)\n",
    "test_representations=tokenizer(test_batch_sentences,padding=True,truncation=True)"
   ]
  },
  {
   "cell_type": "code",
   "execution_count": 31,
   "id": "e47a8b6f",
   "metadata": {},
   "outputs": [
    {
     "name": "stdout",
     "output_type": "stream",
     "text": [
      "1247\n",
      "1247\n",
      "[13:14:27] WARNING: ..\\src\\learner.cc:1115: Starting in XGBoost 1.3.0, the default evaluation metric used with the objective 'multi:softprob' was changed from 'merror' to 'mlogloss'. Explicitly set eval_metric if you'd like to restore the old behavior.\n"
     ]
    },
    {
     "ename": "NameError",
     "evalue": "name 'X_test' is not defined",
     "output_type": "error",
     "traceback": [
      "\u001b[1;31m---------------------------------------------------------------------------\u001b[0m",
      "\u001b[1;31mNameError\u001b[0m                                 Traceback (most recent call last)",
      "\u001b[1;32m~\\AppData\\Local\\Temp/ipykernel_7224/2173377905.py\u001b[0m in \u001b[0;36m<module>\u001b[1;34m\u001b[0m\n\u001b[0;32m     12\u001b[0m \u001b[0mmodel\u001b[0m\u001b[1;33m.\u001b[0m\u001b[0mfit\u001b[0m\u001b[1;33m(\u001b[0m\u001b[0mX_train\u001b[0m\u001b[1;33m,\u001b[0m \u001b[0my_train\u001b[0m\u001b[1;33m)\u001b[0m\u001b[1;33m\u001b[0m\u001b[1;33m\u001b[0m\u001b[0m\n\u001b[0;32m     13\u001b[0m \u001b[1;33m\u001b[0m\u001b[0m\n\u001b[1;32m---> 14\u001b[1;33m \u001b[0my_pred\u001b[0m \u001b[1;33m=\u001b[0m \u001b[0mmodel\u001b[0m\u001b[1;33m.\u001b[0m\u001b[0mpredict\u001b[0m\u001b[1;33m(\u001b[0m\u001b[0mX_test\u001b[0m\u001b[1;33m)\u001b[0m\u001b[1;33m\u001b[0m\u001b[1;33m\u001b[0m\u001b[0m\n\u001b[0m\u001b[0;32m     15\u001b[0m \u001b[0mpredictions\u001b[0m \u001b[1;33m=\u001b[0m \u001b[1;33m[\u001b[0m\u001b[0mround\u001b[0m\u001b[1;33m(\u001b[0m\u001b[0mvalue\u001b[0m\u001b[1;33m)\u001b[0m \u001b[1;32mfor\u001b[0m \u001b[0mvalue\u001b[0m \u001b[1;32min\u001b[0m \u001b[0my_pred\u001b[0m\u001b[1;33m]\u001b[0m\u001b[1;33m\u001b[0m\u001b[1;33m\u001b[0m\u001b[0m\n\u001b[0;32m     16\u001b[0m \u001b[0maccuracy\u001b[0m \u001b[1;33m=\u001b[0m \u001b[0maccuracy_score\u001b[0m\u001b[1;33m(\u001b[0m\u001b[0my_test\u001b[0m\u001b[1;33m,\u001b[0m \u001b[0mpredictions\u001b[0m\u001b[1;33m)\u001b[0m\u001b[1;33m\u001b[0m\u001b[1;33m\u001b[0m\u001b[0m\n",
      "\u001b[1;31mNameError\u001b[0m: name 'X_test' is not defined"
     ]
    }
   ],
   "source": [
    "import xgboost as xgb\n",
    "from sklearn.preprocessing import LabelEncoder \n",
    "from xgboost import XGBClassifier\n",
    "from sklearn.metrics import accuracy_score\n",
    "\n",
    "X_train=train_representations['input_ids'][90:]\n",
    "print(len(X_train))\n",
    "y_train=train_df['Label'][189:]\n",
    "print(len(y_train))\n",
    "y_test=train_representations['input_ids'][:9]\n",
    "\n",
    "model = XGBClassifier() \n",
    "model.fit(X_train, y_train)\n"
   ]
  },
  {
   "cell_type": "code",
   "execution_count": 36,
   "id": "f9dc986c",
   "metadata": {},
   "outputs": [
    {
     "name": "stdout",
     "output_type": "stream",
     "text": [
      "['LAW/ORDER' 'LAW/ORDER' 'LAW/ORDER' 'LAW/ORDER' 'LAW/ORDER' 'LAW/ORDER'\n",
      " 'LAW/ORDER' 'LAW/ORDER' 'LAW/ORDER' 'LAW/ORDER' 'LAW/ORDER' 'LAW/ORDER'\n",
      " 'LAW/ORDER' 'LAW/ORDER' 'LAW/ORDER' 'LAW/ORDER' 'LAW/ORDER' 'LAW/ORDER'\n",
      " 'LAW/ORDER' 'LAW/ORDER' 'LAW/ORDER' 'LAW/ORDER' 'LAW/ORDER' 'LAW/ORDER'\n",
      " 'LAW/ORDER' 'LAW/ORDER' 'LAW/ORDER' 'LAW/ORDER' 'LAW/ORDER' 'LAW/ORDER'\n",
      " 'LAW/ORDER' 'LAW/ORDER' 'LAW/ORDER' 'LAW/ORDER' 'LAW/ORDER' 'LAW/ORDER'\n",
      " 'LAW/ORDER' 'LAW/ORDER' 'LAW/ORDER' 'LAW/ORDER' 'LAW/ORDER' 'LAW/ORDER'\n",
      " 'LAW/ORDER' 'LAW/ORDER' 'LAW/ORDER' 'LAW/ORDER' 'LAW/ORDER' 'LAW/ORDER'\n",
      " 'LAW/ORDER' 'LAW/ORDER' 'LAW/ORDER' 'LAW/ORDER' 'LAW/ORDER' 'LAW/ORDER'\n",
      " 'LAW/ORDER' 'LAW/ORDER' 'LAW/ORDER' 'LAW/ORDER' 'LAW/ORDER' 'LAW/ORDER'\n",
      " 'LAW/ORDER' 'LAW/ORDER' 'LAW/ORDER' 'LAW/ORDER' 'LAW/ORDER' 'LAW/ORDER'\n",
      " 'LAW/ORDER' 'LAW/ORDER' 'LAW/ORDER' 'LAW/ORDER' 'LAW/ORDER' 'LAW/ORDER'\n",
      " 'LAW/ORDER' 'LAW/ORDER' 'LAW/ORDER' 'LAW/ORDER' 'LAW/ORDER' 'LAW/ORDER'\n",
      " 'LAW/ORDER' 'LAW/ORDER' 'LAW/ORDER' 'LAW/ORDER' 'LAW/ORDER' 'LAW/ORDER'\n",
      " 'LAW/ORDER' 'LAW/ORDER' 'LAW/ORDER' 'LAW/ORDER' 'LAW/ORDER' 'LAW/ORDER'\n",
      " 'LAW/ORDER' 'LAW/ORDER' 'LAW/ORDER' 'LAW/ORDER' 'LAW/ORDER' 'LAW/ORDER'\n",
      " 'LAW/ORDER' 'LAW/ORDER' 'LAW/ORDER' 'LAW/ORDER' 'LAW/ORDER' 'LAW/ORDER'\n",
      " 'LAW/ORDER' 'LAW/ORDER' 'LAW/ORDER' 'LAW/ORDER' 'LAW/ORDER' 'LAW/ORDER'\n",
      " 'LAW/ORDER' 'LAW/ORDER' 'LAW/ORDER' 'LAW/ORDER' 'LAW/ORDER' 'LAW/ORDER'\n",
      " 'LAW/ORDER' 'LAW/ORDER' 'LAW/ORDER' 'LAW/ORDER' 'LAW/ORDER' 'LAW/ORDER'\n",
      " 'LAW/ORDER' 'LAW/ORDER' 'LAW/ORDER' 'LAW/ORDER' 'LAW/ORDER' 'LAW/ORDER'\n",
      " 'LAW/ORDER' 'LAW/ORDER' 'LAW/ORDER' 'LAW/ORDER' 'LAW/ORDER' 'LAW/ORDER'\n",
      " 'LAW/ORDER' 'LAW/ORDER' 'LAW/ORDER' 'LAW/ORDER' 'LAW/ORDER' 'LAW/ORDER'\n",
      " 'LAW/ORDER' 'LAW/ORDER' 'LAW/ORDER' 'LAW/ORDER' 'LAW/ORDER' 'LAW/ORDER'\n",
      " 'LAW/ORDER' 'LAW/ORDER' 'LAW/ORDER' 'LAW/ORDER' 'LAW/ORDER' 'LAW/ORDER'\n",
      " 'LAW/ORDER' 'LAW/ORDER' 'LAW/ORDER' 'LAW/ORDER' 'LAW/ORDER' 'LAW/ORDER'\n",
      " 'LAW/ORDER' 'LAW/ORDER' 'LAW/ORDER' 'LAW/ORDER' 'LAW/ORDER' 'LAW/ORDER'\n",
      " 'LAW/ORDER' 'LAW/ORDER' 'LAW/ORDER' 'LAW/ORDER' 'LAW/ORDER' 'LAW/ORDER'\n",
      " 'LAW/ORDER' 'LAW/ORDER' 'LAW/ORDER' 'LAW/ORDER' 'LAW/ORDER' 'LAW/ORDER'\n",
      " 'LAW/ORDER' 'LAW/ORDER' 'LAW/ORDER' 'LAW/ORDER' 'LAW/ORDER' 'LAW/ORDER'\n",
      " 'LAW/ORDER' 'LAW/ORDER' 'LAW/ORDER' 'LAW/ORDER' 'LAW/ORDER' 'LAW/ORDER'\n",
      " 'LAW/ORDER' 'LAW/ORDER' 'LAW/ORDER' 'LAW/ORDER' 'LAW/ORDER' 'LAW/ORDER'\n",
      " 'LAW/ORDER' 'LAW/ORDER' 'LAW/ORDER' 'LAW/ORDER' 'LAW/ORDER' 'LAW/ORDER'\n",
      " 'LAW/ORDER' 'LAW/ORDER' 'LAW/ORDER' 'LAW/ORDER' 'LAW/ORDER' 'LAW/ORDER'\n",
      " 'LAW/ORDER' 'LAW/ORDER' 'LAW/ORDER' 'LAW/ORDER' 'LAW/ORDER' 'LAW/ORDER'\n",
      " 'LAW/ORDER' 'LAW/ORDER' 'LAW/ORDER' 'LAW/ORDER' 'LAW/ORDER' 'LAW/ORDER'\n",
      " 'LAW/ORDER' 'LAW/ORDER' 'LAW/ORDER' 'LAW/ORDER' 'LAW/ORDER' 'LAW/ORDER'\n",
      " 'LAW/ORDER' 'LAW/ORDER' 'LAW/ORDER' 'LAW/ORDER' 'LAW/ORDER' 'LAW/ORDER'\n",
      " 'LAW/ORDER' 'LAW/ORDER' 'LAW/ORDER' 'LAW/ORDER' 'LAW/ORDER' 'LAW/ORDER'\n",
      " 'LAW/ORDER' 'LAW/ORDER' 'LAW/ORDER' 'LAW/ORDER' 'LAW/ORDER' 'LAW/ORDER'\n",
      " 'LAW/ORDER' 'LAW/ORDER' 'LAW/ORDER' 'LAW/ORDER' 'LAW/ORDER' 'LAW/ORDER'\n",
      " 'LAW/ORDER' 'LAW/ORDER' 'LAW/ORDER' 'LAW/ORDER' 'LAW/ORDER' 'LAW/ORDER'\n",
      " 'LAW/ORDER' 'LAW/ORDER' 'LAW/ORDER' 'LAW/ORDER' 'LAW/ORDER' 'LAW/ORDER'\n",
      " 'LAW/ORDER' 'LAW/ORDER' 'LAW/ORDER' 'LAW/ORDER' 'LAW/ORDER' 'LAW/ORDER'\n",
      " 'LAW/ORDER' 'LAW/ORDER' 'LAW/ORDER' 'LAW/ORDER' 'LAW/ORDER' 'LAW/ORDER'\n",
      " 'LAW/ORDER' 'LAW/ORDER' 'LAW/ORDER' 'LAW/ORDER' 'LAW/ORDER' 'LAW/ORDER'\n",
      " 'LAW/ORDER' 'LAW/ORDER' 'LAW/ORDER' 'LAW/ORDER' 'LAW/ORDER' 'LAW/ORDER'\n",
      " 'LAW/ORDER' 'LAW/ORDER' 'LAW/ORDER' 'LAW/ORDER' 'LAW/ORDER' 'LAW/ORDER'\n",
      " 'LAW/ORDER' 'LAW/ORDER' 'LAW/ORDER' 'LAW/ORDER' 'LAW/ORDER' 'LAW/ORDER'\n",
      " 'LAW/ORDER' 'LAW/ORDER' 'LAW/ORDER' 'LAW/ORDER' 'LAW/ORDER' 'LAW/ORDER'\n",
      " 'LAW/ORDER' 'LAW/ORDER' 'LAW/ORDER' 'LAW/ORDER' 'LAW/ORDER' 'LAW/ORDER'\n",
      " 'LAW/ORDER' 'LAW/ORDER' 'LAW/ORDER' 'LAW/ORDER' 'LAW/ORDER' 'LAW/ORDER'\n",
      " 'LAW/ORDER' 'LAW/ORDER' 'LAW/ORDER' 'LAW/ORDER' 'LAW/ORDER' 'LAW/ORDER'\n",
      " 'LAW/ORDER' 'LAW/ORDER' 'LAW/ORDER' 'LAW/ORDER' 'LAW/ORDER' 'LAW/ORDER'\n",
      " 'LAW/ORDER' 'LAW/ORDER' 'LAW/ORDER' 'LAW/ORDER' 'LAW/ORDER' 'LAW/ORDER'\n",
      " 'LAW/ORDER' 'LAW/ORDER' 'LAW/ORDER' 'LAW/ORDER' 'LAW/ORDER' 'LAW/ORDER'\n",
      " 'LAW/ORDER' 'LAW/ORDER' 'LAW/ORDER' 'LAW/ORDER' 'LAW/ORDER' 'LAW/ORDER'\n",
      " 'LAW/ORDER' 'LAW/ORDER' 'LAW/ORDER' 'LAW/ORDER' 'LAW/ORDER' 'LAW/ORDER'\n",
      " 'LAW/ORDER' 'LAW/ORDER' 'LAW/ORDER' 'LAW/ORDER' 'LAW/ORDER' 'LAW/ORDER'\n",
      " 'LAW/ORDER' 'LAW/ORDER' 'LAW/ORDER' 'LAW/ORDER' 'LAW/ORDER' 'LAW/ORDER'\n",
      " 'LAW/ORDER' 'LAW/ORDER' 'LAW/ORDER' 'LAW/ORDER' 'LAW/ORDER' 'LAW/ORDER'\n",
      " 'LAW/ORDER' 'LAW/ORDER' 'LAW/ORDER' 'LAW/ORDER' 'LAW/ORDER' 'LAW/ORDER'\n",
      " 'LAW/ORDER' 'LAW/ORDER' 'LAW/ORDER' 'LAW/ORDER' 'LAW/ORDER' 'LAW/ORDER'\n",
      " 'LAW/ORDER' 'LAW/ORDER' 'LAW/ORDER' 'LAW/ORDER' 'LAW/ORDER' 'LAW/ORDER'\n",
      " 'LAW/ORDER' 'LAW/ORDER' 'LAW/ORDER' 'LAW/ORDER' 'LAW/ORDER' 'LAW/ORDER'\n",
      " 'LAW/ORDER' 'LAW/ORDER' 'LAW/ORDER' 'LAW/ORDER' 'LAW/ORDER' 'LAW/ORDER'\n",
      " 'LAW/ORDER' 'LAW/ORDER' 'LAW/ORDER' 'LAW/ORDER' 'LAW/ORDER' 'LAW/ORDER'\n",
      " 'LAW/ORDER' 'LAW/ORDER' 'LAW/ORDER' 'LAW/ORDER' 'LAW/ORDER' 'LAW/ORDER'\n",
      " 'LAW/ORDER' 'LAW/ORDER' 'LAW/ORDER' 'LAW/ORDER' 'LAW/ORDER' 'LAW/ORDER'\n",
      " 'LAW/ORDER' 'LAW/ORDER' 'LAW/ORDER' 'LAW/ORDER' 'LAW/ORDER' 'LAW/ORDER'\n",
      " 'LAW/ORDER' 'LAW/ORDER' 'LAW/ORDER' 'LAW/ORDER' 'LAW/ORDER' 'LAW/ORDER'\n",
      " 'LAW/ORDER' 'LAW/ORDER' 'LAW/ORDER' 'LAW/ORDER' 'LAW/ORDER' 'LAW/ORDER'\n",
      " 'LAW/ORDER' 'LAW/ORDER' 'LAW/ORDER' 'LAW/ORDER' 'LAW/ORDER' 'LAW/ORDER'\n",
      " 'LAW/ORDER' 'LAW/ORDER' 'LAW/ORDER' 'LAW/ORDER' 'LAW/ORDER' 'LAW/ORDER'\n",
      " 'LAW/ORDER' 'LAW/ORDER' 'LAW/ORDER' 'LAW/ORDER' 'LAW/ORDER' 'LAW/ORDER'\n",
      " 'LAW/ORDER' 'LAW/ORDER' 'LAW/ORDER' 'LAW/ORDER' 'LAW/ORDER' 'LAW/ORDER'\n",
      " 'LAW/ORDER' 'LAW/ORDER' 'LAW/ORDER' 'LAW/ORDER' 'LAW/ORDER' 'LAW/ORDER'\n",
      " 'LAW/ORDER' 'LAW/ORDER' 'LAW/ORDER' 'LAW/ORDER' 'LAW/ORDER' 'LAW/ORDER'\n",
      " 'LAW/ORDER' 'LAW/ORDER' 'LAW/ORDER' 'LAW/ORDER' 'LAW/ORDER' 'LAW/ORDER'\n",
      " 'LAW/ORDER' 'LAW/ORDER' 'LAW/ORDER' 'LAW/ORDER' 'LAW/ORDER' 'LAW/ORDER'\n",
      " 'LAW/ORDER' 'LAW/ORDER' 'LAW/ORDER' 'LAW/ORDER' 'LAW/ORDER' 'LAW/ORDER'\n",
      " 'LAW/ORDER' 'LAW/ORDER' 'LAW/ORDER' 'LAW/ORDER' 'LAW/ORDER' 'LAW/ORDER'\n",
      " 'LAW/ORDER' 'LAW/ORDER' 'LAW/ORDER' 'LAW/ORDER' 'LAW/ORDER' 'LAW/ORDER'\n",
      " 'LAW/ORDER' 'LAW/ORDER' 'LAW/ORDER' 'LAW/ORDER' 'LAW/ORDER' 'LAW/ORDER'\n",
      " 'LAW/ORDER' 'LAW/ORDER' 'LAW/ORDER' 'LAW/ORDER' 'LAW/ORDER' 'LAW/ORDER'\n",
      " 'LAW/ORDER' 'LAW/ORDER' 'LAW/ORDER' 'LAW/ORDER' 'LAW/ORDER' 'LAW/ORDER'\n",
      " 'LAW/ORDER' 'LAW/ORDER' 'LAW/ORDER' 'LAW/ORDER' 'LAW/ORDER' 'LAW/ORDER'\n",
      " 'LAW/ORDER' 'LAW/ORDER' 'LAW/ORDER' 'LAW/ORDER' 'LAW/ORDER' 'LAW/ORDER'\n",
      " 'LAW/ORDER' 'LAW/ORDER' 'LAW/ORDER' 'LAW/ORDER' 'LAW/ORDER' 'LAW/ORDER'\n",
      " 'LAW/ORDER' 'LAW/ORDER' 'LAW/ORDER' 'LAW/ORDER' 'LAW/ORDER' 'LAW/ORDER'\n",
      " 'LAW/ORDER' 'LAW/ORDER' 'LAW/ORDER' 'LAW/ORDER' 'LAW/ORDER' 'LAW/ORDER'\n",
      " 'LAW/ORDER' 'LAW/ORDER' 'LAW/ORDER' 'LAW/ORDER' 'LAW/ORDER' 'LAW/ORDER'\n",
      " 'LAW/ORDER' 'LAW/ORDER' 'LAW/ORDER' 'LAW/ORDER' 'LAW/ORDER' 'LAW/ORDER'\n",
      " 'LAW/ORDER' 'LAW/ORDER' 'LAW/ORDER' 'LAW/ORDER' 'LAW/ORDER' 'LAW/ORDER'\n",
      " 'LAW/ORDER' 'LAW/ORDER' 'LAW/ORDER' 'LAW/ORDER' 'LAW/ORDER' 'LAW/ORDER'\n",
      " 'LAW/ORDER' 'LAW/ORDER' 'LAW/ORDER' 'LAW/ORDER' 'LAW/ORDER' 'LAW/ORDER'\n",
      " 'LAW/ORDER' 'LAW/ORDER' 'LAW/ORDER' 'LAW/ORDER' 'LAW/ORDER' 'LAW/ORDER'\n",
      " 'LAW/ORDER' 'LAW/ORDER' 'LAW/ORDER' 'LAW/ORDER' 'LAW/ORDER' 'LAW/ORDER'\n",
      " 'LAW/ORDER' 'LAW/ORDER' 'LAW/ORDER' 'LAW/ORDER' 'LAW/ORDER' 'LAW/ORDER'\n",
      " 'LAW/ORDER' 'LAW/ORDER' 'LAW/ORDER' 'LAW/ORDER' 'LAW/ORDER' 'LAW/ORDER'\n",
      " 'LAW/ORDER' 'LAW/ORDER' 'LAW/ORDER' 'LAW/ORDER' 'LAW/ORDER' 'LAW/ORDER'\n",
      " 'LAW/ORDER' 'LAW/ORDER' 'LAW/ORDER' 'LAW/ORDER' 'LAW/ORDER' 'LAW/ORDER'\n",
      " 'LAW/ORDER' 'LAW/ORDER' 'LAW/ORDER' 'LAW/ORDER' 'LAW/ORDER' 'LAW/ORDER'\n",
      " 'LAW/ORDER' 'LAW/ORDER']\n"
     ]
    },
    {
     "ename": "ValueError",
     "evalue": "Found input variables with inconsistent numbers of samples: [9, 620]",
     "output_type": "error",
     "traceback": [
      "\u001b[1;31m---------------------------------------------------------------------------\u001b[0m",
      "\u001b[1;31mValueError\u001b[0m                                Traceback (most recent call last)",
      "\u001b[1;32m~\\AppData\\Local\\Temp/ipykernel_7224/2993022568.py\u001b[0m in \u001b[0;36m<module>\u001b[1;34m\u001b[0m\n\u001b[0;32m      3\u001b[0m \u001b[0mprint\u001b[0m\u001b[1;33m(\u001b[0m\u001b[0my_pred\u001b[0m\u001b[1;33m)\u001b[0m\u001b[1;33m\u001b[0m\u001b[1;33m\u001b[0m\u001b[0m\n\u001b[0;32m      4\u001b[0m \u001b[0mpredictions\u001b[0m \u001b[1;33m=\u001b[0m \u001b[1;33m[\u001b[0m\u001b[0mvalue\u001b[0m \u001b[1;32mfor\u001b[0m \u001b[0mvalue\u001b[0m \u001b[1;32min\u001b[0m \u001b[0my_pred\u001b[0m\u001b[1;33m]\u001b[0m\u001b[1;33m\u001b[0m\u001b[1;33m\u001b[0m\u001b[0m\n\u001b[1;32m----> 5\u001b[1;33m \u001b[0maccuracy\u001b[0m \u001b[1;33m=\u001b[0m \u001b[0maccuracy_score\u001b[0m\u001b[1;33m(\u001b[0m\u001b[0my_test\u001b[0m\u001b[1;33m,\u001b[0m \u001b[0mpredictions\u001b[0m\u001b[1;33m)\u001b[0m\u001b[1;33m\u001b[0m\u001b[1;33m\u001b[0m\u001b[0m\n\u001b[0m",
      "\u001b[1;32m~\\anaconda3\\envs\\640\\lib\\site-packages\\sklearn\\metrics\\_classification.py\u001b[0m in \u001b[0;36maccuracy_score\u001b[1;34m(y_true, y_pred, normalize, sample_weight)\u001b[0m\n\u001b[0;32m    209\u001b[0m \u001b[1;33m\u001b[0m\u001b[0m\n\u001b[0;32m    210\u001b[0m     \u001b[1;31m# Compute accuracy for each possible representation\u001b[0m\u001b[1;33m\u001b[0m\u001b[1;33m\u001b[0m\u001b[1;33m\u001b[0m\u001b[0m\n\u001b[1;32m--> 211\u001b[1;33m     \u001b[0my_type\u001b[0m\u001b[1;33m,\u001b[0m \u001b[0my_true\u001b[0m\u001b[1;33m,\u001b[0m \u001b[0my_pred\u001b[0m \u001b[1;33m=\u001b[0m \u001b[0m_check_targets\u001b[0m\u001b[1;33m(\u001b[0m\u001b[0my_true\u001b[0m\u001b[1;33m,\u001b[0m \u001b[0my_pred\u001b[0m\u001b[1;33m)\u001b[0m\u001b[1;33m\u001b[0m\u001b[1;33m\u001b[0m\u001b[0m\n\u001b[0m\u001b[0;32m    212\u001b[0m     \u001b[0mcheck_consistent_length\u001b[0m\u001b[1;33m(\u001b[0m\u001b[0my_true\u001b[0m\u001b[1;33m,\u001b[0m \u001b[0my_pred\u001b[0m\u001b[1;33m,\u001b[0m \u001b[0msample_weight\u001b[0m\u001b[1;33m)\u001b[0m\u001b[1;33m\u001b[0m\u001b[1;33m\u001b[0m\u001b[0m\n\u001b[0;32m    213\u001b[0m     \u001b[1;32mif\u001b[0m \u001b[0my_type\u001b[0m\u001b[1;33m.\u001b[0m\u001b[0mstartswith\u001b[0m\u001b[1;33m(\u001b[0m\u001b[1;34m\"multilabel\"\u001b[0m\u001b[1;33m)\u001b[0m\u001b[1;33m:\u001b[0m\u001b[1;33m\u001b[0m\u001b[1;33m\u001b[0m\u001b[0m\n",
      "\u001b[1;32m~\\anaconda3\\envs\\640\\lib\\site-packages\\sklearn\\metrics\\_classification.py\u001b[0m in \u001b[0;36m_check_targets\u001b[1;34m(y_true, y_pred)\u001b[0m\n\u001b[0;32m     82\u001b[0m     \u001b[0my_pred\u001b[0m \u001b[1;33m:\u001b[0m \u001b[0marray\u001b[0m \u001b[1;32mor\u001b[0m \u001b[0mindicator\u001b[0m \u001b[0mmatrix\u001b[0m\u001b[1;33m\u001b[0m\u001b[1;33m\u001b[0m\u001b[0m\n\u001b[0;32m     83\u001b[0m     \"\"\"\n\u001b[1;32m---> 84\u001b[1;33m     \u001b[0mcheck_consistent_length\u001b[0m\u001b[1;33m(\u001b[0m\u001b[0my_true\u001b[0m\u001b[1;33m,\u001b[0m \u001b[0my_pred\u001b[0m\u001b[1;33m)\u001b[0m\u001b[1;33m\u001b[0m\u001b[1;33m\u001b[0m\u001b[0m\n\u001b[0m\u001b[0;32m     85\u001b[0m     \u001b[0mtype_true\u001b[0m \u001b[1;33m=\u001b[0m \u001b[0mtype_of_target\u001b[0m\u001b[1;33m(\u001b[0m\u001b[0my_true\u001b[0m\u001b[1;33m)\u001b[0m\u001b[1;33m\u001b[0m\u001b[1;33m\u001b[0m\u001b[0m\n\u001b[0;32m     86\u001b[0m     \u001b[0mtype_pred\u001b[0m \u001b[1;33m=\u001b[0m \u001b[0mtype_of_target\u001b[0m\u001b[1;33m(\u001b[0m\u001b[0my_pred\u001b[0m\u001b[1;33m)\u001b[0m\u001b[1;33m\u001b[0m\u001b[1;33m\u001b[0m\u001b[0m\n",
      "\u001b[1;32m~\\anaconda3\\envs\\640\\lib\\site-packages\\sklearn\\utils\\validation.py\u001b[0m in \u001b[0;36mcheck_consistent_length\u001b[1;34m(*arrays)\u001b[0m\n\u001b[0;32m    330\u001b[0m     \u001b[0muniques\u001b[0m \u001b[1;33m=\u001b[0m \u001b[0mnp\u001b[0m\u001b[1;33m.\u001b[0m\u001b[0munique\u001b[0m\u001b[1;33m(\u001b[0m\u001b[0mlengths\u001b[0m\u001b[1;33m)\u001b[0m\u001b[1;33m\u001b[0m\u001b[1;33m\u001b[0m\u001b[0m\n\u001b[0;32m    331\u001b[0m     \u001b[1;32mif\u001b[0m \u001b[0mlen\u001b[0m\u001b[1;33m(\u001b[0m\u001b[0muniques\u001b[0m\u001b[1;33m)\u001b[0m \u001b[1;33m>\u001b[0m \u001b[1;36m1\u001b[0m\u001b[1;33m:\u001b[0m\u001b[1;33m\u001b[0m\u001b[1;33m\u001b[0m\u001b[0m\n\u001b[1;32m--> 332\u001b[1;33m         raise ValueError(\n\u001b[0m\u001b[0;32m    333\u001b[0m             \u001b[1;34m\"Found input variables with inconsistent numbers of samples: %r\"\u001b[0m\u001b[1;33m\u001b[0m\u001b[1;33m\u001b[0m\u001b[0m\n\u001b[0;32m    334\u001b[0m             \u001b[1;33m%\u001b[0m \u001b[1;33m[\u001b[0m\u001b[0mint\u001b[0m\u001b[1;33m(\u001b[0m\u001b[0ml\u001b[0m\u001b[1;33m)\u001b[0m \u001b[1;32mfor\u001b[0m \u001b[0ml\u001b[0m \u001b[1;32min\u001b[0m \u001b[0mlengths\u001b[0m\u001b[1;33m]\u001b[0m\u001b[1;33m\u001b[0m\u001b[1;33m\u001b[0m\u001b[0m\n",
      "\u001b[1;31mValueError\u001b[0m: Found input variables with inconsistent numbers of samples: [9, 620]"
     ]
    }
   ],
   "source": [
    "X_test=test_representations['input_ids']\n",
    "y_pred = model.predict(X_test) \n",
    "print(y_pred)\n",
    "predictions = [value for value in y_pred]\n",
    "# accuracy = accuracy_score(y_test, predictions) \n"
   ]
  },
  {
   "cell_type": "code",
   "execution_count": null,
   "id": "11ae2e3a",
   "metadata": {},
   "outputs": [],
   "source": []
  }
 ],
 "metadata": {
  "kernelspec": {
   "display_name": "Python 3 (ipykernel)",
   "language": "python",
   "name": "python3"
  },
  "language_info": {
   "codemirror_mode": {
    "name": "ipython",
    "version": 3
   },
   "file_extension": ".py",
   "mimetype": "text/x-python",
   "name": "python",
   "nbconvert_exporter": "python",
   "pygments_lexer": "ipython3",
   "version": "3.8.11"
  }
 },
 "nbformat": 4,
 "nbformat_minor": 5
}
