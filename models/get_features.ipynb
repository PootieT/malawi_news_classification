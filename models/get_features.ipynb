{
 "cells": [
  {
   "cell_type": "code",
   "execution_count": 1,
   "id": "2ee3adbd",
   "metadata": {},
   "outputs": [
    {
     "name": "stderr",
     "output_type": "stream",
     "text": [
      "Some weights of the model checkpoint at google/mt5-small were not used when initializing MT5Model: ['lm_head.weight']\n",
      "- This IS expected if you are initializing MT5Model from the checkpoint of a model trained on another task or with another architecture (e.g. initializing a BertForSequenceClassification model from a BertForPreTraining model).\n",
      "- This IS NOT expected if you are initializing MT5Model from the checkpoint of a model that you expect to be exactly identical (initializing a BertForSequenceClassification model from a BertForSequenceClassification model).\n"
     ]
    }
   ],
   "source": [
    "import os\n",
    "import csv\n",
    "import json\n",
    "import logging\n",
    "import math\n",
    "from typing import List, Dict, Tuple, Callable, Iterable, Optional, Any\n",
    "\n",
    "import torch\n",
    "import torch.nn as nn\n",
    "from sentence_transformers import SentenceTransformer, models, InputExample, losses\n",
    "from sentence_transformers.evaluation import LabelAccuracyEvaluator, SentenceEvaluator\n",
    "from sentence_transformers.util import batch_to_device\n",
    "from torch import Tensor\n",
    "from torch.utils.data import DataLoader\n",
    "from transformers import MT5EncoderModel, AutoConfig\n",
    "from transformers import pipeline, AutoTokenizer\n",
    "\n",
    "model_name = \"google/mt5-small\"\n",
    "base_model = models.Transformer(model_name)\n",
    "# sentence bert repo does not current support mT5 yet (only T5 ironically)\n",
    "MT5EncoderModel._keys_to_ignore_on_load_unexpected = [\"decoder.*\"]\n",
    "mT5_config = AutoConfig.from_pretrained(model_name)   \n",
    "tokenizer = AutoTokenizer.from_pretrained(model_name)\n",
    "ex=tokenizer(\"Hello, this one sentence!\", \"And this sentence goes with it.\")"
   ]
  },
  {
   "cell_type": "code",
   "execution_count": 2,
   "id": "93e34afa",
   "metadata": {},
   "outputs": [],
   "source": [
    "import pandas as pd\n",
    "train_df=pd.read_csv('C:/Users/leose/second_semester/NLP/malawi_news_classification/data/train.csv')\n",
    "test_df=pd.read_csv('C:/Users/leose/second_semester/NLP/malawi_news_classification/data/test.csv')"
   ]
  },
  {
   "cell_type": "code",
   "execution_count": 3,
   "id": "2ec3e92f",
   "metadata": {},
   "outputs": [],
   "source": [
    "train_batch_sentences=[]\n",
    "test_batch_sentences=[]\n",
    "\n",
    "for frame in train_df['Text']:\n",
    "    train_batch_sentences.append(frame)\n",
    "for sentence in test_df['Text']:\n",
    "    test_batch_sentences.append(frame)"
   ]
  },
  {
   "cell_type": "code",
   "execution_count": 5,
   "id": "0a14f8f8",
   "metadata": {},
   "outputs": [],
   "source": [
    "import pickle\n",
    "train_representations=tokenizer(train_batch_sentences,padding=True,truncation=True)\n",
    "test_representations=tokenizer(test_batch_sentences,padding=True,truncation=True)\n",
    "\n",
    "train_filehandler = open(\"train.pkl\",\"wb\")\n",
    "test_filehandler = open(\"test.pkl\",\"wb\")\n",
    "pickle.dump(train_representations,train_filehandler)\n",
    "pickle.dump(test_representations,test_filehandler)\n",
    "train_filehandler.close()\n",
    "test_filehandler.close()"
   ]
  },
  {
   "cell_type": "code",
   "execution_count": 13,
   "id": "e47a8b6f",
   "metadata": {},
   "outputs": [
    {
     "name": "stdout",
     "output_type": "stream",
     "text": [
      "1336\n",
      "1336\n",
      "100\n",
      "[13:39:55] WARNING: ..\\src\\learner.cc:1115: Starting in XGBoost 1.3.0, the default evaluation metric used with the objective 'multi:softprob' was changed from 'merror' to 'mlogloss'. Explicitly set eval_metric if you'd like to restore the old behavior.\n"
     ]
    },
    {
     "data": {
      "text/plain": [
       "XGBClassifier(base_score=0.5, booster='gbtree', colsample_bylevel=1,\n",
       "              colsample_bynode=1, colsample_bytree=1, enable_categorical=False,\n",
       "              gamma=0, gpu_id=-1, importance_type=None,\n",
       "              interaction_constraints='', learning_rate=0.300000012,\n",
       "              max_delta_step=0, max_depth=6, min_child_weight=1, missing=nan,\n",
       "              monotone_constraints='()', n_estimators=100, n_jobs=4,\n",
       "              num_parallel_tree=1, objective='multi:softprob', predictor='auto',\n",
       "              random_state=0, reg_alpha=0, reg_lambda=1, scale_pos_weight=None,\n",
       "              subsample=1, tree_method='exact', validate_parameters=1,\n",
       "              verbosity=None)"
      ]
     },
     "execution_count": 13,
     "metadata": {},
     "output_type": "execute_result"
    }
   ],
   "source": [
    "import xgboost as xgb\n",
    "from sklearn.preprocessing import LabelEncoder \n",
    "from xgboost import XGBClassifier\n",
    "from sklearn.metrics import accuracy_score\n",
    "\n",
    "X_train=train_representations['input_ids'][0:1336]\n",
    "print(len(X_train))\n",
    "y_train=train_df['Label'][0:1336]\n",
    "print(len(y_train))\n",
    "\n",
    "model = XGBClassifier() \n",
    "model.fit(X_train, y_train)\n"
   ]
  },
  {
   "cell_type": "code",
   "execution_count": 17,
   "id": "f9dc986c",
   "metadata": {},
   "outputs": [
    {
     "name": "stdout",
     "output_type": "stream",
     "text": [
      "0.20408163265306123\n"
     ]
    }
   ],
   "source": [
    "X_test=train_representations['input_ids'][1337:1435]\n",
    "y_test=train_df['Label'][1337:1435]\n",
    "\n",
    "y_pred = model.predict(X_test) \n",
    "predictions = [value for value in y_pred]\n",
    "accuracy = accuracy_score(y_test, predictions) \n",
    "print(accuracy)"
   ]
  },
  {
   "cell_type": "code",
   "execution_count": null,
   "id": "11ae2e3a",
   "metadata": {},
   "outputs": [],
   "source": []
  }
 ],
 "metadata": {
  "kernelspec": {
   "display_name": "Python 3 (ipykernel)",
   "language": "python",
   "name": "python3"
  },
  "language_info": {
   "codemirror_mode": {
    "name": "ipython",
    "version": 3
   },
   "file_extension": ".py",
   "mimetype": "text/x-python",
   "name": "python",
   "nbconvert_exporter": "python",
   "pygments_lexer": "ipython3",
   "version": "3.8.11"
  }
 },
 "nbformat": 4,
 "nbformat_minor": 5
}
