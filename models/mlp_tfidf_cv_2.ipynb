{
  "nbformat": 4,
  "nbformat_minor": 0,
  "metadata": {
    "colab": {
      "name": "mlp_tfidf_cv_2",
      "provenance": [],
      "collapsed_sections": []
    },
    "kernelspec": {
      "name": "python3",
      "display_name": "Python 3"
    },
    "language_info": {
      "name": "python"
    },
    "accelerator": "GPU"
  },
  "cells": [
    {
      "cell_type": "code",
      "source": [
        "from google.colab import drive\n",
        "drive.mount('/content/gdrive/')"
      ],
      "metadata": {
        "colab": {
          "base_uri": "https://localhost:8080/"
        },
        "id": "R0JlvNf_B2m1",
        "outputId": "6082c3df-fdb7-4027-ba1c-1d906f08b4f6"
      },
      "execution_count": 2,
      "outputs": [
        {
          "output_type": "stream",
          "name": "stdout",
          "text": [
            "Mounted at /content/gdrive/\n"
          ]
        }
      ]
    },
    {
      "cell_type": "code",
      "source": [
        "import os"
      ],
      "metadata": {
        "id": "OR4dpgM8CMnu"
      },
      "execution_count": 3,
      "outputs": []
    },
    {
      "cell_type": "code",
      "source": [
        "print(os.getcwd())"
      ],
      "metadata": {
        "colab": {
          "base_uri": "https://localhost:8080/"
        },
        "id": "IqGEVZ_SCNyg",
        "outputId": "c7c1de8b-8771-48ce-b419-32b675e90f38"
      },
      "execution_count": 4,
      "outputs": [
        {
          "output_type": "stream",
          "name": "stdout",
          "text": [
            "/content\n"
          ]
        }
      ]
    },
    {
      "cell_type": "code",
      "source": [
        "%cd /content/gdrive/MyDrive/Masters/Year_1/Semester_2/CS_505/Project/NN"
      ],
      "metadata": {
        "colab": {
          "base_uri": "https://localhost:8080/"
        },
        "id": "BfZufrP_CcuI",
        "outputId": "efb92e36-e2cf-47b1-c208-51842eb139af"
      },
      "execution_count": 5,
      "outputs": [
        {
          "output_type": "stream",
          "name": "stdout",
          "text": [
            "/content/gdrive/MyDrive/Masters/Year_1/Semester_2/CS_505/Project/NN\n"
          ]
        }
      ]
    },
    {
      "cell_type": "code",
      "execution_count": 6,
      "metadata": {
        "id": "qu2pdWONBVoE"
      },
      "outputs": [],
      "source": [
        "from models.model_baselines import BaselineClassifier"
      ]
    },
    {
      "cell_type": "code",
      "source": [
        "from sklearn.feature_extraction.text import TfidfVectorizer, CountVectorizer\n",
        "import pandas as pd\n",
        "from sklearn.model_selection import train_test_split\n",
        "from sklearn.metrics import classification_report\n",
        "from typing import List, Dict, Optional, Tuple, Any\n",
        "import numpy as np\n",
        "from sklearn.preprocessing import LabelEncoder\n",
        "from keras.utils import np_utils\n",
        "from tensorflow.keras.models import Sequential\n",
        "from tensorflow.keras.layers import Dense, Dropout, Activation, BatchNormalization\n",
        "import tensorflow as tf\n",
        "from sklearn.metrics import accuracy_score, f1_score\n",
        "from sklearn.metrics import classification_report\n",
        "from sklearn.model_selection import KFold"
      ],
      "metadata": {
        "id": "CeNLTZ7QFK83"
      },
      "execution_count": 7,
      "outputs": []
    },
    {
      "cell_type": "code",
      "source": [
        "print(tf.test.gpu_device_name())"
      ],
      "metadata": {
        "colab": {
          "base_uri": "https://localhost:8080/"
        },
        "id": "jAlOZ1mKLNsd",
        "outputId": "07b143af-7cc4-4625-f095-3701fbfbbe49"
      },
      "execution_count": 8,
      "outputs": [
        {
          "output_type": "stream",
          "name": "stdout",
          "text": [
            "/device:GPU:0\n"
          ]
        }
      ]
    },
    {
      "cell_type": "code",
      "source": [
        "%ls"
      ],
      "metadata": {
        "colab": {
          "base_uri": "https://localhost:8080/"
        },
        "id": "ns-FGlRPF8qP",
        "outputId": "c26a7929-e020-4e63-e147-033187e79638"
      },
      "execution_count": 9,
      "outputs": [
        {
          "output_type": "stream",
          "name": "stdout",
          "text": [
            "'Copy of MT5_final_embeddings.ipynb'   mlp_tfidf_cv_2\n",
            "'MD5_1 (1).ipynb'                      \u001b[0m\u001b[01;34mmodels\u001b[0m/\n",
            " MD5_1_English.ipynb                   MT5_final_embeddings.ipynb\n",
            " mlp_tfidf_cv                          Untitled\n"
          ]
        }
      ]
    },
    {
      "cell_type": "code",
      "source": [
        "train_df = pd.read_csv('../Data/Train.csv')"
      ],
      "metadata": {
        "id": "BY6EngFSFyLj"
      },
      "execution_count": 10,
      "outputs": []
    },
    {
      "cell_type": "code",
      "source": [
        "le = LabelEncoder()\n",
        "train_df.Label = le.fit_transform(train_df.Label)"
      ],
      "metadata": {
        "id": "hf_vm_-tMDWs"
      },
      "execution_count": 11,
      "outputs": []
    },
    {
      "cell_type": "code",
      "source": [
        "Y_train = np_utils.to_categorical(train_df['Label'], np.unique(train_df['Label']).shape[0])"
      ],
      "metadata": {
        "id": "jYNBjW_cMFsE"
      },
      "execution_count": 12,
      "outputs": []
    },
    {
      "cell_type": "code",
      "source": [
        "def get_model(size):\n",
        "  print('Building model...')\n",
        "  model = Sequential()\n",
        "  model.add(Dense(2048, input_shape=(size,)))\n",
        "  model.add(Activation('relu'))\n",
        "  model.add(Dropout(0.2))\n",
        "  model.add(Dense(20))\n",
        "  model.add(Activation('softmax'))\n",
        "\n",
        "  model.compile(loss='categorical_crossentropy', optimizer='adam', metrics=['accuracy'])\n",
        "  return model\n",
        "  #make one, takes in, double that amount, english and chichewa"
      ],
      "metadata": {
        "id": "sXYAPLf8o0AY"
      },
      "execution_count": 13,
      "outputs": []
    },
    {
      "cell_type": "code",
      "source": [
        "def get_results(model,epochs,train_dataset,test_dataset,y_test):\n",
        "  model.fit(train_dataset,\n",
        "            epochs=epochs, batch_size=32,\n",
        "            verbose=1)\n",
        "  print(model.evaluate(test_dataset))\n",
        "  ans = model.predict(test_dataset)\n",
        "  print(accuracy_score(y_test, np_utils.to_categorical(np.argmax(ans,axis=1),num_classes=20)))\n",
        "  print(classification_report(y_test, np_utils.to_categorical(np.argmax(ans,axis=1),num_classes=20)))"
      ],
      "metadata": {
        "id": "w6K7emaEqK60"
      },
      "execution_count": 14,
      "outputs": []
    },
    {
      "cell_type": "code",
      "source": [
        "print(Y_train.shape)\n",
        "print(train_df.shape)"
      ],
      "metadata": {
        "colab": {
          "base_uri": "https://localhost:8080/"
        },
        "id": "DXv7WMVJCMXR",
        "outputId": "e2a2053d-eee3-4d6e-cea1-6f5e9617eaae"
      },
      "execution_count": 15,
      "outputs": [
        {
          "output_type": "stream",
          "name": "stdout",
          "text": [
            "(1436, 20)\n",
            "(1436, 3)\n"
          ]
        }
      ]
    },
    {
      "cell_type": "code",
      "source": [
        "kf = KFold(n_splits=3, random_state=42, shuffle=True)"
      ],
      "metadata": {
        "id": "5dq425VQBkmX"
      },
      "execution_count": 16,
      "outputs": []
    },
    {
      "cell_type": "code",
      "source": [
        "for train_index, test_index in kf.split(train_df.Text):\n",
        "  X_train, X_test = train_df.iloc[train_index].Text, train_df.iloc[test_index].Text\n",
        "  #y_train, y_test = train_df.iloc[train_index].Label, train_df.iloc[test_index].Label\n",
        "  y_train, y_test = Y_train[train_index], Y_train[test_index]\n",
        "  #print(X_train.shape)\n",
        "  #print(y_train.shape)\n",
        "  #print(X_test.shape)\n",
        "  #print(y_test.shape)\n",
        "  #continue\n",
        "  #Y_train\n",
        "  tfidf = TfidfVectorizer()\n",
        "  tfidf_train = tfidf.fit_transform(X_train).toarray()\n",
        "  tfidf_test = tfidf.transform(X_test).toarray()\n",
        "  train_dataset = tf.data.Dataset.from_tensor_slices((tfidf_train, y_train))\n",
        "\n",
        "  test_dataset = tf.data.Dataset.from_tensor_slices((tfidf_test, y_test))\n",
        "\n",
        "  BATCH_SIZE = 32\n",
        "  SHUFFLE_BUFFER_SIZE = 100\n",
        "\n",
        "  train_dataset = train_dataset.shuffle(SHUFFLE_BUFFER_SIZE).batch(BATCH_SIZE)\n",
        "  test_dataset = test_dataset.batch(BATCH_SIZE)\n",
        "  get_results(get_model(tfidf_train.shape[1]),50,train_dataset,test_dataset,y_test)"
      ],
      "metadata": {
        "id": "vFMGy6lqBCDw",
        "colab": {
          "base_uri": "https://localhost:8080/"
        },
        "outputId": "25050a77-333f-4a45-eb6d-3a65b7641392"
      },
      "execution_count": 19,
      "outputs": [
        {
          "output_type": "stream",
          "name": "stdout",
          "text": [
            "(957,)\n",
            "(957, 20)\n",
            "(479,)\n",
            "(479, 20)\n",
            "(957,)\n",
            "(957, 20)\n",
            "(479,)\n",
            "(479, 20)\n",
            "(958,)\n",
            "(958, 20)\n",
            "(478,)\n",
            "(478, 20)\n"
          ]
        }
      ]
    },
    {
      "cell_type": "code",
      "source": [
        "#f1 macro 47 43 47\n",
        "#accuracy 64 60 64"
      ],
      "metadata": {
        "id": "Hz2zsG90EE2c"
      },
      "execution_count": null,
      "outputs": []
    },
    {
      "cell_type": "code",
      "source": [
        "print((47+43+47)/3)\n",
        "print((64+60+64)/3)"
      ],
      "metadata": {
        "colab": {
          "base_uri": "https://localhost:8080/"
        },
        "id": "eZEfmoKlERuF",
        "outputId": "020b5dc3-962c-436c-f4ed-542b4f289cc5"
      },
      "execution_count": 21,
      "outputs": [
        {
          "output_type": "stream",
          "name": "stdout",
          "text": [
            "45.666666666666664\n",
            "62.666666666666664\n"
          ]
        }
      ]
    },
    {
      "cell_type": "markdown",
      "source": [
        "# Count Vectorizer"
      ],
      "metadata": {
        "id": "jVIc1Fpepz-B"
      }
    },
    {
      "cell_type": "code",
      "source": [
        "cv = CountVectorizer()\n",
        "cv_train = cv.fit_transform(X_train).toarray()\n",
        "cv_test = cv.transform(X_test).toarray()"
      ],
      "metadata": {
        "id": "KSxH-ADyopkl"
      },
      "execution_count": null,
      "outputs": []
    },
    {
      "cell_type": "code",
      "source": [
        "train_dataset = tf.data.Dataset.from_tensor_slices((cv_train, y_train))\n",
        "\n",
        "test_dataset = tf.data.Dataset.from_tensor_slices((cv_test, y_test))\n",
        "\n",
        "BATCH_SIZE = 32\n",
        "SHUFFLE_BUFFER_SIZE = 100\n",
        "\n",
        "train_dataset = train_dataset.shuffle(SHUFFLE_BUFFER_SIZE).batch(BATCH_SIZE)\n",
        "test_dataset = test_dataset.batch(BATCH_SIZE)"
      ],
      "metadata": {
        "id": "sgIxzJLepOYB"
      },
      "execution_count": null,
      "outputs": []
    },
    {
      "cell_type": "code",
      "source": [
        "get_results(get_model(cv_train.shape[1]),10,train_dataset,test_dataset,y_test)"
      ],
      "metadata": {
        "colab": {
          "base_uri": "https://localhost:8080/"
        },
        "id": "AByNy4DvtEws",
        "outputId": "8e2a917d-3bf9-49ed-b47c-b06337565e8c"
      },
      "execution_count": null,
      "outputs": [
        {
          "output_type": "stream",
          "name": "stdout",
          "text": [
            "Building model...\n",
            "Epoch 1/10\n",
            "32/32 [==============================] - 1s 29ms/step - loss: 1.8525 - accuracy: 0.5244\n",
            "Epoch 2/10\n",
            "32/32 [==============================] - 1s 28ms/step - loss: 0.0762 - accuracy: 0.9900\n",
            "Epoch 3/10\n",
            "32/32 [==============================] - 1s 28ms/step - loss: 0.0248 - accuracy: 0.9960\n",
            "Epoch 4/10\n",
            "32/32 [==============================] - 1s 28ms/step - loss: 0.0109 - accuracy: 0.9970\n",
            "Epoch 5/10\n",
            "32/32 [==============================] - 1s 28ms/step - loss: 0.0140 - accuracy: 0.9980\n",
            "Epoch 6/10\n",
            "32/32 [==============================] - 1s 28ms/step - loss: 0.0113 - accuracy: 0.9960\n",
            "Epoch 7/10\n",
            "32/32 [==============================] - 1s 32ms/step - loss: 0.0066 - accuracy: 0.9970\n",
            "Epoch 8/10\n",
            "32/32 [==============================] - 1s 31ms/step - loss: 0.0076 - accuracy: 0.9980\n",
            "Epoch 9/10\n",
            "32/32 [==============================] - 1s 32ms/step - loss: 0.0080 - accuracy: 0.9980\n",
            "Epoch 10/10\n",
            "32/32 [==============================] - 1s 31ms/step - loss: 0.0105 - accuracy: 0.9960\n",
            "14/14 [==============================] - 1s 13ms/step - loss: 1.5019 - accuracy: 0.5963\n",
            "[1.5018904209136963, 0.596287727355957]\n",
            "0.5962877030162413\n",
            "              precision    recall  f1-score   support\n",
            "\n",
            "           0       1.00      0.50      0.67         2\n",
            "           1       0.50      0.14      0.22         7\n",
            "           2       0.45      0.35      0.39        26\n",
            "           3       0.69      0.69      0.69        13\n",
            "           4       0.78      0.91      0.84        23\n",
            "           5       0.00      0.00      0.00         2\n",
            "           6       0.61      0.66      0.63        38\n",
            "           7       0.55      0.63      0.59        41\n",
            "           8       0.33      0.29      0.31         7\n",
            "           9       0.50      0.50      0.50         4\n",
            "          10       0.00      0.00      0.00         8\n",
            "          11       0.73      0.71      0.72        84\n",
            "          12       0.79      0.92      0.85        12\n",
            "          13       0.59      0.68      0.63        44\n",
            "          14       0.42      0.41      0.42        46\n",
            "          15       0.42      0.55      0.47        40\n",
            "          16       0.85      0.73      0.79        15\n",
            "          17       0.00      0.00      0.00         3\n",
            "          18       0.73      0.73      0.73        11\n",
            "          19       0.00      0.00      0.00         5\n",
            "\n",
            "   micro avg       0.60      0.60      0.60       431\n",
            "   macro avg       0.50      0.47      0.47       431\n",
            "weighted avg       0.57      0.60      0.58       431\n",
            " samples avg       0.60      0.60      0.60       431\n",
            "\n"
          ]
        },
        {
          "output_type": "stream",
          "name": "stderr",
          "text": [
            "/usr/local/lib/python3.7/dist-packages/sklearn/metrics/_classification.py:1318: UndefinedMetricWarning: Precision and F-score are ill-defined and being set to 0.0 in labels with no predicted samples. Use `zero_division` parameter to control this behavior.\n",
            "  _warn_prf(average, modifier, msg_start, len(result))\n"
          ]
        }
      ]
    },
    {
      "cell_type": "code",
      "source": [
        "get_results(get_model(cv_train.shape[1]),25,train_dataset,test_dataset,y_test)"
      ],
      "metadata": {
        "colab": {
          "base_uri": "https://localhost:8080/"
        },
        "id": "OMpDVGVdtILq",
        "outputId": "73a0c0b6-8f60-40be-a23f-c4292bdb38a1"
      },
      "execution_count": null,
      "outputs": [
        {
          "output_type": "stream",
          "name": "stdout",
          "text": [
            "Building model...\n",
            "Epoch 1/25\n",
            "32/32 [==============================] - 1s 29ms/step - loss: 1.8503 - accuracy: 0.5184\n",
            "Epoch 2/25\n",
            "32/32 [==============================] - 1s 27ms/step - loss: 0.0808 - accuracy: 0.9861\n",
            "Epoch 3/25\n",
            "32/32 [==============================] - 1s 27ms/step - loss: 0.0237 - accuracy: 0.9960\n",
            "Epoch 4/25\n",
            "32/32 [==============================] - 1s 27ms/step - loss: 0.0146 - accuracy: 0.9960\n",
            "Epoch 5/25\n",
            "32/32 [==============================] - 1s 27ms/step - loss: 0.0151 - accuracy: 0.9960\n",
            "Epoch 6/25\n",
            "32/32 [==============================] - 1s 28ms/step - loss: 0.0131 - accuracy: 0.9960\n",
            "Epoch 7/25\n",
            "32/32 [==============================] - 1s 28ms/step - loss: 0.0104 - accuracy: 0.9960\n",
            "Epoch 8/25\n",
            "32/32 [==============================] - 1s 28ms/step - loss: 0.0102 - accuracy: 0.9970\n",
            "Epoch 9/25\n",
            "32/32 [==============================] - 1s 28ms/step - loss: 0.0069 - accuracy: 0.9970\n",
            "Epoch 10/25\n",
            "32/32 [==============================] - 1s 29ms/step - loss: 0.0153 - accuracy: 0.9960\n",
            "Epoch 11/25\n",
            "32/32 [==============================] - 1s 28ms/step - loss: 0.0117 - accuracy: 0.9960\n",
            "Epoch 12/25\n",
            "32/32 [==============================] - 1s 28ms/step - loss: 0.0083 - accuracy: 0.9970\n",
            "Epoch 13/25\n",
            "32/32 [==============================] - 1s 28ms/step - loss: 0.0061 - accuracy: 0.9960\n",
            "Epoch 14/25\n",
            "32/32 [==============================] - 1s 29ms/step - loss: 0.0079 - accuracy: 0.9980\n",
            "Epoch 15/25\n",
            "32/32 [==============================] - 1s 28ms/step - loss: 0.0061 - accuracy: 0.9980\n",
            "Epoch 16/25\n",
            "32/32 [==============================] - 1s 28ms/step - loss: 0.0140 - accuracy: 0.9960\n",
            "Epoch 17/25\n",
            "32/32 [==============================] - 1s 28ms/step - loss: 0.0105 - accuracy: 0.9960\n",
            "Epoch 18/25\n",
            "32/32 [==============================] - 1s 28ms/step - loss: 0.0015 - accuracy: 1.0000\n",
            "Epoch 19/25\n",
            "32/32 [==============================] - 1s 28ms/step - loss: 0.0107 - accuracy: 0.9960\n",
            "Epoch 20/25\n",
            "32/32 [==============================] - 1s 35ms/step - loss: 0.0080 - accuracy: 0.9960\n",
            "Epoch 21/25\n",
            "32/32 [==============================] - 1s 28ms/step - loss: 0.0078 - accuracy: 0.9960\n",
            "Epoch 22/25\n",
            "32/32 [==============================] - 1s 28ms/step - loss: 0.0062 - accuracy: 0.9980\n",
            "Epoch 23/25\n",
            "32/32 [==============================] - 1s 28ms/step - loss: 0.0059 - accuracy: 0.9980\n",
            "Epoch 24/25\n",
            "32/32 [==============================] - 1s 28ms/step - loss: 0.0100 - accuracy: 0.9970\n",
            "Epoch 25/25\n",
            "32/32 [==============================] - 1s 28ms/step - loss: 0.0056 - accuracy: 0.9980\n",
            "14/14 [==============================] - 0s 11ms/step - loss: 1.6142 - accuracy: 0.6125\n",
            "[1.6141750812530518, 0.6125289797782898]\n",
            "0.6125290023201856\n",
            "              precision    recall  f1-score   support\n",
            "\n",
            "           0       1.00      0.50      0.67         2\n",
            "           1       0.43      0.43      0.43         7\n",
            "           2       0.43      0.35      0.38        26\n",
            "           3       0.69      0.69      0.69        13\n",
            "           4       0.81      0.96      0.88        23\n",
            "           5       0.00      0.00      0.00         2\n",
            "           6       0.70      0.61      0.65        38\n",
            "           7       0.56      0.68      0.62        41\n",
            "           8       0.33      0.14      0.20         7\n",
            "           9       0.33      0.50      0.40         4\n",
            "          10       0.00      0.00      0.00         8\n",
            "          11       0.67      0.79      0.73        84\n",
            "          12       0.85      0.92      0.88        12\n",
            "          13       0.61      0.68      0.65        44\n",
            "          14       0.47      0.46      0.46        46\n",
            "          15       0.44      0.45      0.44        40\n",
            "          16       0.86      0.80      0.83        15\n",
            "          17       0.00      0.00      0.00         3\n",
            "          18       0.89      0.73      0.80        11\n",
            "          19       0.00      0.00      0.00         5\n",
            "\n",
            "   micro avg       0.61      0.61      0.61       431\n",
            "   macro avg       0.50      0.48      0.48       431\n",
            "weighted avg       0.59      0.61      0.60       431\n",
            " samples avg       0.61      0.61      0.61       431\n",
            "\n"
          ]
        },
        {
          "output_type": "stream",
          "name": "stderr",
          "text": [
            "/usr/local/lib/python3.7/dist-packages/sklearn/metrics/_classification.py:1318: UndefinedMetricWarning: Precision and F-score are ill-defined and being set to 0.0 in labels with no predicted samples. Use `zero_division` parameter to control this behavior.\n",
            "  _warn_prf(average, modifier, msg_start, len(result))\n"
          ]
        }
      ]
    },
    {
      "cell_type": "code",
      "source": [
        "get_results(get_model(cv_train.shape[1]),50,train_dataset,test_dataset,y_test)"
      ],
      "metadata": {
        "colab": {
          "base_uri": "https://localhost:8080/"
        },
        "id": "HmxM9drgtJSp",
        "outputId": "87670b4d-03f3-4767-f18e-bc2b702063b7"
      },
      "execution_count": null,
      "outputs": [
        {
          "output_type": "stream",
          "name": "stdout",
          "text": [
            "Building model...\n",
            "Epoch 1/50\n",
            "32/32 [==============================] - 1s 28ms/step - loss: 1.9028 - accuracy: 0.5114\n",
            "Epoch 2/50\n",
            "32/32 [==============================] - 1s 28ms/step - loss: 0.0888 - accuracy: 0.9881\n",
            "Epoch 3/50\n",
            "32/32 [==============================] - 1s 28ms/step - loss: 0.0283 - accuracy: 0.9950\n",
            "Epoch 4/50\n",
            "32/32 [==============================] - 1s 28ms/step - loss: 0.0156 - accuracy: 0.9970\n",
            "Epoch 5/50\n",
            "32/32 [==============================] - 1s 28ms/step - loss: 0.0127 - accuracy: 0.9960\n",
            "Epoch 6/50\n",
            "32/32 [==============================] - 1s 29ms/step - loss: 0.0102 - accuracy: 0.9960\n",
            "Epoch 7/50\n",
            "32/32 [==============================] - 1s 28ms/step - loss: 0.0073 - accuracy: 0.9970\n",
            "Epoch 8/50\n",
            "32/32 [==============================] - 1s 28ms/step - loss: 0.0095 - accuracy: 0.9960\n",
            "Epoch 9/50\n",
            "32/32 [==============================] - 1s 28ms/step - loss: 0.0082 - accuracy: 0.9970\n",
            "Epoch 10/50\n",
            "32/32 [==============================] - 1s 28ms/step - loss: 0.0083 - accuracy: 0.9970\n",
            "Epoch 11/50\n",
            "32/32 [==============================] - 1s 28ms/step - loss: 0.0045 - accuracy: 0.9980\n",
            "Epoch 12/50\n",
            "32/32 [==============================] - 1s 29ms/step - loss: 0.0129 - accuracy: 0.9960\n",
            "Epoch 13/50\n",
            "32/32 [==============================] - 1s 28ms/step - loss: 0.0041 - accuracy: 0.9970\n",
            "Epoch 14/50\n",
            "32/32 [==============================] - 1s 28ms/step - loss: 0.0091 - accuracy: 0.9960\n",
            "Epoch 15/50\n",
            "32/32 [==============================] - 1s 28ms/step - loss: 0.0050 - accuracy: 0.9960\n",
            "Epoch 16/50\n",
            "32/32 [==============================] - 1s 28ms/step - loss: 0.0080 - accuracy: 0.9960\n",
            "Epoch 17/50\n",
            "32/32 [==============================] - 1s 28ms/step - loss: 0.0068 - accuracy: 0.9980\n",
            "Epoch 18/50\n",
            "32/32 [==============================] - 1s 27ms/step - loss: 0.0036 - accuracy: 0.9990\n",
            "Epoch 19/50\n",
            "32/32 [==============================] - 1s 28ms/step - loss: 0.0068 - accuracy: 0.9970\n",
            "Epoch 20/50\n",
            "32/32 [==============================] - 1s 28ms/step - loss: 0.0045 - accuracy: 0.9970\n",
            "Epoch 21/50\n",
            "32/32 [==============================] - 1s 28ms/step - loss: 0.0070 - accuracy: 0.9970\n",
            "Epoch 22/50\n",
            "32/32 [==============================] - 1s 28ms/step - loss: 0.0075 - accuracy: 0.9960\n",
            "Epoch 23/50\n",
            "32/32 [==============================] - 1s 28ms/step - loss: 0.0051 - accuracy: 0.9980\n",
            "Epoch 24/50\n",
            "32/32 [==============================] - 1s 28ms/step - loss: 0.0039 - accuracy: 0.9970\n",
            "Epoch 25/50\n",
            "32/32 [==============================] - 1s 28ms/step - loss: 0.0038 - accuracy: 0.9980\n",
            "Epoch 26/50\n",
            "32/32 [==============================] - 1s 28ms/step - loss: 0.0044 - accuracy: 0.9980\n",
            "Epoch 27/50\n",
            "32/32 [==============================] - 1s 28ms/step - loss: 0.0046 - accuracy: 0.9980\n",
            "Epoch 28/50\n",
            "32/32 [==============================] - 1s 28ms/step - loss: 0.0072 - accuracy: 0.9990\n",
            "Epoch 29/50\n",
            "32/32 [==============================] - 1s 28ms/step - loss: 0.0029 - accuracy: 0.9980\n",
            "Epoch 30/50\n",
            "32/32 [==============================] - 1s 28ms/step - loss: 0.0057 - accuracy: 0.9980\n",
            "Epoch 31/50\n",
            "32/32 [==============================] - 1s 28ms/step - loss: 0.0086 - accuracy: 0.9970\n",
            "Epoch 32/50\n",
            "32/32 [==============================] - 1s 27ms/step - loss: 0.0030 - accuracy: 0.9980\n",
            "Epoch 33/50\n",
            "32/32 [==============================] - 1s 27ms/step - loss: 0.0047 - accuracy: 0.9980\n",
            "Epoch 34/50\n",
            "32/32 [==============================] - 1s 27ms/step - loss: 0.0015 - accuracy: 1.0000\n",
            "Epoch 35/50\n",
            "32/32 [==============================] - 1s 28ms/step - loss: 0.0015 - accuracy: 0.9990\n",
            "Epoch 36/50\n",
            "32/32 [==============================] - 1s 27ms/step - loss: 0.0018 - accuracy: 0.9990\n",
            "Epoch 37/50\n",
            "32/32 [==============================] - 1s 27ms/step - loss: 0.0029 - accuracy: 0.9980\n",
            "Epoch 38/50\n",
            "32/32 [==============================] - 1s 27ms/step - loss: 0.0039 - accuracy: 0.9990\n",
            "Epoch 39/50\n",
            "32/32 [==============================] - 1s 27ms/step - loss: 0.0040 - accuracy: 0.9990\n",
            "Epoch 40/50\n",
            "32/32 [==============================] - 1s 27ms/step - loss: 0.0026 - accuracy: 0.9970\n",
            "Epoch 41/50\n",
            "32/32 [==============================] - 1s 27ms/step - loss: 0.0048 - accuracy: 0.9970\n",
            "Epoch 42/50\n",
            "32/32 [==============================] - 1s 28ms/step - loss: 0.0036 - accuracy: 0.9980\n",
            "Epoch 43/50\n",
            "32/32 [==============================] - 1s 27ms/step - loss: 0.0024 - accuracy: 0.9980\n",
            "Epoch 44/50\n",
            "32/32 [==============================] - 1s 27ms/step - loss: 0.0041 - accuracy: 0.9990\n",
            "Epoch 45/50\n",
            "32/32 [==============================] - 1s 27ms/step - loss: 0.0032 - accuracy: 0.9990\n",
            "Epoch 46/50\n",
            "32/32 [==============================] - 1s 28ms/step - loss: 0.0022 - accuracy: 0.9990\n",
            "Epoch 47/50\n",
            "32/32 [==============================] - 1s 28ms/step - loss: 0.0030 - accuracy: 0.9980\n",
            "Epoch 48/50\n",
            "32/32 [==============================] - 1s 28ms/step - loss: 0.0010 - accuracy: 1.0000\n",
            "Epoch 49/50\n",
            "32/32 [==============================] - 1s 28ms/step - loss: 7.5442e-04 - accuracy: 1.0000\n",
            "Epoch 50/50\n",
            "32/32 [==============================] - 1s 28ms/step - loss: 0.0032 - accuracy: 0.9980\n",
            "14/14 [==============================] - 1s 11ms/step - loss: 1.7608 - accuracy: 0.6125\n",
            "[1.7607533931732178, 0.6125289797782898]\n",
            "0.6125290023201856\n",
            "              precision    recall  f1-score   support\n",
            "\n",
            "           0       0.33      0.50      0.40         2\n",
            "           1       0.50      0.14      0.22         7\n",
            "           2       0.43      0.23      0.30        26\n",
            "           3       0.82      0.69      0.75        13\n",
            "           4       0.81      0.96      0.88        23\n",
            "           5       0.00      0.00      0.00         2\n",
            "           6       0.67      0.63      0.65        38\n",
            "           7       0.64      0.66      0.65        41\n",
            "           8       0.40      0.29      0.33         7\n",
            "           9       0.40      0.50      0.44         4\n",
            "          10       0.00      0.00      0.00         8\n",
            "          11       0.66      0.82      0.73        84\n",
            "          12       0.85      0.92      0.88        12\n",
            "          13       0.57      0.70      0.63        44\n",
            "          14       0.43      0.33      0.37        46\n",
            "          15       0.44      0.60      0.51        40\n",
            "          16       0.86      0.80      0.83        15\n",
            "          17       0.00      0.00      0.00         3\n",
            "          18       0.73      0.73      0.73        11\n",
            "          19       0.00      0.00      0.00         5\n",
            "\n",
            "   micro avg       0.61      0.61      0.61       431\n",
            "   macro avg       0.48      0.47      0.47       431\n",
            "weighted avg       0.58      0.61      0.59       431\n",
            " samples avg       0.61      0.61      0.61       431\n",
            "\n"
          ]
        },
        {
          "output_type": "stream",
          "name": "stderr",
          "text": [
            "/usr/local/lib/python3.7/dist-packages/sklearn/metrics/_classification.py:1318: UndefinedMetricWarning: Precision and F-score are ill-defined and being set to 0.0 in labels with no predicted samples. Use `zero_division` parameter to control this behavior.\n",
            "  _warn_prf(average, modifier, msg_start, len(result))\n"
          ]
        }
      ]
    },
    {
      "cell_type": "code",
      "source": [
        "get_results(get_model(cv_train.shape[1]),100,train_dataset,test_dataset,y_test)"
      ],
      "metadata": {
        "colab": {
          "base_uri": "https://localhost:8080/"
        },
        "id": "cG2BBlXZtKbx",
        "outputId": "7dae80ca-a3d0-45c8-f5db-8ea7f66db17b"
      },
      "execution_count": null,
      "outputs": [
        {
          "output_type": "stream",
          "name": "stdout",
          "text": [
            "Building model...\n",
            "Epoch 1/100\n",
            "32/32 [==============================] - 1s 29ms/step - loss: 1.8681 - accuracy: 0.5134\n",
            "Epoch 2/100\n",
            "32/32 [==============================] - 1s 28ms/step - loss: 0.0656 - accuracy: 0.9930\n",
            "Epoch 3/100\n",
            "32/32 [==============================] - 1s 28ms/step - loss: 0.0229 - accuracy: 0.9960\n",
            "Epoch 4/100\n",
            "32/32 [==============================] - 1s 28ms/step - loss: 0.0124 - accuracy: 0.9960\n",
            "Epoch 5/100\n",
            "32/32 [==============================] - 1s 28ms/step - loss: 0.0121 - accuracy: 0.9960\n",
            "Epoch 6/100\n",
            "32/32 [==============================] - 1s 28ms/step - loss: 0.0131 - accuracy: 0.9960\n",
            "Epoch 7/100\n",
            "32/32 [==============================] - 1s 28ms/step - loss: 0.0141 - accuracy: 0.9960\n",
            "Epoch 8/100\n",
            "32/32 [==============================] - 1s 28ms/step - loss: 0.0095 - accuracy: 0.9960\n",
            "Epoch 9/100\n",
            "32/32 [==============================] - 1s 28ms/step - loss: 0.0099 - accuracy: 0.9960\n",
            "Epoch 10/100\n",
            "32/32 [==============================] - 1s 28ms/step - loss: 0.0143 - accuracy: 0.9960\n",
            "Epoch 11/100\n",
            "32/32 [==============================] - 1s 28ms/step - loss: 0.0024 - accuracy: 0.9990\n",
            "Epoch 12/100\n",
            "32/32 [==============================] - 1s 28ms/step - loss: 0.0065 - accuracy: 0.9980\n",
            "Epoch 13/100\n",
            "32/32 [==============================] - 1s 28ms/step - loss: 0.0072 - accuracy: 0.9980\n",
            "Epoch 14/100\n",
            "32/32 [==============================] - 1s 28ms/step - loss: 0.0032 - accuracy: 0.9980\n",
            "Epoch 15/100\n",
            "32/32 [==============================] - 1s 28ms/step - loss: 0.0092 - accuracy: 0.9970\n",
            "Epoch 16/100\n",
            "32/32 [==============================] - 1s 28ms/step - loss: 0.0101 - accuracy: 0.9960\n",
            "Epoch 17/100\n",
            "32/32 [==============================] - 1s 28ms/step - loss: 0.0086 - accuracy: 0.9960\n",
            "Epoch 18/100\n",
            "32/32 [==============================] - 1s 28ms/step - loss: 0.0069 - accuracy: 0.9970\n",
            "Epoch 19/100\n",
            "32/32 [==============================] - 1s 28ms/step - loss: 0.0035 - accuracy: 0.9980\n",
            "Epoch 20/100\n",
            "32/32 [==============================] - 1s 28ms/step - loss: 0.0070 - accuracy: 0.9980\n",
            "Epoch 21/100\n",
            "32/32 [==============================] - 1s 27ms/step - loss: 0.0059 - accuracy: 0.9990\n",
            "Epoch 22/100\n",
            "32/32 [==============================] - 1s 28ms/step - loss: 0.0067 - accuracy: 0.9960\n",
            "Epoch 23/100\n",
            "32/32 [==============================] - 1s 27ms/step - loss: 0.0084 - accuracy: 0.9970\n",
            "Epoch 24/100\n",
            "32/32 [==============================] - 1s 28ms/step - loss: 0.0076 - accuracy: 0.9980\n",
            "Epoch 25/100\n",
            "32/32 [==============================] - 1s 27ms/step - loss: 0.0060 - accuracy: 0.9970\n",
            "Epoch 26/100\n",
            "32/32 [==============================] - 1s 28ms/step - loss: 0.0098 - accuracy: 0.9960\n",
            "Epoch 27/100\n",
            "32/32 [==============================] - 1s 28ms/step - loss: 0.0052 - accuracy: 0.9970\n",
            "Epoch 28/100\n",
            "32/32 [==============================] - 1s 28ms/step - loss: 0.0021 - accuracy: 0.9990\n",
            "Epoch 29/100\n",
            "32/32 [==============================] - 1s 28ms/step - loss: 0.0051 - accuracy: 0.9960\n",
            "Epoch 30/100\n",
            "32/32 [==============================] - 1s 28ms/step - loss: 0.0087 - accuracy: 0.9960\n",
            "Epoch 31/100\n",
            "32/32 [==============================] - 1s 28ms/step - loss: 0.0080 - accuracy: 0.9970\n",
            "Epoch 32/100\n",
            "32/32 [==============================] - 1s 28ms/step - loss: 0.0013 - accuracy: 1.0000\n",
            "Epoch 33/100\n",
            "32/32 [==============================] - 1s 28ms/step - loss: 0.0045 - accuracy: 0.9980\n",
            "Epoch 34/100\n",
            "32/32 [==============================] - 1s 28ms/step - loss: 0.0049 - accuracy: 0.9980\n",
            "Epoch 35/100\n",
            "32/32 [==============================] - 1s 28ms/step - loss: 0.0029 - accuracy: 0.9980\n",
            "Epoch 36/100\n",
            "32/32 [==============================] - 1s 28ms/step - loss: 0.0011 - accuracy: 1.0000\n",
            "Epoch 37/100\n",
            "32/32 [==============================] - 1s 27ms/step - loss: 0.0030 - accuracy: 0.9980\n",
            "Epoch 38/100\n",
            "32/32 [==============================] - 1s 28ms/step - loss: 0.0013 - accuracy: 0.9990\n",
            "Epoch 39/100\n",
            "32/32 [==============================] - 1s 28ms/step - loss: 0.0045 - accuracy: 0.9980\n",
            "Epoch 40/100\n",
            "32/32 [==============================] - 1s 28ms/step - loss: 0.0041 - accuracy: 0.9980\n",
            "Epoch 41/100\n",
            "32/32 [==============================] - 1s 27ms/step - loss: 0.0027 - accuracy: 0.9980\n",
            "Epoch 42/100\n",
            "32/32 [==============================] - 1s 28ms/step - loss: 0.0036 - accuracy: 0.9980\n",
            "Epoch 43/100\n",
            "32/32 [==============================] - 1s 28ms/step - loss: 0.0045 - accuracy: 0.9960\n",
            "Epoch 44/100\n",
            "32/32 [==============================] - 1s 28ms/step - loss: 0.0075 - accuracy: 0.9960\n",
            "Epoch 45/100\n",
            "32/32 [==============================] - 1s 27ms/step - loss: 0.0029 - accuracy: 0.9980\n",
            "Epoch 46/100\n",
            "32/32 [==============================] - 1s 28ms/step - loss: 0.0019 - accuracy: 0.9990\n",
            "Epoch 47/100\n",
            "32/32 [==============================] - 1s 28ms/step - loss: 0.0039 - accuracy: 0.9980\n",
            "Epoch 48/100\n",
            "32/32 [==============================] - 1s 27ms/step - loss: 0.0021 - accuracy: 0.9990\n",
            "Epoch 49/100\n",
            "32/32 [==============================] - 1s 28ms/step - loss: 0.0028 - accuracy: 0.9980\n",
            "Epoch 50/100\n",
            "32/32 [==============================] - 1s 28ms/step - loss: 0.0022 - accuracy: 0.9990\n",
            "Epoch 51/100\n",
            "32/32 [==============================] - 1s 28ms/step - loss: 0.0045 - accuracy: 0.9980\n",
            "Epoch 52/100\n",
            "32/32 [==============================] - 1s 28ms/step - loss: 0.0027 - accuracy: 0.9980\n",
            "Epoch 53/100\n",
            "32/32 [==============================] - 1s 28ms/step - loss: 0.0030 - accuracy: 0.9980\n",
            "Epoch 54/100\n",
            "32/32 [==============================] - 1s 28ms/step - loss: 0.0018 - accuracy: 0.9980\n",
            "Epoch 55/100\n",
            "32/32 [==============================] - 1s 27ms/step - loss: 0.0035 - accuracy: 0.9980\n",
            "Epoch 56/100\n",
            "32/32 [==============================] - 1s 28ms/step - loss: 0.0018 - accuracy: 0.9980\n",
            "Epoch 57/100\n",
            "32/32 [==============================] - 1s 28ms/step - loss: 0.0018 - accuracy: 0.9980\n",
            "Epoch 58/100\n",
            "32/32 [==============================] - 1s 27ms/step - loss: 0.0016 - accuracy: 0.9990\n",
            "Epoch 59/100\n",
            "32/32 [==============================] - 1s 27ms/step - loss: 0.0018 - accuracy: 0.9980\n",
            "Epoch 60/100\n",
            "32/32 [==============================] - 1s 27ms/step - loss: 0.0013 - accuracy: 0.9990\n",
            "Epoch 61/100\n",
            "32/32 [==============================] - 1s 27ms/step - loss: 0.0018 - accuracy: 0.9980\n",
            "Epoch 62/100\n",
            "32/32 [==============================] - 1s 28ms/step - loss: 0.0023 - accuracy: 0.9980\n",
            "Epoch 63/100\n",
            "32/32 [==============================] - 1s 27ms/step - loss: 0.0023 - accuracy: 0.9980\n",
            "Epoch 64/100\n",
            "32/32 [==============================] - 1s 27ms/step - loss: 0.0132 - accuracy: 0.9960\n",
            "Epoch 65/100\n",
            "32/32 [==============================] - 1s 28ms/step - loss: 0.0037 - accuracy: 0.9980\n",
            "Epoch 66/100\n",
            "32/32 [==============================] - 1s 28ms/step - loss: 0.0024 - accuracy: 0.9990\n",
            "Epoch 67/100\n",
            "32/32 [==============================] - 1s 28ms/step - loss: 0.0033 - accuracy: 0.9980\n",
            "Epoch 68/100\n",
            "32/32 [==============================] - 1s 27ms/step - loss: 8.5825e-04 - accuracy: 1.0000\n",
            "Epoch 69/100\n",
            "32/32 [==============================] - 1s 27ms/step - loss: 0.0029 - accuracy: 0.9980\n",
            "Epoch 70/100\n",
            "32/32 [==============================] - 1s 28ms/step - loss: 0.0032 - accuracy: 0.9990\n",
            "Epoch 71/100\n",
            "32/32 [==============================] - 1s 27ms/step - loss: 0.0045 - accuracy: 0.9980\n",
            "Epoch 72/100\n",
            "32/32 [==============================] - 1s 27ms/step - loss: 0.0091 - accuracy: 0.9960\n",
            "Epoch 73/100\n",
            "32/32 [==============================] - 1s 27ms/step - loss: 0.0026 - accuracy: 0.9980\n",
            "Epoch 74/100\n",
            "32/32 [==============================] - 1s 27ms/step - loss: 0.0017 - accuracy: 0.9990\n",
            "Epoch 75/100\n",
            "32/32 [==============================] - 1s 27ms/step - loss: 0.0012 - accuracy: 0.9990\n",
            "Epoch 76/100\n",
            "32/32 [==============================] - 1s 27ms/step - loss: 0.0023 - accuracy: 0.9980\n",
            "Epoch 77/100\n",
            "32/32 [==============================] - 1s 27ms/step - loss: 0.0022 - accuracy: 0.9980\n",
            "Epoch 78/100\n",
            "32/32 [==============================] - 1s 27ms/step - loss: 0.0028 - accuracy: 0.9990\n",
            "Epoch 79/100\n",
            "32/32 [==============================] - 1s 27ms/step - loss: 0.0027 - accuracy: 0.9990\n",
            "Epoch 80/100\n",
            "32/32 [==============================] - 1s 27ms/step - loss: 0.0034 - accuracy: 0.9980\n",
            "Epoch 81/100\n",
            "32/32 [==============================] - 1s 28ms/step - loss: 0.0116 - accuracy: 0.9970\n",
            "Epoch 82/100\n",
            "32/32 [==============================] - 1s 27ms/step - loss: 0.0027 - accuracy: 0.9980\n",
            "Epoch 83/100\n",
            "32/32 [==============================] - 1s 27ms/step - loss: 0.0017 - accuracy: 0.9980\n",
            "Epoch 84/100\n",
            "32/32 [==============================] - 1s 27ms/step - loss: 0.0021 - accuracy: 0.9980\n",
            "Epoch 85/100\n",
            "32/32 [==============================] - 1s 27ms/step - loss: 0.0017 - accuracy: 0.9990\n",
            "Epoch 86/100\n",
            "32/32 [==============================] - 1s 27ms/step - loss: 0.0013 - accuracy: 0.9990\n",
            "Epoch 87/100\n",
            "32/32 [==============================] - 1s 27ms/step - loss: 0.0018 - accuracy: 0.9990\n",
            "Epoch 88/100\n",
            "32/32 [==============================] - 1s 28ms/step - loss: 0.0026 - accuracy: 0.9980\n",
            "Epoch 89/100\n",
            "32/32 [==============================] - 1s 27ms/step - loss: 0.0023 - accuracy: 0.9980\n",
            "Epoch 90/100\n",
            "32/32 [==============================] - 1s 27ms/step - loss: 0.0017 - accuracy: 0.9990\n",
            "Epoch 91/100\n",
            "32/32 [==============================] - 1s 27ms/step - loss: 0.0020 - accuracy: 0.9990\n",
            "Epoch 92/100\n",
            "32/32 [==============================] - 1s 28ms/step - loss: 0.0031 - accuracy: 0.9980\n",
            "Epoch 93/100\n",
            "32/32 [==============================] - 1s 27ms/step - loss: 0.0019 - accuracy: 0.9990\n",
            "Epoch 94/100\n",
            "32/32 [==============================] - 1s 27ms/step - loss: 0.0016 - accuracy: 0.9990\n",
            "Epoch 95/100\n",
            "32/32 [==============================] - 1s 27ms/step - loss: 0.0036 - accuracy: 0.9970\n",
            "Epoch 96/100\n",
            "32/32 [==============================] - 1s 27ms/step - loss: 0.0037 - accuracy: 0.9980\n",
            "Epoch 97/100\n",
            "32/32 [==============================] - 1s 27ms/step - loss: 0.0014 - accuracy: 0.9990\n",
            "Epoch 98/100\n",
            "32/32 [==============================] - 1s 27ms/step - loss: 0.0029 - accuracy: 0.9980\n",
            "Epoch 99/100\n",
            "32/32 [==============================] - 1s 28ms/step - loss: 0.0016 - accuracy: 0.9980\n",
            "Epoch 100/100\n",
            "32/32 [==============================] - 1s 27ms/step - loss: 0.0020 - accuracy: 0.9980\n",
            "14/14 [==============================] - 0s 10ms/step - loss: 1.7929 - accuracy: 0.6125\n",
            "[1.7929481267929077, 0.6125289797782898]\n",
            "0.6125290023201856\n",
            "              precision    recall  f1-score   support\n",
            "\n",
            "           0       0.33      0.50      0.40         2\n",
            "           1       0.33      0.14      0.20         7\n",
            "           2       0.56      0.35      0.43        26\n",
            "           3       0.75      0.69      0.72        13\n",
            "           4       0.81      0.91      0.86        23\n",
            "           5       0.00      0.00      0.00         2\n",
            "           6       0.72      0.68      0.70        38\n",
            "           7       0.55      0.71      0.62        41\n",
            "           8       0.43      0.43      0.43         7\n",
            "           9       0.40      0.50      0.44         4\n",
            "          10       0.00      0.00      0.00         8\n",
            "          11       0.67      0.76      0.71        84\n",
            "          12       0.85      0.92      0.88        12\n",
            "          13       0.61      0.68      0.65        44\n",
            "          14       0.42      0.37      0.40        46\n",
            "          15       0.45      0.55      0.49        40\n",
            "          16       0.85      0.73      0.79        15\n",
            "          17       0.00      0.00      0.00         3\n",
            "          18       0.80      0.73      0.76        11\n",
            "          19       0.00      0.00      0.00         5\n",
            "\n",
            "   micro avg       0.61      0.61      0.61       431\n",
            "   macro avg       0.48      0.48      0.47       431\n",
            "weighted avg       0.59      0.61      0.59       431\n",
            " samples avg       0.61      0.61      0.61       431\n",
            "\n"
          ]
        },
        {
          "output_type": "stream",
          "name": "stderr",
          "text": [
            "/usr/local/lib/python3.7/dist-packages/sklearn/metrics/_classification.py:1318: UndefinedMetricWarning: Precision and F-score are ill-defined and being set to 0.0 in labels with no predicted samples. Use `zero_division` parameter to control this behavior.\n",
            "  _warn_prf(average, modifier, msg_start, len(result))\n"
          ]
        }
      ]
    }
  ]
}