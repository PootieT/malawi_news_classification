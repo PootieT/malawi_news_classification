{
 "cells": [
  {
   "cell_type": "markdown",
   "id": "0e87ea29",
   "metadata": {},
   "source": [
    "# Converts chichewa test set to English"
   ]
  },
  {
   "cell_type": "code",
   "execution_count": 1,
   "id": "73400baf",
   "metadata": {},
   "outputs": [],
   "source": [
    "import pandas as pd\n",
    "import requests\n",
    "from typing import List, Dict, Tuple, Optional\n",
    "from tqdm import tqdm\n",
    "from googletrans import Translator\n",
    "from bs4 import BeautifulSoup as bs\n",
    "import re\n",
    "from sklearn.model_selection import train_test_split"
   ]
  },
  {
   "cell_type": "code",
   "execution_count": 29,
   "id": "22f78666",
   "metadata": {},
   "outputs": [],
   "source": [
    "test_df = pd.read_csv('Data/Test.csv')"
   ]
  },
  {
   "cell_type": "code",
   "execution_count": 4,
   "id": "e38db3e9",
   "metadata": {},
   "outputs": [
    {
     "data": {
      "text/html": [
       "<div>\n",
       "<style scoped>\n",
       "    .dataframe tbody tr th:only-of-type {\n",
       "        vertical-align: middle;\n",
       "    }\n",
       "\n",
       "    .dataframe tbody tr th {\n",
       "        vertical-align: top;\n",
       "    }\n",
       "\n",
       "    .dataframe thead th {\n",
       "        text-align: right;\n",
       "    }\n",
       "</style>\n",
       "<table border=\"1\" class=\"dataframe\">\n",
       "  <thead>\n",
       "    <tr style=\"text-align: right;\">\n",
       "      <th></th>\n",
       "      <th>ID</th>\n",
       "      <th>Text</th>\n",
       "    </tr>\n",
       "  </thead>\n",
       "  <tbody>\n",
       "    <tr>\n",
       "      <th>0</th>\n",
       "      <td>ID_ADHEtjTi</td>\n",
       "      <td>Abambo odzikhweza akuchuluka Kafukufuku wa ap...</td>\n",
       "    </tr>\n",
       "    <tr>\n",
       "      <th>1</th>\n",
       "      <td>ID_AHfJktdQ</td>\n",
       "      <td>Ambuye Ziyaye Ayamikira Aphunzitsi a Tilitonse...</td>\n",
       "    </tr>\n",
       "    <tr>\n",
       "      <th>2</th>\n",
       "      <td>ID_AUJIHpZr</td>\n",
       "      <td>Anatcheleza: Akundiopseza a gogo wanga Akundi...</td>\n",
       "    </tr>\n",
       "    <tr>\n",
       "      <th>3</th>\n",
       "      <td>ID_AUKYBbIM</td>\n",
       "      <td>Ulova wafika posauzana Adatenga digiri ya uph...</td>\n",
       "    </tr>\n",
       "    <tr>\n",
       "      <th>4</th>\n",
       "      <td>ID_AZnsVPEi</td>\n",
       "      <td>Dzombe kukoma, koma Kuyambira makedzana, pant...</td>\n",
       "    </tr>\n",
       "  </tbody>\n",
       "</table>\n",
       "</div>"
      ],
      "text/plain": [
       "            ID                                               Text\n",
       "0  ID_ADHEtjTi   Abambo odzikhweza akuchuluka Kafukufuku wa ap...\n",
       "1  ID_AHfJktdQ  Ambuye Ziyaye Ayamikira Aphunzitsi a Tilitonse...\n",
       "2  ID_AUJIHpZr   Anatcheleza: Akundiopseza a gogo wanga Akundi...\n",
       "3  ID_AUKYBbIM   Ulova wafika posauzana Adatenga digiri ya uph...\n",
       "4  ID_AZnsVPEi   Dzombe kukoma, koma Kuyambira makedzana, pant..."
      ]
     },
     "execution_count": 4,
     "metadata": {},
     "output_type": "execute_result"
    }
   ],
   "source": [
    "test_df.head()"
   ]
  },
  {
   "cell_type": "code",
   "execution_count": 34,
   "id": "62adddd3",
   "metadata": {},
   "outputs": [
    {
     "data": {
      "text/plain": [
       "'After intense rainfall that began in the early hours of this 02 April 2022, a landslide occurred in the village of Cocha Blanca, in the municipality of Ancuya in western Nariño. Two houses in the village were completely destroyed, killing or injuring the residents inside. According to the preliminary report known by Nariño’s Administrative Directorate for Disaster Risk Management (DAGRD), the event left 3 people dead and 5 people injured. Landslides in the area also blocked important roads.Jhon Rojas, the Governor of Nariño, along with a team from DAGRD Nariño visited the area to support the coordination of an emergency response. The governor said heavy rainfall had increased the risk of landslides in rural areas, putting families at risk. Some have evacuated their homes as a precaution. The governor added that assistance has been provided to affected communities and work on clearing or repairing roads has begun.'"
      ]
     },
     "execution_count": 34,
     "metadata": {},
     "output_type": "execute_result"
    }
   ],
   "source": [
    "df_flood_temp_['Text'][0]"
   ]
  },
  {
   "cell_type": "code",
   "execution_count": 5,
   "id": "18bf6ed5",
   "metadata": {},
   "outputs": [],
   "source": [
    "from googletrans import Translator"
   ]
  },
  {
   "cell_type": "code",
   "execution_count": 6,
   "id": "d58aa818",
   "metadata": {},
   "outputs": [],
   "source": [
    "def get_free_proxies():\n",
    "    url = \"https://free-proxy-list.net/\"\n",
    "    # get the HTTP response and construct soup object\n",
    "    soup = bs(requests.get(url).content, \"html.parser\")\n",
    "    proxies = []\n",
    "    #print(soup)\n",
    "    for row in soup.find(\"table\", attrs={\"class\": \"table table-striped table-bordered\"}).find_all(\"tr\")[1:]:\n",
    "        tds = row.find_all(\"td\")\n",
    "        try:\n",
    "            ip = tds[0].text.strip()\n",
    "            port = tds[1].text.strip()\n",
    "            host = f\"{ip}:{port}\"\n",
    "            proxies.append(host)\n",
    "        except IndexError:\n",
    "            continue\n",
    "    return proxies"
   ]
  },
  {
   "cell_type": "code",
   "execution_count": 7,
   "id": "4de263d2",
   "metadata": {},
   "outputs": [],
   "source": [
    "translator = Translator(proxies=get_free_proxies())"
   ]
  },
  {
   "cell_type": "code",
   "execution_count": 9,
   "id": "5640a4a2",
   "metadata": {},
   "outputs": [
    {
     "data": {
      "text/plain": [
       "'Police surveillance on the rise shows that 90 percent of suicides in the country are among the suicides among people who take their lives by self-promotion or other forms of suicide.\\n  According to Spokesman Nicholas Gondwa, more men are more courageous and suicidal than women.\\n \"But women are brave, they face a lot of violence, but very few take their own lives,\" she said in an interview with Msangulutso.\\n Speaking on the occasion, Maurice Chapola, a police spokesman for the northern region, said that when men face domestic violence, they often resort to suicide instead of complaining to the Victim Support Unit (VSU).\\n Chapola said 10 men are the ones who complain to VSU out of every 100 people.\\n Kondwani Machano, a father of two, said fathers are afraid to go to the police when they are worried for fear of being attacked and because many of them do not know how to speak.\\n And psychiatrist Charles Masulani Mwale, director of St John of God Hospital in Mzuzu, said that when many men have mental disorders, they do not share them with others for fear of appearing stupid.\\n \"Men are afraid of looking weak when they tell others about their problems and keep them in mind, while women share their worries,\" Masulani said.\\n He said the men insisted on solving their own problems.\\n Masulani said research has shown that although most women are suicidal, most of them do not commit suicide because they follow the cold suicide methods while men who are suicidal use risky methods to end their lives.\\n \"Women are more likely to commit suicide than men who, if they think, are actually taking their own lives in dangerous ways,\" Masulani said.\\n He acknowledged that the problem of suicide was particularly acute in the developing world because of the lack of mental health care available to people.\\n We are not accustomed to having to go to the hospital for a fever or depression, but this requires immediate professional help from a psychiatrist, Masulani said.\\n He said at St John of God Hospital more women were in need of help than men.\\n Masulani said many of the women suffer from depression due to family problems and poverty.\\n Many say they may have committed suicide because poverty has hit hard and everything they have tried has not worked, Masulani said.'"
      ]
     },
     "execution_count": 9,
     "metadata": {},
     "output_type": "execute_result"
    }
   ],
   "source": [
    "translator.translate(train_df['Text'][0],src='ny',dest='en').text"
   ]
  },
  {
   "cell_type": "code",
   "execution_count": 11,
   "id": "9bddacc4",
   "metadata": {},
   "outputs": [
    {
     "data": {
      "text/html": [
       "<div>\n",
       "<style scoped>\n",
       "    .dataframe tbody tr th:only-of-type {\n",
       "        vertical-align: middle;\n",
       "    }\n",
       "\n",
       "    .dataframe tbody tr th {\n",
       "        vertical-align: top;\n",
       "    }\n",
       "\n",
       "    .dataframe thead th {\n",
       "        text-align: right;\n",
       "    }\n",
       "</style>\n",
       "<table border=\"1\" class=\"dataframe\">\n",
       "  <thead>\n",
       "    <tr style=\"text-align: right;\">\n",
       "      <th></th>\n",
       "      <th>ID</th>\n",
       "      <th>Text</th>\n",
       "    </tr>\n",
       "  </thead>\n",
       "  <tbody>\n",
       "    <tr>\n",
       "      <th>0</th>\n",
       "      <td>ID_ADHEtjTi</td>\n",
       "      <td>Abambo odzikhweza akuchuluka Kafukufuku wa ap...</td>\n",
       "    </tr>\n",
       "    <tr>\n",
       "      <th>1</th>\n",
       "      <td>ID_AHfJktdQ</td>\n",
       "      <td>Ambuye Ziyaye Ayamikira Aphunzitsi a Tilitonse...</td>\n",
       "    </tr>\n",
       "    <tr>\n",
       "      <th>2</th>\n",
       "      <td>ID_AUJIHpZr</td>\n",
       "      <td>Anatcheleza: Akundiopseza a gogo wanga Akundi...</td>\n",
       "    </tr>\n",
       "    <tr>\n",
       "      <th>3</th>\n",
       "      <td>ID_AUKYBbIM</td>\n",
       "      <td>Ulova wafika posauzana Adatenga digiri ya uph...</td>\n",
       "    </tr>\n",
       "    <tr>\n",
       "      <th>4</th>\n",
       "      <td>ID_AZnsVPEi</td>\n",
       "      <td>Dzombe kukoma, koma Kuyambira makedzana, pant...</td>\n",
       "    </tr>\n",
       "  </tbody>\n",
       "</table>\n",
       "</div>"
      ],
      "text/plain": [
       "            ID                                               Text\n",
       "0  ID_ADHEtjTi   Abambo odzikhweza akuchuluka Kafukufuku wa ap...\n",
       "1  ID_AHfJktdQ  Ambuye Ziyaye Ayamikira Aphunzitsi a Tilitonse...\n",
       "2  ID_AUJIHpZr   Anatcheleza: Akundiopseza a gogo wanga Akundi...\n",
       "3  ID_AUKYBbIM   Ulova wafika posauzana Adatenga digiri ya uph...\n",
       "4  ID_AZnsVPEi   Dzombe kukoma, koma Kuyambira makedzana, pant..."
      ]
     },
     "execution_count": 11,
     "metadata": {},
     "output_type": "execute_result"
    }
   ],
   "source": [
    "translate_test_df.head()"
   ]
  },
  {
   "cell_type": "code",
   "execution_count": 30,
   "id": "48226f5e",
   "metadata": {},
   "outputs": [
    {
     "name": "stdout",
     "output_type": "stream",
     "text": [
      "0\n",
      "100\n",
      "200\n",
      "300\n",
      "400\n",
      "500\n",
      "600\n"
     ]
    }
   ],
   "source": [
    "translate_test_df = test_df.copy()\n",
    "li = []\n",
    "for index,row in translate_test_df.iterrows():\n",
    "    li.append(translator.translate(row['Text'],src='ny',dest='en').text)\n",
    "    #print(index)\n",
    "    if(index%100 == 0):\n",
    "        print(index)"
   ]
  },
  {
   "cell_type": "code",
   "execution_count": 31,
   "id": "08963ac9",
   "metadata": {},
   "outputs": [
    {
     "data": {
      "text/plain": [
       "'Police surveillance on the rise shows that 90 percent of suicides in the country are among the suicides among people who take their lives by self-promotion or other forms of suicide.\\n  According to Spokesman Nicholas Gondwa, more men are more courageous and suicidal than women.\\n \"But women are brave, they face a lot of violence, but very few take their own lives,\" she said in an interview with Msangulutso.\\n Speaking on the occasion, Maurice Chapola, a police spokesman for the northern region, said that when men face domestic violence, they often resort to suicide instead of complaining to the Victim Support Unit (VSU).\\n Chapola said 10 men are the ones who complain to VSU out of every 100 people.\\n Kondwani Machano, a father of two, said fathers are afraid to go to the police when they are worried for fear of being attacked and because many of them do not know how to speak.\\n And psychiatrist Charles Masulani Mwale, director of St John of God Hospital in Mzuzu, said that when many men have mental disorders, they do not share them with others for fear of appearing stupid.\\n \"Men are afraid of looking weak when they tell others about their problems and keep them in mind, while women share their worries,\" Masulani said.\\n He said the men insisted on solving their own problems.\\n Masulani said research has shown that although most women are suicidal, most of them do not commit suicide because they follow the cold suicide methods while men who are suicidal use risky methods to end their lives.\\n \"Women are more likely to commit suicide than men who, if they think, are actually taking their own lives in dangerous ways,\" Masulani said.\\n He acknowledged that the problem of suicide was particularly acute in the developing world because of the lack of mental health care available to people.\\n We are not accustomed to having to go to the hospital for a fever or depression, but this requires immediate professional help from a psychiatrist, Masulani said.\\n He said at St John of God Hospital more women were in need of help than men.\\n Masulani said many of the women suffer from depression due to family problems and poverty.\\n Many say they may have committed suicide because poverty has hit hard and everything they have tried has not worked, Masulani said.'"
      ]
     },
     "execution_count": 31,
     "metadata": {},
     "output_type": "execute_result"
    }
   ],
   "source": [
    "li[0]"
   ]
  },
  {
   "cell_type": "code",
   "execution_count": 33,
   "id": "03efaed9",
   "metadata": {},
   "outputs": [],
   "source": [
    "final_eng_csv_test = test_df.copy()\n",
    "final_eng_csv_test['Text'] = li"
   ]
  },
  {
   "cell_type": "code",
   "execution_count": 34,
   "id": "eba98f63",
   "metadata": {},
   "outputs": [
    {
     "data": {
      "text/html": [
       "<div>\n",
       "<style scoped>\n",
       "    .dataframe tbody tr th:only-of-type {\n",
       "        vertical-align: middle;\n",
       "    }\n",
       "\n",
       "    .dataframe tbody tr th {\n",
       "        vertical-align: top;\n",
       "    }\n",
       "\n",
       "    .dataframe thead th {\n",
       "        text-align: right;\n",
       "    }\n",
       "</style>\n",
       "<table border=\"1\" class=\"dataframe\">\n",
       "  <thead>\n",
       "    <tr style=\"text-align: right;\">\n",
       "      <th></th>\n",
       "      <th>ID</th>\n",
       "      <th>Text</th>\n",
       "    </tr>\n",
       "  </thead>\n",
       "  <tbody>\n",
       "    <tr>\n",
       "      <th>0</th>\n",
       "      <td>ID_ADHEtjTi</td>\n",
       "      <td>Police surveillance on the rise shows that 90 ...</td>\n",
       "    </tr>\n",
       "    <tr>\n",
       "      <th>1</th>\n",
       "      <td>ID_AHfJktdQ</td>\n",
       "      <td>Lord Ziyaye Commends Tilitonse Teachers Archbi...</td>\n",
       "    </tr>\n",
       "    <tr>\n",
       "      <th>2</th>\n",
       "      <td>ID_AUJIHpZr</td>\n",
       "      <td>He threatened: He is threatening my grandmothe...</td>\n",
       "    </tr>\n",
       "    <tr>\n",
       "      <th>3</th>\n",
       "      <td>ID_AUKYBbIM</td>\n",
       "      <td>Unemployment rises\\n Job prospects came on Jul...</td>\n",
       "    </tr>\n",
       "    <tr>\n",
       "      <th>4</th>\n",
       "      <td>ID_AZnsVPEi</td>\n",
       "      <td>Locusts taste, but From ancient times, during ...</td>\n",
       "    </tr>\n",
       "  </tbody>\n",
       "</table>\n",
       "</div>"
      ],
      "text/plain": [
       "            ID                                               Text\n",
       "0  ID_ADHEtjTi  Police surveillance on the rise shows that 90 ...\n",
       "1  ID_AHfJktdQ  Lord Ziyaye Commends Tilitonse Teachers Archbi...\n",
       "2  ID_AUJIHpZr  He threatened: He is threatening my grandmothe...\n",
       "3  ID_AUKYBbIM  Unemployment rises\\n Job prospects came on Jul...\n",
       "4  ID_AZnsVPEi  Locusts taste, but From ancient times, during ..."
      ]
     },
     "execution_count": 34,
     "metadata": {},
     "output_type": "execute_result"
    }
   ],
   "source": [
    "final_eng_csv_test.head()"
   ]
  },
  {
   "cell_type": "code",
   "execution_count": 36,
   "id": "d03aaf00",
   "metadata": {},
   "outputs": [],
   "source": [
    "final_eng_csv_test.to_csv('Data/test_google_translate.csv',index=False)"
   ]
  },
  {
   "cell_type": "code",
   "execution_count": 35,
   "id": "75486114",
   "metadata": {},
   "outputs": [
    {
     "data": {
      "text/plain": [
       "'Locusts taste, but From ancient times, during the Israelites\\' journey from Egypt to the promised land of Canaan and even in the time of Jehovah the Baptist people have been eating locusts, a locust that many boast has nothing to do with taste.\\n  At Wenela there has been a dramatic change. We met. We met at a school in Chiradzulu In Malawi.\\n Even in the fall of a country locust destroys plants and other crops, on the other hand it is a blessing because if they are, beetles are also good for the human body because they are high in protein and zinc and iron, nutrients that help build the body, according to research. Food and Agriculture Organization (FAO).\\n Despite the ban, locusts are being sold in markets such as Limbe and Blantyre. It was reported on July 22 this year that the locusts have landed at Nyamula Scheme in Nsanje District and are on their way from Bangula to Chikwawa. that\\'s it! With famine and famine looming in these two states many could not help but thank God for sending locusts to destroy them. Why, many are found weak and some are already dead! Warning messages not to return the locusts because they have been sprayed with pesticides to prevent further damage to the plant in the Shire, but some have been reluctant to stop picking and roasting the locusts and eating them.\\n Nsanje District Senior Chief Malemia and Chikwawa District Security Committee Chairman Mike Kalula confirmed the incident to Msangulutso.\\n The message has spread everywhere that we should not eat the locusts because they are sprayed. But some of them still pick it up, wash it, and eat it. It is very dangerous, but we are still trying to advise them to stop eating the locusts, said Kalula.\\n The problem here is hunger. There is a severe famine and people cannot afford to eat the locusts when they have no means of subsistence, but they should not. Better a poor horse than no horse at all.\\n Malemia said the incident had taken them by surprise and called for people to stop eating locally infested locusts.\\n \"Reports of people washing locusts and eating them have come true, and we are scared because we could lose lives,\" Malemia said.\\n He said following a government ban, in Nsanje district people have stopped selling locusts but some are still selling them in secret.\\n When a product is banned, no one can sell it in public, and some may be selling it in secret but they should stop the practice because it has harmed people, he said.\\n The secretary general of the Ministry of Agriculture, Erica Maganga, said she was disappointed by the news and urged people to stop eating the locusts saying it could put their lives at risk.\\n This is another problem, we have banned people from eating locusts because they can cause problems. If the government has spoken out then it has seen the harm that people will experience if they eat locusts that have died of pesticides.\\n They may eat without noticing its effects, but this can affect them further, so they need to stop. \"We urge the media, the media and ourselves to spread the word so that people do not intentionally ruin their lives by locating locusts,\" said Maganga.\\n He said the ban on locusts and grasshoppers has affected the southern provinces as it is close to the Chikwawa and Nsanje districts that have been affected by the locust outbreak.\\n The problem is that they are flying objects, then you will find that they have reached Thambani and into Neno district which is close to the affected districts. So we urge all governments in the southern hemisphere not to eat these parasites. We are working with the police to prevent anyone from selling locusts or locusts, ”added Maganga.\\n A doctor, who asked not to be named because he did not speak for the health ministry, said the people were in danger if they actually ate the locusts.\\n There are risks associated with dizziness, itching, and fever due to the side effects of the drug, he said in response to what could happen to people who ate the spray locust.\\n Shire Valley ADD seed manager Ringstone Taibu said several hectares had been treated and work had been underway for three weeks.\\n In addition to not disrupting the farmers\\' crop, the locusts also ate sugarcane in the Illovo company\\'s fields which led to the spraying of pesticides.'"
      ]
     },
     "execution_count": 35,
     "metadata": {},
     "output_type": "execute_result"
    }
   ],
   "source": [
    "final_eng_csv_test.iloc[4].Text"
   ]
  }
 ],
 "metadata": {
  "kernelspec": {
   "display_name": "Python 3",
   "language": "python",
   "name": "python3"
  },
  "language_info": {
   "codemirror_mode": {
    "name": "ipython",
    "version": 3
   },
   "file_extension": ".py",
   "mimetype": "text/x-python",
   "name": "python",
   "nbconvert_exporter": "python",
   "pygments_lexer": "ipython3",
   "version": "3.8.8"
  }
 },
 "nbformat": 4,
 "nbformat_minor": 5
}
