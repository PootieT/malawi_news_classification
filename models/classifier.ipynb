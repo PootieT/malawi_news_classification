{
 "cells": [
  {
   "cell_type": "code",
   "execution_count": 8,
   "id": "8a90c8d7",
   "metadata": {},
   "outputs": [],
   "source": [
    "import xgboost as xgb\n",
    "from sklearn.preprocessing import LabelEncoder \n",
    "from xgboost import XGBClassifier\n",
    "from sklearn.metrics import accuracy_score\n",
    "from sklearn.ensemble import RandomForestClassifier\n",
    "from sklearn.linear_model import LogisticRegression\n",
    "import numpy as np\n",
    "from sklearn.metrics import confusion_matrix,ConfusionMatrixDisplay,multilabel_confusion_matrix\n",
    "import matplotlib.pyplot as plt\n",
    "import pickle\n",
    "import pandas as pd\n",
    "from sklearn.model_selection import StratifiedKFold\n",
    "from sklearn.model_selection import GridSearchCV"
   ]
  },
  {
   "cell_type": "code",
   "execution_count": 58,
   "id": "cdd8b67e",
   "metadata": {},
   "outputs": [],
   "source": [
    "final_arr = np.load(f'C:/Users/leose/homework/malawi_news_classification/data/'+'split_text_embeddings' '.npy')\n",
    "\n",
    "labels=pd.read_csv(f'C:/Users/leose/homework/malawi_news_classification/data/'+'split_labels'+'.csv')\n",
    "labels=labels['Label'].values\n",
    "\n",
    "idx=pd.read_csv(f'C:/Users/leose/homework/malawi_news_classification/data/'+'split_index'+'.csv')\n",
    "idx=idx['Idx'].values\n",
    "\n"
   ]
  },
  {
   "cell_type": "code",
   "execution_count": 19,
   "id": "b74c3545",
   "metadata": {},
   "outputs": [
    {
     "name": "stderr",
     "output_type": "stream",
     "text": [
      "C:\\Users\\leose\\anaconda3\\envs\\data\\lib\\site-packages\\sklearn\\linear_model\\_logistic.py:814: ConvergenceWarning: lbfgs failed to converge (status=1):\n",
      "STOP: TOTAL NO. of ITERATIONS REACHED LIMIT.\n",
      "\n",
      "Increase the number of iterations (max_iter) or scale the data as shown in:\n",
      "    https://scikit-learn.org/stable/modules/preprocessing.html\n",
      "Please also refer to the documentation for alternative solver options:\n",
      "    https://scikit-learn.org/stable/modules/linear_model.html#logistic-regression\n",
      "  n_iter_i = _check_optimize_result(\n",
      "C:\\Users\\leose\\anaconda3\\envs\\data\\lib\\site-packages\\xgboost\\sklearn.py:1224: UserWarning: The use of label encoder in XGBClassifier is deprecated and will be removed in a future release. To remove this warning, do the following: 1) Pass option use_label_encoder=False when constructing XGBClassifier object; and 2) Encode your labels (y) as integers starting with 0, i.e. 0, 1, 2, ..., [num_class - 1].\n",
      "  warnings.warn(label_encoder_deprecation_msg, UserWarning)\n"
     ]
    },
    {
     "name": "stdout",
     "output_type": "stream",
     "text": [
      "[08:25:38] WARNING: ..\\src\\learner.cc:1115: Starting in XGBoost 1.3.0, the default evaluation metric used with the objective 'multi:softprob' was changed from 'merror' to 'mlogloss'. Explicitly set eval_metric if you'd like to restore the old behavior.\n",
      "xgb 0.37953640833528446\n",
      "lgr 0.4167642238351674\n",
      "RF 0.34441582767501755\n"
     ]
    },
    {
     "name": "stderr",
     "output_type": "stream",
     "text": [
      "C:\\Users\\leose\\anaconda3\\envs\\data\\lib\\site-packages\\sklearn\\linear_model\\_logistic.py:814: ConvergenceWarning: lbfgs failed to converge (status=1):\n",
      "STOP: TOTAL NO. of ITERATIONS REACHED LIMIT.\n",
      "\n",
      "Increase the number of iterations (max_iter) or scale the data as shown in:\n",
      "    https://scikit-learn.org/stable/modules/preprocessing.html\n",
      "Please also refer to the documentation for alternative solver options:\n",
      "    https://scikit-learn.org/stable/modules/linear_model.html#logistic-regression\n",
      "  n_iter_i = _check_optimize_result(\n",
      "C:\\Users\\leose\\anaconda3\\envs\\data\\lib\\site-packages\\xgboost\\sklearn.py:1224: UserWarning: The use of label encoder in XGBClassifier is deprecated and will be removed in a future release. To remove this warning, do the following: 1) Pass option use_label_encoder=False when constructing XGBClassifier object; and 2) Encode your labels (y) as integers starting with 0, i.e. 0, 1, 2, ..., [num_class - 1].\n",
      "  warnings.warn(label_encoder_deprecation_msg, UserWarning)\n"
     ]
    },
    {
     "name": "stdout",
     "output_type": "stream",
     "text": [
      "[08:28:10] WARNING: ..\\src\\learner.cc:1115: Starting in XGBoost 1.3.0, the default evaluation metric used with the objective 'multi:softprob' was changed from 'merror' to 'mlogloss'. Explicitly set eval_metric if you'd like to restore the old behavior.\n",
      "xgb 0.38688524590163936\n",
      "lgr 0.431615925058548\n",
      "RF 0.3550351288056206\n"
     ]
    }
   ],
   "source": [
    "xgb_model = XGBClassifier() \n",
    "lgr_model= LogisticRegression(random_state=0)\n",
    "rand_forest = RandomForestClassifier(random_state=0)\n",
    "\n",
    "X=final_arr\n",
    "y=labels\n",
    "\n",
    "skf = StratifiedKFold(n_splits=2)\n",
    "skf.get_n_splits(X,y)\n",
    "\n",
    "\n",
    "for train_index, test_index in skf.split(X, y):\n",
    "    X_train, X_test = X[train_index], X[test_index]\n",
    "    y_train, y_test = y[train_index], y[test_index]\n",
    "    lgr_model=lgr_model.fit(X_train, y_train)\n",
    "    rand_forest.fit(X_train, y_train)\n",
    "    xgb_model.fit(X_train, y_train)\n",
    "    \n",
    "    \n",
    "    y_pred = xgb_model.predict(X_test) \n",
    "    predictions = [value for value in y_pred]\n",
    "    accuracy = accuracy_score(y_test, predictions) \n",
    "    print('xgb',accuracy)\n",
    "#     cm=multilabel_confusion_matrix(y_test,predictions)\n",
    "#     print('xgb',cm)\n",
    "    \n",
    "    \n",
    "    y_pred = lgr_model.predict(X_test) \n",
    "    predictions = [value for value in y_pred]\n",
    "    accuracy = accuracy_score(y_test, predictions) \n",
    "    print('lgr',accuracy)\n",
    "#     cm=multilabel_confusion_matrix(y_test,predictions)\n",
    "#     print('lgr',cm)\n",
    "\n",
    "    y_pred = rand_forest.predict(X_test) \n",
    "    predictions = [value for value in y_pred]\n",
    "    accuracy = accuracy_score(y_test, predictions) \n",
    "    print('RF',accuracy)\n",
    "#     cm=multilabel_confusion_matrix(y_test,predictions)\n",
    "#     print('RF',cm)\n"
   ]
  },
  {
   "cell_type": "code",
   "execution_count": 52,
   "id": "95ad8c2f",
   "metadata": {},
   "outputs": [],
   "source": [
    "y_pred=[]\n",
    "for i in range(0,len(final_arr)):\n",
    "    y_pred.append(lgr_model.predict([final_arr[i]]))"
   ]
  },
  {
   "cell_type": "code",
   "execution_count": 53,
   "id": "6c998c0f",
   "metadata": {},
   "outputs": [],
   "source": [
    "y_preds=pd.DataFrame(y_pred,columns=['preds'])"
   ]
  },
  {
   "cell_type": "code",
   "execution_count": 123,
   "id": "47b989a7",
   "metadata": {},
   "outputs": [],
   "source": [
    "final_df=pd.DataFrame(columns=['Preds','Labels','Indexes'])\n",
    "final_df['Preds']=y_preds['preds'].values.astype(int)\n",
    "\n",
    "final_df['Labels']=labels\n",
    "final_df['Indexes']=idx.astype(int)"
   ]
  },
  {
   "cell_type": "code",
   "execution_count": 161,
   "id": "d32b611d",
   "metadata": {},
   "outputs": [],
   "source": [
    "a=final_df.groupby('Indexes')['Preds'].value_counts()"
   ]
  },
  {
   "cell_type": "code",
   "execution_count": 142,
   "id": "25666739",
   "metadata": {},
   "outputs": [],
   "source": [
    "fin_labels=final_df.groupby('Indexes')['Labels'].count().reset_index()"
   ]
  },
  {
   "cell_type": "code",
   "execution_count": 126,
   "id": "31107f95",
   "metadata": {},
   "outputs": [],
   "source": [
    "final_preds=[]\n",
    "for i in range(0,1435):\n",
    "    final_preds.append(a[i].idxmax())\n"
   ]
  },
  {
   "cell_type": "code",
   "execution_count": 140,
   "id": "c7a2d888",
   "metadata": {},
   "outputs": [],
   "source": [
    "final_preds.append(0)"
   ]
  },
  {
   "cell_type": "code",
   "execution_count": 149,
   "id": "5dac623e",
   "metadata": {},
   "outputs": [
    {
     "data": {
      "text/plain": [
       "array([ 9,  7,  2, ...,  4,  8, 11], dtype=int64)"
      ]
     },
     "execution_count": 149,
     "metadata": {},
     "output_type": "execute_result"
    }
   ],
   "source": [
    "fin_labels['Labels'].values"
   ]
  },
  {
   "cell_type": "code",
   "execution_count": 152,
   "id": "e51dc045",
   "metadata": {},
   "outputs": [
    {
     "name": "stdout",
     "output_type": "stream",
     "text": [
      "0.056406685236768804\n"
     ]
    }
   ],
   "source": [
    "accuracy = accuracy_score(fin_labels['Labels'],final_preds) \n",
    "print(accuracy)"
   ]
  },
  {
   "cell_type": "code",
   "execution_count": null,
   "id": "65e5fb45",
   "metadata": {},
   "outputs": [],
   "source": []
  }
 ],
 "metadata": {
  "kernelspec": {
   "display_name": "Python 3 (ipykernel)",
   "language": "python",
   "name": "python3"
  },
  "language_info": {
   "codemirror_mode": {
    "name": "ipython",
    "version": 3
   },
   "file_extension": ".py",
   "mimetype": "text/x-python",
   "name": "python",
   "nbconvert_exporter": "python",
   "pygments_lexer": "ipython3",
   "version": "3.9.11"
  }
 },
 "nbformat": 4,
 "nbformat_minor": 5
}
