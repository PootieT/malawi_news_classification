{
 "cells": [
  {
   "cell_type": "markdown",
   "id": "72e956e0",
   "metadata": {},
   "source": [
    "# Converts the English Witchcraft data to chichewa using Google Translate"
   ]
  },
  {
   "cell_type": "code",
   "execution_count": 18,
   "id": "73400baf",
   "metadata": {},
   "outputs": [],
   "source": [
    "import pandas as pd\n",
    "import requests\n",
    "from typing import List, Dict, Tuple, Optional\n",
    "from tqdm import tqdm\n",
    "from googletrans import Translator\n",
    "from bs4 import BeautifulSoup as bs\n",
    "import re\n",
    "from sklearn.model_selection import train_test_split\n",
    "import numpy as np"
   ]
  },
  {
   "cell_type": "code",
   "execution_count": 19,
   "id": "f59c25ea",
   "metadata": {},
   "outputs": [],
   "source": [
    "# Using readlines()\n",
    "witchcraft_df = pd.read_csv('Witchcraft/witch.csv')"
   ]
  },
  {
   "cell_type": "code",
   "execution_count": 20,
   "id": "7cc065ad",
   "metadata": {},
   "outputs": [
    {
     "data": {
      "text/plain": [
       "(30, 1)"
      ]
     },
     "execution_count": 20,
     "metadata": {},
     "output_type": "execute_result"
    }
   ],
   "source": [
    "witchcraft_df.shape"
   ]
  },
  {
   "cell_type": "code",
   "execution_count": 21,
   "id": "0db394ea",
   "metadata": {},
   "outputs": [
    {
     "data": {
      "text/plain": [
       "Text    Murder on suspicion of witchcraft has been a m...\n",
       "Name: 0, dtype: object"
      ]
     },
     "execution_count": 21,
     "metadata": {},
     "output_type": "execute_result"
    }
   ],
   "source": [
    "witchcraft_df.iloc[0]"
   ]
  },
  {
   "cell_type": "code",
   "execution_count": 22,
   "id": "b8e5851c",
   "metadata": {},
   "outputs": [],
   "source": [
    "data = pd.read_csv('Data/Train.csv')"
   ]
  },
  {
   "cell_type": "code",
   "execution_count": 23,
   "id": "cf33bfbd",
   "metadata": {},
   "outputs": [
    {
     "data": {
      "text/html": [
       "<div>\n",
       "<style scoped>\n",
       "    .dataframe tbody tr th:only-of-type {\n",
       "        vertical-align: middle;\n",
       "    }\n",
       "\n",
       "    .dataframe tbody tr th {\n",
       "        vertical-align: top;\n",
       "    }\n",
       "\n",
       "    .dataframe thead th {\n",
       "        text-align: right;\n",
       "    }\n",
       "</style>\n",
       "<table border=\"1\" class=\"dataframe\">\n",
       "  <thead>\n",
       "    <tr style=\"text-align: right;\">\n",
       "      <th></th>\n",
       "      <th>ID</th>\n",
       "      <th>Text</th>\n",
       "      <th>Label</th>\n",
       "    </tr>\n",
       "  </thead>\n",
       "  <tbody>\n",
       "    <tr>\n",
       "      <th>0</th>\n",
       "      <td>ID_AASHwXxg</td>\n",
       "      <td>Mwangonde: Khansala wachinyamata Akamati achi...</td>\n",
       "      <td>POLITICS</td>\n",
       "    </tr>\n",
       "    <tr>\n",
       "      <th>1</th>\n",
       "      <td>ID_AGoFySzn</td>\n",
       "      <td>MCP siidakhutire ndi kalembera Chipani cha Ma...</td>\n",
       "      <td>POLITICS</td>\n",
       "    </tr>\n",
       "    <tr>\n",
       "      <th>2</th>\n",
       "      <td>ID_AGrrkBGP</td>\n",
       "      <td>Bungwe la MANEPO Lapempha Boma Liganizire Anth...</td>\n",
       "      <td>HEALTH</td>\n",
       "    </tr>\n",
       "    <tr>\n",
       "      <th>3</th>\n",
       "      <td>ID_AIJeigeG</td>\n",
       "      <td>Ndale zogawanitsa miyambo zanyanya Si zachile...</td>\n",
       "      <td>POLITICS</td>\n",
       "    </tr>\n",
       "    <tr>\n",
       "      <th>4</th>\n",
       "      <td>ID_APMprMbV</td>\n",
       "      <td>Nanga wapolisi ataphofomoka? Masiku ano sichi...</td>\n",
       "      <td>LAW/ORDER</td>\n",
       "    </tr>\n",
       "  </tbody>\n",
       "</table>\n",
       "</div>"
      ],
      "text/plain": [
       "            ID                                               Text      Label\n",
       "0  ID_AASHwXxg   Mwangonde: Khansala wachinyamata Akamati achi...   POLITICS\n",
       "1  ID_AGoFySzn   MCP siidakhutire ndi kalembera Chipani cha Ma...   POLITICS\n",
       "2  ID_AGrrkBGP  Bungwe la MANEPO Lapempha Boma Liganizire Anth...     HEALTH\n",
       "3  ID_AIJeigeG   Ndale zogawanitsa miyambo zanyanya Si zachile...   POLITICS\n",
       "4  ID_APMprMbV   Nanga wapolisi ataphofomoka? Masiku ano sichi...  LAW/ORDER"
      ]
     },
     "execution_count": 23,
     "metadata": {},
     "output_type": "execute_result"
    }
   ],
   "source": [
    "data.head()"
   ]
  },
  {
   "cell_type": "code",
   "execution_count": 24,
   "id": "f3bcde41",
   "metadata": {},
   "outputs": [
    {
     "data": {
      "text/plain": [
       "' Mwangonde: Khansala wachinyamata Akamati achinyamata ndi atsogoleri a mawa, ambiri amaganiza kuti izi ndi nkhambakamwa chabe. Koma achinyamata ena, monga Lusubilo Mwangonde, akukwaniritsa akupherezetsa mawuwa osati pongolota kuti adzakhala, koma kutsogolera kumene chifukwa nthawi yawo yakwana. DAILES BANDA adacheza ndi Mwangonde, khansala wachinyama, yemwe akuimira Jumbo Ward mumzinda wa Mzuzu, motere:  Chisale watuluka nkumangidwanso  Sipakala waimitsa Nyumba ya Malamulo  Pa Wenela pasintha zedi Ali ndi masomphenya: Mwangonde Tikudziweni  Ndine Lusubilo Mwangonde, ndili ndi zaka 27 zakubadwa. Ndinabadwa mbanja la ana asanu ndipo ndine wachinayi kubadwa. Ndimachokera mmudzi mwa Mwamalopa, kwa Paramount Chief Kyungu mboma la Karonga. Sindili pabanja pakadalipano.\\n Mbiri ya maphunziro anu ndi yotani? Maphunziro anga a pulaimale ndidachitira kusukula yapulaiveti ya Viphya mumzinda wa Mzuzu ndipo asekondale ndidachitira pa Phwezi Boys mboma la Rumphi. Ndili ndi diploma ya Accounting ndipo pakadalipano ndikupanga digiri komanso Chartered Accounting kusukulu ya Malawi College of Accountancy (MCA).\\n Mudayamba bwanji zandale? Kuyambira ndili wachichepere, zaka 12, ndakhala ndikukhala mumaudindo a utgogoleri. Ichi ndi china mwa zinthu zomwe zidandilimbikitsa kuti ndikhoza kudzapambana pazisankho. Koma chachikulu chomwe chidandichititsa kuti ndilowe ukhansala chidali chifukwa chakuti ndinkafuna kupereka mpata kwa anthu kuti azitha kuyankhula zakukhosi kwawo polimbikitsa demokalase ndi chitukuko.\\n Ntchito mukugwira ndi zomwe munkayembekezera? Eya, ndiponso ndinkayembekezera zambiri.\\n Masomphenya anu ndi otani pandale? Ine ndine munthu wokhulupirira Mulungu ndipo ndili ndi chikhulupiriro choti Iye ndi amene adzandionetsere zomwe ndikuyera kuchita ndi tsogolo langa.\\n Zinthu zina zomwe mumachita ndi chiyani pambali pa ukhansala? Ndikakhala sindikugwira ntchito yaukhansala ndimakhala ndikuchita bizinesi, nthawi zina ndimakhala ndili kusukulu komwe ndikuchita maphuro anga a digiri. Kuonjezera pamenepo ndili ndi bungwe lomwe ndidayambitsa ndi anzanga ena la Centre for Participatory Democracy lomwe limalimbikitsa demokalase.\\n Zomwe mwakwanitsa ndi zotani? Ndathandiza kuti ntchito yopala misewu ya kudera la Moyale itheke. Misewuyi yakhala nthawi yaitali osapalidwa. Ndidathandiziranso kuti ochita malonda ayambe kumanga mashopu anjerwa ndi kusiya kumangira matabwa kapena zigwagwa. Ndidakwanitsanso kukaimirira khonsolo ya Mzuzu ku Nyumba ya Malamulo. Ndaonanso kuti ntchitoyi yandithandiza kusintha momwe ndimaonera zinthu komanso ndimakumana ndi anthu osiyanasiyana omwe amandiphunzitsa zinthu zambiri.\\n'"
      ]
     },
     "execution_count": 24,
     "metadata": {},
     "output_type": "execute_result"
    }
   ],
   "source": [
    "data['Text'][0]"
   ]
  },
  {
   "cell_type": "code",
   "execution_count": 25,
   "id": "e668f98d",
   "metadata": {},
   "outputs": [
    {
     "data": {
      "text/plain": [
       "array(['ARTS AND CRAFTS', 'CULTURE', 'ECONOMY', 'EDUCATION', 'FARMING',\n",
       "       'FLOODING', 'HEALTH', 'LAW/ORDER', 'LOCALCHIEFS', 'MUSIC',\n",
       "       'OPINION/ESSAY', 'POLITICS', 'RELATIONSHIPS', 'RELIGION', 'SOCIAL',\n",
       "       'SOCIAL ISSUES', 'SPORTS', 'TRANSPORT', 'WILDLIFE/ENVIRONMENT',\n",
       "       'WITCHCRAFT'], dtype=object)"
      ]
     },
     "execution_count": 25,
     "metadata": {},
     "output_type": "execute_result"
    }
   ],
   "source": [
    "np.unique(data['Label'])"
   ]
  },
  {
   "cell_type": "code",
   "execution_count": 26,
   "id": "dddbee04",
   "metadata": {},
   "outputs": [
    {
     "data": {
      "text/html": [
       "<div>\n",
       "<style scoped>\n",
       "    .dataframe tbody tr th:only-of-type {\n",
       "        vertical-align: middle;\n",
       "    }\n",
       "\n",
       "    .dataframe tbody tr th {\n",
       "        vertical-align: top;\n",
       "    }\n",
       "\n",
       "    .dataframe thead th {\n",
       "        text-align: right;\n",
       "    }\n",
       "</style>\n",
       "<table border=\"1\" class=\"dataframe\">\n",
       "  <thead>\n",
       "    <tr style=\"text-align: right;\">\n",
       "      <th></th>\n",
       "      <th>ID</th>\n",
       "      <th>Text</th>\n",
       "      <th>Label</th>\n",
       "    </tr>\n",
       "  </thead>\n",
       "  <tbody>\n",
       "    <tr>\n",
       "      <th>74</th>\n",
       "      <td>ID_DMKOIhhu</td>\n",
       "      <td>Wobwerera lili pululu amwaliranso ku zomba ZI...</td>\n",
       "      <td>WITCHCRAFT</td>\n",
       "    </tr>\n",
       "    <tr>\n",
       "      <th>149</th>\n",
       "      <td>ID_GASspiVN</td>\n",
       "      <td>Agumula nyumba  pokaikira masalamusi Mbuto ya...</td>\n",
       "      <td>WITCHCRAFT</td>\n",
       "    </tr>\n",
       "    <tr>\n",
       "      <th>189</th>\n",
       "      <td>ID_HSPlXZfK</td>\n",
       "      <td>Kusintha lamulo la ufiti kwachedwa udyo Kuche...</td>\n",
       "      <td>WITCHCRAFT</td>\n",
       "    </tr>\n",
       "    <tr>\n",
       "      <th>200</th>\n",
       "      <td>ID_HmBelPhy</td>\n",
       "      <td>Wogona ndi mwana wake pofuna mfumba agwidwa N...</td>\n",
       "      <td>WITCHCRAFT</td>\n",
       "    </tr>\n",
       "    <tr>\n",
       "      <th>208</th>\n",
       "      <td>ID_HyRmqWHv</td>\n",
       "      <td>Azula mitanda kumanda Bambo wina wa mmudzi mw...</td>\n",
       "      <td>WITCHCRAFT</td>\n",
       "    </tr>\n",
       "    <tr>\n",
       "      <th>274</th>\n",
       "      <td>ID_KaYlbErN</td>\n",
       "      <td>Basi ayisempha  Pa Wenela pasintha zedi  ANat...</td>\n",
       "      <td>WITCHCRAFT</td>\n",
       "    </tr>\n",
       "    <tr>\n",
       "      <th>285</th>\n",
       "      <td>ID_LBKZDrWq</td>\n",
       "      <td>Titsirika nkhalango zonseNganga Gulu lina la ...</td>\n",
       "      <td>WITCHCRAFT</td>\n",
       "    </tr>\n",
       "    <tr>\n",
       "      <th>338</th>\n",
       "      <td>ID_MthMTQHV</td>\n",
       "      <td>Akuti akukumana  Ndi womwalira Maloza! Mtembo...</td>\n",
       "      <td>WITCHCRAFT</td>\n",
       "    </tr>\n",
       "    <tr>\n",
       "      <th>622</th>\n",
       "      <td>ID_XeqHYVYh</td>\n",
       "      <td>Anjata wopezeka ndi mitengo ya tsanya Apolisi...</td>\n",
       "      <td>WITCHCRAFT</td>\n",
       "    </tr>\n",
       "    <tr>\n",
       "      <th>747</th>\n",
       "      <td>ID_cCCIHhcC</td>\n",
       "      <td>Za anamapopa sizikuzilala Nkhani ya anamapopa...</td>\n",
       "      <td>WITCHCRAFT</td>\n",
       "    </tr>\n",
       "    <tr>\n",
       "      <th>761</th>\n",
       "      <td>ID_cXyUqFJm</td>\n",
       "      <td>Amati aukitsa wakufa koma athera mzingwe Muda...</td>\n",
       "      <td>WITCHCRAFT</td>\n",
       "    </tr>\n",
       "    <tr>\n",
       "      <th>805</th>\n",
       "      <td>ID_deXPtAtV</td>\n",
       "      <td>Auka atatha zaka 11 mmanda ku ntchisi Pa 16 A...</td>\n",
       "      <td>WITCHCRAFT</td>\n",
       "    </tr>\n",
       "    <tr>\n",
       "      <th>933</th>\n",
       "      <td>ID_ieaGIMCg</td>\n",
       "      <td>Mtsutso pa za makanda odabwitsa Mtsutso wakul...</td>\n",
       "      <td>WITCHCRAFT</td>\n",
       "    </tr>\n",
       "    <tr>\n",
       "      <th>1231</th>\n",
       "      <td>ID_tXsQmFwI</td>\n",
       "      <td>Gulewamkulu ndi mankhwala Matenda akagwa pakh...</td>\n",
       "      <td>WITCHCRAFT</td>\n",
       "    </tr>\n",
       "    <tr>\n",
       "      <th>1263</th>\n",
       "      <td>ID_uQgSzkkk</td>\n",
       "      <td>Ndege ya ufiti ikodwa ku Kasungu Ngakhale mal...</td>\n",
       "      <td>WITCHCRAFT</td>\n",
       "    </tr>\n",
       "    <tr>\n",
       "      <th>1362</th>\n",
       "      <td>ID_xVwsrXCR</td>\n",
       "      <td>Makanja aphofomoka Makanja, chilombo chomwe c...</td>\n",
       "      <td>WITCHCRAFT</td>\n",
       "    </tr>\n",
       "  </tbody>\n",
       "</table>\n",
       "</div>"
      ],
      "text/plain": [
       "               ID                                               Text  \\\n",
       "74    ID_DMKOIhhu   Wobwerera lili pululu amwaliranso ku zomba ZI...   \n",
       "149   ID_GASspiVN   Agumula nyumba  pokaikira masalamusi Mbuto ya...   \n",
       "189   ID_HSPlXZfK   Kusintha lamulo la ufiti kwachedwa udyo Kuche...   \n",
       "200   ID_HmBelPhy   Wogona ndi mwana wake pofuna mfumba agwidwa N...   \n",
       "208   ID_HyRmqWHv   Azula mitanda kumanda Bambo wina wa mmudzi mw...   \n",
       "274   ID_KaYlbErN   Basi ayisempha  Pa Wenela pasintha zedi  ANat...   \n",
       "285   ID_LBKZDrWq   Titsirika nkhalango zonseNganga Gulu lina la ...   \n",
       "338   ID_MthMTQHV   Akuti akukumana  Ndi womwalira Maloza! Mtembo...   \n",
       "622   ID_XeqHYVYh   Anjata wopezeka ndi mitengo ya tsanya Apolisi...   \n",
       "747   ID_cCCIHhcC   Za anamapopa sizikuzilala Nkhani ya anamapopa...   \n",
       "761   ID_cXyUqFJm   Amati aukitsa wakufa koma athera mzingwe Muda...   \n",
       "805   ID_deXPtAtV   Auka atatha zaka 11 mmanda ku ntchisi Pa 16 A...   \n",
       "933   ID_ieaGIMCg   Mtsutso pa za makanda odabwitsa Mtsutso wakul...   \n",
       "1231  ID_tXsQmFwI   Gulewamkulu ndi mankhwala Matenda akagwa pakh...   \n",
       "1263  ID_uQgSzkkk   Ndege ya ufiti ikodwa ku Kasungu Ngakhale mal...   \n",
       "1362  ID_xVwsrXCR   Makanja aphofomoka Makanja, chilombo chomwe c...   \n",
       "\n",
       "           Label  \n",
       "74    WITCHCRAFT  \n",
       "149   WITCHCRAFT  \n",
       "189   WITCHCRAFT  \n",
       "200   WITCHCRAFT  \n",
       "208   WITCHCRAFT  \n",
       "274   WITCHCRAFT  \n",
       "285   WITCHCRAFT  \n",
       "338   WITCHCRAFT  \n",
       "622   WITCHCRAFT  \n",
       "747   WITCHCRAFT  \n",
       "761   WITCHCRAFT  \n",
       "805   WITCHCRAFT  \n",
       "933   WITCHCRAFT  \n",
       "1231  WITCHCRAFT  \n",
       "1263  WITCHCRAFT  \n",
       "1362  WITCHCRAFT  "
      ]
     },
     "execution_count": 26,
     "metadata": {},
     "output_type": "execute_result"
    }
   ],
   "source": [
    "data.loc[data['Label'] == 'WITCHCRAFT']"
   ]
  },
  {
   "cell_type": "code",
   "execution_count": 27,
   "id": "18bf6ed5",
   "metadata": {},
   "outputs": [],
   "source": [
    "from googletrans import Translator"
   ]
  },
  {
   "cell_type": "code",
   "execution_count": 28,
   "id": "d58aa818",
   "metadata": {},
   "outputs": [],
   "source": [
    "def get_free_proxies():\n",
    "    url = \"https://free-proxy-list.net/\"\n",
    "    # get the HTTP response and construct soup object\n",
    "    soup = bs(requests.get(url).content, \"html.parser\")\n",
    "    proxies = []\n",
    "    #print(soup)\n",
    "    for row in soup.find(\"table\", attrs={\"class\": \"table table-striped table-bordered\"}).find_all(\"tr\")[1:]:\n",
    "        tds = row.find_all(\"td\")\n",
    "        try:\n",
    "            ip = tds[0].text.strip()\n",
    "            port = tds[1].text.strip()\n",
    "            host = f\"{ip}:{port}\"\n",
    "            proxies.append(host)\n",
    "        except IndexError:\n",
    "            continue\n",
    "    return proxies"
   ]
  },
  {
   "cell_type": "code",
   "execution_count": 29,
   "id": "4de263d2",
   "metadata": {},
   "outputs": [],
   "source": [
    "translator = Translator(proxies=get_free_proxies())"
   ]
  },
  {
   "cell_type": "code",
   "execution_count": 30,
   "id": "5640a4a2",
   "metadata": {},
   "outputs": [
    {
     "data": {
      "text/plain": [
       "\"Mwangonde: A young councilor When they say young people are the leaders of tomorrow, many think that this is just a myth. But some young people, such as Lusubilo Mwangonde, are fulfilling this promise by not just pretending to be, but taking the lead because their time has come. DAILES BANDA spoke to Mwangonde, a wildlife councilor representing Jumbo Ward in Mzuzu, as follows: Chisale has been re-arrested Sipakala has suspended Parliament in Wenela I was born in a family of five children and am the fourth born. I come from Mwamalopa village, Paramount Chief Kyungu in Karonga district. I'm not married yet.\\n What is your educational background? My primary education was at Viphya Private School in Mzuzu and my high school education was at Phwezi Boys' Rumphi District. I have a Diploma in Accounting and am currently pursuing a degree and Chartered Accounting at the Malawi College of Accountancy (MCA).\\n How did you get into politics? Ever since I was a teenager, 12 years old, I have been in leadership positions. This is one of the things that inspired me to be able to win elections. But the main reason I went to the council was because I wanted to give people a chance to express their views in promoting democracy and development.\\n Are you working on what you expected? Yeah, and I was expecting a lot more.\\n What is your political vision? I am a person who believes in God and has faith that He is the one who will show me what I should do with my future.\\n What are some of the things you do besides counseling? When I don't work as a councilor I do business, sometimes I go to school where I do my degree. In addition I have an organization founded by some of my colleagues the Center for Participatory Democracy that promotes democracy.\\n What are your achievements? I helped make the Moyale road construction project possible. The roads have long been unpaved. I also helped retailers to start building brick shops and to stop building timber or masonry. I was also able to represent Mzuzu in Parliament. I also find that this work has helped me to change my attitude and to meet different people who teach me a lot of things.\""
      ]
     },
     "execution_count": 30,
     "metadata": {},
     "output_type": "execute_result"
    }
   ],
   "source": [
    "translator.translate(data['Text'][0],src='ny',dest='en').text"
   ]
  },
  {
   "cell_type": "code",
   "execution_count": 31,
   "id": "1d1a9c6c",
   "metadata": {},
   "outputs": [
    {
     "name": "stdout",
     "output_type": "stream",
     "text": [
      "Murder on suspicion of witchcraft has been a major issue in Jharkhand (Representational)An elderly couple was killed in Jharkhand's Gumla district allegedly by their relatives who suspected that they practised witchcraft, police said on Saturday.The incident happened around 9 pm on Friday in Bhagat Bukma village in Chainpur police station area, around 140 km from state capital Ranchi, they said.Lundra Chik Baraik (65) and his wife Phulma Devi (60) were attacked with an axe and sticks when they were in their house, Chainpur sub-divisional police officer Cyril Marandi told PTI.Lundra's sister-in-law Sumitra Devi was arrested in connection with the murder, and the involvement of her son Ravindra and some other people is being probed, he said.During interrogation, Sumitra claimed that both the husband and wife were witches and they harmed people with their black magic, Mr Marandi said.Sumitra's daughter was ill for the past few days and she held the couple responsible for her illness, he said.She was booked under provisions of Prevention of Witch (DAAIN) Practices Act, he added.Former village head Kishun Bhagat said that Lundra had met him on Friday morning, and said that Sumitra's family was threatening him.A meeting was held in presence of village head Jairam Bhagat to sort out the issue. We tried to convince both the families but Sumitra's family was leveling witchcraft allegations at Lundra's family, he said.Gauging the tension between the two families, villagers suggested they report the matter to the police. Lundra had gone to the police station. We do not know what happened thereafter. At night, we came to know that Lundra and his wife were killed, Mr Bhagat said.Murder on suspicion of witchcraft has been a major issue in Jharkhand. In January this year, an elderly couple was lynched on suspicion of practising witchcraft in Arki police station area in Khunti district.An analysis of NCRB's data suggests that a total of 590 people, mostly women, were killed on allegations of practising witchcraft between 2001 and 2020.PromotedListen to the latest songs, only on JioSaavn.comThe state registered the highest 54 witch-hunting murders in 2013, 52 in 2008 and 50 in 2007. Witchcraft murder cases started declining after 2014 when 47 people were killed. Thirty-two people were killed in 2015, 27 in 2016, 19 in 2017, 18 in 2018, and 15 each in 2019 and 2020.\n",
      "The farmer suspected that the buffalo was under the influence of witchcraft. (Representational)A farmer from Madhya Pradesh's Bhind district went to a police station taking along his buffalo, complaining that the animal was refusing to be milked and he suspected it to be under the influence of witchcraft, an official said on Sunday.A video showing the man seeking help from the police in Nayagaon village on Saturday over the issue surfaced on social media.The villager, identified as Babulal Jatav (45), submitted a complaint at Nayagaon police station on Saturday, saying his buffalo was not allowing to be milked since the past some days, Deputy Superintendent of Police Arvind Shah told PTI.According to the complainant, some villagers told him that the animal was under the influence of witchcraft, he said.PromotedListen to the latest songs, only on JioSaavn.comAbout four hours after giving the application, the farmer again reached the police station with his buffalo and sought help from the police again, he said.I had told the police station in-charge to assist the villager with some veterinary advice. The villager again reached the police station today to thank the police, saying the buffalo allowed to be milked on Sunday morning, Mr Shah said.Track Latest News Live on NDTV.com and get news updates from India  and around the world. Watch Live News:Follow Us:................................ Advertisement ................................\n",
      "The body was exhumed from a five-feet-deep pit on Monday and sent for post-mortem.An 80-year-old man was allegedly buried alive by his relatives in Meghalaya over the suspicion that he practiced witchcraft, police said. Eight people, three of whom are his nephews, have been arrested so far, they added.The body of the man with hands and legs tied and face covered was exhumed from a five-feet-deep pit on Monday and sent for post-mortem.Eight persons have been arrested in connection with the incident that took place on the night of October 7, Superintendent of Police Herbert Lyngdoh was quoted as saying by  news agency PTI.Moris Marngar was forcibly taken away from his house by his relatives from his village in West Khasi Hills on October 7. A day later his children reported the matter to village authorities, who infomred the police.Three main accused -- Denial, Jayles and Differwell, all of whom his nephews, were arrested on October 11; five others were arrested the following day.On the basis of their statement, the body covered with stones and a cross engraved with the word RIP was recovered, the police official said. The victim's hands were tied to his back, and his legs were covered in a sack and tied with a rope, he added.The victim's nephews had alleged that their uncle had cast evil spells on one of his nieces and other family members.PromotedListen to the latest songs, only on JioSaavn.comThe niece was sick for the last three months, and her family blamed Mr Marngar for her illness. The accused reportedly told police that the girl recovered following Mr Marngar's death.The police, according to news agency PTI, suspects involvement of 18 members of the extended family in the killing.Track Latest News Live on NDTV.com and get news updates from India  and around the world. Watch Live News:Follow Us:................................ Advertisement ................................\n",
      "The body of the man was exhumed and sent for post-mortem, police said. (Representational)The body of the 90-year-old man, who was buried alive allegedly by his relatives in Meghalaya's West Khasi Hills district over the suspicion that he practised witchcraft, was exhumed and sent for post-mortem, police said on Tuesday.Eight people have so far been arrested in connection with the killing of Moris Marngar, they said.The body with hands and legs tied and face covered was exhumed on Monday from a 5-feet-deep pit in the Mawliehbah Mawnar village, they added.Eight persons have been arrested in connection with the incident that took place on the night of October 7, police official Herbert Lyngdoh said.Mr Marngar's children had reported to the village authorities about him going missing, a day after he was forcibly taken away from his house at Mawliehbah by his relatives, a community leader told PTI.The matter was reported to the police and the three main accused -- Denial, Jayles and Differwell, all of whom are his nephews, were arrested on Sunday, he said.Five others were arrested on Monday, the officer said, adding that attempts are on to apprehend the other accused in the case.Mr Marngar's body was covered with stones and a cross engraved with the word RIP, Mr Lyngdoh said.The victim's hands were tied to his back, and his legs were covered in a sack and tied with a rope, an official, who was with the exhumation team, said.His other nephews, Yesparius and Barslomius, told reporters that their uncle had cast evil spells on one of his nieces and other family members.The niece was sick for the last three months, and her family blamed Mr Marngar for it.Yesparius claimed that the girl recovered following Marngar's death.PromotedListen to the latest songs, only on JioSaavn.comThe Mawliehbah Mawnar village council condemned the gruesome murder.Police official B Kharjana said the preliminary investigation has revealed that 18 members of the extended family are involved in the killing.Track Latest News Live on NDTV.com and get news updates from India  and around the world. Watch Live News:Follow Us:................................ Advertisement ................................\n",
      "Villagers were verbally abused, threatened when they tried to intervene, police said (Representational)Three women and a man were allegedly stripped and thrashed by a mob of around 50 people who accused them of practising witchcraft, and then paraded naked throughout the village in Jharkhand's Garhwa district, the police said on Friday.Two people have been arrested in connection with the incident that happened on Thursday night in Jharkhand's Narayanpur village, while a search is on to arrest the rest, they said.The incident happened around 10 pm. Soon after receiving information, a team was sent to the village and it was found that around 50 people were present at the spot. Two people were caught while the others fled, Subdivisional Police Officer Brahmin Tutti told news agency PTI.The police first provided clothes to the women and the man, following which they brought the two accused -- Ravi Kumar and Vasudev -- to the Sadar police station, he said.Strict action will be taken against those involved in the incident, the officer said.The women and the man were stripped and thrashed after two daughters of one Bali Rajwar, a resident of the village, fell sick, police said.Bali Rajwar's family members along with Vikas Kumar Saw, Bablu Ram, Rajad Paswan, Ravi Kumar Ram and Raju Ram, among others, allegedly stripped the three women, thrashed them and then paraded them throughout the area, according to the case lodged by the police.Some villagers tried to intervene and stop the group but they were verbally abused and threatened, the police said.Narayanpur's ward councilor Sivasagar Das said that he also tried to pacify the mob but no one paid any heed to him.PromotedListen to the latest songs, only on JioSaavn.comWe have information that around 50 people were involved in the incident and a search is on for them, said Rajiv Kumar, the inspector in-charge of the Sadar police station.The culprits will not be spared under any circumstances. Those on the run will be arrested soon, he said.Track Latest News Live on NDTV.com and get news updates from India  and around the world. Watch Live News:Follow Us:................................ Advertisement ................................\n"
     ]
    }
   ],
   "source": [
    "for i,line in enumerate(witchcraft_df['Text']):\n",
    "    print(line)\n",
    "    if(i>3):\n",
    "        break"
   ]
  },
  {
   "cell_type": "code",
   "execution_count": 32,
   "id": "48226f5e",
   "metadata": {},
   "outputs": [],
   "source": [
    "li_chi = []\n",
    "for i,phrase in enumerate(witchcraft_df['Text']):\n",
    "    li_chi.append(translator.translate(phrase,src='en',dest='ny').text)\n",
    "    #break"
   ]
  },
  {
   "cell_type": "code",
   "execution_count": 33,
   "id": "ca45d063",
   "metadata": {},
   "outputs": [
    {
     "data": {
      "text/plain": [
       "30"
      ]
     },
     "execution_count": 33,
     "metadata": {},
     "output_type": "execute_result"
    }
   ],
   "source": [
    "len(li_chi)"
   ]
  },
  {
   "cell_type": "code",
   "execution_count": 35,
   "id": "3591e7c1",
   "metadata": {},
   "outputs": [
    {
     "data": {
      "text/plain": [
       "\"Opezeka olakwawa akhala m'ndende miyezi isanu ndi umodzi chifukwa chosapereka chindapusa (Representational)Khoti la m'deralo Lachisanu lagamula anthu asanu ndi anayi a banja lina kuphatikizapo amayi awiri pa mlandu wopha munthu mu 2013 wokhudzana ndi ufiti m'boma la Dumka. -II, Pawan Kumar adawalamula kuti akhale m'ndende moyo wonse pansi pa zigawo zosiyanasiyana za IPC kuphatikiza 302 (kupha) ndi 149 (msonkhano wosaloledwa). Khotilo lidaperekanso chindapusa cha Rs 10,000 aliyense. ngati alephera kupereka chindapusa. Mu 2013, gulu la anthu linalowa m'nyumba ya Lalmuni Devi, n’kumutcha kuti ndi mfiti ndipo anamumenya mpaka kumupha. kuti amupulumutse, anaika mtembowo m’thumba n’kupita nawo. Anapezekanso pambuyo pake.Omangidwawo adadziwika kuti ndi azichimwene anayi Madan Rai, Sanat Rai, Rohit Rai ndi Fudan Rai ndi mlongo wawo Lukho Devi, mkazi wa Fudan Hirani Devi, ndi ena atatu.Track Latest News Live pa NDTV.com ndikupeza zosintha ochokera ku India komanso padziko lonse lapansi. Onerani Live News:Follow Us:................................ Advertisement .......... .....................\""
      ]
     },
     "execution_count": 35,
     "metadata": {},
     "output_type": "execute_result"
    }
   ],
   "source": [
    "li_chi[20]"
   ]
  },
  {
   "cell_type": "code",
   "execution_count": 36,
   "id": "de64e391",
   "metadata": {},
   "outputs": [],
   "source": [
    "df_witchcraft = pd.DataFrame(li_chi, columns =['Text'])\n",
    "df_witchcraft['Label'] = 'WITCHCRAFT'\n",
    "#df_flood['ID'] = [i for i in range(len(li_chi))]"
   ]
  },
  {
   "cell_type": "code",
   "execution_count": 38,
   "id": "9b355569",
   "metadata": {},
   "outputs": [
    {
     "data": {
      "text/html": [
       "<div>\n",
       "<style scoped>\n",
       "    .dataframe tbody tr th:only-of-type {\n",
       "        vertical-align: middle;\n",
       "    }\n",
       "\n",
       "    .dataframe tbody tr th {\n",
       "        vertical-align: top;\n",
       "    }\n",
       "\n",
       "    .dataframe thead th {\n",
       "        text-align: right;\n",
       "    }\n",
       "</style>\n",
       "<table border=\"1\" class=\"dataframe\">\n",
       "  <thead>\n",
       "    <tr style=\"text-align: right;\">\n",
       "      <th></th>\n",
       "      <th>Text</th>\n",
       "      <th>Label</th>\n",
       "    </tr>\n",
       "  </thead>\n",
       "  <tbody>\n",
       "    <tr>\n",
       "      <th>0</th>\n",
       "      <td>Kupha anthu powaganizira za ufiti kwakhala vut...</td>\n",
       "      <td>WITCHCRAFT</td>\n",
       "    </tr>\n",
       "    <tr>\n",
       "      <th>1</th>\n",
       "      <td>Mlimiyo ankakayikira kuti njatiyo inali yamats...</td>\n",
       "      <td>WITCHCRAFT</td>\n",
       "    </tr>\n",
       "    <tr>\n",
       "      <th>2</th>\n",
       "      <td>Mtembowo unatulutsidwa m’dzenje lakuya mamita ...</td>\n",
       "      <td>WITCHCRAFT</td>\n",
       "    </tr>\n",
       "    <tr>\n",
       "      <th>3</th>\n",
       "      <td>Mtembo wa bamboyo udafukulidwa ndikutumizidwa ...</td>\n",
       "      <td>WITCHCRAFT</td>\n",
       "    </tr>\n",
       "    <tr>\n",
       "      <th>4</th>\n",
       "      <td>Anthu akumudzi adatukwanidwa, kuopsezedwa ataf...</td>\n",
       "      <td>WITCHCRAFT</td>\n",
       "    </tr>\n",
       "  </tbody>\n",
       "</table>\n",
       "</div>"
      ],
      "text/plain": [
       "                                                Text       Label\n",
       "0  Kupha anthu powaganizira za ufiti kwakhala vut...  WITCHCRAFT\n",
       "1  Mlimiyo ankakayikira kuti njatiyo inali yamats...  WITCHCRAFT\n",
       "2  Mtembowo unatulutsidwa m’dzenje lakuya mamita ...  WITCHCRAFT\n",
       "3  Mtembo wa bamboyo udafukulidwa ndikutumizidwa ...  WITCHCRAFT\n",
       "4  Anthu akumudzi adatukwanidwa, kuopsezedwa ataf...  WITCHCRAFT"
      ]
     },
     "execution_count": 38,
     "metadata": {},
     "output_type": "execute_result"
    }
   ],
   "source": [
    "df_witchcraft.head()"
   ]
  },
  {
   "cell_type": "code",
   "execution_count": 39,
   "id": "f1274634",
   "metadata": {},
   "outputs": [],
   "source": [
    "df_witchcraft.to_csv('Witchcraft/witch_chichewa.csv',index=False)"
   ]
  }
 ],
 "metadata": {
  "kernelspec": {
   "display_name": "Python 3",
   "language": "python",
   "name": "python3"
  },
  "language_info": {
   "codemirror_mode": {
    "name": "ipython",
    "version": 3
   },
   "file_extension": ".py",
   "mimetype": "text/x-python",
   "name": "python",
   "nbconvert_exporter": "python",
   "pygments_lexer": "ipython3",
   "version": "3.8.8"
  }
 },
 "nbformat": 4,
 "nbformat_minor": 5
}
