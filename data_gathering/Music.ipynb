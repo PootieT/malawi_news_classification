{
 "cells": [
  {
   "cell_type": "markdown",
   "id": "ec0d60fb",
   "metadata": {},
   "source": [
    "# Converts the English Music data to chichewa using Google Translate"
   ]
  },
  {
   "cell_type": "code",
   "execution_count": 28,
   "id": "73400baf",
   "metadata": {},
   "outputs": [],
   "source": [
    "import pandas as pd\n",
    "import requests\n",
    "from typing import List, Dict, Tuple, Optional\n",
    "from tqdm import tqdm\n",
    "from googletrans import Translator\n",
    "from bs4 import BeautifulSoup as bs\n",
    "import re\n",
    "from sklearn.model_selection import train_test_split"
   ]
  },
  {
   "cell_type": "code",
   "execution_count": 13,
   "id": "f59c25ea",
   "metadata": {},
   "outputs": [],
   "source": [
    "# Using readlines()\n",
    "music_df = pd.read_csv('Music/music.csv')"
   ]
  },
  {
   "cell_type": "code",
   "execution_count": 14,
   "id": "7cc065ad",
   "metadata": {},
   "outputs": [
    {
     "data": {
      "text/plain": [
       "(90, 1)"
      ]
     },
     "execution_count": 14,
     "metadata": {},
     "output_type": "execute_result"
    }
   ],
   "source": [
    "music_df.shape"
   ]
  },
  {
   "cell_type": "code",
   "execution_count": 15,
   "id": "0db394ea",
   "metadata": {},
   "outputs": [
    {
     "data": {
      "text/plain": [
       "Text    Gwen Stefani's latest transformation is nothin...\n",
       "Name: 0, dtype: object"
      ]
     },
     "execution_count": 15,
     "metadata": {},
     "output_type": "execute_result"
    }
   ],
   "source": [
    "music_df.iloc[0]"
   ]
  },
  {
   "cell_type": "code",
   "execution_count": 65,
   "id": "581ce503",
   "metadata": {},
   "outputs": [
    {
     "data": {
      "text/plain": [
       "'Flooding has affected over 25,000 people in different parts of the island of Sumatra, Indonesia, over the past week. At least one person has died and another is missing after heavy rain caused a landslide in Aceh Province.Meanwhile 4 people have died in a landslide that destroyed buildings on a roadside in Central Java Province of Java Island.Teams are searching for one person reported missing after a landslide in the remote Rikit Gaib District in Gayo Lues Regency, Aceh Province. One person died in a building destroyed by the landslide that struck after heavy rain late 22 November 2021.Disaster authorities in the country also reported several incidents of flooding across Sumatra Island over the last few days. Flooding struck in North Sumatra Province after heavy rain caused the Padang and Bailang rivers to overflow on 20 November 2021, affecting parts of Tebing Tinggi City, Rambutan, Bajenis, Padang Hilir, and Padang Hulu. According to the ASEAN Disaster Information Network, flood water was up to 1.2 metres deep in some areas. Hundreds of homes were damaged and around 18,430 people affected.Flooding was reported in Indra Makmur in East Aceh Regency is a regency in eastern Aceh Province on 18 November. Around 300 homes were damaged and 1,440 people affected.Flooding in Asahan Regency in North Sumatra Province occurred on the same day after heavy rain caused the Asahan River to overflow. Roads, bridges, crops and 230 houses were damaged and 5,952 people affected.Deadly Landslide in JavaHeavy rain in the neighbouring island of Java has caused some flooding and landslides in particular in Banjarnegara Regency, Central Java Province, on 19 November 2021, where 4 people died after a landslide destroyed buildings near a roadside in Pagentan District. One person was injured and 3 others evacuated.'"
      ]
     },
     "execution_count": 65,
     "metadata": {},
     "output_type": "execute_result"
    }
   ],
   "source": [
    "li[100]"
   ]
  },
  {
   "cell_type": "code",
   "execution_count": 2,
   "id": "b8e5851c",
   "metadata": {},
   "outputs": [],
   "source": [
    "data = pd.read_csv('Data/Train.csv')"
   ]
  },
  {
   "cell_type": "code",
   "execution_count": 3,
   "id": "cf33bfbd",
   "metadata": {},
   "outputs": [
    {
     "data": {
      "text/html": [
       "<div>\n",
       "<style scoped>\n",
       "    .dataframe tbody tr th:only-of-type {\n",
       "        vertical-align: middle;\n",
       "    }\n",
       "\n",
       "    .dataframe tbody tr th {\n",
       "        vertical-align: top;\n",
       "    }\n",
       "\n",
       "    .dataframe thead th {\n",
       "        text-align: right;\n",
       "    }\n",
       "</style>\n",
       "<table border=\"1\" class=\"dataframe\">\n",
       "  <thead>\n",
       "    <tr style=\"text-align: right;\">\n",
       "      <th></th>\n",
       "      <th>ID</th>\n",
       "      <th>Text</th>\n",
       "      <th>Label</th>\n",
       "    </tr>\n",
       "  </thead>\n",
       "  <tbody>\n",
       "    <tr>\n",
       "      <th>0</th>\n",
       "      <td>ID_AASHwXxg</td>\n",
       "      <td>Mwangonde: Khansala wachinyamata Akamati achi...</td>\n",
       "      <td>POLITICS</td>\n",
       "    </tr>\n",
       "    <tr>\n",
       "      <th>1</th>\n",
       "      <td>ID_AGoFySzn</td>\n",
       "      <td>MCP siidakhutire ndi kalembera Chipani cha Ma...</td>\n",
       "      <td>POLITICS</td>\n",
       "    </tr>\n",
       "    <tr>\n",
       "      <th>2</th>\n",
       "      <td>ID_AGrrkBGP</td>\n",
       "      <td>Bungwe la MANEPO Lapempha Boma Liganizire Anth...</td>\n",
       "      <td>HEALTH</td>\n",
       "    </tr>\n",
       "    <tr>\n",
       "      <th>3</th>\n",
       "      <td>ID_AIJeigeG</td>\n",
       "      <td>Ndale zogawanitsa miyambo zanyanya Si zachile...</td>\n",
       "      <td>POLITICS</td>\n",
       "    </tr>\n",
       "    <tr>\n",
       "      <th>4</th>\n",
       "      <td>ID_APMprMbV</td>\n",
       "      <td>Nanga wapolisi ataphofomoka? Masiku ano sichi...</td>\n",
       "      <td>LAW/ORDER</td>\n",
       "    </tr>\n",
       "  </tbody>\n",
       "</table>\n",
       "</div>"
      ],
      "text/plain": [
       "            ID                                               Text      Label\n",
       "0  ID_AASHwXxg   Mwangonde: Khansala wachinyamata Akamati achi...   POLITICS\n",
       "1  ID_AGoFySzn   MCP siidakhutire ndi kalembera Chipani cha Ma...   POLITICS\n",
       "2  ID_AGrrkBGP  Bungwe la MANEPO Lapempha Boma Liganizire Anth...     HEALTH\n",
       "3  ID_AIJeigeG   Ndale zogawanitsa miyambo zanyanya Si zachile...   POLITICS\n",
       "4  ID_APMprMbV   Nanga wapolisi ataphofomoka? Masiku ano sichi...  LAW/ORDER"
      ]
     },
     "execution_count": 3,
     "metadata": {},
     "output_type": "execute_result"
    }
   ],
   "source": [
    "data.head()"
   ]
  },
  {
   "cell_type": "code",
   "execution_count": 4,
   "id": "f3bcde41",
   "metadata": {},
   "outputs": [
    {
     "data": {
      "text/plain": [
       "' Mwangonde: Khansala wachinyamata Akamati achinyamata ndi atsogoleri a mawa, ambiri amaganiza kuti izi ndi nkhambakamwa chabe. Koma achinyamata ena, monga Lusubilo Mwangonde, akukwaniritsa akupherezetsa mawuwa osati pongolota kuti adzakhala, koma kutsogolera kumene chifukwa nthawi yawo yakwana. DAILES BANDA adacheza ndi Mwangonde, khansala wachinyama, yemwe akuimira Jumbo Ward mumzinda wa Mzuzu, motere:  Chisale watuluka nkumangidwanso  Sipakala waimitsa Nyumba ya Malamulo  Pa Wenela pasintha zedi Ali ndi masomphenya: Mwangonde Tikudziweni  Ndine Lusubilo Mwangonde, ndili ndi zaka 27 zakubadwa. Ndinabadwa mbanja la ana asanu ndipo ndine wachinayi kubadwa. Ndimachokera mmudzi mwa Mwamalopa, kwa Paramount Chief Kyungu mboma la Karonga. Sindili pabanja pakadalipano.\\n Mbiri ya maphunziro anu ndi yotani? Maphunziro anga a pulaimale ndidachitira kusukula yapulaiveti ya Viphya mumzinda wa Mzuzu ndipo asekondale ndidachitira pa Phwezi Boys mboma la Rumphi. Ndili ndi diploma ya Accounting ndipo pakadalipano ndikupanga digiri komanso Chartered Accounting kusukulu ya Malawi College of Accountancy (MCA).\\n Mudayamba bwanji zandale? Kuyambira ndili wachichepere, zaka 12, ndakhala ndikukhala mumaudindo a utgogoleri. Ichi ndi china mwa zinthu zomwe zidandilimbikitsa kuti ndikhoza kudzapambana pazisankho. Koma chachikulu chomwe chidandichititsa kuti ndilowe ukhansala chidali chifukwa chakuti ndinkafuna kupereka mpata kwa anthu kuti azitha kuyankhula zakukhosi kwawo polimbikitsa demokalase ndi chitukuko.\\n Ntchito mukugwira ndi zomwe munkayembekezera? Eya, ndiponso ndinkayembekezera zambiri.\\n Masomphenya anu ndi otani pandale? Ine ndine munthu wokhulupirira Mulungu ndipo ndili ndi chikhulupiriro choti Iye ndi amene adzandionetsere zomwe ndikuyera kuchita ndi tsogolo langa.\\n Zinthu zina zomwe mumachita ndi chiyani pambali pa ukhansala? Ndikakhala sindikugwira ntchito yaukhansala ndimakhala ndikuchita bizinesi, nthawi zina ndimakhala ndili kusukulu komwe ndikuchita maphuro anga a digiri. Kuonjezera pamenepo ndili ndi bungwe lomwe ndidayambitsa ndi anzanga ena la Centre for Participatory Democracy lomwe limalimbikitsa demokalase.\\n Zomwe mwakwanitsa ndi zotani? Ndathandiza kuti ntchito yopala misewu ya kudera la Moyale itheke. Misewuyi yakhala nthawi yaitali osapalidwa. Ndidathandiziranso kuti ochita malonda ayambe kumanga mashopu anjerwa ndi kusiya kumangira matabwa kapena zigwagwa. Ndidakwanitsanso kukaimirira khonsolo ya Mzuzu ku Nyumba ya Malamulo. Ndaonanso kuti ntchitoyi yandithandiza kusintha momwe ndimaonera zinthu komanso ndimakumana ndi anthu osiyanasiyana omwe amandiphunzitsa zinthu zambiri.\\n'"
      ]
     },
     "execution_count": 4,
     "metadata": {},
     "output_type": "execute_result"
    }
   ],
   "source": [
    "data['Text'][0]"
   ]
  },
  {
   "cell_type": "code",
   "execution_count": 6,
   "id": "dddbee04",
   "metadata": {},
   "outputs": [
    {
     "data": {
      "text/html": [
       "<div>\n",
       "<style scoped>\n",
       "    .dataframe tbody tr th:only-of-type {\n",
       "        vertical-align: middle;\n",
       "    }\n",
       "\n",
       "    .dataframe tbody tr th {\n",
       "        vertical-align: top;\n",
       "    }\n",
       "\n",
       "    .dataframe thead th {\n",
       "        text-align: right;\n",
       "    }\n",
       "</style>\n",
       "<table border=\"1\" class=\"dataframe\">\n",
       "  <thead>\n",
       "    <tr style=\"text-align: right;\">\n",
       "      <th></th>\n",
       "      <th>ID</th>\n",
       "      <th>Text</th>\n",
       "      <th>Label</th>\n",
       "    </tr>\n",
       "  </thead>\n",
       "  <tbody>\n",
       "    <tr>\n",
       "      <th>264</th>\n",
       "      <td>ID_JiUxaKaa</td>\n",
       "      <td>General Kanene watuluka mndende Mtsogoleri wa...</td>\n",
       "      <td>MUSIC</td>\n",
       "    </tr>\n",
       "    <tr>\n",
       "      <th>448</th>\n",
       "      <td>ID_RMEnVsel</td>\n",
       "      <td>Muva: Kutsitsimutsa anthu mukuimba Lero Lamul...</td>\n",
       "      <td>MUSIC</td>\n",
       "    </tr>\n",
       "    <tr>\n",
       "      <th>459</th>\n",
       "      <td>ID_RnRZqncP</td>\n",
       "      <td>Joyce Mhango: Nyale ya zisudzo Azisudzo mMala...</td>\n",
       "      <td>MUSIC</td>\n",
       "    </tr>\n",
       "    <tr>\n",
       "      <th>485</th>\n",
       "      <td>ID_SUveHyeC</td>\n",
       "      <td>Blessings Cheleuka wa pa JOY FM Amalawi ambir...</td>\n",
       "      <td>MUSIC</td>\n",
       "    </tr>\n",
       "    <tr>\n",
       "      <th>486</th>\n",
       "      <td>ID_SYAUshlS</td>\n",
       "      <td>Kukana kuba Woimba Joseph Nkasa mnyimbo yake ...</td>\n",
       "      <td>MUSIC</td>\n",
       "    </tr>\n",
       "    <tr>\n",
       "      <th>558</th>\n",
       "      <td>ID_UjBNOWfK</td>\n",
       "      <td>Adatengera Lucky Dube: Liwonde Chibwe Oimba a...</td>\n",
       "      <td>MUSIC</td>\n",
       "    </tr>\n",
       "    <tr>\n",
       "      <th>708</th>\n",
       "      <td>ID_agnGBWSy</td>\n",
       "      <td>Kasambara: Kulimbikitsa anthu mkuimba Martha ...</td>\n",
       "      <td>MUSIC</td>\n",
       "    </tr>\n",
       "    <tr>\n",
       "      <th>920</th>\n",
       "      <td>ID_iKBfWyqn</td>\n",
       "      <td>Zig Zero: Mnyamata wa nyimbo za dansi Kuyambi...</td>\n",
       "      <td>MUSIC</td>\n",
       "    </tr>\n",
       "    <tr>\n",
       "      <th>1112</th>\n",
       "      <td>ID_pfoJYlMy</td>\n",
       "      <td>Gwamba wochokera kubanja loimba Mdziko muno m...</td>\n",
       "      <td>MUSIC</td>\n",
       "    </tr>\n",
       "    <tr>\n",
       "      <th>1154</th>\n",
       "      <td>ID_rJHYjLHj</td>\n",
       "      <td>Kasambara: Akhazikitsa chimbale mwezi uno Mar...</td>\n",
       "      <td>MUSIC</td>\n",
       "    </tr>\n",
       "    <tr>\n",
       "      <th>1197</th>\n",
       "      <td>ID_sZJuPUUs</td>\n",
       "      <td>The Rain: Mnyamata wanthetemya Anthu ambiri o...</td>\n",
       "      <td>MUSIC</td>\n",
       "    </tr>\n",
       "    <tr>\n",
       "      <th>1200</th>\n",
       "      <td>ID_sdyzjWsP</td>\n",
       "      <td>Lipy G: Woimba za chinyamata Masiku ano kwadz...</td>\n",
       "      <td>MUSIC</td>\n",
       "    </tr>\n",
       "    <tr>\n",
       "      <th>1228</th>\n",
       "      <td>ID_tVaAamkf</td>\n",
       "      <td>Kwaya ya St. Benadeta Chibavi Ikuyembekezeka K...</td>\n",
       "      <td>MUSIC</td>\n",
       "    </tr>\n",
       "    <tr>\n",
       "      <th>1241</th>\n",
       "      <td>ID_tjUUBaGE</td>\n",
       "      <td>Kusanthula gule wa likwata Likwata ndi mmodzi...</td>\n",
       "      <td>MUSIC</td>\n",
       "    </tr>\n",
       "    <tr>\n",
       "      <th>1275</th>\n",
       "      <td>ID_ueJmOGOZ</td>\n",
       "      <td>Likwata: Amuna aimba ngoma, amayi navina Likw...</td>\n",
       "      <td>MUSIC</td>\n",
       "    </tr>\n",
       "  </tbody>\n",
       "</table>\n",
       "</div>"
      ],
      "text/plain": [
       "               ID                                               Text  Label\n",
       "264   ID_JiUxaKaa   General Kanene watuluka mndende Mtsogoleri wa...  MUSIC\n",
       "448   ID_RMEnVsel   Muva: Kutsitsimutsa anthu mukuimba Lero Lamul...  MUSIC\n",
       "459   ID_RnRZqncP   Joyce Mhango: Nyale ya zisudzo Azisudzo mMala...  MUSIC\n",
       "485   ID_SUveHyeC   Blessings Cheleuka wa pa JOY FM Amalawi ambir...  MUSIC\n",
       "486   ID_SYAUshlS   Kukana kuba Woimba Joseph Nkasa mnyimbo yake ...  MUSIC\n",
       "558   ID_UjBNOWfK   Adatengera Lucky Dube: Liwonde Chibwe Oimba a...  MUSIC\n",
       "708   ID_agnGBWSy   Kasambara: Kulimbikitsa anthu mkuimba Martha ...  MUSIC\n",
       "920   ID_iKBfWyqn   Zig Zero: Mnyamata wa nyimbo za dansi Kuyambi...  MUSIC\n",
       "1112  ID_pfoJYlMy   Gwamba wochokera kubanja loimba Mdziko muno m...  MUSIC\n",
       "1154  ID_rJHYjLHj   Kasambara: Akhazikitsa chimbale mwezi uno Mar...  MUSIC\n",
       "1197  ID_sZJuPUUs   The Rain: Mnyamata wanthetemya Anthu ambiri o...  MUSIC\n",
       "1200  ID_sdyzjWsP   Lipy G: Woimba za chinyamata Masiku ano kwadz...  MUSIC\n",
       "1228  ID_tVaAamkf  Kwaya ya St. Benadeta Chibavi Ikuyembekezeka K...  MUSIC\n",
       "1241  ID_tjUUBaGE   Kusanthula gule wa likwata Likwata ndi mmodzi...  MUSIC\n",
       "1275  ID_ueJmOGOZ   Likwata: Amuna aimba ngoma, amayi navina Likw...  MUSIC"
      ]
     },
     "execution_count": 6,
     "metadata": {},
     "output_type": "execute_result"
    }
   ],
   "source": [
    "data.loc[data['Label'] == 'MUSIC']"
   ]
  },
  {
   "cell_type": "code",
   "execution_count": 7,
   "id": "18bf6ed5",
   "metadata": {},
   "outputs": [],
   "source": [
    "from googletrans import Translator"
   ]
  },
  {
   "cell_type": "code",
   "execution_count": 9,
   "id": "d58aa818",
   "metadata": {},
   "outputs": [],
   "source": [
    "def get_free_proxies():\n",
    "    url = \"https://free-proxy-list.net/\"\n",
    "    # get the HTTP response and construct soup object\n",
    "    soup = bs(requests.get(url).content, \"html.parser\")\n",
    "    proxies = []\n",
    "    #print(soup)\n",
    "    for row in soup.find(\"table\", attrs={\"class\": \"table table-striped table-bordered\"}).find_all(\"tr\")[1:]:\n",
    "        tds = row.find_all(\"td\")\n",
    "        try:\n",
    "            ip = tds[0].text.strip()\n",
    "            port = tds[1].text.strip()\n",
    "            host = f\"{ip}:{port}\"\n",
    "            proxies.append(host)\n",
    "        except IndexError:\n",
    "            continue\n",
    "    return proxies"
   ]
  },
  {
   "cell_type": "code",
   "execution_count": 10,
   "id": "4de263d2",
   "metadata": {},
   "outputs": [],
   "source": [
    "translator = Translator(proxies=get_free_proxies())"
   ]
  },
  {
   "cell_type": "code",
   "execution_count": 11,
   "id": "ddc60a0b",
   "metadata": {},
   "outputs": [
    {
     "data": {
      "text/plain": [
       "' Mwangonde: Khansala wachinyamata Akamati achinyamata ndi atsogoleri a mawa, ambiri amaganiza kuti izi ndi nkhambakamwa chabe. Koma achinyamata ena, monga Lusubilo Mwangonde, akukwaniritsa akupherezetsa mawuwa osati pongolota kuti adzakhala, koma kutsogolera kumene chifukwa nthawi yawo yakwana. DAILES BANDA adacheza ndi Mwangonde, khansala wachinyama, yemwe akuimira Jumbo Ward mumzinda wa Mzuzu, motere:  Chisale watuluka nkumangidwanso  Sipakala waimitsa Nyumba ya Malamulo  Pa Wenela pasintha zedi Ali ndi masomphenya: Mwangonde Tikudziweni  Ndine Lusubilo Mwangonde, ndili ndi zaka 27 zakubadwa. Ndinabadwa mbanja la ana asanu ndipo ndine wachinayi kubadwa. Ndimachokera mmudzi mwa Mwamalopa, kwa Paramount Chief Kyungu mboma la Karonga. Sindili pabanja pakadalipano.\\n Mbiri ya maphunziro anu ndi yotani? Maphunziro anga a pulaimale ndidachitira kusukula yapulaiveti ya Viphya mumzinda wa Mzuzu ndipo asekondale ndidachitira pa Phwezi Boys mboma la Rumphi. Ndili ndi diploma ya Accounting ndipo pakadalipano ndikupanga digiri komanso Chartered Accounting kusukulu ya Malawi College of Accountancy (MCA).\\n Mudayamba bwanji zandale? Kuyambira ndili wachichepere, zaka 12, ndakhala ndikukhala mumaudindo a utgogoleri. Ichi ndi china mwa zinthu zomwe zidandilimbikitsa kuti ndikhoza kudzapambana pazisankho. Koma chachikulu chomwe chidandichititsa kuti ndilowe ukhansala chidali chifukwa chakuti ndinkafuna kupereka mpata kwa anthu kuti azitha kuyankhula zakukhosi kwawo polimbikitsa demokalase ndi chitukuko.\\n Ntchito mukugwira ndi zomwe munkayembekezera? Eya, ndiponso ndinkayembekezera zambiri.\\n Masomphenya anu ndi otani pandale? Ine ndine munthu wokhulupirira Mulungu ndipo ndili ndi chikhulupiriro choti Iye ndi amene adzandionetsere zomwe ndikuyera kuchita ndi tsogolo langa.\\n Zinthu zina zomwe mumachita ndi chiyani pambali pa ukhansala? Ndikakhala sindikugwira ntchito yaukhansala ndimakhala ndikuchita bizinesi, nthawi zina ndimakhala ndili kusukulu komwe ndikuchita maphuro anga a digiri. Kuonjezera pamenepo ndili ndi bungwe lomwe ndidayambitsa ndi anzanga ena la Centre for Participatory Democracy lomwe limalimbikitsa demokalase.\\n Zomwe mwakwanitsa ndi zotani? Ndathandiza kuti ntchito yopala misewu ya kudera la Moyale itheke. Misewuyi yakhala nthawi yaitali osapalidwa. Ndidathandiziranso kuti ochita malonda ayambe kumanga mashopu anjerwa ndi kusiya kumangira matabwa kapena zigwagwa. Ndidakwanitsanso kukaimirira khonsolo ya Mzuzu ku Nyumba ya Malamulo. Ndaonanso kuti ntchitoyi yandithandiza kusintha momwe ndimaonera zinthu komanso ndimakumana ndi anthu osiyanasiyana omwe amandiphunzitsa zinthu zambiri.\\n'"
      ]
     },
     "execution_count": 11,
     "metadata": {},
     "output_type": "execute_result"
    }
   ],
   "source": [
    "data['Text'][0]"
   ]
  },
  {
   "cell_type": "code",
   "execution_count": 12,
   "id": "5640a4a2",
   "metadata": {},
   "outputs": [
    {
     "data": {
      "text/plain": [
       "\"Mwangonde: A young councilor When they say young people are the leaders of tomorrow, many think that this is just a myth. But some young people, such as Lusubilo Mwangonde, are fulfilling this promise by not just pretending to be, but taking the lead because their time has come. DAILES BANDA spoke to Mwangonde, a wildlife councilor representing Jumbo Ward in Mzuzu, as follows: Chisale has been re-arrested Sipakala has suspended Parliament in Wenela I was born in a family of five children and am the fourth born. I come from Mwamalopa village, Paramount Chief Kyungu in Karonga district. I'm not married yet.\\n What is your educational background? My primary education was at Viphya Private School in Mzuzu and my high school education was at Phwezi Boys' Rumphi District. I have a Diploma in Accounting and am currently pursuing a degree and Chartered Accounting at the Malawi College of Accountancy (MCA).\\n How did you get into politics? Ever since I was a teenager, 12 years old, I have been in leadership positions. This is one of the things that inspired me to be able to win elections. But the main reason I went to the council was because I wanted to give people a chance to express their views in promoting democracy and development.\\n Are you working on what you expected? Yeah, and I was expecting a lot more.\\n What is your political vision? I am a person who believes in God and has faith that He is the one who will show me what I should do with my future.\\n What are some of the things you do besides counseling? When I don't work as a councilor I do business, sometimes I go to school where I do my degree. In addition I have an organization founded by some of my colleagues the Center for Participatory Democracy that promotes democracy.\\n What are your achievements? I helped make the Moyale road construction project possible. The roads have long been unpaved. I also helped retailers to start building brick shops and to stop building timber or masonry. I was also able to represent Mzuzu in Parliament. I also find that this work has helped me to change my attitude and to meet different people who teach me a lot of things.\""
      ]
     },
     "execution_count": 12,
     "metadata": {},
     "output_type": "execute_result"
    }
   ],
   "source": [
    "translator.translate(data['Text'][0],src='ny',dest='en').text"
   ]
  },
  {
   "cell_type": "code",
   "execution_count": 18,
   "id": "1d1a9c6c",
   "metadata": {},
   "outputs": [
    {
     "name": "stdout",
     "output_type": "stream",
     "text": [
      "Gwen Stefani's latest transformation is nothing short of B-A-N-A-N-A-S.\n",
      "\n",
      "On Monday, the pop singer posted a photo of herself decked out in an ivory cowboy hat, bright-red bandana and flannel shirt as she gazes off into the distance. Never fear, though: She kept her signature California style in tact with her diamond jewelry, wearing a diamond cross and choker spelling out GXVE, the name of her cosmetics line GXVE Beauty.\n",
      "\n",
      "Stefani looks wistful in the snap, but captioned it simply using a smiling cowboy and a sparkle emoji, adding   before signing off with a gx.\n",
      "\n",
      "While The Voice coach didn't specify where, exactly, in Oklahoma she'd brought her three boys for spring break, her husband Blake Shelton's beloved homestead Ten Point Ranch — where the couple held their intimate 2021 nuptials — is located outside the rural town of Tishomingo.\n",
      "\n",
      "Just last month, Stefani poked fun at her husband's cowboy roots by raiding his closet set to the soundtrack of his 2021 single Come Back as a Country Boy.\n",
      "\n",
      "More recently, she raved about her relationship with the country star in an April 6 appearance on The Ellen DeGeneres Show, telling the talk show host about her wedding, It got really small. I had this fantasy of building bleachers, but it just got smaller and smaller…and the Lord works in mysterious ways. It was like the perfect amount of people. It was so intimate, it was so exactly what it needed to be. And not just the wedding, but the marriage is so fun and I’m so into it and I feel very blessed.\n",
      "\n",
      "Check out Stefani's casual cowgirl look below.\n",
      "\n",
      "\n",
      "On the way down (the aisle)! Ryan Cabrera married WWE star Alexa Bliss on Saturday in a star-studded ceremony in Palm Desert, Calif.\n",
      "\n",
      "The singer's nuptials were straight out of a pop-music fairytale, complete with Avril Lavigne as a bridesmaid and a guest list that included *NSYNC's Lance Bass, Chris Kirkpatrick and Joey Fatone, as well as O-Town's Ashley Parker Angel, Stephanie Beatriz of Encanto, Seth Green and more.\n",
      "\n",
      "It's very us, Cabrera dished to People on the morning of the wedding. The whole thing's meant to bring out our personalities, and we are far from just normal.\n",
      "\n",
      "The newlyweds incorporated plenty of music into their big day as well, from the bride walking down the aisle at luxury retreat Kempa Villa to Cabrera's song Worth It — which the star penned specially for his November 2020 proposal — to a planned first dance to James Arthur's Falling Like the Stars, though the singer-songwriter surprised his new wife at the last second by switching the song to an acoustic version of Eye to Eye.\n",
      "\n",
      "During the reception, guests were also treated to entertainment by '90s/'00s cover band Sega Genocide as well as sets by DJ White Shadow and DJ Charan. However, the real highlight of the evening was when Bass, Kirkpatrick and Fatone jumped onstage for an impromptu *NSYNC mini-reunion followed by the groom himself taking over the mic.\n",
      "\n",
      "Cabrera had a string of mid-'00s hits including On the Way Down, True, Shine On and I Will Remember You, and his most recent single, Inside Your Mind, was released back in 2019. That same year, he appeared on season 1 of The Hills: New Beginnings alongside ex-girlfriend Audrina Patridge, just months before meeting Bliss.\n",
      "\n",
      "Check out pictures from Cabrera and Bliss' big day here, as well as below.\n",
      "\n",
      "\n",
      "\n",
      "\n",
      "\n",
      "\n",
      "\n",
      "\n",
      "\n",
      "\n",
      "\n",
      " \n",
      "Veteran J-pop band BUMP OF CHICKEN digitally dropped its new single “Chronostasis” on Monday (April 11).\n",
      "\n",
      "Chronostasis” is the theme of this year’s Detective Conan (Case Closed) movie, subtitled The Bride of Halloween. Set in Tokyo’s Shibuya area during the busy Halloween season, the 25th installment in the long-running franchise depicts clashes with the perpetrator of past serial bombings and a mysterious figure in disguise, and an unprecedented crisis that confronts the protagonist and his peers.\n",
      "\n",
      "\n",
      "\n",
      "The digital jacket artwork was designed by VERDY, who has been responsible for much of the four-man band’s artwork in recent years. It depicts an abstract clock inspired by the music.\n",
      "Lizzo finally launched her clothing line Yitty on Tuesday (April 12), a collection of shapewear boasting an extensive range of sizes and styles made for every damn body. But without the help of a member of the 33-year-old hitmaker's family, one essential part of the brand wouldn't even exist: its name.\n",
      "\n",
      "Paying tribute to her late aunt in an Instagram post on the day of Yitty's launch, Lizzo revealed that the brand's title actually originated as a childhood nickname made up by her mom's sister. Auntie… I miss you so much today, Lizzo began, captioning an old backstage photo of her mother and aunt smiling on either side of her. Yitty just dropped and I know ur cracking jokes in heaven. Thank you for giving me the nickname Yitty.\n",
      "\n",
      "The woman she wrote about is most likely her aunt Carmen, whom she previously honored on Mother's Day in 2020. It used to be the nickname that made yell at my brother sister when they teased me… and now it’s the nickname that makes me feel proud, she continued. It's the nickname that makes me feel connected to my family. And now… the world is connected to me, auntie!!!!\n",
      "\n",
      "The world is indeed tuned in to Lizzo these days, be it through clothes, music or television. The three-time Grammy winner is slated to host Saturday Night Live this Saturday (April 16), has a new single called About Damn Time lined up to drop Thursday (April 14), and is fresh off the late March release of her Amazon Prime competition series Watch Out for the Big Grrrls.\n",
      "\n",
      "You are still my favorite person, I’m doing my best impression of you right now to get me through this SNL rehearsal without crying, she added. I love you. Thank you. You got the world saying Yitty! You always been the trendsetter.\n",
      "\n",
      "And before she signed off, the Rumors musician made good on her promise that her new clothing line has styles for everybody. PS… I know you woulda been rockin the all white leggings and bra lookin shaaaaaaaaaarp, Lizzo concluded her message.\n",
      "\n",
      "See Lizzo's sweet post honoring her late aunt here.\n",
      "Kim Kardashian opened up in a new podcast interview on Tuesday (April 12) about her split from Kanye West.\n",
      "\n",
      "We went about eight months without even speaking to each other at the beginning of the divorce, she shared while appearing on the podcast Not Skinny But Not Fat before revealing the estranged spouses got back on speaking terms in time for Ye's series of Donda listening parties. He would still see the kids and stuff, just him and I took a minute of not talking. And I think it all, in relationships, it’ll be like that. I only hope for, I hope we are the 'co-parenting goals' at the end of the day.'\n",
      "\n",
      "During the chat, the SKIMS mogul also cited her and West's warring fanbases as making the pair's high-profile split all the more difficult. He has such a supportive and amazing, strong fanbase, she said. Just because people aren’t together anymore doesn’t mean now those people have to not like me, and my fanbase doesn’t have to not like him.\n",
      "\n",
      "She continued, It’s just not like that, there shouldn’t be all this external beef. It’s hard enough already for families to go through a divorce, and especially in the public eye…What sucks is everyone’s gonna see that at some point it’s gonna be all good again, so there’s no need to get involved because there’s so much love there.\n",
      "\n",
      "Kardashian then went on to detail the sparks that flew between her and Pete Davidson when she hosted Saturday Night Live last October.\n",
      "\n",
      "His story is that he had been asking around for my number, and everyone wasn’t sure, you know, 'Is she going through a divorce?' And he just wanted to wait a little bit, she said of the comedian wanting to pursue her, adding that she felt a little zing when they kissed during a sketch as Aladdin and Princess Jasmine.\n",
      "\n",
      "It wasn’t anything like a super-crazy feeling, it was just like, 'Hmm,' she said. Then I was like, 'Wow, I really haven’t kissed anyone else in 10 years, so maybe I’m just being stupid and it’s just nothing, just a stage kiss.' And then a few days later I was like, 'Hmm, there is some BDE action, I just gotta get myself out there.'\n",
      "\n",
      "Stream Kardashian's full episode of Not Skinny But Not Fat here.\n"
     ]
    }
   ],
   "source": [
    "for i,line in enumerate(music_df['Text']):\n",
    "    print(line)\n",
    "    if(i>3):\n",
    "        break"
   ]
  },
  {
   "cell_type": "code",
   "execution_count": 20,
   "id": "48226f5e",
   "metadata": {},
   "outputs": [],
   "source": [
    "li_chi = []\n",
    "for i,phrase in enumerate(music_df['Text']):\n",
    "    li_chi.append(translator.translate(phrase,src='en',dest='ny').text)\n",
    "    #break"
   ]
  },
  {
   "cell_type": "code",
   "execution_count": 21,
   "id": "ca45d063",
   "metadata": {},
   "outputs": [
    {
     "data": {
      "text/plain": [
       "90"
      ]
     },
     "execution_count": 21,
     "metadata": {},
     "output_type": "execute_result"
    }
   ],
   "source": [
    "len(li_chi)"
   ]
  },
  {
   "cell_type": "code",
   "execution_count": 23,
   "id": "3591e7c1",
   "metadata": {},
   "outputs": [
    {
     "data": {
      "text/plain": [
       "\"Tsopano popeza zaka 13 zachitetezo chake zathetsedwa, Britney Spears akhoza kusangalala ndi tinthu tating'ono m'moyo zomwe ena amaziona mopepuka - monga kuyendetsa galimoto.\\n\\nM'nkhani yake yaposachedwa ya Instagram Lachinayi (Epulo 7), nyenyezi ya pop idagawana malingaliro ake pa moyo wake ngati mkazi waufulu, poganizira za nthawi yomwe zochita zake za tsiku ndi tsiku zimawoneka zosiyana kwambiri. Mukatha kuyendetsa nokha ....ndipo pitilizani !!!! Zikomo kwa wina aliyense koma ine pozindikira kutenga ufulu wonse womwe umapatsa mkazi chidaliro sizolakwika ... ndi zachiwerewere !!!! adalemba limodzi ndi kanema akuyesa zovala zosiyanasiyana. Banja langa ANALIBE DZIWANIZO losandilola kupita kumalo opangira spa ... kuyendetsa galimoto yangayanga ... kutuluka pakhomo langa kunali kolakwika ... ndipo sankadziwa kuti kunali kolakwika kunyamula mkazi pampando kwa maola 10 tsiku!!!!\\n\\nAdapitilizabe kupereka uthenga kwa banja lake, chala chapakati chala emojis. Pss ... abale ndi abwenzi ... NDIKUTULUKA MAKUMI Psychology pakutha kuyendetsa nokha chaka chatha !!! Sindikumvanso ngati mayi wokalamba wopanda thandizo !!! ZIKOMO pondipatsa zomwe sindinagwirepo ntchito ... moyo ... ufulu ... khalidwe kupyolera mu chidaliro !!! anawonjezera. Ngakhale palibe munthu m'modzi amene adatulutsa dzanja ... Ndiyenera kunenanso LERO ndipo moona mtima mwina mpaka tsiku lomwe ndidzamwalire koma mwatsoka tsopano bunny [bunny emoji] INE ali moyo ... sindikupita kulikonse kotero tumizani chikondi chonsecho molondola. kumbuyo [emojis chala chapakati].\\n\\nZikomo Yesu pomvetsetsa zamoyo zomwe ndikumva ndi liwiro la Mulungu !!! anamaliza motero. Zikomo pondilola kuti ndidzuke lero ndikukumbukira mtengo wanga komanso kufunika kwanga !!! Ngakhale izi ndizowopseza 100 panthawiyi chifukwa ndidasinthidwa kukhulupirira kuti sindidali wofunika !!! Ndiye tsopano popeza ndikudziwa ndipo ndikukhulupirira kuti tonse tikuyamba kumvetsetsa BWINO KWAMBIRI ... mukuganiza chiyani ??? [emojis chala chapakati] !!!\\n\\nMu Novembala 2021, udindo woteteza\\xa0Spears udathetsedwa ndi woweruza wa ku Los Angeles pambuyo pa kukakamizidwa kwa miyezi ingapo ndi gulu linalake. Onani chithunzi chatsopano cha nyenyezi ya Instagram pansipa.\\n\\n\\n\\n\""
      ]
     },
     "execution_count": 23,
     "metadata": {},
     "output_type": "execute_result"
    }
   ],
   "source": [
    "li_chi[80]"
   ]
  },
  {
   "cell_type": "code",
   "execution_count": 24,
   "id": "de64e391",
   "metadata": {},
   "outputs": [],
   "source": [
    "df_music = pd.DataFrame(li_chi, columns =['Text'])\n",
    "df_music['Label'] = 'MUSIC'\n",
    "#df_flood['ID'] = [i for i in range(len(li_chi))]"
   ]
  },
  {
   "cell_type": "code",
   "execution_count": 25,
   "id": "9b355569",
   "metadata": {},
   "outputs": [
    {
     "data": {
      "text/html": [
       "<div>\n",
       "<style scoped>\n",
       "    .dataframe tbody tr th:only-of-type {\n",
       "        vertical-align: middle;\n",
       "    }\n",
       "\n",
       "    .dataframe tbody tr th {\n",
       "        vertical-align: top;\n",
       "    }\n",
       "\n",
       "    .dataframe thead th {\n",
       "        text-align: right;\n",
       "    }\n",
       "</style>\n",
       "<table border=\"1\" class=\"dataframe\">\n",
       "  <thead>\n",
       "    <tr style=\"text-align: right;\">\n",
       "      <th></th>\n",
       "      <th>Text</th>\n",
       "      <th>Label</th>\n",
       "    </tr>\n",
       "  </thead>\n",
       "  <tbody>\n",
       "    <tr>\n",
       "      <th>0</th>\n",
       "      <td>Kusintha kwaposachedwa kwa Gwen Stefani sikung...</td>\n",
       "      <td>MUSIC</td>\n",
       "    </tr>\n",
       "    <tr>\n",
       "      <th>1</th>\n",
       "      <td>Panjira yotsika (mnjira)! Ryan Cabrera anakwat...</td>\n",
       "      <td>MUSIC</td>\n",
       "    </tr>\n",
       "    <tr>\n",
       "      <th>2</th>\n",
       "      <td>Gulu lankhondo lakale la J-pop BUMP OF CHICKEN...</td>\n",
       "      <td>MUSIC</td>\n",
       "    </tr>\n",
       "    <tr>\n",
       "      <th>3</th>\n",
       "      <td>Lizzo potsiriza adakhazikitsa zovala zake Yitt...</td>\n",
       "      <td>MUSIC</td>\n",
       "    </tr>\n",
       "    <tr>\n",
       "      <th>4</th>\n",
       "      <td>Kim Kardashian adatsegula mu zokambirana zatso...</td>\n",
       "      <td>MUSIC</td>\n",
       "    </tr>\n",
       "  </tbody>\n",
       "</table>\n",
       "</div>"
      ],
      "text/plain": [
       "                                                Text  Label\n",
       "0  Kusintha kwaposachedwa kwa Gwen Stefani sikung...  MUSIC\n",
       "1  Panjira yotsika (mnjira)! Ryan Cabrera anakwat...  MUSIC\n",
       "2  Gulu lankhondo lakale la J-pop BUMP OF CHICKEN...  MUSIC\n",
       "3  Lizzo potsiriza adakhazikitsa zovala zake Yitt...  MUSIC\n",
       "4  Kim Kardashian adatsegula mu zokambirana zatso...  MUSIC"
      ]
     },
     "execution_count": 25,
     "metadata": {},
     "output_type": "execute_result"
    }
   ],
   "source": [
    "df_music.head()"
   ]
  },
  {
   "cell_type": "code",
   "execution_count": 43,
   "id": "f1274634",
   "metadata": {},
   "outputs": [],
   "source": [
    "df_music.to_csv('Music/music_chichewa.csv',index=False)"
   ]
  }
 ],
 "metadata": {
  "kernelspec": {
   "display_name": "Python 3",
   "language": "python",
   "name": "python3"
  },
  "language_info": {
   "codemirror_mode": {
    "name": "ipython",
    "version": 3
   },
   "file_extension": ".py",
   "mimetype": "text/x-python",
   "name": "python",
   "nbconvert_exporter": "python",
   "pygments_lexer": "ipython3",
   "version": "3.8.8"
  }
 },
 "nbformat": 4,
 "nbformat_minor": 5
}
