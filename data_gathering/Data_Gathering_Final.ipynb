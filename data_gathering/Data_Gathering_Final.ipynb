{
  "nbformat": 4,
  "nbformat_minor": 0,
  "metadata": {
    "colab": {
      "name": "Data_Gathering_Final.ipynb",
      "provenance": [],
      "collapsed_sections": []
    },
    "kernelspec": {
      "name": "python3",
      "display_name": "Python 3"
    },
    "language_info": {
      "name": "python"
    }
  },
  "cells": [
    {
      "cell_type": "markdown",
      "source": [
        "# Uses beautifulsoup to gather web data for Health, wildlife, witchcraft, music, flooding was manually gathered by going onto https://floodlist.com/america/colombia-landslide-narino-april-2022"
      ],
      "metadata": {
        "id": "XZVylyuhLPSw"
      }
    },
    {
      "cell_type": "code",
      "source": [
        "from google.colab import drive\n",
        "drive.mount('/content/drive')\n",
        "folder_ = 'drive/MyDrive/Masters/Year_1/Semester_2/CS_505/Project/Data/'\n",
        "data_links = 'drive/MyDrive/Masters/Year_1/Semester_2/CS_505/Project/Links/'"
      ],
      "metadata": {
        "colab": {
          "base_uri": "https://localhost:8080/"
        },
        "id": "GwbQfDYwwZ28",
        "outputId": "6cb302fe-70db-412f-d453-eafcc09b4d87"
      },
      "execution_count": null,
      "outputs": [
        {
          "output_type": "stream",
          "name": "stdout",
          "text": [
            "Mounted at /content/drive\n"
          ]
        }
      ]
    },
    {
      "cell_type": "code",
      "execution_count": null,
      "metadata": {
        "id": "PqjDPPDpwJx8"
      },
      "outputs": [],
      "source": [
        "import pandas as pd\n",
        "import requests\n",
        "from bs4 import BeautifulSoup\n",
        "import re"
      ]
    },
    {
      "cell_type": "code",
      "source": [
        "df = pd.read_csv(folder_ + \"train_google_translated.csv\")"
      ],
      "metadata": {
        "id": "dCUfSsqrwRFG"
      },
      "execution_count": null,
      "outputs": []
    },
    {
      "cell_type": "code",
      "source": [
        "df.head()"
      ],
      "metadata": {
        "colab": {
          "base_uri": "https://localhost:8080/",
          "height": 206
        },
        "id": "98XsBuA3wtYQ",
        "outputId": "62c9ea65-905f-4016-c9e5-075adb782b21"
      },
      "execution_count": null,
      "outputs": [
        {
          "output_type": "execute_result",
          "data": {
            "text/plain": [
              "   Unnamed: 0            ID  \\\n",
              "0           0   ID_AASHwXxg   \n",
              "1           1   ID_AGoFySzn   \n",
              "2           2   ID_AGrrkBGP   \n",
              "3           3   ID_AIJeigeG   \n",
              "4           4   ID_APMprMbV   \n",
              "\n",
              "                                                Text         Label  perplexity  \n",
              "0  Mwangonde: A young councilor When it comes to ...      POLITICS   42.201439  \n",
              "1  The MCP is dissatisfied with the registration ...      POLITICS   29.754675  \n",
              "2   MANEPO has called on government to consider o...        HEALTH   30.653727  \n",
              "3  Extremist politics It is not uncommon to hear ...      POLITICS   36.026310  \n",
              "4   What if the police are unconscious? Nowadays ...   LAW / ORDER   28.370922  "
            ],
            "text/html": [
              "\n",
              "  <div id=\"df-b0a1ae3a-4fc1-4396-9147-5e9c9a09d4a9\">\n",
              "    <div class=\"colab-df-container\">\n",
              "      <div>\n",
              "<style scoped>\n",
              "    .dataframe tbody tr th:only-of-type {\n",
              "        vertical-align: middle;\n",
              "    }\n",
              "\n",
              "    .dataframe tbody tr th {\n",
              "        vertical-align: top;\n",
              "    }\n",
              "\n",
              "    .dataframe thead th {\n",
              "        text-align: right;\n",
              "    }\n",
              "</style>\n",
              "<table border=\"1\" class=\"dataframe\">\n",
              "  <thead>\n",
              "    <tr style=\"text-align: right;\">\n",
              "      <th></th>\n",
              "      <th>Unnamed: 0</th>\n",
              "      <th>ID</th>\n",
              "      <th>Text</th>\n",
              "      <th>Label</th>\n",
              "      <th>perplexity</th>\n",
              "    </tr>\n",
              "  </thead>\n",
              "  <tbody>\n",
              "    <tr>\n",
              "      <th>0</th>\n",
              "      <td>0</td>\n",
              "      <td>ID_AASHwXxg</td>\n",
              "      <td>Mwangonde: A young councilor When it comes to ...</td>\n",
              "      <td>POLITICS</td>\n",
              "      <td>42.201439</td>\n",
              "    </tr>\n",
              "    <tr>\n",
              "      <th>1</th>\n",
              "      <td>1</td>\n",
              "      <td>ID_AGoFySzn</td>\n",
              "      <td>The MCP is dissatisfied with the registration ...</td>\n",
              "      <td>POLITICS</td>\n",
              "      <td>29.754675</td>\n",
              "    </tr>\n",
              "    <tr>\n",
              "      <th>2</th>\n",
              "      <td>2</td>\n",
              "      <td>ID_AGrrkBGP</td>\n",
              "      <td>MANEPO has called on government to consider o...</td>\n",
              "      <td>HEALTH</td>\n",
              "      <td>30.653727</td>\n",
              "    </tr>\n",
              "    <tr>\n",
              "      <th>3</th>\n",
              "      <td>3</td>\n",
              "      <td>ID_AIJeigeG</td>\n",
              "      <td>Extremist politics It is not uncommon to hear ...</td>\n",
              "      <td>POLITICS</td>\n",
              "      <td>36.026310</td>\n",
              "    </tr>\n",
              "    <tr>\n",
              "      <th>4</th>\n",
              "      <td>4</td>\n",
              "      <td>ID_APMprMbV</td>\n",
              "      <td>What if the police are unconscious? Nowadays ...</td>\n",
              "      <td>LAW / ORDER</td>\n",
              "      <td>28.370922</td>\n",
              "    </tr>\n",
              "  </tbody>\n",
              "</table>\n",
              "</div>\n",
              "      <button class=\"colab-df-convert\" onclick=\"convertToInteractive('df-b0a1ae3a-4fc1-4396-9147-5e9c9a09d4a9')\"\n",
              "              title=\"Convert this dataframe to an interactive table.\"\n",
              "              style=\"display:none;\">\n",
              "        \n",
              "  <svg xmlns=\"http://www.w3.org/2000/svg\" height=\"24px\"viewBox=\"0 0 24 24\"\n",
              "       width=\"24px\">\n",
              "    <path d=\"M0 0h24v24H0V0z\" fill=\"none\"/>\n",
              "    <path d=\"M18.56 5.44l.94 2.06.94-2.06 2.06-.94-2.06-.94-.94-2.06-.94 2.06-2.06.94zm-11 1L8.5 8.5l.94-2.06 2.06-.94-2.06-.94L8.5 2.5l-.94 2.06-2.06.94zm10 10l.94 2.06.94-2.06 2.06-.94-2.06-.94-.94-2.06-.94 2.06-2.06.94z\"/><path d=\"M17.41 7.96l-1.37-1.37c-.4-.4-.92-.59-1.43-.59-.52 0-1.04.2-1.43.59L10.3 9.45l-7.72 7.72c-.78.78-.78 2.05 0 2.83L4 21.41c.39.39.9.59 1.41.59.51 0 1.02-.2 1.41-.59l7.78-7.78 2.81-2.81c.8-.78.8-2.07 0-2.86zM5.41 20L4 18.59l7.72-7.72 1.47 1.35L5.41 20z\"/>\n",
              "  </svg>\n",
              "      </button>\n",
              "      \n",
              "  <style>\n",
              "    .colab-df-container {\n",
              "      display:flex;\n",
              "      flex-wrap:wrap;\n",
              "      gap: 12px;\n",
              "    }\n",
              "\n",
              "    .colab-df-convert {\n",
              "      background-color: #E8F0FE;\n",
              "      border: none;\n",
              "      border-radius: 50%;\n",
              "      cursor: pointer;\n",
              "      display: none;\n",
              "      fill: #1967D2;\n",
              "      height: 32px;\n",
              "      padding: 0 0 0 0;\n",
              "      width: 32px;\n",
              "    }\n",
              "\n",
              "    .colab-df-convert:hover {\n",
              "      background-color: #E2EBFA;\n",
              "      box-shadow: 0px 1px 2px rgba(60, 64, 67, 0.3), 0px 1px 3px 1px rgba(60, 64, 67, 0.15);\n",
              "      fill: #174EA6;\n",
              "    }\n",
              "\n",
              "    [theme=dark] .colab-df-convert {\n",
              "      background-color: #3B4455;\n",
              "      fill: #D2E3FC;\n",
              "    }\n",
              "\n",
              "    [theme=dark] .colab-df-convert:hover {\n",
              "      background-color: #434B5C;\n",
              "      box-shadow: 0px 1px 3px 1px rgba(0, 0, 0, 0.15);\n",
              "      filter: drop-shadow(0px 1px 2px rgba(0, 0, 0, 0.3));\n",
              "      fill: #FFFFFF;\n",
              "    }\n",
              "  </style>\n",
              "\n",
              "      <script>\n",
              "        const buttonEl =\n",
              "          document.querySelector('#df-b0a1ae3a-4fc1-4396-9147-5e9c9a09d4a9 button.colab-df-convert');\n",
              "        buttonEl.style.display =\n",
              "          google.colab.kernel.accessAllowed ? 'block' : 'none';\n",
              "\n",
              "        async function convertToInteractive(key) {\n",
              "          const element = document.querySelector('#df-b0a1ae3a-4fc1-4396-9147-5e9c9a09d4a9');\n",
              "          const dataTable =\n",
              "            await google.colab.kernel.invokeFunction('convertToInteractive',\n",
              "                                                     [key], {});\n",
              "          if (!dataTable) return;\n",
              "\n",
              "          const docLinkHtml = 'Like what you see? Visit the ' +\n",
              "            '<a target=\"_blank\" href=https://colab.research.google.com/notebooks/data_table.ipynb>data table notebook</a>'\n",
              "            + ' to learn more about interactive tables.';\n",
              "          element.innerHTML = '';\n",
              "          dataTable['output_type'] = 'display_data';\n",
              "          await google.colab.output.renderOutput(dataTable, element);\n",
              "          const docLink = document.createElement('div');\n",
              "          docLink.innerHTML = docLinkHtml;\n",
              "          element.appendChild(docLink);\n",
              "        }\n",
              "      </script>\n",
              "    </div>\n",
              "  </div>\n",
              "  "
            ]
          },
          "metadata": {},
          "execution_count": 4
        }
      ]
    },
    {
      "cell_type": "code",
      "source": [
        "df[\"Label\"].value_counts()"
      ],
      "metadata": {
        "colab": {
          "base_uri": "https://localhost:8080/"
        },
        "id": "TKfe-OWMw1ZE",
        "outputId": "c10fdebc-bc0b-4bd3-c7bf-4e4ec32ef4f5"
      },
      "execution_count": null,
      "outputs": [
        {
          "output_type": "execute_result",
          "data": {
            "text/plain": [
              "POLITICS                   260\n",
              "SOCIAL ISSUES              127\n",
              "RELIGION                   108\n",
              "LAW/ORDER                  102\n",
              "HEALTH                      96\n",
              "SOCIAL                      84\n",
              "ECONOMY                     83\n",
              "FARMING                     74\n",
              " SOCIAL                     68\n",
              "SPORTS                      46\n",
              " RELIGION                   39\n",
              "EDUCATION                   38\n",
              "RELATIONSHIPS               36\n",
              " HEALTH                     31\n",
              "WILDLIFE/ENVIRONMENT        27\n",
              "LOCALCHIEFS                 25\n",
              "CULTURE                     23\n",
              "OPINION/ESSAY               22\n",
              " LAW / ORDER                20\n",
              " POLITICS                   19\n",
              "WITCHCRAFT                  16\n",
              "LAW / ORDER                 14\n",
              "MUSIC                       14\n",
              "TRANSPORT                   11\n",
              " WILDLIFE / ENVIRONMENT      7\n",
              " SOCIAL ISSUES               7\n",
              "ARTS AND CRAFTS              7\n",
              "FLOODING                     7\n",
              " EDUCATION                   5\n",
              " FARMING                     4\n",
              " ECONOMY                     3\n",
              " RELATIONSHIPS               3\n",
              " SPORTS                      3\n",
              "WILDLIFE / ENVIRONMENT       2\n",
              " OPINION / ESSAY             2\n",
              "OPINION / ESSAY              2\n",
              " MUSIC                       1\n",
              "Name: Label, dtype: int64"
            ]
          },
          "metadata": {},
          "execution_count": 5
        }
      ]
    },
    {
      "cell_type": "code",
      "source": [
        "def get_page(URL):\n",
        "  #URL = \"https://www.huffpost.com/entry/art-therapy-at-home_l_620557d1e4b083bd1cbbe834\"\n",
        "  page = requests.get(URL)\n",
        "  soup = BeautifulSoup(page.content, \"html.parser\")\n",
        "  results = soup.findAll('meta')\n",
        "  text = \"\"\n",
        "  for result in results:\n",
        "    #print(result.text)\n",
        "    if result.get(\"name\", None) == \"body\":\n",
        "      text+= result.get(\"content\", None)\n",
        "        #print(result.get(\"content\", None))\n",
        "  #print('\\n\\n\\n')\n",
        "  return text"
      ],
      "metadata": {
        "id": "xCzWFlrx22QV"
      },
      "execution_count": null,
      "outputs": []
    },
    {
      "cell_type": "code",
      "source": [
        "file1 = open(data_links + 'data_music.txt', 'r',encoding='utf-8')\n",
        "music_lines = file1.readlines()\n",
        "music_lines = [link.split('\\n')[0] for link in music_lines]\n",
        "print(music_lines[12:15])"
      ],
      "metadata": {
        "colab": {
          "base_uri": "https://localhost:8080/"
        },
        "id": "IXoMMpTnWp_w",
        "outputId": "09c4a6f9-a1ce-4ebb-87e4-2dbb3f354adc"
      },
      "execution_count": null,
      "outputs": [
        {
          "output_type": "stream",
          "name": "stdout",
          "text": [
            "['https://www.billboard.com/music/rb-hip-hop/kanye-west-kid-cudi-relationship-timeline-8023242/', 'https://www.billboard.com/music/music-news/rihanna-announces-fenty-skin-face-mask-1235060883/', 'https://www.billboard.com/music/pop/joe-alwyn-writing-songs-taylor-swift-1235060826/']\n"
          ]
        }
      ]
    },
    {
      "cell_type": "code",
      "source": [
        "li_music = []\n",
        "for i,url in enumerate(music_lines):\n",
        "  #print(url)\n",
        "  li_music.append(get_page(url))\n",
        "  #print(get_page(url))\n",
        "  if(i%10 == 0):\n",
        "    print(i)\n",
        "  #  break"
      ],
      "metadata": {
        "id": "8wO3E70H3APr"
      },
      "execution_count": null,
      "outputs": []
    },
    {
      "cell_type": "code",
      "source": [
        "li_music[84]"
      ],
      "metadata": {
        "colab": {
          "base_uri": "https://localhost:8080/",
          "height": 122
        },
        "id": "jmDhq6lwZsPY",
        "outputId": "452a2b73-9e94-4bba-8d73-6982bfed27c1"
      },
      "execution_count": null,
      "outputs": [
        {
          "output_type": "execute_result",
          "data": {
            "text/plain": [
              "'Dolly Parton has always been vocal about her love of the environment and is understandably concerned about its future. In a new interview with National Geographic, published Wednesday (April 6), Parton worried about the extreme weather events the world has experienced lately and urged world leaders and regular people alike to do more to protect the environment.\\r\\n\\r\\n“Well, my hope for the environment, for all things living, and all things good, just nature in general, [is] that we should pay more attention to how we’re treating our mountains, how we’re treating our world, how we’re just treating everything,” the country legend said.\\r\\n\\r\\nShe continued, “We’re just mistreating Mother Nature. That’s, like, being ugly to your mama, you know? That’s like being disrespectful. So, I really think we all need to pay closer attention to taking better care of the things that God gave us freely and that we’re so freely messing up. We need to rethink that and do better.”\\r\\n\\r\\nParton has used her platform to encourage and create change when it comes to the environment. Her theme park, Dollywood, hosts a bald eagle sanctuary run by the American Eagle Foundation, which rescues and rehabilitates injured and orphaned bald eagles, owls, vultures and other birds. The center has been able to release over 180 bald eagles back into the wild.\\r\\n\\r\\n\"[Parton] is very active in causes that speak to her heart,” says Jessica Hall, American Eagle Foundation executive director. In addition to working with the sanctuary, Parton\\'s Smokey Mountain Businesses have also raised $700,000 to help Tennessee residents impacted by last summer\\'s floods.\\r\\n\\r\\nThe 76-year-old has also talked about the love for the environment in song, as seen in track \"My Tennessee Mountain Home,\" her 1972 homage to Eastern Tennessee’s Great Smoky Mountains where she grew up. \"In my Tennessee mountain home/Life is as peaceful as a baby\\'s sigh/In my Tennessee mountain home/Crickets sing in the fields near by\" she sings on the track.\\r\\n\\r\\nIn February, Tennessee Senator Becky Duncan Massey filed\\xa0Senate Bill 2148 to make the track an official state song. The honor is fitting, considering how inspired Parton has been by nature throughout her career and how committed she\\'s become to environmental causes such as climate change.'"
            ],
            "application/vnd.google.colaboratory.intrinsic+json": {
              "type": "string"
            }
          },
          "metadata": {},
          "execution_count": 11
        }
      ]
    },
    {
      "cell_type": "code",
      "source": [
        "clean_li_music = li_music.copy()"
      ],
      "metadata": {
        "id": "ACo2GnQvcpwr"
      },
      "execution_count": null,
      "outputs": []
    },
    {
      "cell_type": "code",
      "source": [
        "clean_li_music = [re.sub(r'http\\S+', '', text) for text in clean_li_music]\n",
        "clean_li_music = [re.sub(r\"@[A-Za-z0-9_]+\", '', text) for text in clean_li_music]\n",
        "clean_li_music = [re.sub(r\"#[A-Za-z0-9_]+\", '', text) for text in clean_li_music]\n",
        "clean_li_music = [text.replace('\"', '') for text in clean_li_music]\n",
        "clean_li_music = [text.replace('\\r', '') for text in clean_li_music]"
      ],
      "metadata": {
        "id": "8UfQh1xWc2Cg"
      },
      "execution_count": null,
      "outputs": []
    },
    {
      "cell_type": "code",
      "source": [
        "clean_li_music[0]"
      ],
      "metadata": {
        "colab": {
          "base_uri": "https://localhost:8080/",
          "height": 175
        },
        "id": "0PuZG4tZeBH3",
        "outputId": "69604807-0bbb-4384-c227-d216e09baf06"
      },
      "execution_count": null,
      "outputs": [
        {
          "output_type": "execute_result",
          "data": {
            "text/plain": [
              "\"Gwen Stefani's latest transformation is nothing short of B-A-N-A-N-A-S.\\n\\nOn Monday, the pop singer posted a photo of herself decked out in an ivory cowboy hat, bright-red bandana and flannel shirt as she gazes off into the distance. Never fear, though: She kept her signature California style in tact with her diamond jewelry, wearing a diamond cross and choker spelling out GXVE, the name of her cosmetics line GXVE Beauty.\\n\\nStefani looks wistful in the snap, but captioned it simply using a smiling cowboy and a sparkle emoji, adding   before signing off with a gx.\\n\\nWhile The Voice coach didn't specify where, exactly, in Oklahoma she'd brought her three boys for spring break, her husband Blake Shelton's beloved homestead Ten Point Ranch — where the couple held their intimate 2021 nuptials — is located outside the rural town of Tishomingo.\\n\\nJust last month, Stefani poked fun at her husband's cowboy roots by raiding his closet set to the soundtrack of his 2021 single Come Back as a Country Boy.\\n\\nMore recently, she raved about her relationship with the country star in an April 6 appearance on The Ellen DeGeneres Show, telling the talk show host about her wedding, It got really small. I had this fantasy of building bleachers, but it just got smaller and smaller…and the Lord works in mysterious ways. It was like the perfect amount of people. It was so intimate, it was so exactly what it needed to be. And not just the wedding, but the marriage is so fun and I’m so into it and I feel very blessed.\\n\\nCheck out Stefani's casual cowgirl look below.\\n\\n\""
            ],
            "application/vnd.google.colaboratory.intrinsic+json": {
              "type": "string"
            }
          },
          "metadata": {},
          "execution_count": 28
        }
      ]
    },
    {
      "cell_type": "code",
      "source": [
        "df_music = pd.DataFrame(clean_li_music, columns =['Text'])"
      ],
      "metadata": {
        "id": "5ZRf6dQXX_2c"
      },
      "execution_count": null,
      "outputs": []
    },
    {
      "cell_type": "code",
      "source": [
        "df_music['Text'][0]"
      ],
      "metadata": {
        "colab": {
          "base_uri": "https://localhost:8080/",
          "height": 175
        },
        "id": "kmcFygv1Z_JX",
        "outputId": "314e39e9-3d65-4a36-a9a8-bed6806be7aa"
      },
      "execution_count": null,
      "outputs": [
        {
          "output_type": "execute_result",
          "data": {
            "text/plain": [
              "\"Gwen Stefani's latest transformation is nothing short of B-A-N-A-N-A-S.\\n\\nOn Monday, the pop singer posted a photo of herself decked out in an ivory cowboy hat, bright-red bandana and flannel shirt as she gazes off into the distance. Never fear, though: She kept her signature California style in tact with her diamond jewelry, wearing a diamond cross and choker spelling out GXVE, the name of her cosmetics line GXVE Beauty.\\n\\nStefani looks wistful in the snap, but captioned it simply using a smiling cowboy and a sparkle emoji, adding   before signing off with a gx.\\n\\nWhile The Voice coach didn't specify where, exactly, in Oklahoma she'd brought her three boys for spring break, her husband Blake Shelton's beloved homestead Ten Point Ranch — where the couple held their intimate 2021 nuptials — is located outside the rural town of Tishomingo.\\n\\nJust last month, Stefani poked fun at her husband's cowboy roots by raiding his closet set to the soundtrack of his 2021 single Come Back as a Country Boy.\\n\\nMore recently, she raved about her relationship with the country star in an April 6 appearance on The Ellen DeGeneres Show, telling the talk show host about her wedding, It got really small. I had this fantasy of building bleachers, but it just got smaller and smaller…and the Lord works in mysterious ways. It was like the perfect amount of people. It was so intimate, it was so exactly what it needed to be. And not just the wedding, but the marriage is so fun and I’m so into it and I feel very blessed.\\n\\nCheck out Stefani's casual cowgirl look below.\\n\\n\""
            ],
            "application/vnd.google.colaboratory.intrinsic+json": {
              "type": "string"
            }
          },
          "metadata": {},
          "execution_count": 32
        }
      ]
    },
    {
      "cell_type": "code",
      "source": [
        "df_music.to_csv(data_links + 'music.csv',index=False)"
      ],
      "metadata": {
        "id": "eB2mOVDBgs5S"
      },
      "execution_count": null,
      "outputs": []
    },
    {
      "cell_type": "code",
      "source": [
        "def get_page_witch(URL):\n",
        "  #URL = \"https://www.huffpost.com/entry/art-therapy-at-home_l_620557d1e4b083bd1cbbe834\"\n",
        "  page = requests.get(URL)\n",
        "  soup = BeautifulSoup(page.content, \"html.parser\")\n",
        "  results = soup.findAll('p')\n",
        "  text = \"\"\n",
        "  for result in results:\n",
        "    words = result.text\n",
        "    if('(Except for the headline, this story has not been edited by NDTV staff and is published from a syndicated feed.)' in words or 'Watch Live News:Follow Us:' in words or 'Watch Live News:Follow Us' in words or 'Watch Live News:Follow Us:...' in words):\n",
        "      break\n",
        "    text+= result.text\n",
        "  if(len(text) > 500):\n",
        "    return True,text\n",
        "  return False,text\n",
        "    #print(result.text)\n",
        "        #print(result.get(\"content\", None))\n",
        "  #print('\\n\\n\\n')\n"
      ],
      "metadata": {
        "id": "xn8XoOy0A5p2"
      },
      "execution_count": null,
      "outputs": []
    },
    {
      "cell_type": "code",
      "source": [
        "get_page_witch('https://www.ndtv.com/india-news/branded-witches-elderly-jharkhand-couple-allegedly-killed-by-relatives-2913214')"
      ],
      "metadata": {
        "colab": {
          "base_uri": "https://localhost:8080/"
        },
        "id": "QM2OdS5n3Tau",
        "outputId": "80baa8dc-0edb-4a35-9004-b1b497278920"
      },
      "execution_count": null,
      "outputs": [
        {
          "output_type": "execute_result",
          "data": {
            "text/plain": [
              "(True,\n",
              " 'Murder on suspicion of witchcraft has been a major issue in Jharkhand (Representational)An elderly couple was killed in Jharkhand\\'s Gumla district allegedly by their relatives who suspected that they practised witchcraft, police said on Saturday.The incident happened around 9 pm on Friday in Bhagat Bukma village in Chainpur police station area, around 140 km from state capital Ranchi, they said.Lundra Chik Baraik (65) and his wife Phulma Devi (60) were attacked with an axe and sticks when they were in their house, Chainpur sub-divisional police officer Cyril Marandi told PTI.Lundra\\'s sister-in-law Sumitra Devi was arrested in connection with the murder, and the involvement of her son Ravindra and some other people is being probed, he said.\"During interrogation, Sumitra claimed that both the husband and wife were witches and they harmed people with their black magic,\" Mr Marandi said.Sumitra\\'s daughter was ill for the past few days and she held the couple responsible for her illness, he said.She was booked under provisions of Prevention of Witch (DAAIN) Practices Act, he added.Former village head Kishun Bhagat said that Lundra had met him on Friday morning, and said that Sumitra\\'s family was threatening him.\"A meeting was held in presence of village head Jairam Bhagat to sort out the issue. We tried to convince both the families but Sumitra\\'s family was leveling witchcraft allegations at Lundra\\'s family,\" he said.\"Gauging the tension between the two families, villagers suggested they report the matter to the police. Lundra had gone to the police station. We do not know what happened thereafter. At night, we came to know that Lundra and his wife were killed,\" Mr Bhagat said.Murder on suspicion of witchcraft has been a major issue in Jharkhand. In January this year, an elderly couple was lynched on suspicion of practising witchcraft in Arki police station area in Khunti district.An analysis of NCRB\\'s data suggests that a total of 590 people, mostly women, were killed on allegations of practising witchcraft between 2001 and 2020.PromotedListen to the latest songs, only on JioSaavn.comThe state registered the highest 54 witch-hunting murders in 2013, 52 in 2008 and 50 in 2007. Witchcraft murder cases started declining after 2014 when 47 people were killed. Thirty-two people were killed in 2015, 27 in 2016, 19 in 2017, 18 in 2018, and 15 each in 2019 and 2020.')"
            ]
          },
          "metadata": {},
          "execution_count": 53
        }
      ]
    },
    {
      "cell_type": "code",
      "source": [
        "file1 = open(data_links + 'data_witchcraft.txt', 'r',encoding='utf-8')\n",
        "witchcraft_lines = file1.readlines()\n",
        "witchcraft_lines = [link.split('\\n')[0] for link in witchcraft_lines]\n",
        "print(witchcraft_lines[12:15])"
      ],
      "metadata": {
        "colab": {
          "base_uri": "https://localhost:8080/"
        },
        "id": "I6JWEe1_xXa5",
        "outputId": "16f41a4f-7a29-4cbc-f36b-6695619fa66c"
      },
      "execution_count": null,
      "outputs": [
        {
          "output_type": "stream",
          "name": "stdout",
          "text": [
            "['https://www.ndtv.com/world-news/branded-witch-nepal-woman-beaten-up-forced-to-eat-human-excreta-cops-2086928', 'https://www.ndtv.com/cities/cops-called-as-father-tries-to-bring-dead-son-back-to-life-at-odisha-hospital-2075573', 'https://www.ndtv.com/cities/cops-called-as-father-tries-to-bring-dead-son-back-to-life-at-odisha-hospital-2075573']\n"
          ]
        }
      ]
    },
    {
      "cell_type": "code",
      "source": [
        "urls_witchcraft = ['https://www.ndtv.com/entertainment/jk-rowlings-childhood-home-for-sale-600821']\n",
        "li_witch = []\n",
        "for i,url in enumerate(witchcraft_lines):\n",
        "  print(i)\n",
        "  #get_page(url)\n",
        "  val,text = get_page_witch(url)\n",
        "  if(val):\n",
        "    print(url)\n",
        "    li_witch.append(text)\n",
        "\n"
      ],
      "metadata": {
        "id": "uFucdyJsAiyL"
      },
      "execution_count": null,
      "outputs": []
    },
    {
      "cell_type": "code",
      "source": [
        "print(li_witch[0])\n",
        "print(li_witch[-1])\n",
        "print(len(li_witch[-1]))\n",
        "print(li_witch[-3])"
      ],
      "metadata": {
        "colab": {
          "base_uri": "https://localhost:8080/"
        },
        "id": "3FR6qZPh0XS9",
        "outputId": "2982741d-a620-468d-98b4-490e5fd5f594"
      },
      "execution_count": null,
      "outputs": [
        {
          "output_type": "stream",
          "name": "stdout",
          "text": [
            "Murder on suspicion of witchcraft has been a major issue in Jharkhand (Representational)An elderly couple was killed in Jharkhand's Gumla district allegedly by their relatives who suspected that they practised witchcraft, police said on Saturday.The incident happened around 9 pm on Friday in Bhagat Bukma village in Chainpur police station area, around 140 km from state capital Ranchi, they said.Lundra Chik Baraik (65) and his wife Phulma Devi (60) were attacked with an axe and sticks when they were in their house, Chainpur sub-divisional police officer Cyril Marandi told PTI.Lundra's sister-in-law Sumitra Devi was arrested in connection with the murder, and the involvement of her son Ravindra and some other people is being probed, he said.\"During interrogation, Sumitra claimed that both the husband and wife were witches and they harmed people with their black magic,\" Mr Marandi said.Sumitra's daughter was ill for the past few days and she held the couple responsible for her illness, he said.She was booked under provisions of Prevention of Witch (DAAIN) Practices Act, he added.Former village head Kishun Bhagat said that Lundra had met him on Friday morning, and said that Sumitra's family was threatening him.\"A meeting was held in presence of village head Jairam Bhagat to sort out the issue. We tried to convince both the families but Sumitra's family was leveling witchcraft allegations at Lundra's family,\" he said.\"Gauging the tension between the two families, villagers suggested they report the matter to the police. Lundra had gone to the police station. We do not know what happened thereafter. At night, we came to know that Lundra and his wife were killed,\" Mr Bhagat said.Murder on suspicion of witchcraft has been a major issue in Jharkhand. In January this year, an elderly couple was lynched on suspicion of practising witchcraft in Arki police station area in Khunti district.An analysis of NCRB's data suggests that a total of 590 people, mostly women, were killed on allegations of practising witchcraft between 2001 and 2020.PromotedListen to the latest songs, only on JioSaavn.comThe state registered the highest 54 witch-hunting murders in 2013, 52 in 2008 and 50 in 2007. Witchcraft murder cases started declining after 2014 when 47 people were killed. Thirty-two people were killed in 2015, 27 in 2016, 19 in 2017, 18 in 2018, and 15 each in 2019 and 2020.\n",
            "Museum guide Barthelemy Kayumba shows an old 10-Congolese-Franc banknote displaying the \"little kabila\" at the Kivu Museum in Bukavu on March 17, 2015. (AFP PHOTO / MARC JOURDIER)Perched on a shelf, the \"Little Kabila\" with the mysterious eyes greets visitors to the Kivu Museum, housed in a Catholic mission but aimed at safeguarding endangered Congolese traditional artefacts some might consider \"satanic\".The statuette showing a woman sitting on her heels and holding a jar in her hands used to feature on all Congolese 10-franc notes, but is no longer in circulation.Laurent-Desire Kabila himself, the father of Congolese President Joseph Kabila, had insisted she be represented in this way, according to guide Barthelemy Kayumba.The museum lies hidden behind the walls of the mission of the Xaverian Fathers (Catholic missionaries of Jesuit influence) in Bukavu, the capital of South Kivu, in eastern Democratic Republic of Congo.In Luba language, \"kabila means to share or distribute\", said Kayumba.For the Luba, an ethnic group from the country's southeast where the head of state was born, the statuette fulfils \"a function of mutual aid and solidarity\", he added.It also held a \"symbolic value\" for Kabila senior, the rebel chief who in 1997 put an end to Mobutu Sese Seko's 32-year dictatorship: \"The chief, or the mother, has to take care of the weakest and watch over the youngest,\" said Kayumba.Like many items in the museum, the \"Little Kabila\" is a copy. But the Xaverian Fathers, who first arrived in the country in 1954, have also amassed a lot of authentic pieces, often created for the initiation or nomination ceremony of a \"mwami\" (chief), explains Father Italo.Having lived in the Congo for nearly 40 years, the Italian priest closely knew Father Andre, the museum's founder who is currently undergoing treatment in Europe.The museum opened its doors to the public in 2013 but the hunt for artefacts began 10 years earlier, at the end of the Second Congo War (1998-2003).'Satanic objects'For South Kivu, the end of this African regional war, which took place solely on DR Congo soil, did not bring peace. Like its Northern Kivu neighbour and other parts in the country's east, the province remains torn by violence and armed conflicts fuelled by Congolese or foreign militias.googletag.cmd.push(function() { googletag.display(\"adslotNativeVideo\"); });The museum has managed all the same to gather an impressive collection of several hundred statuettes, masks and idols thanks to the cooperation of the village chiefs of South Kivu's main tribes (Lega, Bembe, Shi and Buyu), who provided the majority of the authentic pieces.Because of their symbolic value, these artefacts have been handed down from chief to chief, some of whom now have real treasures in their possession.One object is thought to be at least 100 years old, said Kayumba.The items had to be hidden from armed groups trying to steal them, he added.Under Belgian colonisation (1908-1960) and with the arrival of Catholic missionaries, the tradition was quickly denounced as \"witchcraft\" and the Congolese were told to \"leave it behind even though this was their way of life and there was a real school of wisdom behind it\", says Father Italo.In the Lega tribe, for instance, a chief's son does not automatically follow in his father's footsteps; instead, the council of elders choses the contender with the \"highest moral values\", Kayumba said.The museum's role is to \"preserve the endangered collective memory of a people\", adds Father Italo.Outside the Xaverian covent, nothing hints at the existence of the little-known museum. Today, it attracts several thousand visitors per year, most whom come as a part of tours organised by schools or parishes.PromotedListen to the latest songs, only on JioSaavn.com window._rrCode = window._rrCode || [];_rrCode.push(function(){ (function(d,t){ var s=d.createElement(t); var s1=d.createElement(t); if (d.getElementById('jsw-init')) return; s.setAttribute('id','jsw-init'); s.setAttribute('src','https://www.jiosaavn.com/embed/_s/embed.js?ver='+Date.now()); s.onload=function(){document.getElementById('jads').style.display='block';s1.appendChild(d.createTextNode('JioSaavnEmbedWidget.init({a:\"1\", q:\"1\", embed_src:\"https://www.jiosaavn.com/embed/playlist/85481065\",\"dfp_medium\" : \"1\",partner_id: \"ndtv\"});'));d.body.appendChild(s1);}; if (document.readyState === 'complete') { d.body.appendChild(s); } else if (document.readyState === 'loading') { var interval = setInterval(function() { if(document.readyState === 'complete') { d.body.appendChild(s); clearInterval(interval); } }, 100); } else { window.onload = function() { d.body.appendChild(s); }; } })(document,'script'); }); \"Many people are surprised that the Fathers who came to evangelise have ended up sheltering satanic objects,\" notes Father Italo.In the face of this deep-seated spirit, the museum's mission is to get visitors to \"become aware\" of their roots and \"understand the sense and values of their culture\".PromotedListen to the latest songs, only on JioSaavn.comTrack Latest News Live on NDTV.com and get news updates from India  and around the world. Watch Live News:Follow Us:................................ Advertisement ................................\n",
            "5260\n",
            "The bodies of the Idukki family members were decomposed, positioned one over the other.A family of four, thought to be missing in Kerala, was found dead on Wednesday, their bodies stacked up in a pit behind their house.The bodies of Krishnan and Susheela, both in their 50s, their daughter Arsha, 21, and son Arjun, 19, were found after the police dug up a pit in the compound of their house in Idukki district. The police suspect witchcraft.The bodies were decomposed, positioned one over the other.The police had been called in by neighbours who said they had not seen the family for four days.On Wednesday, neighbours and some relatives of the family went to the house and were alarmed to see bloodstains on the floor and walls, news agency Press Trust of India reported.\"The father had a rubber plantation but also appeared to have practiced witchcraft. We still have not been able to find the cause and means of death. We are probing all angles to the death, including witchcraft\", police sources told NDTV.A hammer and a knife were found in the house.A postmortem report is not out, but sources say the wounds on the bodies indicate the family may have been beaten with a hammer. The family could have been killed after Sunday, the police said.PromotedListen to the latest songs, only on JioSaavn.comNeighbours have told the police that the family largely kept to themselves.The bodies have been shifted to Kottayam medical college for the autopsy, police said.Track Latest News Live on NDTV.com and get news updates from India  and around the world. Watch Live News:Follow Us:................................ Advertisement ................................\n"
          ]
        }
      ]
    },
    {
      "cell_type": "code",
      "source": [
        "textfile = open(folder_ + \"a_file.txt\", \"w\")\n",
        "for element in li_witch:\n",
        "    textfile.write(element + \"\\n\")\n",
        "textfile.close()"
      ],
      "metadata": {
        "id": "tLNT-hKd1L9b"
      },
      "execution_count": null,
      "outputs": []
    },
    {
      "cell_type": "code",
      "source": [
        "clean_li_witch = li_witch.copy()"
      ],
      "metadata": {
        "id": "5VMOB1yF5vXd"
      },
      "execution_count": null,
      "outputs": []
    },
    {
      "cell_type": "code",
      "source": [
        "clean_li_witch = [re.sub(r'http\\S+', '', text) for text in clean_li_witch]\n",
        "clean_li_witch = [re.sub(r\"@[A-Za-z0-9_]+\", '', text) for text in clean_li_witch]\n",
        "clean_li_witch = [re.sub(r\"#[A-Za-z0-9_]+\", '', text) for text in clean_li_witch]\n",
        "clean_li_witch = [text.replace('\"', '') for text in clean_li_witch]\n",
        "clean_li_witch = [text.replace('“', '') for text in clean_li_witch]\n",
        "clean_li_witch = [text.replace('”', '') for text in clean_li_witch]\n",
        "clean_li_witch = [text.replace('\\r', '') for text in clean_li_witch]"
      ],
      "metadata": {
        "id": "JYQBSgO553os"
      },
      "execution_count": null,
      "outputs": []
    },
    {
      "cell_type": "code",
      "source": [
        "df_witch = pd.DataFrame(clean_li_witch, columns =['Text'])"
      ],
      "metadata": {
        "id": "4XfudyfX6END"
      },
      "execution_count": null,
      "outputs": []
    },
    {
      "cell_type": "code",
      "source": [
        "df_witch.to_csv(data_links + 'witch.csv',index=False)"
      ],
      "metadata": {
        "id": "AGVh3JsD6LVP"
      },
      "execution_count": null,
      "outputs": []
    },
    {
      "cell_type": "code",
      "source": [
        "#4\n",
        "#https://www.awf.org/news\n",
        "url_wildlife = ['https://www.awf.org/news/growing-forests-and-communities','https://www.awf.org/news/women-water-and-wildlife-what-connects-us-all','https://www.awf.org/news/3-reasons-celebrate-world-wildlife-day-2022','https://www.awf.org/news/camera-traps-revolutionize-wildlife-conservation-africa','https://www.awf.org/news/addressing-wildlife-crimes-kenya-kws-meets-judiciary','https://www.awf.org/blog/endangered-bonobo-africas-forgotten-ape']"
      ],
      "metadata": {
        "id": "QRrXwTlBDQdB"
      },
      "execution_count": null,
      "outputs": []
    },
    {
      "cell_type": "code",
      "source": [
        "for i,url in enumerate(url_wildlife):\n",
        "  print(i)\n",
        "  get_page_witch(url)"
      ],
      "metadata": {
        "id": "Xh0xx1u9DUgA"
      },
      "execution_count": null,
      "outputs": []
    },
    {
      "cell_type": "code",
      "source": [
        "def get_page_health(URL):\n",
        "  #URL = \"https://www.huffpost.com/entry/art-therapy-at-home_l_620557d1e4b083bd1cbbe834\"\n",
        "  page = requests.get(URL)\n",
        "  #print(page)\n",
        "  soup = BeautifulSoup(page.content, \"html.parser\")\n",
        "  results = soup.findAll('p')\n",
        "  #results = soup.findAll('li')\n",
        "  for result in results:\n",
        "    print(result.text)\n",
        "  print('\\n\\n\\n')"
      ],
      "metadata": {
        "id": "WB-18Lkm8_Ho"
      },
      "execution_count": null,
      "outputs": []
    },
    {
      "cell_type": "code",
      "source": [
        "for i,url in enumerate(url_health):\n",
        "  print(i)\n",
        "  get_page_health(url)"
      ],
      "metadata": {
        "id": "_seSi_R6KxVc"
      },
      "execution_count": null,
      "outputs": []
    },
    {
      "cell_type": "code",
      "source": [
        "file1 = open(data_links + 'data_health.txt', 'r',encoding='utf-8')\n",
        "health_lines = file1.readlines()\n",
        "health_lines = [link.split('\\n')[0] for link in health_lines]"
      ],
      "metadata": {
        "id": "lduRnPcbAurj"
      },
      "execution_count": null,
      "outputs": []
    },
    {
      "cell_type": "code",
      "source": [
        "health_lines[:5]"
      ],
      "metadata": {
        "colab": {
          "base_uri": "https://localhost:8080/"
        },
        "id": "ZLi9WZAHBTEV",
        "outputId": "85b9f496-fcb3-4894-fd43-cf6e5121ad7e"
      },
      "execution_count": null,
      "outputs": [
        {
          "output_type": "execute_result",
          "data": {
            "text/plain": [
              "['https://www.afro.who.int/countries/democratic-republic-of-congo/news/democratic-republic-congo-declares-new-ebola-outbreak-mbandaka',\n",
              " 'https://www.afro.who.int/news/over-two-thirds-africans-exposed-virus-which-causes-covid-19-who-study',\n",
              " 'https://www.afro.who.int/news/africa-faces-rising-climate-linked-health-emergencies',\n",
              " 'https://www.afro.who.int/news/major-antibiotic-donation-moves-african-countries-closer-defeating-yaws',\n",
              " 'https://www.afro.who.int/news/european-union-funding-boosts-covid-19-vaccination-africa']"
            ]
          },
          "metadata": {},
          "execution_count": 8
        }
      ]
    },
    {
      "cell_type": "code",
      "source": [
        "def get_page_health(URL):\n",
        "  #URL = \"https://www.huffpost.com/entry/art-therapy-at-home_l_620557d1e4b083bd1cbbe834\"\n",
        "  page = requests.get(URL)\n",
        "  soup = BeautifulSoup(page.content, \"html.parser\")\n",
        "  results = soup.findAll('p')\n",
        "  text = \"\"\n",
        "  for result in results:\n",
        "    words = result.text\n",
        "    #print(words)\n",
        "    #print('\\n')\n",
        "    if('Mobile: ' in words or 'Email: ' in words or 'Tel: ' in words):\n",
        "      #print(words)\n",
        "      break\n",
        "    #  break\n",
        "    text+= result.text\n",
        "  return text"
      ],
      "metadata": {
        "id": "bNd2HvUrA6WQ"
      },
      "execution_count": null,
      "outputs": []
    },
    {
      "cell_type": "code",
      "source": [
        "#get_page_health('https://www.afro.who.int/countries/democratic-republic-of-congo/news/democratic-republic-congo-declares-new-ebola-outbreak-mbandaka')"
      ],
      "metadata": {
        "id": "b7u8L44FC8a1"
      },
      "execution_count": null,
      "outputs": []
    },
    {
      "cell_type": "code",
      "source": [
        "li_health = []\n",
        "for i,url in enumerate(health_lines):\n",
        "  print(i)\n",
        "  #get_page(url)\n",
        "  text = get_page_health(url)\n",
        "  li_health.append(text)\n",
        "  if(i%10 == 0):\n",
        "    print(i)\n",
        "    #break"
      ],
      "metadata": {
        "id": "aFq3c4jzBEN4"
      },
      "execution_count": null,
      "outputs": []
    },
    {
      "cell_type": "code",
      "source": [
        "li_health[0]"
      ],
      "metadata": {
        "colab": {
          "base_uri": "https://localhost:8080/",
          "height": 122
        },
        "id": "JUzylLDjChG7",
        "outputId": "d37d7c0c-c739-41d7-e649-af69697314ff"
      },
      "execution_count": null,
      "outputs": [
        {
          "output_type": "execute_result",
          "data": {
            "text/plain": [
              "'Brazzaville/Kinshasa, 23 April 2022 –\\xa0The health authorities in the Democratic Republic of the Congo today declared an outbreak of Ebola after a case was confirmed in Mbandaka, a city in the north-western Equateur Province. This is the third outbreak in the province since 2018.So far, just one case has been confirmed. The patient, a 31-year-old man, began experiencing symptoms on 5 April and after more than a week of care at home, sought treatment at a local health facility. On 21 April, the patient was admitted to an Ebola treatment centre for intensive care but died later that day. Having recognized the symptoms, health workers immediately submitted samples to test for Ebola virus disease. Investigations to determine the source of the outbreak are ongoing.“Time is not on our side,” said Dr Matshidiso Moeti, the World health Organization (WHO) Regional Director for Africa. “The disease has had a two-week head start and we are now playing catch-up. The positive news is that health authorities in the Democratic Republic of the Congo have more experience than anyone else in the world at controlling Ebola outbreaks quickly.”The Democratic Republic of the Congo is experiencing its fourteenth Ebola outbreaks since 1976. The current outbreak is the sixth since 2018 alone – the most frequent occurrence in the country’s Ebola history. Previous outbreaks in Equateur Province were in 2020 and 2018, with 130 and 54 recorded cases respectively.Efforts to stem the current outbreak are already underway. The deceased patient received a safe and dignified burial, which involves modifying traditional funeral ceremonies in a way that minimizes the risk of contagious fluids infecting attendees. Anyone who came in contact with the patient are also being identified and their health will be monitored. The health facility where the patient received care has been decontaminated.\\xa0\\xa0\\xa0\\xa0\\xa0\\xa0\\xa0\\xa0WHO experts based in the Democratic Republic of the Congo are supporting the national authorities to ramp up key outbreak response areas including testing, contact tracing, infection prevention and control, treatment as well as working with communities to support the public health measures to prevent infections.Vaccination is set to kick off in the coming days. The country already has stockpiles of the rVSV-ZEBOV Ebola vaccine available in the cities of Goma and Kinshasa. Vaccines will be sent to Mbandaka and administered through ‘ring vaccination’ strategy—where contacts and contacts of contacts are vaccinated to curb the spread of the virus and protect lives.“Many people in Mbandaka are already vaccinated against Ebola, which should help reduce the impact of the disease,” said Dr Moeti. “All those who were vaccinated during the 2020 outbreak will be revaccinated.”Ebola is a severe, often fatal illness affecting humans and other primates. Case fatality rates have varied from 25% to 90% in past outbreaks. There is now effective treatment available and if patients receive treatment early, as well as supportive care, their chances of survival improve significantly.'"
            ],
            "application/vnd.google.colaboratory.intrinsic+json": {
              "type": "string"
            }
          },
          "metadata": {},
          "execution_count": 11
        }
      ]
    },
    {
      "cell_type": "code",
      "source": [
        "health_lines[5]"
      ],
      "metadata": {
        "colab": {
          "base_uri": "https://localhost:8080/",
          "height": 35
        },
        "id": "de2sw2HzEAP1",
        "outputId": "4fa4660d-c19b-49cd-bba3-df15f16eb252"
      },
      "execution_count": null,
      "outputs": [
        {
          "output_type": "execute_result",
          "data": {
            "text/plain": [
              "'https://www.afro.who.int/countries/kenya/news/launch-tobacco-free-farms-kenya'"
            ],
            "application/vnd.google.colaboratory.intrinsic+json": {
              "type": "string"
            }
          },
          "metadata": {},
          "execution_count": 12
        }
      ]
    },
    {
      "cell_type": "code",
      "source": [
        "print(li_health[0])\n",
        "print('\\n')\n",
        "print(li_health[5])\n",
        "print('\\n')\n",
        "print(li_health[-1])\n"
      ],
      "metadata": {
        "colab": {
          "base_uri": "https://localhost:8080/"
        },
        "id": "dHCQ8yPPBY3H",
        "outputId": "7747d131-01e7-4c13-f1ba-f25db2e03eea"
      },
      "execution_count": null,
      "outputs": [
        {
          "output_type": "stream",
          "name": "stdout",
          "text": [
            "Brazzaville/Kinshasa, 23 April 2022 – The health authorities in the Democratic Republic of the Congo today declared an outbreak of Ebola after a case was confirmed in Mbandaka, a city in the north-western Equateur Province. This is the third outbreak in the province since 2018.So far, just one case has been confirmed. The patient, a 31-year-old man, began experiencing symptoms on 5 April and after more than a week of care at home, sought treatment at a local health facility. On 21 April, the patient was admitted to an Ebola treatment centre for intensive care but died later that day. Having recognized the symptoms, health workers immediately submitted samples to test for Ebola virus disease. Investigations to determine the source of the outbreak are ongoing.“Time is not on our side,” said Dr Matshidiso Moeti, the World health Organization (WHO) Regional Director for Africa. “The disease has had a two-week head start and we are now playing catch-up. The positive news is that health authorities in the Democratic Republic of the Congo have more experience than anyone else in the world at controlling Ebola outbreaks quickly.”The Democratic Republic of the Congo is experiencing its fourteenth Ebola outbreaks since 1976. The current outbreak is the sixth since 2018 alone – the most frequent occurrence in the country’s Ebola history. Previous outbreaks in Equateur Province were in 2020 and 2018, with 130 and 54 recorded cases respectively.Efforts to stem the current outbreak are already underway. The deceased patient received a safe and dignified burial, which involves modifying traditional funeral ceremonies in a way that minimizes the risk of contagious fluids infecting attendees. Anyone who came in contact with the patient are also being identified and their health will be monitored. The health facility where the patient received care has been decontaminated.        WHO experts based in the Democratic Republic of the Congo are supporting the national authorities to ramp up key outbreak response areas including testing, contact tracing, infection prevention and control, treatment as well as working with communities to support the public health measures to prevent infections.Vaccination is set to kick off in the coming days. The country already has stockpiles of the rVSV-ZEBOV Ebola vaccine available in the cities of Goma and Kinshasa. Vaccines will be sent to Mbandaka and administered through ‘ring vaccination’ strategy—where contacts and contacts of contacts are vaccinated to curb the spread of the virus and protect lives.“Many people in Mbandaka are already vaccinated against Ebola, which should help reduce the impact of the disease,” said Dr Moeti. “All those who were vaccinated during the 2020 outbreak will be revaccinated.”Ebola is a severe, often fatal illness affecting humans and other primates. Case fatality rates have varied from 25% to 90% in past outbreaks. There is now effective treatment available and if patients receive treatment early, as well as supportive care, their chances of survival improve significantly.\n",
            "\n",
            "\n",
            "Nairobi - Hundreds of farmers in Migori County, Kenya will break free from risky tobacco farming and transition to producing more sustainable crops, through the Tobacco-Free Farms Project being launched today. Tobacco-Free Farms project is a joint initiative of the World Health Organization (WHO), the World Food Programme, and the Food and Agriculture Organization of the United Nations (FAO), in collaboration with the Government of Kenya.In Migori, farmers have planted high-iron beans as an alternative crop, with UN agencies and government providing training, quality inputs such as seeds and fertilizers, and a ready market for the harvest, through the World Food Programme’s (WFP’s) local procurement initiatives. This support enables the farmers to stop tobacco-growing contractual agreements and switch to alternative food crops that will help feed communities instead of harming their health, with confidence that a long-term market exists.The Ministry of Health is delighted to see farmers move away from what is a health hazard for them and their families and towards more eco-friendly farming practices. In addition to maintaining livelihoods, the project is expected to improve the health of farmers in Migori and their families, and reduce their medical expenses.Health Cabinet Secretary (CS) Mutahi Kagwe says the government and his Ministry in particular is supportive of such projects that put the health of Kenyans first.  The CS noted that the government was working towards attaining Universal Health Coverage for all Kenyans and any projects that would reduce or alleviate medical expenses for Kenyans are most welcome.“The project in Migori for the tobacco farmers is a major shift towards attaining a healthy nation and the Ministry of Health fully supports such ventures,” added CS Kagwe. The Ministry of Agriculture echoes these sentiments, with Agriculture Cabinet Secretary Honorable Peter Munya adding, “‘You can do what I cannot do, I can do what you cannot do. Together we can do great things.’ This quote by Mother Theresa aptly applies in this context of Tobacco-Free Farms Project, where each partner - from the farmer to County Government of Migori and National Government - plays a crucial role of promoting food and nutrition security, enhancing farmer incomes, conserving environment and ultimately reducing poverty.”Kenya is the first country selected to roll out this project, encouraging as a key player in the fight against the tobacco epidemic. Over the last few months, we have seen hundreds of long-time tobacco farmers to switch to alternative crops, participate in training, and plant high-iron beans in fields where tobacco once grew. The project has seen farmers' health improve, increased school attendance from children previously working on the farms, and better crops for the environment replacing tobacco.Farmer groups that participated in the project sold 135 metric tons of beans to the World Food Programme, delivering them significantly more income compared to tobacco farming.“WFP, and the Farm to Market Alliance, work to raise smallholder farmers' income and improve their livelihoods by building sustainable food systems that advance food security for all,” said Mr Simon Cammelbeeck, Managing Director of Farm to Market Alliance (FtMA). “WFP has provided a ready market for high iron beans, promoted good agricultural practices, nutrition sensitization, and post-harvest loss training. FtMA’s demand aggregation model has helped farmers benefit from economies of scale in input and output sales.”Tobacco as a cash crop contributes less than 1% of Kenya’s GDP. Its farmers and their families are exposed to serious health risks through nicotine absorbed through the skin when handling wet tobacco leaves, exposure to heavy use of pesticides and to tobacco dust. Tobacco growing is also associated with increased gender inequality, deforestation, soil degradation, and contamination of water supplies.“The current FAO Strategic Framework is anchored on Better Production, Better Nutrition, Better Environment, and Better Life. I am delighted that this project being launched today addresses answers all the Four Betters,” said Ms Carla Mucavi, FAO Kenya Representative. More than 6,000 Kenyans die of tobacco-related diseases every year (79 men and 37 women die per week). An estimated 220,000 children and 2,737,000 adults use tobacco each day in the country. Tobacco kills more than 8 million people around the world every year. Over one million of those deaths are attributed to exposure to second-hand smoke.“Tobacco growing farmers must be given the necessary support to switch to alternative crops that have the potential to improve their health and livelihoods as well as reduce the supply of tobacco,” says Dr. Juliet Nabyonga, Acting WHO Representative to Kenya. “It’s projects like this that move the needle in the fight against the global tobacco epidemic.”Kenya was one of the first countries to ratify the legally binding WHO Framework Convention on Tobacco Control (WHO FCTC) in 2004 and has been a key player in implementing effective tobacco control measures. The Convention and the Kenya Tobacco Control Act promote economically viable alternatives to tobacco production as a way of preventing possible adverse social and economic impacts on populations whose livelihoods depend on tobacco production. \"I appreciate all the partners in the Tobacco Free Farms project for choosing Kenya and more specifically Migori County to pilot this important global initiative aimed at curtailing the adverse health, environmental and economic effects of tobacco growing & utilization,” said His Excellency the Governor Zachariah Okoth Obado. “In support of the same, my government will continue to accord you all the necessary support within our reach to ensure that this noble project succeeds.\"\n",
            "\n",
            "\n",
            "Brazzaville – Africa needs at least 20 million doses of the Oxford-AstraZeneca vaccine in the next six weeks to get second doses to all who received a first dose within the 8—12-week interval between doses recommended by the World Health Organization (WHO). A single dose of the Oxford-AstraZeneca vaccine gives around 70% protection for at least 12 weeks. Data on the protection from one dose after 12 weeks is limited, however COVID-19 antibodies have been found in the body up to 6 months after one dose. The full course provided with a 12-week interval gives 81% protection for an extended period.In addition to this urgent need, another 200 million doses of any WHO Emergency Use Listed COVID-19 vaccine are needed so that the continent can vaccinate 10% of its population by September 2021. This follows a call made by WHO Director General Dr Tedros Adhanom Ghebreyesus at the World Health Assembly, WHO’s governing bodyearlier this week for all Member States to support a massive vaccination push.To date, 28 million COVID-19 doses, of different vaccines, have been administered in Africa, which represents less than two doses administered per 100 people in Africa. Globally, 1.5 billion COVID-19 vaccine doses have been administered.“As supplies dry up, dose-sharing is an urgent, critical and short-term solution to ensuring that Africans at the greatest risk of COVID-19 get the much-needed protection,” said Dr Matshidiso Moeti, WHO Regional Director for Africa. “Africa needs vaccines now. Any pause in our vaccination campaigns will lead to lost lives and lost hope.”“It’s too soon to tell if Africa is on the cusp of a third wave. However, we know that cases are rising, and the clock is ticking so we urgently appeal to countries that have vaccinated their high-risk groups to speed up the dose-sharing to fully protect the most vulnerable people.”France is the first country to share COVID-19 vaccines from its domestic supply, donating over 31 000 doses to Mauritania, with another 74 400 set for imminent delivery. France has pledged to share half a million more doses with six African countries in the next few weeks. The European Union and its Member States have pledged over 100 million doses for low-income countries by the end of 2021. The United States of America has pledged to share 80 million doses with lower-income countries, and other high-income countries have expressed interest in sharing vaccines. Expediting these pledges is crucial and the COVAX Facility is a proven tool for swift delivery. African countries that are unable to use all their vaccines are sharing them across the continent. While this prevents vaccine wastage, redistributing doses is costly and countries must roll out all available doses as soon as possible. WHO is working closely with countries to improve vaccine rollout by optimizing delivery strategies and increasing uptake.In the longer term, Africa must boost its manufacturing capacity for vaccines. Yet there is no quick-fix and putting the policies, processes and partnerships in place may take years. Intellectual Property waivers are a crucial first step but must come alongside the sharing of expertise and critical technologies. More than 100 WHO Member States, including 54 African countries are co-sponsoring a draft resolution led by Ethiopia which is being presented at this week’s World Health Assembly. The resolution aims to strengthen local production, promote technology transfers and innovation, and consider the agreement on Trade-Related Aspects of Intellectual Property Rights and intellectual property rights through the lens of boosting local production.WHO is helping African Member States to lay the groundwork to build up vaccine manufacturing capacity. Around 40 African countries joined a recent WHO training to build manufacturing capacities and WHO is working with the African Union to support the African Pharmaceutical Manufacturing Plan for Africa, supporting feasibility studies and potential technology transfers on request, sharing expertise and helping forge crucial partnerships.Dr Moeti spoke during a virtual press conference today facilitated by APO Group. She was joined by Honorable Semano Henry Sekatle, Minister of Health, Lesotho, and Her Excellency Stéphanie Seydoux, Ambassador for Global Health, Ministry for Europe and Foreign Affairs, France. Also on hand to answer questions were Dr Richard Mihigo, Coordinator, Immunization and Vaccines Development Programme, WHO Regional Office for Africa, and Dr Nsenga Ngoy, Emergency Response Programme Manager, WHO Regional Office for Africa.\n"
          ]
        }
      ]
    },
    {
      "cell_type": "code",
      "source": [
        "clean_li_health = li_health.copy()"
      ],
      "metadata": {
        "id": "imdhqRHJEhdT"
      },
      "execution_count": null,
      "outputs": []
    },
    {
      "cell_type": "code",
      "source": [
        "clean_li_health = [re.sub(r'http\\S+', '', text) for text in clean_li_health]\n",
        "clean_li_health = [re.sub(r\"@[A-Za-z0-9_]+\", '', text) for text in clean_li_health]\n",
        "clean_li_health = [re.sub(r\"#[A-Za-z0-9_]+\", '', text) for text in clean_li_health]\n",
        "clean_li_health = [text.replace('\"', '') for text in clean_li_health]\n",
        "clean_li_health = [text.replace('“', '') for text in clean_li_health]\n",
        "clean_li_health = [text.replace('”', '') for text in clean_li_health]\n",
        "clean_li_health = [text.replace('\\r', '') for text in clean_li_health]"
      ],
      "metadata": {
        "id": "Goid3BnoEkFM"
      },
      "execution_count": null,
      "outputs": []
    },
    {
      "cell_type": "code",
      "source": [
        "df_health = pd.DataFrame(clean_li_health, columns =['Text'])"
      ],
      "metadata": {
        "id": "760MWdYlEmci"
      },
      "execution_count": null,
      "outputs": []
    },
    {
      "cell_type": "code",
      "source": [
        "df_health.iloc[-1].Text"
      ],
      "metadata": {
        "colab": {
          "base_uri": "https://localhost:8080/",
          "height": 470
        },
        "id": "qFBfPa1MFTth",
        "outputId": "52f74f45-47a1-4abc-b61e-ad571cce211a"
      },
      "execution_count": null,
      "outputs": [
        {
          "output_type": "execute_result",
          "data": {
            "text/plain": [
              "'Brazzaville – Africa needs at least 20 million doses of the Oxford-AstraZeneca vaccine in the next six weeks to get second doses to all who received a first dose within the 8—12-week interval between doses recommended by the World Health Organization (WHO).\\xa0A single dose of the Oxford-AstraZeneca vaccine gives around 70% protection for at least 12 weeks. Data on the protection from one dose after 12 weeks is limited, however COVID-19 antibodies have been found in the body up to 6 months after one dose. The full course provided with a 12-week interval gives 81%\\xa0protection for an extended period.In addition to this urgent need, another 200 million doses of any WHO Emergency Use Listed COVID-19 vaccine are needed so that the continent can vaccinate 10% of its population by September 2021. This follows a call made by WHO Director General Dr Tedros Adhanom Ghebreyesus at the World Health Assembly, WHO’s governing bodyearlier this week for all Member States to support a massive vaccination push.To date, 28 million COVID-19 doses, of different vaccines, have been administered in Africa, which represents less than two doses administered per 100 people in Africa. Globally, 1.5 billion COVID-19 vaccine doses have been administered.As supplies dry up, dose-sharing is an urgent, critical and short-term solution to ensuring that Africans at the greatest risk of COVID-19 get the much-needed protection, said Dr Matshidiso Moeti, WHO Regional Director for Africa. Africa needs vaccines now. Any pause in our vaccination campaigns will lead to lost lives and lost hope.It’s too soon to tell if Africa is on the cusp of a third wave.\\xa0However, we know that cases are rising, and the clock is ticking so we urgently appeal to countries that have vaccinated their high-risk groups to speed up the dose-sharing to fully protect the most vulnerable people.France is the first country to share COVID-19 vaccines from its domestic supply, donating over 31 000 doses to Mauritania, with another 74 400 set for imminent delivery. France has pledged to share half a million more doses with six African countries in the next few weeks. The European Union and its Member States have pledged over 100 million doses for low-income countries by the end of 2021. The United States of America has pledged to share 80 million doses with lower-income countries, and other high-income countries have expressed interest in sharing vaccines. Expediting these pledges is crucial and the COVAX Facility is a proven tool for swift delivery.\\xa0African countries that are unable to use all their vaccines are sharing them across the continent. While this prevents vaccine wastage, redistributing doses is costly and countries must roll out all available doses as soon as possible. WHO is working closely with countries to improve vaccine rollout by optimizing delivery strategies and increasing uptake.In the longer term, Africa must boost its manufacturing capacity for vaccines. Yet there is no quick-fix and putting the policies, processes and partnerships in place may take years. Intellectual Property waivers are a crucial first step but must come alongside the sharing of expertise and critical technologies.\\xa0More than 100 WHO Member States, including 54 African countries are co-sponsoring a draft resolution led by Ethiopia which is being presented at this week’s World Health Assembly. The resolution aims to strengthen local production, promote technology transfers and innovation, and consider the agreement on Trade-Related Aspects of Intellectual Property Rights and intellectual property rights through the lens of boosting local production.WHO is helping African Member States to lay the groundwork to build up vaccine manufacturing capacity. Around 40 African countries joined a recent WHO training to build manufacturing capacities and WHO is working with the African Union to support the African Pharmaceutical Manufacturing Plan for Africa, supporting feasibility studies and potential technology transfers on request, sharing expertise and helping forge crucial partnerships.Dr Moeti spoke during a virtual press conference today facilitated by APO Group. She was joined by Honorable Semano Henry Sekatle, Minister of Health, Lesotho, and Her Excellency Stéphanie Seydoux, Ambassador for Global Health, Ministry for Europe and Foreign Affairs, France. Also on hand to answer questions were Dr Richard Mihigo, Coordinator, Immunization and Vaccines Development Programme, WHO Regional Office for Africa, and Dr Nsenga Ngoy, Emergency Response Programme Manager, WHO Regional Office for Africa.'"
            ],
            "application/vnd.google.colaboratory.intrinsic+json": {
              "type": "string"
            }
          },
          "metadata": {},
          "execution_count": 17
        }
      ]
    },
    {
      "cell_type": "code",
      "source": [
        "df_health.to_csv(data_links + 'health.csv',index=False)"
      ],
      "metadata": {
        "id": "ObxHv7MWEo41"
      },
      "execution_count": null,
      "outputs": []
    },
    {
      "cell_type": "code",
      "source": [
        "def get_page_wildlife(URL):\n",
        "  #URL = \"https://www.huffpost.com/entry/art-therapy-at-home_l_620557d1e4b083bd1cbbe834\"\n",
        "  page = requests.get(URL)\n",
        "  soup = BeautifulSoup(page.content, \"html.parser\")\n",
        "  results = soup.findAll('p')\n",
        "  text = \"\"\n",
        "  b_text = \"\"\n",
        "  for i,result in enumerate(results):\n",
        "    if(i < 2):\n",
        "      continue\n",
        "    words = result.text\n",
        "    #print(words)\n",
        "    #print('\\n')\n",
        "      #print(words)\n",
        "      #break\n",
        "    #  break\n",
        "    #  break\n",
        "    text+= words\n",
        "  return text.rpartition('Sign up for our newsletter.')[0]"
      ],
      "metadata": {
        "id": "-rPhvUiyNE2Z"
      },
      "execution_count": null,
      "outputs": []
    },
    {
      "cell_type": "code",
      "source": [
        "file1 = open(data_links + 'data_wildlife.txt', 'r',encoding='utf-8')\n",
        "wildlife_lines = file1.readlines()\n",
        "wildlife_lines = [link.split('\\n')[0] for link in wildlife_lines]"
      ],
      "metadata": {
        "id": "Ssh7C7wIM22g"
      },
      "execution_count": null,
      "outputs": []
    },
    {
      "cell_type": "code",
      "source": [
        "print(wildlife_lines[0])\n",
        "print(wildlife_lines[1])"
      ],
      "metadata": {
        "colab": {
          "base_uri": "https://localhost:8080/"
        },
        "id": "Ypm0sQRUM9eZ",
        "outputId": "c72fe639-222c-4b08-9b26-e5fa89e2b838"
      },
      "execution_count": null,
      "outputs": [
        {
          "output_type": "stream",
          "name": "stdout",
          "text": [
            "https://www.awf.org/news/teen-walked-75-miles-so-elephants-can-safely-roam\n",
            "https://www.awf.org/news/seat-table-women-have-say-wildlife-conservation\n"
          ]
        }
      ]
    },
    {
      "cell_type": "code",
      "source": [
        "print(get_page_wildlife(wildlife_lines[0]))\n",
        "#print(get_page_wildlife(wildlife_lines[1]))\n",
        "#print(get_page_wildlife(wildlife_lines[-1]))"
      ],
      "metadata": {
        "colab": {
          "base_uri": "https://localhost:8080/"
        },
        "id": "Uy2L_l5lNJOc",
        "outputId": "a443dd50-1ff4-484c-947f-d45ea14457d0"
      },
      "execution_count": null,
      "outputs": [
        {
          "output_type": "stream",
          "name": "stdout",
          "text": [
            "Elephants are not afraid to walk long distances. In 2016, one elephant walked nearly 130 miles from Kenya to Somalia in just three weeks. In 2020, 15 elephants in China set off on a 310-mile journey, capturing global attention.Considering these viral migrations, it is fitting that 16-year-old Cole Culver’s plan to raise awareness for elephants involved a long journey by foot.Last year, Mike Culver encouraged his son Cole to find a way to give back. Some people suggested that Cole, who is autistic, should do something to benefit autism. Mike pushed him to think about others instead.“I think it’s very important for him to understand that the world does not revolve around our own issues, but around everyone’s issues,” said Mike.Cole knew who he wanted to help: elephants, his favorite animal. After doing some research, Cole and his family found African Wildlife Foundation. They wanted to ensure that the money they raised was not focused narrowly on wildlife but was helping people — through human-wildlife conflict mitigation, redress for crops destroyed by wandering elephants, green jobs growth, and more.> Learn about the threats facing Africa’s elephants and how we can helpLike many elephants, Cole loves to go on long walks. In the spring of 2021, he set up a program: he pledged to walk 75 miles in two months, and others in his community in central Massachusetts would donate toward African elephant conservation.“There are some people that have these amazing talents,” said Mike. “There are artists, writers… Cole’s thing is he likes to walk. He would just walk forever if he could. That was his skill that he could bring to the table.”Friends and family had spread the word about Cole’s walks, and the number of gifts continued to add up. “It’s just so amazing how many people contributed. Even people who just met Cole in passing would give 5 or 10 dollars.”“What we were expecting was about US$ 150,” said Mike. “We ended up getting US$ 2,165.”Cole walked from April 1 to June 1, 2021. On the last day, after reaching the 75-mile finish line in the rain, Cole sent out a video to thank his supporters — followed by letters with a hand-made elephant drawing by Cole.“I would feel sad if all the elephants were extinct,” said Cole in his letter. “I am so happy you wanted to help the elephants too.”Cole Culver's walk for elephant conservation in Africa received over US$ 2,000 in donationsOthers in Cole’s life have applauded his dedication to elephants. “He is one of the kindest, politest, and sweetest young men you’ll ever meet,” said Rosanne Dillon, Cole’s paraprofessional since 2nd grade. “I think people will be inspired by his spirit, unselfishness, and commitment to the elephant.”The next few decades will be critical in the fight to stop biodiversity loss. Young people are best equipped to carry on the fight for wildlife for generations to come.“For years, African Wildlife Foundation has acknowledged the need to actively engage the youth in conservation for the sustainability of our future,” said Laurie Channer, AWF’s Senior Manager, Membership. “It is so encouraging to see young people, like Cole, volunteer their time and effort to make a difference for elephants and all species.”Channer encouraged young people to follow Cole’s example and get creative with how they can raise awareness for issues like species conservation, biodiversity loss, and sustainable development.“Our young AWF members can raise awareness among their friends and neighbors, on social media, or wherever you can make yourself heard — and become a new generation of much-needed conservation advocates and leaders.”Inspired by how much he was able to help, Cole is planning to walk again this year. This time, he’s upped the target to 150 miles over three months, starting in April. Here is to another successful journey for a teenager with an elephant-sized heart for helping others.April 2 is World Autism Awareness Day\n"
          ]
        }
      ]
    },
    {
      "cell_type": "code",
      "source": [
        "print(get_page_wildlife(wildlife_lines[1]))"
      ],
      "metadata": {
        "colab": {
          "base_uri": "https://localhost:8080/"
        },
        "id": "39eL4iUuOkP-",
        "outputId": "2a69209d-feb0-466f-fab1-d5c2a6cff8bb"
      },
      "execution_count": null,
      "outputs": [
        {
          "output_type": "stream",
          "name": "stdout",
          "text": [
            "Belise Kariza, African Wildlife Foundation’s Country Director, Rwanda, did not fully understand the impact of wildlife and wild lands on a country’s economy and the lives of its people until she joined public service in 2015, running Rwanda’s tourism agenda.For close to six years, Kariza was the Chief Tourism Officer at the Rwanda Development Board. She helped drive the growth of Rwanda’s tourism sector and even partnered on projects with AWF. With a background in international business and operations, she is now in charge of AWF’s conservation programs in Rwanda.As the world marked International Women’s Day on March 8, Kariza opened up about her vision for conservation in Rwanda and her desire to see more youth and women getting involved in conservation.Humbling and extremely inspiring. It was only when I joined the tourism and conservation industry that I put the pieces together and really fell in love with conservation. I understand conservation much differently now; its impact on a country, its people, its economy, and the entire continent. I have learned a lot, and I am blessed to be put in a position where I can find solutions to conservation issues and impact my country and our continent. And, importantly, I have the opportunity to inspire young girls to contribute to conservation in Africa.My objective is to ensure that Rwanda becomes one of the priority focus countries because of the success of the programs we are implementing, one of them being the Volcanoes National Park expansion. This program is hugely transformational at the conservation level. And if done with the local community, the mountain gorillas, and the country's economic development at heart, it will be an exceptional proof of concept that development and conservation go hand in hand. As such, I am constantly thinking of how to ensure that our different stakeholders understand and endorse this park expansion program and who to engage in making sure that we get more donors on board.Beyond the expansion of Volcanoes National Park, I also aim to contribute to AWF's image as the go-to conservation organization on the continent — by seeing to it that our work in Rwanda presents that vision and trust-building with all stakeholders, whether it is the government, local communities, donors, or the media.Mountain gorilla tourism in Rwanda contributes to community development and economic growthIn Rwanda, there has been a deliberate political will behind empowering women in different sectors and industries — including conservation — and specifically, the management of tourism entities and conservation organizations. For example, our Minister of Environment, and both the CEO and the Head of Tourism and Conservation of the Rwanda Development Board are all women. There have also been many actions to empower women in the field. For instance, one of our veteran veterinarians who has been taking care of gorillas for more than 30 years is a woman. In addition, we have young and dynamic guides and trackers who are women.These women play a significant role in conservation because they understand what tourism and conservation can do for their families, and they contribute significantly to the economic development of Rwanda.Leading by example is the best way we can influence other women. Being a woman and contributing to transformational wildlife and wild lands conservation methods and approaches is hopefully a testimony that women own a place in conservation and could positively impact this sector.Breaking the bias begins with ourselves. We have been conditioned as women to feel like it is a privilege to be \"seated at the table,\" but it is not. We are educated, we have acquired experience, and we have earned our place at the table. I am proud to be part of AWF, which leads by example by giving women many opportunities, including in leadership positions.I want to remind women to embrace the fact that they are meant to play a part and to bring forward transformational ideas that could change the world.Just go for it. It is an amazing sector, and it has different layers to it that need the contribution of young African women, specifically. They need to get to it because wildlife and wild lands are part of who we are. We should not get it twisted; the species in our continent are as much African as we are, so we must conserve and protect them.It would be fundamental to focus on mentorship programs through which we can nurture young women, even from secondary school level, and groom them to be the future CEOs, rangers, trackers of this continent.> Learn what motivates Nancy Githaiga, AWF's Country Director, Kenya, to amplify the role of women in conservation \n"
          ]
        }
      ]
    },
    {
      "cell_type": "code",
      "source": [
        "li_wildlife = []\n",
        "for i,url in enumerate(wildlife_lines):\n",
        "  #print(i)\n",
        "  #get_page(url)\n",
        "  text = get_page_wildlife(url)\n",
        "  li_wildlife.append(text)\n",
        "  if(i%10 == 0):\n",
        "    print(i)\n",
        "    #break"
      ],
      "metadata": {
        "colab": {
          "base_uri": "https://localhost:8080/"
        },
        "id": "Sc-Zq1pbSAJn",
        "outputId": "4bf1dde5-af5c-44f6-c3ca-e6ba1a009fcc"
      },
      "execution_count": null,
      "outputs": [
        {
          "output_type": "stream",
          "name": "stdout",
          "text": [
            "0\n",
            "10\n",
            "20\n",
            "30\n",
            "40\n",
            "50\n",
            "60\n"
          ]
        }
      ]
    },
    {
      "cell_type": "code",
      "source": [
        "print(li_wildlife[0])\n",
        "print('\\n')\n",
        "print(li_wildlife[5])\n",
        "print('\\n')\n",
        "print(li_wildlife[-1])\n"
      ],
      "metadata": {
        "colab": {
          "base_uri": "https://localhost:8080/"
        },
        "id": "599nFLgeSSe2",
        "outputId": "bee5ab70-473a-45ce-a677-4d5242d7be24"
      },
      "execution_count": null,
      "outputs": [
        {
          "output_type": "stream",
          "name": "stdout",
          "text": [
            "Elephants are not afraid to walk long distances. In 2016, one elephant walked nearly 130 miles from Kenya to Somalia in just three weeks. In 2020, 15 elephants in China set off on a 310-mile journey, capturing global attention.Considering these viral migrations, it is fitting that 16-year-old Cole Culver’s plan to raise awareness for elephants involved a long journey by foot.Last year, Mike Culver encouraged his son Cole to find a way to give back. Some people suggested that Cole, who is autistic, should do something to benefit autism. Mike pushed him to think about others instead.“I think it’s very important for him to understand that the world does not revolve around our own issues, but around everyone’s issues,” said Mike.Cole knew who he wanted to help: elephants, his favorite animal. After doing some research, Cole and his family found African Wildlife Foundation. They wanted to ensure that the money they raised was not focused narrowly on wildlife but was helping people — through human-wildlife conflict mitigation, redress for crops destroyed by wandering elephants, green jobs growth, and more.> Learn about the threats facing Africa’s elephants and how we can helpLike many elephants, Cole loves to go on long walks. In the spring of 2021, he set up a program: he pledged to walk 75 miles in two months, and others in his community in central Massachusetts would donate toward African elephant conservation.“There are some people that have these amazing talents,” said Mike. “There are artists, writers… Cole’s thing is he likes to walk. He would just walk forever if he could. That was his skill that he could bring to the table.”Friends and family had spread the word about Cole’s walks, and the number of gifts continued to add up. “It’s just so amazing how many people contributed. Even people who just met Cole in passing would give 5 or 10 dollars.”“What we were expecting was about US$ 150,” said Mike. “We ended up getting US$ 2,165.”Cole walked from April 1 to June 1, 2021. On the last day, after reaching the 75-mile finish line in the rain, Cole sent out a video to thank his supporters — followed by letters with a hand-made elephant drawing by Cole.“I would feel sad if all the elephants were extinct,” said Cole in his letter. “I am so happy you wanted to help the elephants too.”Cole Culver's walk for elephant conservation in Africa received over US$ 2,000 in donationsOthers in Cole’s life have applauded his dedication to elephants. “He is one of the kindest, politest, and sweetest young men you’ll ever meet,” said Rosanne Dillon, Cole’s paraprofessional since 2nd grade. “I think people will be inspired by his spirit, unselfishness, and commitment to the elephant.”The next few decades will be critical in the fight to stop biodiversity loss. Young people are best equipped to carry on the fight for wildlife for generations to come.“For years, African Wildlife Foundation has acknowledged the need to actively engage the youth in conservation for the sustainability of our future,” said Laurie Channer, AWF’s Senior Manager, Membership. “It is so encouraging to see young people, like Cole, volunteer their time and effort to make a difference for elephants and all species.”Channer encouraged young people to follow Cole’s example and get creative with how they can raise awareness for issues like species conservation, biodiversity loss, and sustainable development.“Our young AWF members can raise awareness among their friends and neighbors, on social media, or wherever you can make yourself heard — and become a new generation of much-needed conservation advocates and leaders.”Inspired by how much he was able to help, Cole is planning to walk again this year. This time, he’s upped the target to 150 miles over three months, starting in April. Here is to another successful journey for a teenager with an elephant-sized heart for helping others.April 2 is World Autism Awareness Day\n",
            "\n",
            "\n",
            "There are more than 8,000 critically endangered plant and animal species in the wild. Estimates of endangered or vulnerable wildlife on the International Union for Conservation of Nature’s Red List of Threatened Species are equally alarming — over 30,000 flora and fauna species are inching closer to extinction. Celebrating World Wildlife Day this year reconnects us to nature and reminds us what is at stake.Known officially as U.N. World Wildlife Day, the occasion commemorates the anniversary of the opening of the Convention on International Trade in Endangered Species of Wild Fauna and Flora (or CITES) for signature as a multilateral agreement on March 3, 1973.This year, the theme of World Wildlife Day is ‘Recovering key species for ecosystem recovery,’ signaling the importance of wild plants and animals in maintaining the vast natural environments that provide water, nourishment, and livelihoods across the planet.In Africa in the last five decades, some keystone wildlife species have dwindled perilously, with remaining populations becoming fragmented or extinct in the wild. Other African wildlife like the mountain gorilla has steadily increased thanks to intensive conservation efforts in their forest habitats in Rwanda, Uganda, and the Democratic Republic of Congo. However, the fate of species like the northern white rhino is uncertain with the death of Sudan, the last male of the rhino subspecies in 2018. While the two surviving females remain under high-security, 24-hour surveillance in Kenya’s Ol Pejeta Conservancy, a team of scientists is trying to develop embryos from harvested eggs and sperms from the last individuals of the species historically found across East and Central Africa.On March 3, 2022, the Kenya Wildlife Service, with support from the Kenya government and organizations like African Wildlife Foundation, is setting in motion a new conservation management plan to recover the country’s southern white rhino populations — another reason to celebrate World Wildlife Day.Both southern white rhinos and black rhinos are found in Kenya. According to historical data from Kenya Wildlife Service, the black rhino population in Kenya surpassed 20,000 in the 1970s, but intense pressure from poaching in the following years drastically reduced numbers to a mere 400 in 1987. Recovering this critically endangered keystone species has been a priority for Kenya, which recognizes the immense ecological value of rhinos and sees the rhino species as an emblem of the country’s spectacular offering for wildlife-based tourism. The recovery of the southern white rhino across the continent since the poaching crisis of the 1970-80s is considered a conservation success story. Although South Africa boasts the greatest population (over 18,000 now from roughly 200 in the 1990s), rhino range states like Kenya have played an important role in the southern white rhino’s comeback. Located in national protected areas as well as wildlife conservancies, southern white rhinos in Kenya are also benefiting from the country’s strong wildlife law enforcement policies.AWF Vice President, Species Conservation and Science, Dr Philip Muruthi and KWS Director General, Brig. (Rtd.) John Waweru at the launch of the White Rhino Conservation & Management Plan on World Wildlife Day 2022In addition to continuing robust anti-poaching measures, the objectives of the Kenya Wildlife Service’s White Rhino Conservation & Management Plan are centered around maintaining genetically healthy southern white rhino populations with improved monitoring, financing, and multi-stakeholder engagement. Prior to the launch of the action plan on World Wildlife Day, AWF has collaborated with the wildlife authority and other conservation organizations to assess the conservation status of the species while providing funding for critical activities. AWF Vice President, Species Conservation and Science, Dr Philip Muruthi and Species Protection Manager Nathan Gichohi provided technical expertise during site visits to rhino conservation areas and assisted in writing and compiling the action plan. Speaking at the launch event on World Wildlife Day, Cabinet Secretary of the Ministry of Tourism and Wildlife Najib Balala and KWS leadership lauded AWF and partner organizations for contributing to the action plan and thereby supporting the conservation and habitat management of southern white rhinos in Kenya.World Wildlife Day 2022 also marks the official call for entries to the second Benjamin Mkapa African Wildlife Photography Awards. From March 3 up to June 1, 2022, photographers of various expertise levels and ages — there is a category for young people under 18 — can submit their wildlife photography to this exciting global competition designed to share the message of wildlife conservation in Africa far and wide.Ingrid Vekemans' “White Rhinoceros Battle,” taken at the Solio Game Reserve, Kenya, won the Benjamin Mkapa African Wildlife Photography Award 2021 for the Wildlife at Risk categoryNamed after H.E. Benjamin Mkapa in honor of his lifelong commitment to conservation education, the inaugural photography contest in 2021 attracted 9,000 entries from 50 countries. Last October, as AWF celebrated 60 years since its establishment, the first-ever recipients of the Mkapa awards were announced. The exhibition at the Nairobi National Museum displaying the winning photography was open to the public and will be installed in Rwanda and Zimbabwe in the coming months. As in 2021, this year’s winners will also receive cash prizes and traditional sculptures in recognition of their achievement, in addition to being featured in Nature’s Best Photography Magazine’s special edition.> Learn more about the second annual Benjamin Mkapa African Wildlife Photography Awards\n",
            "\n",
            "\n",
            "Therefore, AWF made an important decision: on top of providing support for protected area management, the organization would also focus its interventions on local communities, ensuring that the people living adjacent to protected areas are cared for even as the pandemic sweeps through the continent, flattening rural economies and leaving scores hungry.Since April, AWF’s field teams have been busier than usual, distributing health and safety resources to communities and governments fighting to limit the spread of COVID-19. In Ethiopia’s Simien Mountains landscape, AWF’s ecologist Tibebu Simegn and his team have been distributing food rations to the vulnerable Gich community living at the periphery of the Simien Mountains National Park. Simegn’s team is also organizing a cash-for-work program that has seen hundreds of community members get paid to maintain the park.Their activities include picking up trash and clearing invasive weeds as well as repairing fences and other park infrastructure. Despite the lack of tourists visiting the Simiens, the park is not falling into disrepair. AWF believes that once the threat of COVID-19 has passed, the national park will be in good condition to start receiving visitors again.“We are targeting 566 individuals for the cash-for-work program. Not only are they cleaning the park and campsites up, they are also preparing tree nurseries and we’ve acquired seedlings so that they can start planting. We want to leave this park better than it was,” says Simegn.Abera Aman, a member of the Gich community who calls this rugged landscape home, speaks about the impacts of the ongoing COVID-19 pandemic.“Because of COVID-19, we are unable to go about our day-to-day income-generating activities, such as weaving. All of us are in serious trouble. So we are very grateful to the support from AWF. This support ensures the survival of many community members,” he says.Members of the Gich community living near Simien Mountains National Park wait for emergency food and heath supplies donated by AWFWhen the COVID-19 pandemic broke out in early 2020 and governments started tallying positive cases of the disease, no one knew that the world was on the brink of a watershed moment. Wildlife economies in rural Africa have since come undone, digging tourism-dependent communities deep into poverty and food insecurity.Figures from institutions that track development and economic trends paint a grim picture for the continent.“As a result of the pandemic, economic growth in sub-Saharan Africa will decline from 2.4 percent in 2019 to between -2.1 percent and -5.1 percent in 2020, depending on the success of measures taken to mitigate the pandemic’s effects. This means that the region will experience its first recession in 25 years,” according to the World Bank.This means loss of jobs and livelihoods and escalating food insecurity as food prices rise and purchasing power falls.For the Gich, who heavily rely on subsistence farming and wages from doing casual work in the tourism-reliant landscape, a total cessation of tourism due to the pandemic has led to greater economic vulnerability and distress. Life has always been tough, but the pandemic has only managed to strip away any economic cushioning that the community has been able to build for itself.This scenario is repeated across Africa.In Kenya’s Tsavo region, for instance, the ecolodge within the LUMO Community Wildlife Sanctuary has been shut since March when the country announced its first confirmed COVID-19 case. The local community has long depended on tourism to put food on the table and send their children to school, and now jobs and livelihoods are at stake. “I have had to put my staff on unpaid leave until we resume operations,” says Iain Leckie, who operates the Lions Bluff Lodge.With no revenues coming from tourism, conservation activities in the community-owned conservancy have either been scaled down or suspended, leading to a spike in poaching incidents.“Operations at the conservancy are at a standstill as a result of zero cashflows. We depend entirely on park fees paid by tourists to run activities like security patrols and community awareness. Due to losses in tourist revenues, security patrols have been suspended and some rangers have been sent home, leading to a spike in poaching incidents,” confirms Fredrick Thuva, the manager at LUMO Community Wildlife Sanctuary.Community wildlife scouts in the communally owned LUMO conservancy play an important role in human-wildlife conflict mitigation and wildlife monitoringThis state of affairs sparked AWF’s COVID-19 Emergency Response Plan. The activities under this plan have been designed to protect conservation gains as well as cushion communities against the worst effects of the pandemic. Working with government authorities in eastern, central and southern Africa, AWF is providing support for protected areas through the provision of food, personal protective equipment, and allowances for park rangers and community wildlife scouts to keep security patrols going. In addition, protected area authorities have received fuel for patrol vehicles, handwashing stations, temperature guns and hand sanitizers in order to keep their staff and visitors safe. At the community level, AWF is working to improve food security, access to information about the disease, and access to life-saving gloves, masks, and handwashing stations.AWF’s senior director for conservation projects and partnerships, Alistair Pole, is the person responsible for coordinating these multi-pronged efforts. He says that the organization has been deliberate in deciding where to focus its efforts for greatest impact, in order to correctly respond to the needs of our partners at this time.“COVID-19 has challenged us to think differently, reflecting on shifts we can make, on work we can intensify, and on the role we can play in listening to key stakeholders and amplifying their challenges and needs to governments and international donors,” he says.As African countries begin to ease lockdown measures put in place to limit the spread of the pandemic, many are hopeful that allowing freer movement will bolster trade and inject a much-needed booster shot to African economies, while also keeping the rates of infection down and preventing the mass casualties evidenced in other parts of the world. Through it all, AWF is committed to supporting African governments and filling the gaps to ensure the prosperity of the continent, its people, and its natural resources.> Learn how AWF helped women living near Dja Faunal Reserve to sew facemasks and make soap to fight COVID-19 in Cameroon\n"
          ]
        }
      ]
    },
    {
      "cell_type": "code",
      "source": [
        "clean_li_wildlife = li_wildlife.copy()"
      ],
      "metadata": {
        "id": "nrJTjj7kScsv"
      },
      "execution_count": null,
      "outputs": []
    },
    {
      "cell_type": "code",
      "source": [
        "clean_li_wildlife = [re.sub(r'http\\S+', '', text) for text in clean_li_wildlife]\n",
        "clean_li_wildlife = [re.sub(r\"@[A-Za-z0-9_]+\", '', text) for text in clean_li_wildlife]\n",
        "clean_li_wildlife = [re.sub(r\"#[A-Za-z0-9_]+\", '', text) for text in clean_li_wildlife]\n",
        "clean_li_wildlife = [text.replace('\"', '') for text in clean_li_wildlife]\n",
        "clean_li_wildlife = [text.replace('“', '') for text in clean_li_wildlife]\n",
        "clean_li_wildlife = [text.replace('”', '') for text in clean_li_wildlife]\n",
        "clean_li_wildlife = [text.replace('\\r', '') for text in clean_li_wildlife]"
      ],
      "metadata": {
        "id": "tRVt3VJ0SfhJ"
      },
      "execution_count": null,
      "outputs": []
    },
    {
      "cell_type": "code",
      "source": [
        "df_wildlife = pd.DataFrame(clean_li_wildlife, columns =['Text'])"
      ],
      "metadata": {
        "id": "A10EzhJ-ShXU"
      },
      "execution_count": null,
      "outputs": []
    },
    {
      "cell_type": "code",
      "source": [
        "df_wildlife.iloc[-1].Text"
      ],
      "metadata": {
        "colab": {
          "base_uri": "https://localhost:8080/",
          "height": 122
        },
        "id": "X0IxqU3DSjjq",
        "outputId": "efdfb1db-7236-4d14-abf9-a81a3efa6ebb"
      },
      "execution_count": null,
      "outputs": [
        {
          "output_type": "execute_result",
          "data": {
            "text/plain": [
              "'Therefore, AWF made an important decision: on top of providing support for protected area management, the organization would also focus its interventions on local communities, ensuring that the people living adjacent to protected areas are cared for even as the pandemic sweeps through the continent, flattening rural economies and leaving scores hungry.Since April, AWF’s field teams have been busier than usual, distributing health and safety resources to communities and governments fighting to limit the spread of COVID-19. In Ethiopia’s Simien Mountains landscape, AWF’s ecologist Tibebu Simegn and his team have been distributing food rations to the vulnerable Gich community living at the periphery of the Simien Mountains National Park. Simegn’s team is also organizing a cash-for-work program that has seen hundreds of community members get paid to maintain the park.Their activities include picking up trash and clearing invasive weeds as well as repairing fences and other park infrastructure. Despite the lack of tourists visiting the Simiens, the park is not falling into disrepair. AWF believes that once the threat of COVID-19 has passed, the national park will be in good condition to start receiving visitors again.We are targeting 566 individuals for the cash-for-work program. Not only are they cleaning the park and campsites up, they are also preparing tree nurseries and we’ve acquired seedlings so that they can start planting. We want to leave this park better than it was, says Simegn.Abera Aman, a member of the Gich community who calls this rugged landscape home, speaks about the impacts of the ongoing COVID-19 pandemic.Because of COVID-19, we are unable to go about our day-to-day income-generating activities, such as weaving. All of us are in serious trouble. So we are very grateful to the support from AWF. This support ensures the survival of many community members, he says.Members of the Gich community living near Simien Mountains National Park wait for emergency food and heath supplies donated by AWFWhen the COVID-19 pandemic broke out in early 2020 and governments started tallying positive cases of the disease, no one knew that the world was on the brink of a watershed moment. Wildlife economies in rural Africa have since come undone, digging tourism-dependent communities deep into poverty and food insecurity.Figures from institutions that track development and economic trends paint a grim picture for the continent.As a result of the pandemic, economic growth in sub-Saharan Africa will decline from 2.4 percent in 2019 to between -2.1 percent and -5.1 percent in 2020, depending on the success of measures taken to mitigate the pandemic’s effects. This means that the region will experience its first recession in 25 years, according to the World Bank.This means loss of jobs and livelihoods and escalating food insecurity as food prices rise and purchasing power falls.For the Gich, who heavily rely on subsistence farming and wages from doing casual work in the tourism-reliant landscape, a total cessation of tourism due to the pandemic has led to greater economic vulnerability and distress. Life has always been tough, but the pandemic has only managed to strip away any economic cushioning that the community has been able to build for itself.This scenario is repeated across Africa.In Kenya’s Tsavo region, for instance, the ecolodge within the LUMO Community Wildlife Sanctuary has been shut since March when the country announced its first confirmed COVID-19 case. The local community has long depended on tourism to put food on the table and send their children to school, and now jobs and livelihoods are at stake. I have had to put my staff on unpaid leave until we resume operations, says Iain Leckie, who operates the Lions Bluff Lodge.With no revenues coming from tourism, conservation activities in the community-owned conservancy have either been scaled down or suspended, leading to a spike in poaching incidents.Operations at the conservancy are at a standstill as a result of zero cashflows. We depend entirely on park fees paid by tourists to run activities like security patrols and community awareness. Due to losses in tourist revenues, security patrols have been suspended and some rangers have been sent home, leading to a spike in poaching incidents, confirms Fredrick Thuva, the manager at LUMO Community Wildlife Sanctuary.Community wildlife scouts in the communally owned LUMO conservancy play an important role in human-wildlife conflict mitigation and wildlife monitoringThis state of affairs sparked AWF’s COVID-19 Emergency Response Plan. The activities under this plan have been designed to protect conservation gains as well as cushion communities against the worst effects of the pandemic. Working with government authorities in eastern, central and southern Africa, AWF is providing support for protected areas through the provision of food, personal protective equipment, and allowances for park rangers and community wildlife scouts to keep security patrols going. In addition, protected area authorities have received fuel for patrol vehicles, handwashing stations, temperature guns and hand sanitizers in order to keep their staff and visitors safe. At the community level, AWF is working to improve food security, access to information about the disease, and access to life-saving gloves, masks, and handwashing stations.AWF’s senior director for conservation projects and partnerships, Alistair Pole, is the person responsible for coordinating these multi-pronged efforts. He says that the organization has been deliberate in deciding where to focus its efforts for greatest impact, in order to correctly respond to the needs of our partners at this time.COVID-19 has challenged us to think differently, reflecting on shifts we can make, on work we can intensify, and on the role we can play in listening to key stakeholders and amplifying their challenges and needs to governments and international donors, he says.As African countries begin to ease lockdown measures put in place to limit the spread of the pandemic, many are hopeful that allowing freer movement will bolster trade and inject a much-needed booster shot to African economies, while also keeping the rates of infection down and preventing the mass casualties evidenced in other parts of the world. Through it all, AWF is committed to supporting African governments and filling the gaps to ensure the prosperity of the continent, its people, and its natural resources.> Learn how AWF helped women living near Dja Faunal Reserve to sew facemasks and make soap to fight COVID-19 in Cameroon'"
            ],
            "application/vnd.google.colaboratory.intrinsic+json": {
              "type": "string"
            }
          },
          "metadata": {},
          "execution_count": 29
        }
      ]
    },
    {
      "cell_type": "code",
      "source": [
        "df_wildlife.to_csv(data_links + 'wildlife.csv',index=False)"
      ],
      "metadata": {
        "id": "PMoH9gGGSmqa"
      },
      "execution_count": null,
      "outputs": []
    },
    {
      "cell_type": "code",
      "source": [
        "#Done Flooding\n",
        "#To-DOwnload: witchcraft,wilflife,Health"
      ],
      "metadata": {
        "id": "RG3N2qtTz3M4"
      },
      "execution_count": null,
      "outputs": []
    }
  ]
}