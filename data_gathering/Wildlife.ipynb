{
 "cells": [
  {
   "cell_type": "markdown",
   "id": "546ac1bc",
   "metadata": {},
   "source": [
    "# Converts the English Wildlife data to chichewa using Google Translate"
   ]
  },
  {
   "cell_type": "code",
   "execution_count": 28,
   "id": "73400baf",
   "metadata": {},
   "outputs": [],
   "source": [
    "import pandas as pd\n",
    "import requests\n",
    "from typing import List, Dict, Tuple, Optional\n",
    "from tqdm import tqdm\n",
    "from googletrans import Translator\n",
    "from bs4 import BeautifulSoup as bs\n",
    "import re\n",
    "from sklearn.model_selection import train_test_split\n",
    "import numpy as np"
   ]
  },
  {
   "cell_type": "code",
   "execution_count": 2,
   "id": "f59c25ea",
   "metadata": {},
   "outputs": [],
   "source": [
    "# Using readlines()\n",
    "wildlife_df = pd.read_csv('Wildlife/wildlife.csv')"
   ]
  },
  {
   "cell_type": "code",
   "execution_count": 3,
   "id": "7cc065ad",
   "metadata": {},
   "outputs": [
    {
     "data": {
      "text/plain": [
       "(64, 1)"
      ]
     },
     "execution_count": 3,
     "metadata": {},
     "output_type": "execute_result"
    }
   ],
   "source": [
    "wildlife_df.shape"
   ]
  },
  {
   "cell_type": "code",
   "execution_count": 4,
   "id": "0db394ea",
   "metadata": {},
   "outputs": [
    {
     "data": {
      "text/plain": [
       "Text    Elephants are not afraid to walk long distance...\n",
       "Name: 0, dtype: object"
      ]
     },
     "execution_count": 4,
     "metadata": {},
     "output_type": "execute_result"
    }
   ],
   "source": [
    "wildlife_df.iloc[0]"
   ]
  },
  {
   "cell_type": "code",
   "execution_count": 5,
   "id": "b8e5851c",
   "metadata": {},
   "outputs": [],
   "source": [
    "data = pd.read_csv('Data/Train.csv')"
   ]
  },
  {
   "cell_type": "code",
   "execution_count": 6,
   "id": "cf33bfbd",
   "metadata": {},
   "outputs": [
    {
     "data": {
      "text/html": [
       "<div>\n",
       "<style scoped>\n",
       "    .dataframe tbody tr th:only-of-type {\n",
       "        vertical-align: middle;\n",
       "    }\n",
       "\n",
       "    .dataframe tbody tr th {\n",
       "        vertical-align: top;\n",
       "    }\n",
       "\n",
       "    .dataframe thead th {\n",
       "        text-align: right;\n",
       "    }\n",
       "</style>\n",
       "<table border=\"1\" class=\"dataframe\">\n",
       "  <thead>\n",
       "    <tr style=\"text-align: right;\">\n",
       "      <th></th>\n",
       "      <th>ID</th>\n",
       "      <th>Text</th>\n",
       "      <th>Label</th>\n",
       "    </tr>\n",
       "  </thead>\n",
       "  <tbody>\n",
       "    <tr>\n",
       "      <th>0</th>\n",
       "      <td>ID_AASHwXxg</td>\n",
       "      <td>Mwangonde: Khansala wachinyamata Akamati achi...</td>\n",
       "      <td>POLITICS</td>\n",
       "    </tr>\n",
       "    <tr>\n",
       "      <th>1</th>\n",
       "      <td>ID_AGoFySzn</td>\n",
       "      <td>MCP siidakhutire ndi kalembera Chipani cha Ma...</td>\n",
       "      <td>POLITICS</td>\n",
       "    </tr>\n",
       "    <tr>\n",
       "      <th>2</th>\n",
       "      <td>ID_AGrrkBGP</td>\n",
       "      <td>Bungwe la MANEPO Lapempha Boma Liganizire Anth...</td>\n",
       "      <td>HEALTH</td>\n",
       "    </tr>\n",
       "    <tr>\n",
       "      <th>3</th>\n",
       "      <td>ID_AIJeigeG</td>\n",
       "      <td>Ndale zogawanitsa miyambo zanyanya Si zachile...</td>\n",
       "      <td>POLITICS</td>\n",
       "    </tr>\n",
       "    <tr>\n",
       "      <th>4</th>\n",
       "      <td>ID_APMprMbV</td>\n",
       "      <td>Nanga wapolisi ataphofomoka? Masiku ano sichi...</td>\n",
       "      <td>LAW/ORDER</td>\n",
       "    </tr>\n",
       "  </tbody>\n",
       "</table>\n",
       "</div>"
      ],
      "text/plain": [
       "            ID                                               Text      Label\n",
       "0  ID_AASHwXxg   Mwangonde: Khansala wachinyamata Akamati achi...   POLITICS\n",
       "1  ID_AGoFySzn   MCP siidakhutire ndi kalembera Chipani cha Ma...   POLITICS\n",
       "2  ID_AGrrkBGP  Bungwe la MANEPO Lapempha Boma Liganizire Anth...     HEALTH\n",
       "3  ID_AIJeigeG   Ndale zogawanitsa miyambo zanyanya Si zachile...   POLITICS\n",
       "4  ID_APMprMbV   Nanga wapolisi ataphofomoka? Masiku ano sichi...  LAW/ORDER"
      ]
     },
     "execution_count": 6,
     "metadata": {},
     "output_type": "execute_result"
    }
   ],
   "source": [
    "data.head()"
   ]
  },
  {
   "cell_type": "code",
   "execution_count": 7,
   "id": "f3bcde41",
   "metadata": {},
   "outputs": [
    {
     "data": {
      "text/plain": [
       "' Mwangonde: Khansala wachinyamata Akamati achinyamata ndi atsogoleri a mawa, ambiri amaganiza kuti izi ndi nkhambakamwa chabe. Koma achinyamata ena, monga Lusubilo Mwangonde, akukwaniritsa akupherezetsa mawuwa osati pongolota kuti adzakhala, koma kutsogolera kumene chifukwa nthawi yawo yakwana. DAILES BANDA adacheza ndi Mwangonde, khansala wachinyama, yemwe akuimira Jumbo Ward mumzinda wa Mzuzu, motere:  Chisale watuluka nkumangidwanso  Sipakala waimitsa Nyumba ya Malamulo  Pa Wenela pasintha zedi Ali ndi masomphenya: Mwangonde Tikudziweni  Ndine Lusubilo Mwangonde, ndili ndi zaka 27 zakubadwa. Ndinabadwa mbanja la ana asanu ndipo ndine wachinayi kubadwa. Ndimachokera mmudzi mwa Mwamalopa, kwa Paramount Chief Kyungu mboma la Karonga. Sindili pabanja pakadalipano.\\n Mbiri ya maphunziro anu ndi yotani? Maphunziro anga a pulaimale ndidachitira kusukula yapulaiveti ya Viphya mumzinda wa Mzuzu ndipo asekondale ndidachitira pa Phwezi Boys mboma la Rumphi. Ndili ndi diploma ya Accounting ndipo pakadalipano ndikupanga digiri komanso Chartered Accounting kusukulu ya Malawi College of Accountancy (MCA).\\n Mudayamba bwanji zandale? Kuyambira ndili wachichepere, zaka 12, ndakhala ndikukhala mumaudindo a utgogoleri. Ichi ndi china mwa zinthu zomwe zidandilimbikitsa kuti ndikhoza kudzapambana pazisankho. Koma chachikulu chomwe chidandichititsa kuti ndilowe ukhansala chidali chifukwa chakuti ndinkafuna kupereka mpata kwa anthu kuti azitha kuyankhula zakukhosi kwawo polimbikitsa demokalase ndi chitukuko.\\n Ntchito mukugwira ndi zomwe munkayembekezera? Eya, ndiponso ndinkayembekezera zambiri.\\n Masomphenya anu ndi otani pandale? Ine ndine munthu wokhulupirira Mulungu ndipo ndili ndi chikhulupiriro choti Iye ndi amene adzandionetsere zomwe ndikuyera kuchita ndi tsogolo langa.\\n Zinthu zina zomwe mumachita ndi chiyani pambali pa ukhansala? Ndikakhala sindikugwira ntchito yaukhansala ndimakhala ndikuchita bizinesi, nthawi zina ndimakhala ndili kusukulu komwe ndikuchita maphuro anga a digiri. Kuonjezera pamenepo ndili ndi bungwe lomwe ndidayambitsa ndi anzanga ena la Centre for Participatory Democracy lomwe limalimbikitsa demokalase.\\n Zomwe mwakwanitsa ndi zotani? Ndathandiza kuti ntchito yopala misewu ya kudera la Moyale itheke. Misewuyi yakhala nthawi yaitali osapalidwa. Ndidathandiziranso kuti ochita malonda ayambe kumanga mashopu anjerwa ndi kusiya kumangira matabwa kapena zigwagwa. Ndidakwanitsanso kukaimirira khonsolo ya Mzuzu ku Nyumba ya Malamulo. Ndaonanso kuti ntchitoyi yandithandiza kusintha momwe ndimaonera zinthu komanso ndimakumana ndi anthu osiyanasiyana omwe amandiphunzitsa zinthu zambiri.\\n'"
      ]
     },
     "execution_count": 7,
     "metadata": {},
     "output_type": "execute_result"
    }
   ],
   "source": [
    "data['Text'][0]"
   ]
  },
  {
   "cell_type": "code",
   "execution_count": 15,
   "id": "c3f0df68",
   "metadata": {},
   "outputs": [
    {
     "data": {
      "text/plain": [
       "array(['ARTS AND CRAFTS', 'CULTURE', 'ECONOMY', 'EDUCATION', 'FARMING',\n",
       "       'FLOODING', 'HEALTH', 'LAW/ORDER', 'LOCALCHIEFS', 'MUSIC',\n",
       "       'OPINION/ESSAY', 'POLITICS', 'RELATIONSHIPS', 'RELIGION', 'SOCIAL',\n",
       "       'SOCIAL ISSUES', 'SPORTS', 'TRANSPORT', 'WILDLIFE/ENVIRONMENT',\n",
       "       'WITCHCRAFT'], dtype=object)"
      ]
     },
     "execution_count": 15,
     "metadata": {},
     "output_type": "execute_result"
    }
   ],
   "source": [
    "np.unique(data['Label'])"
   ]
  },
  {
   "cell_type": "code",
   "execution_count": 16,
   "id": "dddbee04",
   "metadata": {},
   "outputs": [
    {
     "data": {
      "text/html": [
       "<div>\n",
       "<style scoped>\n",
       "    .dataframe tbody tr th:only-of-type {\n",
       "        vertical-align: middle;\n",
       "    }\n",
       "\n",
       "    .dataframe tbody tr th {\n",
       "        vertical-align: top;\n",
       "    }\n",
       "\n",
       "    .dataframe thead th {\n",
       "        text-align: right;\n",
       "    }\n",
       "</style>\n",
       "<table border=\"1\" class=\"dataframe\">\n",
       "  <thead>\n",
       "    <tr style=\"text-align: right;\">\n",
       "      <th></th>\n",
       "      <th>ID</th>\n",
       "      <th>Text</th>\n",
       "      <th>Label</th>\n",
       "    </tr>\n",
       "  </thead>\n",
       "  <tbody>\n",
       "    <tr>\n",
       "      <th>9</th>\n",
       "      <td>ID_AcAFvvEl</td>\n",
       "      <td>Alosera mvula kugwa mochuluka Nthambi yoona z...</td>\n",
       "      <td>WILDLIFE/ENVIRONMENT</td>\n",
       "    </tr>\n",
       "    <tr>\n",
       "      <th>13</th>\n",
       "      <td>ID_AlMentDU</td>\n",
       "      <td>Chilengedwe chibwerere ku Mwanza Mapiri, nkha...</td>\n",
       "      <td>WILDLIFE/ENVIRONMENT</td>\n",
       "    </tr>\n",
       "    <tr>\n",
       "      <th>43</th>\n",
       "      <td>ID_CLayVWos</td>\n",
       "      <td>NGAMBA IOPSEZANSO CHAKA CHINOUNDUNA Chaka cha...</td>\n",
       "      <td>WILDLIFE/ENVIRONMENT</td>\n",
       "    </tr>\n",
       "    <tr>\n",
       "      <th>78</th>\n",
       "      <td>ID_DRCsFABS</td>\n",
       "      <td>MBS iletsa mafuta a mtimachubu Amalawi amene ...</td>\n",
       "      <td>WILDLIFE/ENVIRONMENT</td>\n",
       "    </tr>\n",
       "    <tr>\n",
       "      <th>85</th>\n",
       "      <td>ID_DWjlQjyO</td>\n",
       "      <td>Dziko la Bahamas Lilonjeza Kuthandiza Mzika Za...</td>\n",
       "      <td>WILDLIFE/ENVIRONMENT</td>\n",
       "    </tr>\n",
       "    <tr>\n",
       "      <th>108</th>\n",
       "      <td>ID_EIYNeYVJ</td>\n",
       "      <td>Njovu ipha mlenje Tsoka sasimba. Akanadziwa m...</td>\n",
       "      <td>WILDLIFE/ENVIRONMENT</td>\n",
       "    </tr>\n",
       "    <tr>\n",
       "      <th>276</th>\n",
       "      <td>ID_KezdVoQO</td>\n",
       "      <td>Akhristu Ali ndi Udindo Wosamalira Chilengedwe...</td>\n",
       "      <td>WILDLIFE/ENVIRONMENT</td>\n",
       "    </tr>\n",
       "    <tr>\n",
       "      <th>284</th>\n",
       "      <td>ID_KyNhavho</td>\n",
       "      <td>Lingalirani zobzala mitengo Mvula masiku ano ...</td>\n",
       "      <td>WILDLIFE/ENVIRONMENT</td>\n",
       "    </tr>\n",
       "    <tr>\n",
       "      <th>320</th>\n",
       "      <td>ID_MMoDCeVi</td>\n",
       "      <td>Mwambo wogwetsa simba Sukulu zatsekera ndipo ...</td>\n",
       "      <td>WILDLIFE/ENVIRONMENT</td>\n",
       "    </tr>\n",
       "    <tr>\n",
       "      <th>366</th>\n",
       "      <td>ID_OGXejpFI</td>\n",
       "      <td>K5 biliyoni yothana ndi matenda a mkungudza B...</td>\n",
       "      <td>WILDLIFE/ENVIRONMENT</td>\n",
       "    </tr>\n",
       "    <tr>\n",
       "      <th>424</th>\n",
       "      <td>ID_QFfJoCPG</td>\n",
       "      <td>Chimanga chikololedwa chochepaUnduna Kauniuni...</td>\n",
       "      <td>WILDLIFE/ENVIRONMENT</td>\n",
       "    </tr>\n",
       "    <tr>\n",
       "      <th>484</th>\n",
       "      <td>ID_SSEnDdet</td>\n",
       "      <td>Mlenje wakhapa mlimi ku Dedza Mlenje wina wa ...</td>\n",
       "      <td>WILDLIFE/ENVIRONMENT</td>\n",
       "    </tr>\n",
       "    <tr>\n",
       "      <th>529</th>\n",
       "      <td>ID_TfXmbEwe</td>\n",
       "      <td>Ndi Udindo wa Amalawi Kutetedza Chilengedwe- S...</td>\n",
       "      <td>WILDLIFE/ENVIRONMENT</td>\n",
       "    </tr>\n",
       "    <tr>\n",
       "      <th>613</th>\n",
       "      <td>ID_XKVTXwGk</td>\n",
       "      <td>Papa ndi Wokhudzidwa ndi Kutenthedwa kwa Nkhal...</td>\n",
       "      <td>WILDLIFE/ENVIRONMENT</td>\n",
       "    </tr>\n",
       "    <tr>\n",
       "      <th>697</th>\n",
       "      <td>ID_aFVFNJvZ</td>\n",
       "      <td>Sukulu ya St. Anthony Ipempha Mabungwe Athandi...</td>\n",
       "      <td>WILDLIFE/ENVIRONMENT</td>\n",
       "    </tr>\n",
       "    <tr>\n",
       "      <th>712</th>\n",
       "      <td>ID_aksdRkdH</td>\n",
       "      <td>MET Yachenjeza za Mvula Yamphamvu Nthambi yowo...</td>\n",
       "      <td>WILDLIFE/ENVIRONMENT</td>\n",
       "    </tr>\n",
       "    <tr>\n",
       "      <th>750</th>\n",
       "      <td>ID_cFBCiTVB</td>\n",
       "      <td>Madzi siosewera nawo, maka nthawi yamvula Mad...</td>\n",
       "      <td>WILDLIFE/ENVIRONMENT</td>\n",
       "    </tr>\n",
       "    <tr>\n",
       "      <th>816</th>\n",
       "      <td>ID_dupGjsvy</td>\n",
       "      <td>Alimbikitsa Achinyamata Asamalire Chilengedwe ...</td>\n",
       "      <td>WILDLIFE/ENVIRONMENT</td>\n",
       "    </tr>\n",
       "    <tr>\n",
       "      <th>830</th>\n",
       "      <td>ID_ePOUZImk</td>\n",
       "      <td>Kusintha Kwa Nyengo Kukuphwanya Maufulu a Anth...</td>\n",
       "      <td>WILDLIFE/ENVIRONMENT</td>\n",
       "    </tr>\n",
       "    <tr>\n",
       "      <th>853</th>\n",
       "      <td>ID_fTzZntaX</td>\n",
       "      <td>Boma likonzekera el ninochilima Boma lati ali...</td>\n",
       "      <td>WILDLIFE/ENVIRONMENT</td>\n",
       "    </tr>\n",
       "    <tr>\n",
       "      <th>861</th>\n",
       "      <td>ID_fjkdWbOP</td>\n",
       "      <td>CCMP Ipempha Atolankhani Alimbikitse Nkhani za...</td>\n",
       "      <td>WILDLIFE/ENVIRONMENT</td>\n",
       "    </tr>\n",
       "    <tr>\n",
       "      <th>868</th>\n",
       "      <td>ID_gJPzCkSz</td>\n",
       "      <td>Mvula iwononga katundu ku Phalombe Inde mvula...</td>\n",
       "      <td>WILDLIFE/ENVIRONMENT</td>\n",
       "    </tr>\n",
       "    <tr>\n",
       "      <th>941</th>\n",
       "      <td>ID_iuniskQn</td>\n",
       "      <td>DODMA Yakhazikitsa Ndondomeko Zatsopano ku Ded...</td>\n",
       "      <td>WILDLIFE/ENVIRONMENT</td>\n",
       "    </tr>\n",
       "    <tr>\n",
       "      <th>955</th>\n",
       "      <td>ID_jWTKonot</td>\n",
       "      <td>Abzala mitengo ku Neno Kukuphopholedwa miteng...</td>\n",
       "      <td>WILDLIFE/ENVIRONMENT</td>\n",
       "    </tr>\n",
       "    <tr>\n",
       "      <th>1073</th>\n",
       "      <td>ID_oewswldK</td>\n",
       "      <td>Ana ndi Ofunika Pobwezeretsa Chilengedwe-BT Ar...</td>\n",
       "      <td>WILDLIFE/ENVIRONMENT</td>\n",
       "    </tr>\n",
       "    <tr>\n",
       "      <th>1106</th>\n",
       "      <td>ID_pcGZtcSY</td>\n",
       "      <td>Chipalamba ku Malawi Dziko la Malawi likusand...</td>\n",
       "      <td>WILDLIFE/ENVIRONMENT</td>\n",
       "    </tr>\n",
       "    <tr>\n",
       "      <th>1149</th>\n",
       "      <td>ID_qvVfecZg</td>\n",
       "      <td>Akupitilira Kukumana Ndi Zokhoma Kamba ka Ngoz...</td>\n",
       "      <td>WILDLIFE/ENVIRONMENT</td>\n",
       "    </tr>\n",
       "    <tr>\n",
       "      <th>1215</th>\n",
       "      <td>ID_tCswXDAu</td>\n",
       "      <td>Anthu Atenge Gawo Pothana ndi Kusintha kwa Nye...</td>\n",
       "      <td>WILDLIFE/ENVIRONMENT</td>\n",
       "    </tr>\n",
       "    <tr>\n",
       "      <th>1223</th>\n",
       "      <td>ID_tRLfuqWa</td>\n",
       "      <td>Dzombe Zavuta Kwambiri Kumvuma Kwa Africa Bung...</td>\n",
       "      <td>WILDLIFE/ENVIRONMENT</td>\n",
       "    </tr>\n",
       "    <tr>\n",
       "      <th>1237</th>\n",
       "      <td>ID_tfDBvwpe</td>\n",
       "      <td>Bwanamkubwa Achenjeza za Ngozi Zogwa Mwadzidzi...</td>\n",
       "      <td>WILDLIFE/ENVIRONMENT</td>\n",
       "    </tr>\n",
       "    <tr>\n",
       "      <th>1239</th>\n",
       "      <td>ID_thIPFGvu</td>\n",
       "      <td>Amayi Ali Ndikuthekera Kothana Ndi Kusintha Kw...</td>\n",
       "      <td>WILDLIFE/ENVIRONMENT</td>\n",
       "    </tr>\n",
       "    <tr>\n",
       "      <th>1292</th>\n",
       "      <td>ID_vGkgBuko</td>\n",
       "      <td>Lekani kulozanalozana, nyengo yasinthaMET Nth...</td>\n",
       "      <td>WILDLIFE/ENVIRONMENT</td>\n",
       "    </tr>\n",
       "    <tr>\n",
       "      <th>1314</th>\n",
       "      <td>ID_vvLErRoV</td>\n",
       "      <td>Kutentha koonjeza kuzinga maiko A nthambi yoo...</td>\n",
       "      <td>WILDLIFE/ENVIRONMENT</td>\n",
       "    </tr>\n",
       "    <tr>\n",
       "      <th>1327</th>\n",
       "      <td>ID_wQuieCQo</td>\n",
       "      <td>Maphunziro a chidyerano cha chimbudzi athandi...</td>\n",
       "      <td>WILDLIFE/ENVIRONMENT</td>\n",
       "    </tr>\n",
       "    <tr>\n",
       "      <th>1365</th>\n",
       "      <td>ID_xdfdGUdt</td>\n",
       "      <td>Green Light Foundation Idzala Mitengo Mndende ...</td>\n",
       "      <td>WILDLIFE/ENVIRONMENT</td>\n",
       "    </tr>\n",
       "    <tr>\n",
       "      <th>1370</th>\n",
       "      <td>ID_xvhKvauj</td>\n",
       "      <td>Kuwonongeka kwa Nkhalango ya Amazon Kutha Kubw...</td>\n",
       "      <td>WILDLIFE/ENVIRONMENT</td>\n",
       "    </tr>\n",
       "  </tbody>\n",
       "</table>\n",
       "</div>"
      ],
      "text/plain": [
       "               ID                                               Text  \\\n",
       "9     ID_AcAFvvEl   Alosera mvula kugwa mochuluka Nthambi yoona z...   \n",
       "13    ID_AlMentDU   Chilengedwe chibwerere ku Mwanza Mapiri, nkha...   \n",
       "43    ID_CLayVWos   NGAMBA IOPSEZANSO CHAKA CHINOUNDUNA Chaka cha...   \n",
       "78    ID_DRCsFABS   MBS iletsa mafuta a mtimachubu Amalawi amene ...   \n",
       "85    ID_DWjlQjyO  Dziko la Bahamas Lilonjeza Kuthandiza Mzika Za...   \n",
       "108   ID_EIYNeYVJ   Njovu ipha mlenje Tsoka sasimba. Akanadziwa m...   \n",
       "276   ID_KezdVoQO  Akhristu Ali ndi Udindo Wosamalira Chilengedwe...   \n",
       "284   ID_KyNhavho   Lingalirani zobzala mitengo Mvula masiku ano ...   \n",
       "320   ID_MMoDCeVi   Mwambo wogwetsa simba Sukulu zatsekera ndipo ...   \n",
       "366   ID_OGXejpFI   K5 biliyoni yothana ndi matenda a mkungudza B...   \n",
       "424   ID_QFfJoCPG   Chimanga chikololedwa chochepaUnduna Kauniuni...   \n",
       "484   ID_SSEnDdet   Mlenje wakhapa mlimi ku Dedza Mlenje wina wa ...   \n",
       "529   ID_TfXmbEwe  Ndi Udindo wa Amalawi Kutetedza Chilengedwe- S...   \n",
       "613   ID_XKVTXwGk  Papa ndi Wokhudzidwa ndi Kutenthedwa kwa Nkhal...   \n",
       "697   ID_aFVFNJvZ  Sukulu ya St. Anthony Ipempha Mabungwe Athandi...   \n",
       "712   ID_aksdRkdH  MET Yachenjeza za Mvula Yamphamvu Nthambi yowo...   \n",
       "750   ID_cFBCiTVB   Madzi siosewera nawo, maka nthawi yamvula Mad...   \n",
       "816   ID_dupGjsvy  Alimbikitsa Achinyamata Asamalire Chilengedwe ...   \n",
       "830   ID_ePOUZImk  Kusintha Kwa Nyengo Kukuphwanya Maufulu a Anth...   \n",
       "853   ID_fTzZntaX   Boma likonzekera el ninochilima Boma lati ali...   \n",
       "861   ID_fjkdWbOP  CCMP Ipempha Atolankhani Alimbikitse Nkhani za...   \n",
       "868   ID_gJPzCkSz   Mvula iwononga katundu ku Phalombe Inde mvula...   \n",
       "941   ID_iuniskQn  DODMA Yakhazikitsa Ndondomeko Zatsopano ku Ded...   \n",
       "955   ID_jWTKonot   Abzala mitengo ku Neno Kukuphopholedwa miteng...   \n",
       "1073  ID_oewswldK  Ana ndi Ofunika Pobwezeretsa Chilengedwe-BT Ar...   \n",
       "1106  ID_pcGZtcSY   Chipalamba ku Malawi Dziko la Malawi likusand...   \n",
       "1149  ID_qvVfecZg  Akupitilira Kukumana Ndi Zokhoma Kamba ka Ngoz...   \n",
       "1215  ID_tCswXDAu  Anthu Atenge Gawo Pothana ndi Kusintha kwa Nye...   \n",
       "1223  ID_tRLfuqWa  Dzombe Zavuta Kwambiri Kumvuma Kwa Africa Bung...   \n",
       "1237  ID_tfDBvwpe  Bwanamkubwa Achenjeza za Ngozi Zogwa Mwadzidzi...   \n",
       "1239  ID_thIPFGvu  Amayi Ali Ndikuthekera Kothana Ndi Kusintha Kw...   \n",
       "1292  ID_vGkgBuko   Lekani kulozanalozana, nyengo yasinthaMET Nth...   \n",
       "1314  ID_vvLErRoV   Kutentha koonjeza kuzinga maiko A nthambi yoo...   \n",
       "1327  ID_wQuieCQo   Maphunziro a chidyerano cha chimbudzi athandi...   \n",
       "1365  ID_xdfdGUdt  Green Light Foundation Idzala Mitengo Mndende ...   \n",
       "1370  ID_xvhKvauj  Kuwonongeka kwa Nkhalango ya Amazon Kutha Kubw...   \n",
       "\n",
       "                     Label  \n",
       "9     WILDLIFE/ENVIRONMENT  \n",
       "13    WILDLIFE/ENVIRONMENT  \n",
       "43    WILDLIFE/ENVIRONMENT  \n",
       "78    WILDLIFE/ENVIRONMENT  \n",
       "85    WILDLIFE/ENVIRONMENT  \n",
       "108   WILDLIFE/ENVIRONMENT  \n",
       "276   WILDLIFE/ENVIRONMENT  \n",
       "284   WILDLIFE/ENVIRONMENT  \n",
       "320   WILDLIFE/ENVIRONMENT  \n",
       "366   WILDLIFE/ENVIRONMENT  \n",
       "424   WILDLIFE/ENVIRONMENT  \n",
       "484   WILDLIFE/ENVIRONMENT  \n",
       "529   WILDLIFE/ENVIRONMENT  \n",
       "613   WILDLIFE/ENVIRONMENT  \n",
       "697   WILDLIFE/ENVIRONMENT  \n",
       "712   WILDLIFE/ENVIRONMENT  \n",
       "750   WILDLIFE/ENVIRONMENT  \n",
       "816   WILDLIFE/ENVIRONMENT  \n",
       "830   WILDLIFE/ENVIRONMENT  \n",
       "853   WILDLIFE/ENVIRONMENT  \n",
       "861   WILDLIFE/ENVIRONMENT  \n",
       "868   WILDLIFE/ENVIRONMENT  \n",
       "941   WILDLIFE/ENVIRONMENT  \n",
       "955   WILDLIFE/ENVIRONMENT  \n",
       "1073  WILDLIFE/ENVIRONMENT  \n",
       "1106  WILDLIFE/ENVIRONMENT  \n",
       "1149  WILDLIFE/ENVIRONMENT  \n",
       "1215  WILDLIFE/ENVIRONMENT  \n",
       "1223  WILDLIFE/ENVIRONMENT  \n",
       "1237  WILDLIFE/ENVIRONMENT  \n",
       "1239  WILDLIFE/ENVIRONMENT  \n",
       "1292  WILDLIFE/ENVIRONMENT  \n",
       "1314  WILDLIFE/ENVIRONMENT  \n",
       "1327  WILDLIFE/ENVIRONMENT  \n",
       "1365  WILDLIFE/ENVIRONMENT  \n",
       "1370  WILDLIFE/ENVIRONMENT  "
      ]
     },
     "execution_count": 16,
     "metadata": {},
     "output_type": "execute_result"
    }
   ],
   "source": [
    "data.loc[data['Label'] == 'WILDLIFE/ENVIRONMENT']"
   ]
  },
  {
   "cell_type": "code",
   "execution_count": 17,
   "id": "18bf6ed5",
   "metadata": {},
   "outputs": [],
   "source": [
    "from googletrans import Translator"
   ]
  },
  {
   "cell_type": "code",
   "execution_count": 18,
   "id": "d58aa818",
   "metadata": {},
   "outputs": [],
   "source": [
    "def get_free_proxies():\n",
    "    url = \"https://free-proxy-list.net/\"\n",
    "    # get the HTTP response and construct soup object\n",
    "    soup = bs(requests.get(url).content, \"html.parser\")\n",
    "    proxies = []\n",
    "    #print(soup)\n",
    "    for row in soup.find(\"table\", attrs={\"class\": \"table table-striped table-bordered\"}).find_all(\"tr\")[1:]:\n",
    "        tds = row.find_all(\"td\")\n",
    "        try:\n",
    "            ip = tds[0].text.strip()\n",
    "            port = tds[1].text.strip()\n",
    "            host = f\"{ip}:{port}\"\n",
    "            proxies.append(host)\n",
    "        except IndexError:\n",
    "            continue\n",
    "    return proxies"
   ]
  },
  {
   "cell_type": "code",
   "execution_count": 19,
   "id": "4de263d2",
   "metadata": {},
   "outputs": [],
   "source": [
    "translator = Translator(proxies=get_free_proxies())"
   ]
  },
  {
   "cell_type": "code",
   "execution_count": 20,
   "id": "5640a4a2",
   "metadata": {},
   "outputs": [
    {
     "data": {
      "text/plain": [
       "\"Mwangonde: A young councilor When they say young people are the leaders of tomorrow, many think that this is just a myth. But some young people, such as Lusubilo Mwangonde, are fulfilling this promise by not just pretending to be, but taking the lead because their time has come. DAILES BANDA spoke to Mwangonde, a wildlife councilor representing Jumbo Ward in Mzuzu, as follows: Chisale has been re-arrested Sipakala has suspended Parliament in Wenela I was born in a family of five children and am the fourth born. I come from Mwamalopa village, Paramount Chief Kyungu in Karonga district. I'm not married yet.\\n What is your educational background? My primary education was at Viphya Private School in Mzuzu and my high school education was at Phwezi Boys' Rumphi District. I have a Diploma in Accounting and am currently pursuing a degree and Chartered Accounting at the Malawi College of Accountancy (MCA).\\n How did you get into politics? Ever since I was a teenager, 12 years old, I have been in leadership positions. This is one of the things that inspired me to be able to win elections. But the main reason I went to the council was because I wanted to give people a chance to express their views in promoting democracy and development.\\n Are you working on what you expected? Yeah, and I was expecting a lot more.\\n What is your political vision? I am a person who believes in God and has faith that He is the one who will show me what I should do with my future.\\n What are some of the things you do besides counseling? When I don't work as a councilor I do business, sometimes I go to school where I do my degree. In addition I have an organization founded by some of my colleagues the Center for Participatory Democracy that promotes democracy.\\n What are your achievements? I helped make the Moyale road construction project possible. The roads have long been unpaved. I also helped retailers to start building brick shops and to stop building timber or masonry. I was also able to represent Mzuzu in Parliament. I also find that this work has helped me to change my attitude and to meet different people who teach me a lot of things.\""
      ]
     },
     "execution_count": 20,
     "metadata": {},
     "output_type": "execute_result"
    }
   ],
   "source": [
    "translator.translate(data['Text'][0],src='ny',dest='en').text"
   ]
  },
  {
   "cell_type": "code",
   "execution_count": 21,
   "id": "1d1a9c6c",
   "metadata": {},
   "outputs": [
    {
     "name": "stdout",
     "output_type": "stream",
     "text": [
      "Elephants are not afraid to walk long distances. In 2016, one elephant walked nearly 130 miles from Kenya to Somalia in just three weeks. In 2020, 15 elephants in China set off on a 310-mile journey, capturing global attention.Considering these viral migrations, it is fitting that 16-year-old Cole Culver’s plan to raise awareness for elephants involved a long journey by foot.Last year, Mike Culver encouraged his son Cole to find a way to give back. Some people suggested that Cole, who is autistic, should do something to benefit autism. Mike pushed him to think about others instead.I think it’s very important for him to understand that the world does not revolve around our own issues, but around everyone’s issues, said Mike.Cole knew who he wanted to help: elephants, his favorite animal. After doing some research, Cole and his family found African Wildlife Foundation. They wanted to ensure that the money they raised was not focused narrowly on wildlife but was helping people — through human-wildlife conflict mitigation, redress for crops destroyed by wandering elephants, green jobs growth, and more.> Learn about the threats facing Africa’s elephants and how we can helpLike many elephants, Cole loves to go on long walks. In the spring of 2021, he set up a program: he pledged to walk 75 miles in two months, and others in his community in central Massachusetts would donate toward African elephant conservation.There are some people that have these amazing talents, said Mike. There are artists, writers… Cole’s thing is he likes to walk. He would just walk forever if he could. That was his skill that he could bring to the table.Friends and family had spread the word about Cole’s walks, and the number of gifts continued to add up. It’s just so amazing how many people contributed. Even people who just met Cole in passing would give 5 or 10 dollars.What we were expecting was about US$ 150, said Mike. We ended up getting US$ 2,165.Cole walked from April 1 to June 1, 2021. On the last day, after reaching the 75-mile finish line in the rain, Cole sent out a video to thank his supporters — followed by letters with a hand-made elephant drawing by Cole.I would feel sad if all the elephants were extinct, said Cole in his letter. I am so happy you wanted to help the elephants too.Cole Culver's walk for elephant conservation in Africa received over US$ 2,000 in donationsOthers in Cole’s life have applauded his dedication to elephants. He is one of the kindest, politest, and sweetest young men you’ll ever meet, said Rosanne Dillon, Cole’s paraprofessional since 2nd grade. I think people will be inspired by his spirit, unselfishness, and commitment to the elephant.The next few decades will be critical in the fight to stop biodiversity loss. Young people are best equipped to carry on the fight for wildlife for generations to come.For years, African Wildlife Foundation has acknowledged the need to actively engage the youth in conservation for the sustainability of our future, said Laurie Channer, AWF’s Senior Manager, Membership. It is so encouraging to see young people, like Cole, volunteer their time and effort to make a difference for elephants and all species.Channer encouraged young people to follow Cole’s example and get creative with how they can raise awareness for issues like species conservation, biodiversity loss, and sustainable development.Our young AWF members can raise awareness among their friends and neighbors, on social media, or wherever you can make yourself heard — and become a new generation of much-needed conservation advocates and leaders.Inspired by how much he was able to help, Cole is planning to walk again this year. This time, he’s upped the target to 150 miles over three months, starting in April. Here is to another successful journey for a teenager with an elephant-sized heart for helping others.April 2 is World Autism Awareness Day\n",
      "Belise Kariza, African Wildlife Foundation’s Country Director, Rwanda, did not fully understand the impact of wildlife and wild lands on a country’s economy and the lives of its people until she joined public service in 2015, running Rwanda’s tourism agenda.For close to six years, Kariza was the Chief Tourism Officer at the Rwanda Development Board. She helped drive the growth of Rwanda’s tourism sector and even partnered on projects with AWF. With a background in international business and operations, she is now in charge of AWF’s conservation programs in Rwanda.As the world marked International Women’s Day on March 8, Kariza opened up about her vision for conservation in Rwanda and her desire to see more youth and women getting involved in conservation.Humbling and extremely inspiring. It was only when I joined the tourism and conservation industry that I put the pieces together and really fell in love with conservation. I understand conservation much differently now; its impact on a country, its people, its economy, and the entire continent. I have learned a lot, and I am blessed to be put in a position where I can find solutions to conservation issues and impact my country and our continent. And, importantly, I have the opportunity to inspire young girls to contribute to conservation in Africa.My objective is to ensure that Rwanda becomes one of the priority focus countries because of the success of the programs we are implementing, one of them being the Volcanoes National Park expansion. This program is hugely transformational at the conservation level. And if done with the local community, the mountain gorillas, and the country's economic development at heart, it will be an exceptional proof of concept that development and conservation go hand in hand. As such, I am constantly thinking of how to ensure that our different stakeholders understand and endorse this park expansion program and who to engage in making sure that we get more donors on board.Beyond the expansion of Volcanoes National Park, I also aim to contribute to AWF's image as the go-to conservation organization on the continent — by seeing to it that our work in Rwanda presents that vision and trust-building with all stakeholders, whether it is the government, local communities, donors, or the media.Mountain gorilla tourism in Rwanda contributes to community development and economic growthIn Rwanda, there has been a deliberate political will behind empowering women in different sectors and industries — including conservation — and specifically, the management of tourism entities and conservation organizations. For example, our Minister of Environment, and both the CEO and the Head of Tourism and Conservation of the Rwanda Development Board are all women. There have also been many actions to empower women in the field. For instance, one of our veteran veterinarians who has been taking care of gorillas for more than 30 years is a woman. In addition, we have young and dynamic guides and trackers who are women.These women play a significant role in conservation because they understand what tourism and conservation can do for their families, and they contribute significantly to the economic development of Rwanda.Leading by example is the best way we can influence other women. Being a woman and contributing to transformational wildlife and wild lands conservation methods and approaches is hopefully a testimony that women own a place in conservation and could positively impact this sector.Breaking the bias begins with ourselves. We have been conditioned as women to feel like it is a privilege to be seated at the table, but it is not. We are educated, we have acquired experience, and we have earned our place at the table. I am proud to be part of AWF, which leads by example by giving women many opportunities, including in leadership positions.I want to remind women to embrace the fact that they are meant to play a part and to bring forward transformational ideas that could change the world.Just go for it. It is an amazing sector, and it has different layers to it that need the contribution of young African women, specifically. They need to get to it because wildlife and wild lands are part of who we are. We should not get it twisted; the species in our continent are as much African as we are, so we must conserve and protect them.It would be fundamental to focus on mentorship programs through which we can nurture young women, even from secondary school level, and groom them to be the future CEOs, rangers, trackers of this continent.> Learn what motivates Nancy Githaiga, AWF's Country Director, Kenya, to amplify the role of women in conservation \n",
      "Intensive conservation efforts over the last few decades saved the mountain gorilla from extinction. Securing a larger forest habitat for the growing population will allow the endangered species to flourish. In January 2018, African Wildlife Foundation donated a 27.8-hectare parcel of land adjacent to Volcanoes National Park to the Rwanda Development Board, effectively expanding the protected area.The donation marked the first expansion to the park in nearly 30 years. It also cemented AWF’s years-long commitment to recover the mountain gorilla and ensure that local communities benefit from conservation. The historic park expansion and partnership between AWF and the Government of Rwanda has since birthed an innovative conservation strategy that adds 3,740 hectares of afromontane habitat for Rwanda’s mountain gorillas (thereby boosting viewing opportunities for tourists) and improving the quality of life of thousands of people settled around the protected area.As the Government of Rwanda’s technical advisor for this innovative and resource-intensive initiative, AWF invites partnerships for a pilot phase of the expansion focused on recovering 450 hectares of mountain gorilla habitat in the Bisoke area. The pilot program seeks to enlist 500 families to contribute to the process, which involves ecological restoration, provision of social amenities, and the introduction of sustainable economic activities.With the support of Ubuntu Travel, Wilderness Safaris, Elephant Cooperation, Rwanda Development Board, and Swarovski Optik, AWF is holding a panel discussion and information session in Costa Mesa, California, on April 14, 2022. AWF Senior Vice President Craig Sholley is one of the panelists. He spent his early career studying mountain gorillas in Karisoke with Dian Fossey and later joined a National Geographic team assessing Rwanda’s mountain gorillas after the civil war. He notes, A growing gorilla population requires more space and this is why the Volcanoes National Park expansion program is so important. At AWF, Sholley has overseen the organization’s history of mountain gorilla conservation, including the development of the community-owned Sabyinyo Silverback Lodge and the park expansion in 2018. He adds, The land AWF donated is already receiving visits from gorillas living in that part of the park. As the park grows and gorillas thrive, local Rwandan businesses do better because of increased tourism in the region.\n",
      "Mountain gorillas are found across the Virunga Massif, a volcanic, forested mountain range connecting the borders of Uganda, Rwanda, and the Democratic Republic of Congo. These are the only African countries home to mountain gorillas, and each has faced significant challenges in maintaining wildlife populations and habitats. Currently, Rwanda holds the largest population of mountain gorillas, and they are all habituated in the Volcanoes National Park.Rwanda’s mountain gorilla population has grown over the past four decades as a result of a sustained partnership between conservation NGOs like AWF and the Government of Rwanda that links a successful future for gorillas to the improvement of livelihoods of local people, says Sholley. Using this approach, both wildlife and people are better off and this is what gives me hope for the future.In addition to Sholley, AWF’s Belise Kariza and Edwin Tambara will share their insights on the significance of expanding Volcanoes National Park in the panel discussion moderated by Vice Chair of AWF’s Board of Trustees Larry Green. Kariza served as Chief Tourism Officer at the Rwanda Development Board before taking up her role as AWF Country Director, Rwanda in 2021. As Director, Global Leadership, Tambara draws on more than a decade of experience in conservation strategy focusing on business and tourism planning and program development.Describing the Volcanoes National Park as a cornerstone of the mountain gorilla’s recovery in the last few decades, Tambara notes that poaching incidents in the protected area are extremely rare. This is not a chance phenomenon but a testimony to the positive attitudes and role that local communities have played with the park. We have witnessed local communities benefit in tangible ways from tourism in Volcanoes National Park mostly driven by mountain gorillas. A holistic expansion of the protected area as envisioned opens up further opportunities for communities living next to the park. He underscores the broader potential of the initiative: As the expansion is part of a wider conservation and development masterplan, it will attract investment capital and businesses in other sectors of the economy, stimulating economic growth in the region.The in-person panel discussion on April 14 will be livestreamed to a global audience. Green notes, Through this event, we’ll be able to bring awareness to people in Orange County and the world about Rwanda and just how forward-thinking this country is on so many fronts. Specifically, its partnerships with AWF, local communities, and the private sector to further economic development and improve the lives and livelihoods of people — all whilst expanding on an already successful conservation model that fosters increasing natural habitat and mountain gorilla population growth.> Register for the event to learn more about Rwanda’s mountain gorillas and partner with AWF\n",
      "Underneath the soil and within the earth, the world is not quiet. Down below insects slither, small rodents and reptiles tunnel and call to one another, plant roots shuffle the soil as they stretch out — each casting an acoustic shadow. Some of the noises are byproducts of movement. But some of the underground signaling, noisy or noiseless, are important exchanges between these subterranean neighbors.Trees are one of these signalers. Underground, trees communicate with one another via a network of fungi interlaced with tree roots — a system known as mycorrhizal networks. Trees of the same species, and sometimes other species, will cooperate. Sharing nutrients, water, and information, they form an interdependent bond with the others. The information shared via chemical, hormonal, and electrical signals concerns environmental factors: droughts, disease, insects — the need-to-knows of the tree world.It might not be a consortium in the typical sense, but there is good reason for trees to take part in the conversation. A stable, healthy forest is the best environment for trees. Sharing resources sets trees up for success and, critically, allows them to regulate the ecological conditions they rely on. It is this mysterious but beautiful collaboration down below that allows the forest atop to grow full, strong, and tall.The forest’s far more visible community is the one above the ground. Forests cover 31 percent of the Earth’s land surface, granting homes to countless wildlife. Across the world, they provide habitat for 68 percent of mammal species, 75 percent of bird species, and 80 percent of amphibian species.Leopards are commonly found in treesAfrica hosts 17 percent of the world’s forests and 31 percent of the woodlands. Inside these diverse and varied forest landscapes are some of Africa’s most iconic and celebrated wildlife species: mountain gorillas, forest elephants, leopards, bonobos, chimpanzees, African grey parrots, okapis, and more.Sharing this space in much of the world, are people who live alongside the wildlife and likewise depend on the resources of the forest. These communities look to the forest for food, medicine, and materials. Even for those who live hundreds of miles away, intact forests serve as water towers, the source of rivers and streams that support millions.Forests are one of earth’s vital organs. But they are increasingly under threat. Almost three million hectares of Africa’s forests are lost each year.In the North Region of Cameroon, close to the Nigeria border, is the 330,000-hectare Faro National Park. The semi-arid landscape’s wildlife is diverse: giraffe, leopard, black-and-white colobus, defassa waterbuck, and forest buffalo have all been spotted roaming the forested lands. More than 900 hippopotamus populate the waterways, swimming alongside 70 or more species of fish. And the air is brightened by the 250 bird species flying through.A Cameroon National Observatory on Climate Change report states that between 2000 and 2017, Cameroon lost over 1.5 million hectares of forest. Combined with issues of desertification, deforestation, climate change, and food insecurity, the region was endangered with potentially disastrous consequences.Schoolchildren in the Faro landscape participate in tree planting days organized by AWFAfrican Wildlife Foundation has worked in the Faro landscape since 2017, facilitating land-use planning discussions with various local stakeholders, including communities from nearby villages. One of the solutions to emerge out of the first of many forums was tree-planting. Reforesting critical areas around the landscape with trees benefits both the community and the wildlife — for instance, boosting food security, calming the microclimate, supporting honey production, and restoring wildlife habitat.Since 2019 about 8,000 saplings have been planted. The success rates of sapling survival are relative, explains Adamou Aboubakar, Faro Community Development Officer. But they have ranged from 40 to 45 percent in community areas to 80 to 100 percent in households.The saplings are started off at the Rural Resource Center, a location established by AWF and the International Council for Research in Agroforestry in July 2021. The Rural Resource Center, which engages more than 30 community members, including women and youth, holds a tree nursery, gardens, and improved seedling production.Until the next tree planting day scheduled for May, the young sprouts are growing at the center. Cashew, mango, moringa, African mahogany, papaya, and lemon saplings are tended to as they await their final planting.As our trees are young, we can't expect seeing wildlife in or under, Adamou says. But, he continued, Birds, yes! I have seen a bird nest in our planted mango tree.A bird’s nest in a mango tree may be small, but it is a promising indicator of the growing community of trees, wildlife, and people — working in concert for the benefit of all.> Learn how AWF is organizing regional conferences to support conservation planning in northern Cameroon\n",
      "Tasked with fetching water every morning as a young girl, African Wildlife Foundation’s Nancy Githaiga learnt that water access shapes women’s lives as providers of sustenance. Growing up in Kaheho village in Molo, roughly 200 kilometers from Kenya’s capital, she vowed to improve water infrastructure for her village and others across the country. Instead of becoming a civil engineer, she pursued hydrology after an undergraduate degree in mathematics and physics, and furthered her studies in climate change.Improving water access is still her life purpose, but her experiences in the wildlife conservation sector expanded her view. I feel at home now, she says, nearly eight months since joining AWF as Country Director, Kenya. On International Women’s Day, she reflects on why realizing her childhood dream is more important than ever.In Kaheho, Molo, our biggest challenge was the issue of finding safe potable water. Especially during the school holidays, every day at dawn would mean trekking to a stream or a spring. Sometimes we had to wait hours for it to recharge if someone else got there first — nothing traumatised me more than the thought that we would do this endlessly. There is no African who can speak about water without speaking about women; we have always been the ones who know where water will be found, we will be the ones walking the long trips. So when water resources become scarce, women’s futures are impacted directly.In my village today, women and young girls still have to walk kilometers to fetch water; they have to queue up and wait for the springs to recharge, just as we did. And with more people in the village now, I wonder how people are coping. Through my training and my experiences working on community-based natural resource management, it is clear that climate change is creating more complex challenges for women. Over the years, my view of water access has also expanded — it is not just about drilling boreholes and putting water in the tap, but it is also about managing the catchments where this water comes from.Water is not found in isolation; it is part of the natural ecosystem, and therefore, part of the wildlife habitat. Wildlife conservation is essentially about habitats, it is about forest and water conservation. Being a shared resource, water links wildlife and the communities that live in these spaces. In large landscapes like Tsavo, we have seen high incidences of human-wildlife conflict as people, livestock, and wild animals all struggle for the minimal water available. The Kenya government recently reported that the country lost 62 elephants between August and December 2021 due to the prolonged drought, with most deaths recorded in Tsavo. This is higher than the loss from illegal wildlife trade. The landscape was strewn with wildlife carcasses, not because the animals cannot walk long distances in search of pasture, but for lack of water.By providing a platform for communities to engage in the management and governance of natural resources, we are securing a future for wildlife as well. Additionally, we increase the opportunities for people to share benefits from wildlife conservation, for instance, by way of setting aside community land for conservancies. People can also earn incomes from activities that do not degrade the ecosystem, such as climate-smart agriculture or tourism-based microenterprises.Nancy Githaiga, AWF Country Director, Kenya, at the Tembo Naming Festival At the community level, the establishment of conservancies has created opportunities while also safeguarding wildlife corridors and connecting protected areas, but rural women may not be able to reap the benefits because they are not the recognized owners of the land. At the same time, few women engage at the governance level of conservancies — these spaces are historically male-dominated but women are also challenged by their household responsibilities. She might ask herself, If I’m struggling to take care of my family’s basic needs, how can I begin to take on issues within the community?The same dynamic plays out in the professional field of conservation — we are still seeing less women in this space. It is not that there are no women scientists or that we cannot do the work, but the environment is not enabling. For instance, were I posted in a remote conservation area and had to move with my family, I would have to think about where my children will go to school and where they will get medical attention. We are always thinking about tomorrow — that is why biodiversity protection needs more women in decision-making positions. We think long-term, we think the future and so we make strategic changes that last longer.It is high time for us to make a deliberate effort to include marginalized groups — especially now as we rethink conservation models in the aftermath of the COVID-19 pandemic and as we continue to adapt to mounting climate risks. For example, the Classroom Africa program is identifying rural schoolchildren in the Tsavo landscape and preparing them to apply for scholarships so they have access to the same opportunities as their urban counterparts. Ultimately, young students that share space with wildlife are best placed to engage in conservation.Joining AWF as the organization was developing its new 10-year strategic vision has been very exciting. We are also in the midst of a global pandemic and therefore an opportunity to rethink our models and solutions. It is a big challenge but also presents a big opportunity to change how conservation is done in the coming years. We might not have all the answers yet, but our multidimensional approach considers science, socioeconomics, development, and the private sector so we can venture into new areas. It is not a choice between development and conservation but a country where development and conservation go hand in hand, where wildlife and wildlands thrive in a modern Kenya.AWF’s efforts to engage leadership — whether in the political or technical arena and even in the youth sector — are so important and impactful. For nature-based economies like Kenya, we need sustainable solutions and leaders who understand that progress depends on our forests, rivers, and rangelands. When I run for political office one day, I will stay true to my calling — water. I know first-hand that being water-poor is the greatest poverty that any person can face and as a conservationist, I know that water supports all species in our essential ecosystems. Ensuring that water flows will mean catchments thrive and wildlife thrives too, and this gives us a balanced system that can sustain our developmental needs.> In honor of International Women's Day, learn how women at AWF are charting a new future for conservation\n"
     ]
    }
   ],
   "source": [
    "for i,line in enumerate(wildlife_df['Text']):\n",
    "    print(line)\n",
    "    if(i>3):\n",
    "        break"
   ]
  },
  {
   "cell_type": "code",
   "execution_count": 22,
   "id": "48226f5e",
   "metadata": {},
   "outputs": [],
   "source": [
    "li_chi = []\n",
    "for i,phrase in enumerate(wildlife_df['Text']):\n",
    "    li_chi.append(translator.translate(phrase,src='en',dest='ny').text)\n",
    "    #break"
   ]
  },
  {
   "cell_type": "code",
   "execution_count": 23,
   "id": "ca45d063",
   "metadata": {},
   "outputs": [
    {
     "data": {
      "text/plain": [
       "64"
      ]
     },
     "execution_count": 23,
     "metadata": {},
     "output_type": "execute_result"
    }
   ],
   "source": [
    "len(li_chi)"
   ]
  },
  {
   "cell_type": "code",
   "execution_count": 24,
   "id": "3591e7c1",
   "metadata": {},
   "outputs": [
    {
     "data": {
      "text/plain": [
       "\"Kodi ndi chiyani chomwe chimatsogolera asilikali olimba mtima awa pankhondo yaku Africa yolimbana ndi kusaka nyama? Kaŵirikaŵiri, amasonkhezeredwa ndi chikondi chozama cha nyama zakuthengo ndi madera akuthengo. Ife, anthu amene timagwira ntchito pano, ntchitoyi ili m’magazi mwathu, akutero Philbert Mwasi, wofufuza pa LUMO Wildlife Conservancy ya Kenya. Ngati titapuma pa ntchito yathu, sitingakhale pamtendere ndi ife tokha. Ndimakonda kwambiri ntchito ya alonda, anatero wofufuza wina wa LUMO, Ludovika Malemba. Ndinali wofufuza zamasewera pamene ndinali kusukulu ya pulayimale— kuteteza kuli m’magazi mwanga. Ngakhale kuti chiwopsezo ndi zovuta zili mbali ya kufotokozera kwa ntchito, alonda ku Africa konse ali ndi zinthu zochepa, makamaka poyerekeza ndi opha nyama omwe amagwira ntchito m'malo ozembetsa nyama zakuthengo padziko lonse lapansi. M'mikangano yambiri, timakumana ndi zida zankhondo, ophunzitsidwa bwino, komanso opha nyama mwadongosolo - omwe ambiri mwa iwo ali ndi usilikali, atero a Simon Muchatibaya, msilikali ndi African Wildlife Foundation Technical Advisor ku Mana Pools National Park ku Zimbabwe. Magulu olondera nthawi zambiri amakhala magulu atatu, omwe amayang'anizana ndi magulu a anthu 10 kapena kuposerapo. Nthawi zina kusowa ngakhale zinthu zofunika monga mawailesi odalirika, nthawi zambiri timakumana ndi zovuta ndipo tikukumana ndi zoopsa zenizeni, akutero a Muchatibaya. chidziwitso ndi luso labwino kwambiri. Timathandiziranso oyang'anira nyama zakuthengo kupeza mayunifolomu atsopano ndi zida zamakono monga zida zotsatirira pa satellite ndi mafoni am'manja. Cholinga chathu ndi chakuti oyang'anira malo ndi ma scouts akhale otetezeka, okonzeka bwino, olipidwa moyenera, komanso okhazikika m'malo otetezeka, otetezeka komanso othandiza. Mu 2018, AWF ndi Zimbabwe Parks and Wildlife Management Authority anagwirizanitsa pulogalamu ya masiku 30 yophunzitsa anthu osamalira nyama zakutchire ku Mushandike College of Wildlife Management. Ophunzira 46, kuphatikiza amayi asanu, adaphunzira maluso atsopano osiyanasiyana: kufufuza zaupandu wa nyama zakuthengo, kuyang'anira zachilengedwe, kuchepetsa mikangano ya anthu ndi nyama zakutchire, komanso kuchitapo kanthu ndi anthu pakati pawo. Pamwambo wosangalala wa omaliza maphunziro awo, omaliza maphunzirowo adalandira zida zatsopano zakumunda, kuphatikiza mayunifolomu, nsapato, ndi zida zapamisasa.AWF idathandiziranso maphunziro a ma scouts ammudzi ochokera ku LUMO ndi oyang'anira ammudzi 50 ochokera m'malo asanu ndi anayi a Taita Taveta. Maphunzirowa adayang'ana luso la kuchipululu ndi thandizo loyamba komanso mitu yamalo monga malamulo odyetsera ziweto komanso malamulo oteteza magulu. Ma scouts adaphunzira momwe angalankhulire bwino ndi kuthetsa mikangano ndi abusa omwe amaweta ziweto pamtunda wa LUMO mosaloledwa komanso mosalekeza. Kulowa mu LUMO kulibe lamulo, scout Malemba akutero. Mu Seputembala 2018, Purezidenti wa Uganda Yoweri Museveni anali nawo pa mwambo womaliza maphunziro a alonda 487 ku Paraa Training Wing ku Murchison Falls National Park. AWF inagwira ntchito ndi bungwe loona za nyama zakutchire la Uganda pophunzitsa ndi kukonzekeretsa anthu ogwira ntchito ku bungweli kuti asonkhanitse deta komanso kuyang'anira zachilengedwe pogwiritsa ntchito Spatial Monitoring and Reporting Tool (SMART) ndi ukadaulo wa CyberTracker. Oyang'anira nkhalango ku Tanzania amaphunzira momwe angagwiritsire ntchito ukadaulo wowunika nyama zakuthengo pamaphunziro a AWFCyberTracker Maphunziro a SMART ndi amodzi mwamapulogalamu ofunikira kwambiri a AWF, omwe ndi maziko a njira zathu zopititsira patsogolo kasamalidwe ka madera otetezedwa ndikukonzekera kasamalidwe. CyberTracker ndi pulogalamu yomwe imalola oyang'anira kuyang'anira kuti azitha kujambula zowonera pagawo lovuta kwambiri pa smartphone yolimba. Zolemba zimatsitsidwa ku SMART, pulogalamu yapamalo yokonzedwa kuti izitha kuyang'anira deta yolondera. Oyang'anira amajambula zomwe akuwona ndikudina kambirimbiri pa foni yam'manja, ndikujambulitsa malo ndi nthawi yazizindikiro zachitetezo monga zowonera nyama zakuthengo. Zomwe apeza zimadziwitsa zachitetezo cha nyama zakuthengo ndikuthandiza olamulira kuyang'anira bwino zochitika zachilengedwe zokhudzana ndi kuwonongeka kwa malo komanso thanzi la nyama zakuthengo. . Mapu akuwonetsa malo omwe ali ndi zochitika zosaloledwa (zomwe zikuwonetsedwa ndi makatiriji a zida, misasa ya opha nyama, ndi zina zotero), amadziwitsa njira zolondera. Ndi chithandizo cha AWF, akuluakulu a ku Uganda otetezedwa adatengera CyberTracker / SMART m'dziko lonse, ndipo AWF inatsogolera njira zamakono kumadera angapo. Akakhala ndi deta yolondola yochokera kumunda ndi zakuthambo, akutero Mtsogoleri Wamkulu wa Conservation Geography wa AWF David Williams, akuluakulu a boma amatha kugwiritsa ntchito chuma chawo mogwira mtima, ndipo amatha kuyang'anitsitsa momwe akuyendera. ntchito yawo pamapu ndi ma chart ndi momwe luntha limasinthira magwiridwe antchito. Amamva kuti ali ndi mphamvu komanso ali ndi chidwi.> Phunzirani momwe AWF imathandizira oyang'anira malo ndi ma scouts amderalo ndi zinthu zathanzi, chakudya, ndi mafuta kuti awonetsetse kuti kulondera ndi kotetezeka komanso kothandiza pa nthawi ya mliri wa coronavirus.\""
      ]
     },
     "execution_count": 24,
     "metadata": {},
     "output_type": "execute_result"
    }
   ],
   "source": [
    "li_chi[55]"
   ]
  },
  {
   "cell_type": "code",
   "execution_count": 25,
   "id": "de64e391",
   "metadata": {},
   "outputs": [],
   "source": [
    "df_wildlife = pd.DataFrame(li_chi, columns =['Text'])\n",
    "df_wildlife['Label'] = 'WILDLIFE/ENVIRONMENT'\n",
    "#df_flood['ID'] = [i for i in range(len(li_chi))]"
   ]
  },
  {
   "cell_type": "code",
   "execution_count": 26,
   "id": "9b355569",
   "metadata": {},
   "outputs": [
    {
     "data": {
      "text/html": [
       "<div>\n",
       "<style scoped>\n",
       "    .dataframe tbody tr th:only-of-type {\n",
       "        vertical-align: middle;\n",
       "    }\n",
       "\n",
       "    .dataframe tbody tr th {\n",
       "        vertical-align: top;\n",
       "    }\n",
       "\n",
       "    .dataframe thead th {\n",
       "        text-align: right;\n",
       "    }\n",
       "</style>\n",
       "<table border=\"1\" class=\"dataframe\">\n",
       "  <thead>\n",
       "    <tr style=\"text-align: right;\">\n",
       "      <th></th>\n",
       "      <th>Text</th>\n",
       "      <th>Label</th>\n",
       "    </tr>\n",
       "  </thead>\n",
       "  <tbody>\n",
       "    <tr>\n",
       "      <th>0</th>\n",
       "      <td>Njovu siziwopa kuyenda mitunda yaitali. Mu 201...</td>\n",
       "      <td>WILDLIFE/ENVIRONMENT</td>\n",
       "    </tr>\n",
       "    <tr>\n",
       "      <th>1</th>\n",
       "      <td>Belise Kariza, Mtsogoleri wa Dziko la African ...</td>\n",
       "      <td>WILDLIFE/ENVIRONMENT</td>\n",
       "    </tr>\n",
       "    <tr>\n",
       "      <th>2</th>\n",
       "      <td>Kuyesetsa kwambiri kuteteza gorila m'zaka maku...</td>\n",
       "      <td>WILDLIFE/ENVIRONMENT</td>\n",
       "    </tr>\n",
       "    <tr>\n",
       "      <th>3</th>\n",
       "      <td>Pansi pa nthaka ndi pansi pa dziko lapansi pal...</td>\n",
       "      <td>WILDLIFE/ENVIRONMENT</td>\n",
       "    </tr>\n",
       "    <tr>\n",
       "      <th>4</th>\n",
       "      <td>Akugwira ntchito yotunga madzi m'mawa uliwonse...</td>\n",
       "      <td>WILDLIFE/ENVIRONMENT</td>\n",
       "    </tr>\n",
       "  </tbody>\n",
       "</table>\n",
       "</div>"
      ],
      "text/plain": [
       "                                                Text                 Label\n",
       "0  Njovu siziwopa kuyenda mitunda yaitali. Mu 201...  WILDLIFE/ENVIRONMENT\n",
       "1  Belise Kariza, Mtsogoleri wa Dziko la African ...  WILDLIFE/ENVIRONMENT\n",
       "2  Kuyesetsa kwambiri kuteteza gorila m'zaka maku...  WILDLIFE/ENVIRONMENT\n",
       "3  Pansi pa nthaka ndi pansi pa dziko lapansi pal...  WILDLIFE/ENVIRONMENT\n",
       "4  Akugwira ntchito yotunga madzi m'mawa uliwonse...  WILDLIFE/ENVIRONMENT"
      ]
     },
     "execution_count": 26,
     "metadata": {},
     "output_type": "execute_result"
    }
   ],
   "source": [
    "df_wildlife.head()"
   ]
  },
  {
   "cell_type": "code",
   "execution_count": 27,
   "id": "f1274634",
   "metadata": {},
   "outputs": [],
   "source": [
    "df_wildlife.to_csv('Wildlife/wildlife_chichewa.csv',index=False)"
   ]
  }
 ],
 "metadata": {
  "kernelspec": {
   "display_name": "Python 3",
   "language": "python",
   "name": "python3"
  },
  "language_info": {
   "codemirror_mode": {
    "name": "ipython",
    "version": 3
   },
   "file_extension": ".py",
   "mimetype": "text/x-python",
   "name": "python",
   "nbconvert_exporter": "python",
   "pygments_lexer": "ipython3",
   "version": "3.8.8"
  }
 },
 "nbformat": 4,
 "nbformat_minor": 5
}
