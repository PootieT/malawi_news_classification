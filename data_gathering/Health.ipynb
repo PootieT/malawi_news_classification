{
 "cells": [
  {
   "cell_type": "markdown",
   "id": "eed17516",
   "metadata": {},
   "source": [
    "# Converts the English Health data to chichewa using Google Translate"
   ]
  },
  {
   "cell_type": "code",
   "execution_count": 15,
   "id": "73400baf",
   "metadata": {},
   "outputs": [],
   "source": [
    "import pandas as pd\n",
    "import requests\n",
    "from typing import List, Dict, Tuple, Optional\n",
    "from tqdm import tqdm\n",
    "from googletrans import Translator\n",
    "from bs4 import BeautifulSoup as bs\n",
    "import re\n",
    "from sklearn.model_selection import train_test_split"
   ]
  },
  {
   "cell_type": "code",
   "execution_count": 16,
   "id": "f59c25ea",
   "metadata": {},
   "outputs": [],
   "source": [
    "# Using readlines()\n",
    "health_df = pd.read_csv('Health/health.csv')"
   ]
  },
  {
   "cell_type": "code",
   "execution_count": 17,
   "id": "7cc065ad",
   "metadata": {},
   "outputs": [
    {
     "data": {
      "text/plain": [
       "(69, 1)"
      ]
     },
     "execution_count": 17,
     "metadata": {},
     "output_type": "execute_result"
    }
   ],
   "source": [
    "health_df.shape"
   ]
  },
  {
   "cell_type": "code",
   "execution_count": 18,
   "id": "0db394ea",
   "metadata": {},
   "outputs": [
    {
     "data": {
      "text/plain": [
       "Text    Brazzaville/Kinshasa, 23 April 2022 – The heal...\n",
       "Name: 0, dtype: object"
      ]
     },
     "execution_count": 18,
     "metadata": {},
     "output_type": "execute_result"
    }
   ],
   "source": [
    "health_df.iloc[0]"
   ]
  },
  {
   "cell_type": "code",
   "execution_count": 19,
   "id": "b8e5851c",
   "metadata": {},
   "outputs": [],
   "source": [
    "data = pd.read_csv('Data/Train.csv')"
   ]
  },
  {
   "cell_type": "code",
   "execution_count": 20,
   "id": "cf33bfbd",
   "metadata": {},
   "outputs": [
    {
     "data": {
      "text/html": [
       "<div>\n",
       "<style scoped>\n",
       "    .dataframe tbody tr th:only-of-type {\n",
       "        vertical-align: middle;\n",
       "    }\n",
       "\n",
       "    .dataframe tbody tr th {\n",
       "        vertical-align: top;\n",
       "    }\n",
       "\n",
       "    .dataframe thead th {\n",
       "        text-align: right;\n",
       "    }\n",
       "</style>\n",
       "<table border=\"1\" class=\"dataframe\">\n",
       "  <thead>\n",
       "    <tr style=\"text-align: right;\">\n",
       "      <th></th>\n",
       "      <th>ID</th>\n",
       "      <th>Text</th>\n",
       "      <th>Label</th>\n",
       "    </tr>\n",
       "  </thead>\n",
       "  <tbody>\n",
       "    <tr>\n",
       "      <th>0</th>\n",
       "      <td>ID_AASHwXxg</td>\n",
       "      <td>Mwangonde: Khansala wachinyamata Akamati achi...</td>\n",
       "      <td>POLITICS</td>\n",
       "    </tr>\n",
       "    <tr>\n",
       "      <th>1</th>\n",
       "      <td>ID_AGoFySzn</td>\n",
       "      <td>MCP siidakhutire ndi kalembera Chipani cha Ma...</td>\n",
       "      <td>POLITICS</td>\n",
       "    </tr>\n",
       "    <tr>\n",
       "      <th>2</th>\n",
       "      <td>ID_AGrrkBGP</td>\n",
       "      <td>Bungwe la MANEPO Lapempha Boma Liganizire Anth...</td>\n",
       "      <td>HEALTH</td>\n",
       "    </tr>\n",
       "    <tr>\n",
       "      <th>3</th>\n",
       "      <td>ID_AIJeigeG</td>\n",
       "      <td>Ndale zogawanitsa miyambo zanyanya Si zachile...</td>\n",
       "      <td>POLITICS</td>\n",
       "    </tr>\n",
       "    <tr>\n",
       "      <th>4</th>\n",
       "      <td>ID_APMprMbV</td>\n",
       "      <td>Nanga wapolisi ataphofomoka? Masiku ano sichi...</td>\n",
       "      <td>LAW/ORDER</td>\n",
       "    </tr>\n",
       "  </tbody>\n",
       "</table>\n",
       "</div>"
      ],
      "text/plain": [
       "            ID                                               Text      Label\n",
       "0  ID_AASHwXxg   Mwangonde: Khansala wachinyamata Akamati achi...   POLITICS\n",
       "1  ID_AGoFySzn   MCP siidakhutire ndi kalembera Chipani cha Ma...   POLITICS\n",
       "2  ID_AGrrkBGP  Bungwe la MANEPO Lapempha Boma Liganizire Anth...     HEALTH\n",
       "3  ID_AIJeigeG   Ndale zogawanitsa miyambo zanyanya Si zachile...   POLITICS\n",
       "4  ID_APMprMbV   Nanga wapolisi ataphofomoka? Masiku ano sichi...  LAW/ORDER"
      ]
     },
     "execution_count": 20,
     "metadata": {},
     "output_type": "execute_result"
    }
   ],
   "source": [
    "data.head()"
   ]
  },
  {
   "cell_type": "code",
   "execution_count": 21,
   "id": "f3bcde41",
   "metadata": {},
   "outputs": [
    {
     "data": {
      "text/plain": [
       "' Mwangonde: Khansala wachinyamata Akamati achinyamata ndi atsogoleri a mawa, ambiri amaganiza kuti izi ndi nkhambakamwa chabe. Koma achinyamata ena, monga Lusubilo Mwangonde, akukwaniritsa akupherezetsa mawuwa osati pongolota kuti adzakhala, koma kutsogolera kumene chifukwa nthawi yawo yakwana. DAILES BANDA adacheza ndi Mwangonde, khansala wachinyama, yemwe akuimira Jumbo Ward mumzinda wa Mzuzu, motere:  Chisale watuluka nkumangidwanso  Sipakala waimitsa Nyumba ya Malamulo  Pa Wenela pasintha zedi Ali ndi masomphenya: Mwangonde Tikudziweni  Ndine Lusubilo Mwangonde, ndili ndi zaka 27 zakubadwa. Ndinabadwa mbanja la ana asanu ndipo ndine wachinayi kubadwa. Ndimachokera mmudzi mwa Mwamalopa, kwa Paramount Chief Kyungu mboma la Karonga. Sindili pabanja pakadalipano.\\n Mbiri ya maphunziro anu ndi yotani? Maphunziro anga a pulaimale ndidachitira kusukula yapulaiveti ya Viphya mumzinda wa Mzuzu ndipo asekondale ndidachitira pa Phwezi Boys mboma la Rumphi. Ndili ndi diploma ya Accounting ndipo pakadalipano ndikupanga digiri komanso Chartered Accounting kusukulu ya Malawi College of Accountancy (MCA).\\n Mudayamba bwanji zandale? Kuyambira ndili wachichepere, zaka 12, ndakhala ndikukhala mumaudindo a utgogoleri. Ichi ndi china mwa zinthu zomwe zidandilimbikitsa kuti ndikhoza kudzapambana pazisankho. Koma chachikulu chomwe chidandichititsa kuti ndilowe ukhansala chidali chifukwa chakuti ndinkafuna kupereka mpata kwa anthu kuti azitha kuyankhula zakukhosi kwawo polimbikitsa demokalase ndi chitukuko.\\n Ntchito mukugwira ndi zomwe munkayembekezera? Eya, ndiponso ndinkayembekezera zambiri.\\n Masomphenya anu ndi otani pandale? Ine ndine munthu wokhulupirira Mulungu ndipo ndili ndi chikhulupiriro choti Iye ndi amene adzandionetsere zomwe ndikuyera kuchita ndi tsogolo langa.\\n Zinthu zina zomwe mumachita ndi chiyani pambali pa ukhansala? Ndikakhala sindikugwira ntchito yaukhansala ndimakhala ndikuchita bizinesi, nthawi zina ndimakhala ndili kusukulu komwe ndikuchita maphuro anga a digiri. Kuonjezera pamenepo ndili ndi bungwe lomwe ndidayambitsa ndi anzanga ena la Centre for Participatory Democracy lomwe limalimbikitsa demokalase.\\n Zomwe mwakwanitsa ndi zotani? Ndathandiza kuti ntchito yopala misewu ya kudera la Moyale itheke. Misewuyi yakhala nthawi yaitali osapalidwa. Ndidathandiziranso kuti ochita malonda ayambe kumanga mashopu anjerwa ndi kusiya kumangira matabwa kapena zigwagwa. Ndidakwanitsanso kukaimirira khonsolo ya Mzuzu ku Nyumba ya Malamulo. Ndaonanso kuti ntchitoyi yandithandiza kusintha momwe ndimaonera zinthu komanso ndimakumana ndi anthu osiyanasiyana omwe amandiphunzitsa zinthu zambiri.\\n'"
      ]
     },
     "execution_count": 21,
     "metadata": {},
     "output_type": "execute_result"
    }
   ],
   "source": [
    "data['Text'][0]"
   ]
  },
  {
   "cell_type": "code",
   "execution_count": 22,
   "id": "dddbee04",
   "metadata": {},
   "outputs": [
    {
     "data": {
      "text/html": [
       "<div>\n",
       "<style scoped>\n",
       "    .dataframe tbody tr th:only-of-type {\n",
       "        vertical-align: middle;\n",
       "    }\n",
       "\n",
       "    .dataframe tbody tr th {\n",
       "        vertical-align: top;\n",
       "    }\n",
       "\n",
       "    .dataframe thead th {\n",
       "        text-align: right;\n",
       "    }\n",
       "</style>\n",
       "<table border=\"1\" class=\"dataframe\">\n",
       "  <thead>\n",
       "    <tr style=\"text-align: right;\">\n",
       "      <th></th>\n",
       "      <th>ID</th>\n",
       "      <th>Text</th>\n",
       "      <th>Label</th>\n",
       "    </tr>\n",
       "  </thead>\n",
       "  <tbody>\n",
       "    <tr>\n",
       "      <th>2</th>\n",
       "      <td>ID_AGrrkBGP</td>\n",
       "      <td>Bungwe la MANEPO Lapempha Boma Liganizire Anth...</td>\n",
       "      <td>HEALTH</td>\n",
       "    </tr>\n",
       "    <tr>\n",
       "      <th>31</th>\n",
       "      <td>ID_BjPzhZzL</td>\n",
       "      <td>Uve ndi gwero la linyonyo Mkulu wa bungwe la ...</td>\n",
       "      <td>HEALTH</td>\n",
       "    </tr>\n",
       "    <tr>\n",
       "      <th>42</th>\n",
       "      <td>ID_CIPWPAkN</td>\n",
       "      <td>Bwanankubwa wa Boma la Chitipa Wamwalira ndi C...</td>\n",
       "      <td>HEALTH</td>\n",
       "    </tr>\n",
       "    <tr>\n",
       "      <th>47</th>\n",
       "      <td>ID_CQRJNFpr</td>\n",
       "      <td>Likodzo limatha magazi mthupi Likodzo ndi mat...</td>\n",
       "      <td>HEALTH</td>\n",
       "    </tr>\n",
       "    <tr>\n",
       "      <th>65</th>\n",
       "      <td>ID_CtrqZZNz</td>\n",
       "      <td>CWO Yagawira Ansembe Zipangizo Zozitetezera ku...</td>\n",
       "      <td>HEALTH</td>\n",
       "    </tr>\n",
       "    <tr>\n",
       "      <th>...</th>\n",
       "      <td>...</td>\n",
       "      <td>...</td>\n",
       "      <td>...</td>\n",
       "    </tr>\n",
       "    <tr>\n",
       "      <th>1399</th>\n",
       "      <td>ID_ymrqgrkz</td>\n",
       "      <td>Atumiki ndi Ofunika Palimbana ndi COVID-19  Ng...</td>\n",
       "      <td>HEALTH</td>\n",
       "    </tr>\n",
       "    <tr>\n",
       "      <th>1421</th>\n",
       "      <td>ID_zVwepSDj</td>\n",
       "      <td>Alimbikitsa chitetezo cha  okhala mmalire Cov...</td>\n",
       "      <td>HEALTH</td>\n",
       "    </tr>\n",
       "    <tr>\n",
       "      <th>1422</th>\n",
       "      <td>ID_zXXIofuV</td>\n",
       "      <td>Mgodi wa Kanyika  waika anthu pamoto Anthu ok...</td>\n",
       "      <td>HEALTH</td>\n",
       "    </tr>\n",
       "    <tr>\n",
       "      <th>1423</th>\n",
       "      <td>ID_zXkNbooR</td>\n",
       "      <td>Amayi omwe ali ndi kachilombo akufuna mudzi w...</td>\n",
       "      <td>HEALTH</td>\n",
       "    </tr>\n",
       "    <tr>\n",
       "      <th>1430</th>\n",
       "      <td>ID_zluwmlWb</td>\n",
       "      <td>Papa Wapempha Akhristu Amenye Nkhondo Yolimban...</td>\n",
       "      <td>HEALTH</td>\n",
       "    </tr>\n",
       "  </tbody>\n",
       "</table>\n",
       "<p>127 rows × 3 columns</p>\n",
       "</div>"
      ],
      "text/plain": [
       "               ID                                               Text   Label\n",
       "2     ID_AGrrkBGP  Bungwe la MANEPO Lapempha Boma Liganizire Anth...  HEALTH\n",
       "31    ID_BjPzhZzL   Uve ndi gwero la linyonyo Mkulu wa bungwe la ...  HEALTH\n",
       "42    ID_CIPWPAkN  Bwanankubwa wa Boma la Chitipa Wamwalira ndi C...  HEALTH\n",
       "47    ID_CQRJNFpr   Likodzo limatha magazi mthupi Likodzo ndi mat...  HEALTH\n",
       "65    ID_CtrqZZNz  CWO Yagawira Ansembe Zipangizo Zozitetezera ku...  HEALTH\n",
       "...           ...                                                ...     ...\n",
       "1399  ID_ymrqgrkz  Atumiki ndi Ofunika Palimbana ndi COVID-19  Ng...  HEALTH\n",
       "1421  ID_zVwepSDj   Alimbikitsa chitetezo cha  okhala mmalire Cov...  HEALTH\n",
       "1422  ID_zXXIofuV   Mgodi wa Kanyika  waika anthu pamoto Anthu ok...  HEALTH\n",
       "1423  ID_zXkNbooR   Amayi omwe ali ndi kachilombo akufuna mudzi w...  HEALTH\n",
       "1430  ID_zluwmlWb  Papa Wapempha Akhristu Amenye Nkhondo Yolimban...  HEALTH\n",
       "\n",
       "[127 rows x 3 columns]"
      ]
     },
     "execution_count": 22,
     "metadata": {},
     "output_type": "execute_result"
    }
   ],
   "source": [
    "data.loc[data['Label'] == 'HEALTH']"
   ]
  },
  {
   "cell_type": "code",
   "execution_count": 23,
   "id": "18bf6ed5",
   "metadata": {},
   "outputs": [],
   "source": [
    "from googletrans import Translator"
   ]
  },
  {
   "cell_type": "code",
   "execution_count": 24,
   "id": "d58aa818",
   "metadata": {},
   "outputs": [],
   "source": [
    "def get_free_proxies():\n",
    "    url = \"https://free-proxy-list.net/\"\n",
    "    # get the HTTP response and construct soup object\n",
    "    soup = bs(requests.get(url).content, \"html.parser\")\n",
    "    proxies = []\n",
    "    #print(soup)\n",
    "    for row in soup.find(\"table\", attrs={\"class\": \"table table-striped table-bordered\"}).find_all(\"tr\")[1:]:\n",
    "        tds = row.find_all(\"td\")\n",
    "        try:\n",
    "            ip = tds[0].text.strip()\n",
    "            port = tds[1].text.strip()\n",
    "            host = f\"{ip}:{port}\"\n",
    "            proxies.append(host)\n",
    "        except IndexError:\n",
    "            continue\n",
    "    return proxies"
   ]
  },
  {
   "cell_type": "code",
   "execution_count": 25,
   "id": "4de263d2",
   "metadata": {},
   "outputs": [],
   "source": [
    "translator = Translator(proxies=get_free_proxies())"
   ]
  },
  {
   "cell_type": "code",
   "execution_count": 26,
   "id": "5640a4a2",
   "metadata": {},
   "outputs": [
    {
     "data": {
      "text/plain": [
       "\"Mwangonde: A young councilor When they say young people are the leaders of tomorrow, many think that this is just a myth. But some young people, such as Lusubilo Mwangonde, are fulfilling this promise by not just pretending to be, but taking the lead because their time has come. DAILES BANDA spoke to Mwangonde, a wildlife councilor representing Jumbo Ward in Mzuzu, as follows: Chisale has been re-arrested Sipakala has suspended Parliament in Wenela I was born in a family of five children and am the fourth born. I come from Mwamalopa village, Paramount Chief Kyungu in Karonga district. I'm not married yet.\\n What is your educational background? My primary education was at Viphya Private School in Mzuzu and my high school education was at Phwezi Boys' Rumphi District. I have a Diploma in Accounting and am currently pursuing a degree and Chartered Accounting at the Malawi College of Accountancy (MCA).\\n How did you get into politics? Ever since I was a teenager, 12 years old, I have been in leadership positions. This is one of the things that inspired me to be able to win elections. But the main reason I went to the council was because I wanted to give people a chance to express their views in promoting democracy and development.\\n Are you working on what you expected? Yeah, and I was expecting a lot more.\\n What is your political vision? I am a person who believes in God and has faith that He is the one who will show me what I should do with my future.\\n What are some of the things you do besides counseling? When I don't work as a councilor I do business, sometimes I go to school where I do my degree. In addition I have an organization founded by some of my colleagues the Center for Participatory Democracy that promotes democracy.\\n What are your achievements? I helped make the Moyale road construction project possible. The roads have long been unpaved. I also helped retailers to start building brick shops and to stop building timber or masonry. I was also able to represent Mzuzu in Parliament. I also find that this work has helped me to change my attitude and to meet different people who teach me a lot of things.\""
      ]
     },
     "execution_count": 26,
     "metadata": {},
     "output_type": "execute_result"
    }
   ],
   "source": [
    "translator.translate(data['Text'][0],src='ny',dest='en').text"
   ]
  },
  {
   "cell_type": "code",
   "execution_count": 27,
   "id": "1d1a9c6c",
   "metadata": {},
   "outputs": [
    {
     "name": "stdout",
     "output_type": "stream",
     "text": [
      "Brazzaville/Kinshasa, 23 April 2022 – The health authorities in the Democratic Republic of the Congo today declared an outbreak of Ebola after a case was confirmed in Mbandaka, a city in the north-western Equateur Province. This is the third outbreak in the province since 2018.So far, just one case has been confirmed. The patient, a 31-year-old man, began experiencing symptoms on 5 April and after more than a week of care at home, sought treatment at a local health facility. On 21 April, the patient was admitted to an Ebola treatment centre for intensive care but died later that day. Having recognized the symptoms, health workers immediately submitted samples to test for Ebola virus disease. Investigations to determine the source of the outbreak are ongoing.Time is not on our side, said Dr Matshidiso Moeti, the World health Organization (WHO) Regional Director for Africa. The disease has had a two-week head start and we are now playing catch-up. The positive news is that health authorities in the Democratic Republic of the Congo have more experience than anyone else in the world at controlling Ebola outbreaks quickly.The Democratic Republic of the Congo is experiencing its fourteenth Ebola outbreaks since 1976. The current outbreak is the sixth since 2018 alone – the most frequent occurrence in the country’s Ebola history. Previous outbreaks in Equateur Province were in 2020 and 2018, with 130 and 54 recorded cases respectively.Efforts to stem the current outbreak are already underway. The deceased patient received a safe and dignified burial, which involves modifying traditional funeral ceremonies in a way that minimizes the risk of contagious fluids infecting attendees. Anyone who came in contact with the patient are also being identified and their health will be monitored. The health facility where the patient received care has been decontaminated.        WHO experts based in the Democratic Republic of the Congo are supporting the national authorities to ramp up key outbreak response areas including testing, contact tracing, infection prevention and control, treatment as well as working with communities to support the public health measures to prevent infections.Vaccination is set to kick off in the coming days. The country already has stockpiles of the rVSV-ZEBOV Ebola vaccine available in the cities of Goma and Kinshasa. Vaccines will be sent to Mbandaka and administered through ‘ring vaccination’ strategy—where contacts and contacts of contacts are vaccinated to curb the spread of the virus and protect lives.Many people in Mbandaka are already vaccinated against Ebola, which should help reduce the impact of the disease, said Dr Moeti. All those who were vaccinated during the 2020 outbreak will be revaccinated.Ebola is a severe, often fatal illness affecting humans and other primates. Case fatality rates have varied from 25% to 90% in past outbreaks. There is now effective treatment available and if patients receive treatment early, as well as supportive care, their chances of survival improve significantly.\n",
      "Brazzaville – Up to 65% of Africans have been infected by SARS-CoV-2, the virus which causes COVID-19, a World Health Organization (WHO) analysis finds. The study finds that true infections on the continent were 97 times larger than reported confirmed cases.The analysis, which is available as a pre-print under peer review, synthesized 151 studies published on seroprevalence in Africa between January 2020 and December 2021. It found that exposure to SARS-CoV-2 skyrocketed from 3% (1.0-9.2% range) in June of 2020 to 65% (56.3-73% range) by September of 2021, or 800 million infections compared with 8.2 million cases reported at that time. The study showed that exposure to the virus rose sharply following the emergence of the Beta and the Delta variants.  The analysis revealed that the true number of infections could be as much as 97 times higher than the number of confirmed reported cases. This compares to the global average where true number of infections is 16 times higher than the number of confirmed reported cases.However, seroprevalence varied widely within and across countries in Africa – higher in more dense urban areas than in less populated rural areas – and between age groups, with children aged 0-9 years having fewer infections compared with adults. Exposure to the virus also varied between countries and Africa’s sub-regions: seroprevalence appears to be highest in Eastern, Western and Central African regions. The new analysis suggests that more than two-thirds of all Africans have been exposed to the COVID-19 virus. Globally seroprevalence studies have found a significant under-counting of cases occurring across the globe with 45.2% of the world’s population estimated to have been infected with the virus by September 2021. It is, however, difficult to compare figures for Africa with those of other regions, as many of the studies conducted cover different time periods.The continent differentiates itself from other regions by its high number of asymptomatic cases, with 67% of cases having no symptoms.This analysis shows that current reported COVID-19 confirmed cases are only a fraction of the actual number of infections on the continent, said Dr Matshidiso Moeti, WHO Regional Director for Africa. This under-counting is occurring world-wide and it’s no surprise that the numbers are particularly large in Africa where there are so many cases with no symptoms.Seroprevalence studies provide data on asymptomatic or under-reported infections that may have been missed by routine diagnostic testing, which in Africa has focused on travellers and people who came to hospitals with COVID-19 symptoms. While this new analysis provides insight into the evolution of the pandemic, routine testing remains a critical component of the COVID-19 pandemic in all countries.Testing enables us to track the virus in real-time, monitor its evolution and assess the emergence of new variants. Countries must ramp up testing, contact tracing and surveillance so we can stay a step ahead of COVID-19, said Dr Moeti.As of 6 April 2022, there were 11.5 million confirmed cases and more than 252 000 deaths reported on the continent. It is likely that numbers of actual exposure to the virus have increased even more since September 2021. Africa has had milder COVID-19 cases compared with other parts of the world because there is a comparatively smaller proportion of people with risk factors such as diabetes, hypertension and other chronic diseases that are associated with more severe cases and deaths. Africa’s youthful population is also a protective factor.Despite Africa’s declining infections and high exposure to the virus, we cannot declare victory yet against COVID-19, Dr Moeti said. The seroprevalence analysis shows just how much the virus continues to circulate, particularly with new highly transmissible variants. The risks of more lethal variants emerging which overwhelm immunity gained from past infections cannot be brushed aside. Vaccination remains a key weapon in the fight against COVID-19. Multiple studies have shown that vaccination for those with prior infection is beneficial resulting in improved protection over infection-induced immunity alone. Africa has to date fully vaccinated 209 million people, or 16% of the population, administering 457 million of the 816 million vaccine doses received. WHO is working to support countries ramp-up vaccination.Dr Moeti spoke during a virtual press conference today. She was joined by Professor Guéladio Cissé, Coordinating Lead Author, Intergovernmental Panel on Climate Change, Swiss Tropical and Public Health Institute, University of Basel, Switzerland, and Dr Irene Owusu Donkor, Postdoctoral fellow, African Postdoctoral Training Initiativeand Research fellow, Noguchi Memorial Institute for Medical Research, Ghana.From the WHO Regional Office for Africa, Dr Joseph Okeibunor, Team Lead, Research Development and Innovations, Dr Thierno Balde, Regional COVID-19 Incident Manager, Dr Edinam Amavi, Vaccine Safety Officer, and Dr Brama Koné, Technical Officer, Climate Change and Health, were also on hand to answer questions.\n",
      "Brazzaville – Climate-related health emergencies are on the rise in Africa, accounting for more than half of public health events recorded in the region over the past two decades, a new analysis by World Health Organization (WHO) shows.The analysis found that of the 2121 public health events recorded in the African region between 2001 and 2021, 56% were climate-related. The region is witnessing an increase in climate-linked emergencies, with 25% more climate-related events recorded between 2011 and 2021 compared with the previous decade.World Health Day is being marked on 7 April under the theme Our Planet. Our Health. WHO is calling on governments to, among other recommendations, prioritize human well-being in all key decisions, stop new fossil fuel explorations and subsidies, tax polluters and implement WHO air quality guidelines.Climate change is one of the greatest threats to humanity. The entire foundation of good health is in jeopardy with increasingly severe climatic events. In Africa, frequent floods, water- and vector-borne diseases are deepening health crises. Although the continent contributes the least to global warming, it bears the full consequences, said Dr Matshidiso Moeti, WHO Regional Director for Africa.The WHO analysis found that water-borne diseases accounted for 40% of the climate-related health emergencies over the past two decades. In Africa, diarrhoeal diseases are the third leading cause of disease and death in under 5 children. A significant proportion of these deaths is preventable through safe drinking water, adequate sanitation and hygiene.The analysis also showed that vector-borne diseases, notably yellow fever, accounted for 28% of the climate-related health emergencies, while zoonotic diseases, specifically Congo-Crimean haemorrhagic fever, were the third most prevalent. Congo-Crimean haemorrhagic fever is a viral disease transmitted to people from ticks and livestock and has an outbreak fatality rate of up to 40%.Natural disasters have also spiked dramatically since 2010, with 70% of all-natural disasters occurring between 2017 and 2021. Floods were the most frequent event, accounting for 33% of all the reported natural disasters.Africa is also grappling with other significant health impacts linked to climatic shocks including malnutrition and hunger due to adverse weather on agricultural production, long-term health and development challenges in children, as well as other infectious diseases such as malaria.In Africa, climate change is likely to expand the range of malaria high-risk zones, according to a report by the Netherlands-based Global Centre on Adaptation. Even though malaria mortality has decreased from 840 000 deaths in 2000 to 602 000 deaths in 2020, the disease remains a major health challenge on the continent.Climate change impact is also likely to slow the progress against hunger, with an additional 78 million people in Africa facing chronic hunger by 2050, according to the report. WHO is supporting countries to reinforce their health systems to adapt, be more resilient and better cope with climate-linked emergencies. The measures include assessing health system weaknesses, developing and implementing measures to cushion people’s lives and health from the adverse consequences of climate-related health crises.The Organization is also assisting governments to ensure that their ministries of health can effectively coordinate, improve understanding and monitor climate change risks and impacts on health. Progress is being made. For instance, in Ethiopia, Malawi, Mozambique and Tanzania, WHO has worked with the health authorities to set up an early warning and response system to predict the risk of vector- and water-borne disease and respond effectively.WHO takes a One Health and All Hazards approach to climate-related public health events. The approach is based on the premise that human, animal and ecosystem health is interconnected and requires a coordinated approach to tackle and resolve the challenges. As such WHO works closely with experts and partner organizations in public, animal, plant and environmental health to reduce public health risks attributable to climate change.\n",
      "Major antibiotic donation moves African countries closer to defeating yawsBangui/Brazzaville/Yaoundé – A major donation of azithromycin, an antibiotic, is being delivered to Cameroon, Central African Republic and the Republic of Congo to contribute to the ongoing efforts to eradicate yaws in the three countries that are among nine in Africa where the disfiguring and debilitating childhood infectious disease is still endemic.Brazilian pharmaceutical firm, EMS, is on track to supply the three Congo Basin countries with 6 million tablets of the oral antibiotic. Central African Republic and Congo have received shipments of the antibiotics. Cameroon is set to receive their supplies in the coming weeks. Around 1.4 million people at risk of yaws in the three countries will receive the drugs in the initial round of a large-scale administration. Further rounds are planned to reach all the 7.4 million people at risk in the three countries. A single dose of azithromycin can completely cure yaws.Although yaws can be debilitating, especially among children, it is curable through inexpensive and effective antibiotics that have the potential to accelerate its eradication, said Dr Matshidiso Moeti, World Health Organization (WHO) Regional Director for Africa. This important donation gives a new push to the efforts aimed at ending yaws in our region. Thanks to the generosity of donors, future generations of the Congo Basin countries can live free of the suffering caused by this easily treatable illness. In partnership with (WHO), EMS is donating 153 million tablets to the global campaign to eradicate yaws. The initial agreement is from 2017—2022 but efforts are underway to extend it.At EMS we are proud to be part of this global yaws campaign. We’re glad that our collaboration with WHO is supporting the global momentum to achieve universal health coverage and the 2030 roadmap to eliminate neglected tropical diseases, said Carlos Sanchez, Charmain of EMS Group.The project in the three Congo Basin countries is financed by the German Development Bank (KfW) through the Central African Endemic Control Coordination Organization and FAIRMED, a Swiss-based non-governmental organization, is overseeing the implementation. The project also combines yaws eradication activities with integrated surveillance of leprosy, Buruli ulcer and response to other neglected tropical diseases in the targeted countries.To help implement and monitor the yaws eradication strategy, WHO has provided key technical guidance documents, standardized data collection tools as well as facilitated the supply of azithromycin to the affected countries. The Organization is also actively engaged in advocacy, partnership and resource mobilization to support countries.About yawsYaws is part of a group of bacterial infections commonly known as the endemic treponematoses. The disease tends to afflict vulnerable children in Africa, Asia and Pacific countries. It is spread from person-to-person. Poverty, low socioeconomic conditions and poor personal hygiene facilitate its spread. Without treatment, yaws can lead to chronic disfigurement and disability. The discovery of penicillin in the 1940s changed the way yaws was treated – a single injection led to cure. The disease burden dropped by 95% following the 1952 and the 1964 global eradication campaigns led by WHO and UNICEF. Unfortunately, because of lack of surveillance, persistent poverty and lack of access to health care, pockets of yaws exist even today.Yaws and dracunculiasis (guinea-worm disease) are two neglected tropical diseases targeted for eradication by 2030.Today, there are modern tools that will make the eradication efforts easier.With the discovery in 2012 that a single dose of oral azithromycin is effective against yaws, WHO published an eradication strategy based on the use of the antibiotic. A recent study shows that at least three rounds of mass treatment given at 6-monthly intervals substantially reduces the burden of yaws. This discovery meant that treatment of entire affected populations was possible. More importantly, it overcame the cumbersome logistics and the need for injections, which require administration by trained health-care workers.However, azithromycin has remained out of reach of those most vulnerable to the disease due to cost. The availability of the drug through WHO and EMS partnership will ensure that all the populations at-risk have access to effective treatment.Second, there are improvements in diagnostics. Simple rapid tests are now available to confirm yaws under field conditions, but cost has limited their widespread use. Reference laboratories in the affected countries are being strengthened to monitor any emergence of resistance to azithromycin using molecular methods.Third, the interest in neglected tropical diseases, the 2021—2030 neglected tropical disease roadmap and the opportunities for integration of mass treatment and surveillance with other programmes.The main challenge remains access to the rapid diagnostics and funding for implementation.Extent of yaws in AfricaGlobally, there are 15 endemic countries in Africa, Asia and western Pacific region. Of the 47 countries in the WHO African Region, nine are currently endemic: Benin, Cameroon, Central African Republic, Congo, Côte d’Ivoire, Democratic Republic of the Congo, Ghana, Liberia and Togo.Twenty-six countries are considered previously endemic based on the 1950s campaigns, while 12 have no history of yaws.\n",
      "Brazzaville/Copenhagen – The European Commission’s Directorate-General for European Civil Protection and Humanitarian Aid Operations (ECHO) is supporting the work of the World Health Organization (WHO) to boost COVID-19 vaccination campaigns and increase coverage in 15 African countries.With a total of €16 million from ECHO, WHO is supporting operational and technical aspects of the vaccine rollout over 18 months in the following countries:  Burundi; Cameroon; Central African Republic; Chad; Democratic Republic of the Congo; Guinea; Liberia; Madagascar; Mali; Mozambique; Niger; Nigeria; Somalia; South Sudan Republic, and Sudan. The grant is also helping to reinforce the capacity of health workers to plan, coordinate and deploy the vaccines as well as monitor and document the results of the rollout and adequately investigate and report any adverse events following immunization.The funding is part of the European Union’s (EU) humanitarian initiative for COVID-19 vaccination in Africa which aims to ensure increased access including for the most vulnerable as well as those living in hard-to-reach, remote and conflict-affected areas. It is also one of the many contributions from the EU and its Member States to the COVID-19 response. The EU also supports the COVAX Facility, the vaccines part of the Access to COVID-19 Tools-Accelerator created to develop and deliver tools to fight the pandemic.Ever since the COVID-19 pandemic broke out, the EU, its Member States and European financial institutions have come together as Team Europe, contributing to the fight against the pandemic around the world, supporting in particular the African continent, said Paraskevi Michou, Director General for Humanitarian Aid and Civil Protection in the European Commission. In addition to being a leading donor to the COVAX Facility, the EU supports local manufacturing of medicines and vaccines, the strengthening of research, analysis and sequencing capacities, as well as the improvement of health systems at regional and national levels in Africa. The EU has also provided a total of €100 million in humanitarian assistance to specifically support the rollout of vaccination campaigns in Africa, to help ensure equitable access to vaccines for vulnerable people, including in conflict-affected or hard-to-access areas. Our strong cooperation with the World Health Organization is instrumental in implementing this programme successfully.Efforts are ongoing to scale up COVID-19 vaccine coverage in Africa, where only 15% of the population is fully vaccinated so far. Around 404 million of the more than 716 million doses the continent has received to date have been administered.In a fresh drive to support countries’ scale up vaccination, WHO and partner organizations have deployed more than 60 experts on the ground to form part of country expert teams. These teams are working to strengthen coordination, logistical and financial planning, including microplanning, surveillance of adverse events following immunization as well as vaccine uptake and stock data management. WHO partners are also working with people in the communities to strengthen trust and confidence in vaccination.With African countries striving to expand the COVID-19 vaccination coverage, the support by the European Union injects a crucial momentum into the drive to scale up coverage on continent. Vaccination is the best protection against the adverse impact of the virus and will also prevent new variants from emerging and threatening not only Africa but the world., said Dr Matshidiso Moeti, WHO Regional Director for Africa.The vaccination campaigns prioritize vulnerable and high-risk populations such as health workers, older people, those with co-morbidities, in particularly living in fragile, conflict-affected and humanitarian contexts, including in refugee camps.Solidarity is key to ending this pandemic and to building back better. These are not just words. These principles have been already exemplified by the generous support with vaccines and funding provided by the European Union to the global pandemic response. Together in Europe, in Africa and beyond, WHO and the EU are working with local partners to ensure COVID-19 vaccination reaches the arms of everyone and that lessons learned contribute to resilient health systems, said Dr Hans Henri P. Kluge, WHO Regional Director for Europe. As the continent battles the pandemic it is also crucial to step up the efforts to address other vaccine-preventable disease as well as bolster health systems to provide accessible, quality and affordable care.\n"
     ]
    }
   ],
   "source": [
    "for i,line in enumerate(health_df['Text']):\n",
    "    print(line)\n",
    "    if(i>3):\n",
    "        break"
   ]
  },
  {
   "cell_type": "code",
   "execution_count": 28,
   "id": "48226f5e",
   "metadata": {},
   "outputs": [],
   "source": [
    "li_chi = []\n",
    "for i,phrase in enumerate(health_df['Text']):\n",
    "    li_chi.append(translator.translate(phrase,src='en',dest='ny').text)\n",
    "    #break"
   ]
  },
  {
   "cell_type": "code",
   "execution_count": 29,
   "id": "ca45d063",
   "metadata": {},
   "outputs": [
    {
     "data": {
      "text/plain": [
       "69"
      ]
     },
     "execution_count": 29,
     "metadata": {},
     "output_type": "execute_result"
    }
   ],
   "source": [
    "len(li_chi)"
   ]
  },
  {
   "cell_type": "code",
   "execution_count": 31,
   "id": "3591e7c1",
   "metadata": {},
   "outputs": [
    {
     "data": {
      "text/plain": [
       "\"Lachiwiri, pa Julayi 20, 2021 ndi chochitika chinanso chofunikira kwambiri polimbana ndi mliri wa covid-19 ku Gambia pomwe tidawona kubwera kwa chikwi chimodzi ndi makumi asanu ndi chimodzi, mazana awiri (151, 200) cha Johnson ndi Jonson (J&J). ) Katemera pansi pa malo a COVAX.Makatemerawa anathandizidwa ndi Boma la United States of America kudzera mu mgwirizano wa COVAX wotsogozedwa ndi World Health Organisation. Zoperekazo zafika panthawi yake pomwe dziko la Gambia likupitilizabe kuchitira umboni kuchuluka kwa anthu omwe ali ndi Covid-19 komanso kufa. Opitilira 1,000 adalembetsedwa pakati pa Juni-Julayi 2021, zomwe zidapangitsa kuti chiwerengero chonse cha anthu odwala matendawa chifike pa 6900 kuyambira pomwe mliri wa COVID-19 udayamba mu Marichi 2020. Polandira katemerayu, a Hon. Nduna ya Zaumoyo Dr Ahmadou Lamin Samateh anathokoza Boma la America, kudzera mwa kazembe wake ku Gambia, Richard Paschall, chifukwa chochita bwino. Adanenanso kuti katemerayu athandiza kwambiri kulimbikitsa pulogalamu ya katemera wa Covid-19 yomwe idakhazikitsidwa ndi Mtsogoleri wa Boma kuyambira chaka. Dr. Samateh anathokoza onse ogwira nawo ntchito pothana ndi Covid-19, makamaka World Health Organisation, UNICEF, European Union, World Bank, Peoples Republic of China, ndi ena ambiri. Amazindikiranso ogwira ntchito yazaumoyo ndi ena ogwira ntchito kutsogolo chifukwa chopereka chithandizo kwa anthu. Kazembe wa US mukulankhula mwachidule adadziwitsa a Hon. Minister kuti choperekacho ndi chimodzi mwa ambiri omwe akubwera, monga momwe adalonjeza Purezidenti wa United States of America ndi thandizo kuchokera kwa mamembala a G8. Ananenanso kuti katemera wa katemera pafupifupi magawo atatu mwa miliyoni miliyoni aperekedwa ku Gambia. Chifukwa chake kupezeka kwa katemera sizovuta koma momwe tingathandizire anthu kuti agwiritse ntchito katemerayu ndiye nkhawa yathu yayikulu, adatero kazembe wa US. Dr. Sharmila Lareef-Jah, polankhula m'malo mwa Woimira Dziko la WHO, adalandira ndikuyamikira Boma la America chifukwa cha ntchito yabwinoyi, ndipo adakumbutsa mabwenzi ndi anthu onse kuti katemera wa Johnson ndi Johnson, woyamba kulembedwa ndi WHO mu March. 2021)\\xa0 ndiyotetezeka komanso yothandiza kwa anthu omwe ali ndi matenda omwe amadziwika kuti ali ndi chiopsezo chowonjezeka cha matenda oopsa, monga kuthamanga kwa magazi, matenda aakulu a m'mapapo, matenda aakulu a mtima, kunenepa kwambiri, ndi matenda a shuga. Anati patatha masiku 28 atalandira katemera Janssen Ad26.CoV2.S adapezeka kuti ali ndi mphamvu ya 85.4% motsutsana ndi matenda oopsa komanso 93.1% motsutsana ndi kugonekedwa m'chipatala. Mlingo umodzi wa Janssen Ad26.COV2.S unapezeka m'mayesero azachipatala kukhala ndi mphamvu ya 66.9% motsutsana ndi zizindikiro, zochepetsetsa komanso zowopsa za SARS-CoV-2.Dr. A Lareef-Jah adachenjezanso za kumasuka komanso kupumula kwa njira zomwe anthu amalangizira zaumoyo, ndikugogomezera kuti ngakhale atatemera titha kupatsira kachilomboka kwa ena omwe sanatewere. Analimbikitsa anthu wamba kuti apitilize kuchitapo kanthu kuti adziteteze okha, mabanja awo ndi anzawo pamene mliri ukukula. Woimira dziko la UNICEF, a Jonathan Lewis, adanenanso kuti kupezeka kwa katemera kokha sikukwanira, komanso kugwiritsa ntchito katemera ndi anthu. Iye adati, vuto ndi kuthana ndi kukayikira kwa katemera kwa anthu komanso kulimbikira kukopa anthu kuti alandire katemera ngati njira imodzi yotsimikizika komanso yachangu yothanirana ndi mliriwu. a European Union, akuluakulu azaumoyo ndi ogwira ntchito amapanga banja la United Nations. Wothandizira Zaumoyo\\nImelo:\\xa0gassamam [at] who.int\\nTel:\\xa0+220\\xa04462286Wothandizira Zaumoyo\\nImelo:\\xa0williamsg [at] who.int\\nTel:\\xa0+220\\xa04462284\""
      ]
     },
     "execution_count": 31,
     "metadata": {},
     "output_type": "execute_result"
    }
   ],
   "source": [
    "li_chi[55]"
   ]
  },
  {
   "cell_type": "code",
   "execution_count": 33,
   "id": "de64e391",
   "metadata": {},
   "outputs": [],
   "source": [
    "df_health = pd.DataFrame(li_chi, columns =['Text'])\n",
    "df_health['Label'] = 'HEALTH'\n",
    "#df_flood['ID'] = [i for i in range(len(li_chi))]"
   ]
  },
  {
   "cell_type": "code",
   "execution_count": 35,
   "id": "9b355569",
   "metadata": {},
   "outputs": [
    {
     "data": {
      "text/html": [
       "<div>\n",
       "<style scoped>\n",
       "    .dataframe tbody tr th:only-of-type {\n",
       "        vertical-align: middle;\n",
       "    }\n",
       "\n",
       "    .dataframe tbody tr th {\n",
       "        vertical-align: top;\n",
       "    }\n",
       "\n",
       "    .dataframe thead th {\n",
       "        text-align: right;\n",
       "    }\n",
       "</style>\n",
       "<table border=\"1\" class=\"dataframe\">\n",
       "  <thead>\n",
       "    <tr style=\"text-align: right;\">\n",
       "      <th></th>\n",
       "      <th>Text</th>\n",
       "      <th>Label</th>\n",
       "    </tr>\n",
       "  </thead>\n",
       "  <tbody>\n",
       "    <tr>\n",
       "      <th>0</th>\n",
       "      <td>Brazzaville/Kinshasa, 23 April 2022 – Akuluaku...</td>\n",
       "      <td>HEALTH</td>\n",
       "    </tr>\n",
       "    <tr>\n",
       "      <th>1</th>\n",
       "      <td>Brazzaville - Kufikira 65% ya anthu aku Africa...</td>\n",
       "      <td>HEALTH</td>\n",
       "    </tr>\n",
       "    <tr>\n",
       "      <th>2</th>\n",
       "      <td>Brazzaville - Zadzidzidzi zokhudzana ndi nyeng...</td>\n",
       "      <td>HEALTH</td>\n",
       "    </tr>\n",
       "    <tr>\n",
       "      <th>3</th>\n",
       "      <td>Bangui/Brazzaville/Yaoundé - Chopereka chachik...</td>\n",
       "      <td>HEALTH</td>\n",
       "    </tr>\n",
       "    <tr>\n",
       "      <th>4</th>\n",
       "      <td>Brazzaville/Copenhagen - Bungwe la European Co...</td>\n",
       "      <td>HEALTH</td>\n",
       "    </tr>\n",
       "  </tbody>\n",
       "</table>\n",
       "</div>"
      ],
      "text/plain": [
       "                                                Text   Label\n",
       "0  Brazzaville/Kinshasa, 23 April 2022 – Akuluaku...  HEALTH\n",
       "1  Brazzaville - Kufikira 65% ya anthu aku Africa...  HEALTH\n",
       "2  Brazzaville - Zadzidzidzi zokhudzana ndi nyeng...  HEALTH\n",
       "3  Bangui/Brazzaville/Yaoundé - Chopereka chachik...  HEALTH\n",
       "4  Brazzaville/Copenhagen - Bungwe la European Co...  HEALTH"
      ]
     },
     "execution_count": 35,
     "metadata": {},
     "output_type": "execute_result"
    }
   ],
   "source": [
    "df_health.head()"
   ]
  },
  {
   "cell_type": "code",
   "execution_count": 36,
   "id": "f1274634",
   "metadata": {},
   "outputs": [],
   "source": [
    "df_health.to_csv('Health/health_chichewa.csv',index=False)"
   ]
  }
 ],
 "metadata": {
  "kernelspec": {
   "display_name": "Python 3",
   "language": "python",
   "name": "python3"
  },
  "language_info": {
   "codemirror_mode": {
    "name": "ipython",
    "version": 3
   },
   "file_extension": ".py",
   "mimetype": "text/x-python",
   "name": "python",
   "nbconvert_exporter": "python",
   "pygments_lexer": "ipython3",
   "version": "3.8.8"
  }
 },
 "nbformat": 4,
 "nbformat_minor": 5
}
