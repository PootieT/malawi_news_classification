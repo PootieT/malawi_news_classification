{
 "cells": [
  {
   "cell_type": "markdown",
   "id": "071a85a7",
   "metadata": {},
   "source": [
    "# Converts the English Flood data to chichewa using Google Translate"
   ]
  },
  {
   "cell_type": "code",
   "execution_count": 29,
   "id": "73400baf",
   "metadata": {},
   "outputs": [],
   "source": [
    "import pandas as pd\n",
    "import requests\n",
    "from typing import List, Dict, Tuple, Optional\n",
    "from tqdm import tqdm\n",
    "from googletrans import Translator\n",
    "from bs4 import BeautifulSoup as bs\n",
    "import re\n",
    "from sklearn.model_selection import train_test_split"
   ]
  },
  {
   "cell_type": "code",
   "execution_count": 30,
   "id": "f59c25ea",
   "metadata": {},
   "outputs": [],
   "source": [
    "# Using readlines()\n",
    "file1 = open('data_floods.txt', 'r',encoding='utf-8')\n",
    "Lines = file1.readlines()\n",
    " \n",
    "count = 0\n",
    "# Strips the newline character\n",
    "str_ = ''\n",
    "li = []\n",
    "for line in Lines:\n",
    "    if(line.strip() == ''):\n",
    "        continue\n",
    "    elif(line.strip() == '<END>'):\n",
    "        #print('\\n')\n",
    "        li.append(str_)\n",
    "        str_ = ''\n",
    "        count+=1\n",
    "        continue\n",
    "    #print(\"Line{}: {}\".format(count, line.strip()))\n",
    "    str_+=line.strip()\n",
    "    #if(count >20):\n",
    "    #    break"
   ]
  },
  {
   "cell_type": "code",
   "execution_count": 31,
   "id": "7cc065ad",
   "metadata": {},
   "outputs": [
    {
     "data": {
      "text/plain": [
       "101"
      ]
     },
     "execution_count": 31,
     "metadata": {},
     "output_type": "execute_result"
    }
   ],
   "source": [
    "len(li)"
   ]
  },
  {
   "cell_type": "code",
   "execution_count": 32,
   "id": "581ce503",
   "metadata": {},
   "outputs": [
    {
     "data": {
      "text/plain": [
       "'Flooding has affected over 25,000 people in different parts of the island of Sumatra, Indonesia, over the past week. At least one person has died and another is missing after heavy rain caused a landslide in Aceh Province.Meanwhile 4 people have died in a landslide that destroyed buildings on a roadside in Central Java Province of Java Island.Teams are searching for one person reported missing after a landslide in the remote Rikit Gaib District in Gayo Lues Regency, Aceh Province. One person died in a building destroyed by the landslide that struck after heavy rain late 22 November 2021.Disaster authorities in the country also reported several incidents of flooding across Sumatra Island over the last few days. Flooding struck in North Sumatra Province after heavy rain caused the Padang and Bailang rivers to overflow on 20 November 2021, affecting parts of Tebing Tinggi City, Rambutan, Bajenis, Padang Hilir, and Padang Hulu. According to the ASEAN Disaster Information Network, flood water was up to 1.2 metres deep in some areas. Hundreds of homes were damaged and around 18,430 people affected.Flooding was reported in Indra Makmur in East Aceh Regency is a regency in eastern Aceh Province on 18 November. Around 300 homes were damaged and 1,440 people affected.Flooding in Asahan Regency in North Sumatra Province occurred on the same day after heavy rain caused the Asahan River to overflow. Roads, bridges, crops and 230 houses were damaged and 5,952 people affected.Deadly Landslide in JavaHeavy rain in the neighbouring island of Java has caused some flooding and landslides in particular in Banjarnegara Regency, Central Java Province, on 19 November 2021, where 4 people died after a landslide destroyed buildings near a roadside in Pagentan District. One person was injured and 3 others evacuated.'"
      ]
     },
     "execution_count": 32,
     "metadata": {},
     "output_type": "execute_result"
    }
   ],
   "source": [
    "li[100]"
   ]
  },
  {
   "cell_type": "code",
   "execution_count": 33,
   "id": "5ee598c9",
   "metadata": {},
   "outputs": [],
   "source": [
    "df_flood_temp_ = pd.DataFrame(li, columns =['Text'])"
   ]
  },
  {
   "cell_type": "code",
   "execution_count": 34,
   "id": "62adddd3",
   "metadata": {},
   "outputs": [
    {
     "data": {
      "text/plain": [
       "'After intense rainfall that began in the early hours of this 02 April 2022, a landslide occurred in the village of Cocha Blanca, in the municipality of Ancuya in western Nariño. Two houses in the village were completely destroyed, killing or injuring the residents inside. According to the preliminary report known by Nariño’s Administrative Directorate for Disaster Risk Management (DAGRD), the event left 3 people dead and 5 people injured. Landslides in the area also blocked important roads.Jhon Rojas, the Governor of Nariño, along with a team from DAGRD Nariño visited the area to support the coordination of an emergency response. The governor said heavy rainfall had increased the risk of landslides in rural areas, putting families at risk. Some have evacuated their homes as a precaution. The governor added that assistance has been provided to affected communities and work on clearing or repairing roads has begun.'"
      ]
     },
     "execution_count": 34,
     "metadata": {},
     "output_type": "execute_result"
    }
   ],
   "source": [
    "df_flood_temp_['Text'][0]"
   ]
  },
  {
   "cell_type": "code",
   "execution_count": 36,
   "id": "e91eed70",
   "metadata": {},
   "outputs": [],
   "source": [
    "df_flood_temp_.to_csv('English_Data_Web/' + 'flood.csv',index=False)"
   ]
  },
  {
   "cell_type": "code",
   "execution_count": 5,
   "id": "b8e5851c",
   "metadata": {},
   "outputs": [],
   "source": [
    "data = pd.read_csv('Data/Train.csv')"
   ]
  },
  {
   "cell_type": "code",
   "execution_count": 6,
   "id": "cf33bfbd",
   "metadata": {},
   "outputs": [
    {
     "data": {
      "text/html": [
       "<div>\n",
       "<style scoped>\n",
       "    .dataframe tbody tr th:only-of-type {\n",
       "        vertical-align: middle;\n",
       "    }\n",
       "\n",
       "    .dataframe tbody tr th {\n",
       "        vertical-align: top;\n",
       "    }\n",
       "\n",
       "    .dataframe thead th {\n",
       "        text-align: right;\n",
       "    }\n",
       "</style>\n",
       "<table border=\"1\" class=\"dataframe\">\n",
       "  <thead>\n",
       "    <tr style=\"text-align: right;\">\n",
       "      <th></th>\n",
       "      <th>ID</th>\n",
       "      <th>Text</th>\n",
       "      <th>Label</th>\n",
       "    </tr>\n",
       "  </thead>\n",
       "  <tbody>\n",
       "    <tr>\n",
       "      <th>0</th>\n",
       "      <td>ID_AASHwXxg</td>\n",
       "      <td>Mwangonde: Khansala wachinyamata Akamati achi...</td>\n",
       "      <td>POLITICS</td>\n",
       "    </tr>\n",
       "    <tr>\n",
       "      <th>1</th>\n",
       "      <td>ID_AGoFySzn</td>\n",
       "      <td>MCP siidakhutire ndi kalembera Chipani cha Ma...</td>\n",
       "      <td>POLITICS</td>\n",
       "    </tr>\n",
       "    <tr>\n",
       "      <th>2</th>\n",
       "      <td>ID_AGrrkBGP</td>\n",
       "      <td>Bungwe la MANEPO Lapempha Boma Liganizire Anth...</td>\n",
       "      <td>HEALTH</td>\n",
       "    </tr>\n",
       "    <tr>\n",
       "      <th>3</th>\n",
       "      <td>ID_AIJeigeG</td>\n",
       "      <td>Ndale zogawanitsa miyambo zanyanya Si zachile...</td>\n",
       "      <td>POLITICS</td>\n",
       "    </tr>\n",
       "    <tr>\n",
       "      <th>4</th>\n",
       "      <td>ID_APMprMbV</td>\n",
       "      <td>Nanga wapolisi ataphofomoka? Masiku ano sichi...</td>\n",
       "      <td>LAW/ORDER</td>\n",
       "    </tr>\n",
       "  </tbody>\n",
       "</table>\n",
       "</div>"
      ],
      "text/plain": [
       "            ID                                               Text      Label\n",
       "0  ID_AASHwXxg   Mwangonde: Khansala wachinyamata Akamati achi...   POLITICS\n",
       "1  ID_AGoFySzn   MCP siidakhutire ndi kalembera Chipani cha Ma...   POLITICS\n",
       "2  ID_AGrrkBGP  Bungwe la MANEPO Lapempha Boma Liganizire Anth...     HEALTH\n",
       "3  ID_AIJeigeG   Ndale zogawanitsa miyambo zanyanya Si zachile...   POLITICS\n",
       "4  ID_APMprMbV   Nanga wapolisi ataphofomoka? Masiku ano sichi...  LAW/ORDER"
      ]
     },
     "execution_count": 6,
     "metadata": {},
     "output_type": "execute_result"
    }
   ],
   "source": [
    "data.head()"
   ]
  },
  {
   "cell_type": "code",
   "execution_count": 7,
   "id": "0803e546",
   "metadata": {},
   "outputs": [
    {
     "data": {
      "text/plain": [
       "' Mwangonde: Khansala wachinyamata Akamati achinyamata ndi atsogoleri a mawa, ambiri amaganiza kuti izi ndi nkhambakamwa chabe. Koma achinyamata ena, monga Lusubilo Mwangonde, akukwaniritsa akupherezetsa mawuwa osati pongolota kuti adzakhala, koma kutsogolera kumene chifukwa nthawi yawo yakwana. DAILES BANDA adacheza ndi Mwangonde, khansala wachinyama, yemwe akuimira Jumbo Ward mumzinda wa Mzuzu, motere:  Chisale watuluka nkumangidwanso  Sipakala waimitsa Nyumba ya Malamulo  Pa Wenela pasintha zedi Ali ndi masomphenya: Mwangonde Tikudziweni  Ndine Lusubilo Mwangonde, ndili ndi zaka 27 zakubadwa. Ndinabadwa mbanja la ana asanu ndipo ndine wachinayi kubadwa. Ndimachokera mmudzi mwa Mwamalopa, kwa Paramount Chief Kyungu mboma la Karonga. Sindili pabanja pakadalipano.\\n Mbiri ya maphunziro anu ndi yotani? Maphunziro anga a pulaimale ndidachitira kusukula yapulaiveti ya Viphya mumzinda wa Mzuzu ndipo asekondale ndidachitira pa Phwezi Boys mboma la Rumphi. Ndili ndi diploma ya Accounting ndipo pakadalipano ndikupanga digiri komanso Chartered Accounting kusukulu ya Malawi College of Accountancy (MCA).\\n Mudayamba bwanji zandale? Kuyambira ndili wachichepere, zaka 12, ndakhala ndikukhala mumaudindo a utgogoleri. Ichi ndi china mwa zinthu zomwe zidandilimbikitsa kuti ndikhoza kudzapambana pazisankho. Koma chachikulu chomwe chidandichititsa kuti ndilowe ukhansala chidali chifukwa chakuti ndinkafuna kupereka mpata kwa anthu kuti azitha kuyankhula zakukhosi kwawo polimbikitsa demokalase ndi chitukuko.\\n Ntchito mukugwira ndi zomwe munkayembekezera? Eya, ndiponso ndinkayembekezera zambiri.\\n Masomphenya anu ndi otani pandale? Ine ndine munthu wokhulupirira Mulungu ndipo ndili ndi chikhulupiriro choti Iye ndi amene adzandionetsere zomwe ndikuyera kuchita ndi tsogolo langa.\\n Zinthu zina zomwe mumachita ndi chiyani pambali pa ukhansala? Ndikakhala sindikugwira ntchito yaukhansala ndimakhala ndikuchita bizinesi, nthawi zina ndimakhala ndili kusukulu komwe ndikuchita maphuro anga a digiri. Kuonjezera pamenepo ndili ndi bungwe lomwe ndidayambitsa ndi anzanga ena la Centre for Participatory Democracy lomwe limalimbikitsa demokalase.\\n Zomwe mwakwanitsa ndi zotani? Ndathandiza kuti ntchito yopala misewu ya kudera la Moyale itheke. Misewuyi yakhala nthawi yaitali osapalidwa. Ndidathandiziranso kuti ochita malonda ayambe kumanga mashopu anjerwa ndi kusiya kumangira matabwa kapena zigwagwa. Ndidakwanitsanso kukaimirira khonsolo ya Mzuzu ku Nyumba ya Malamulo. Ndaonanso kuti ntchitoyi yandithandiza kusintha momwe ndimaonera zinthu komanso ndimakumana ndi anthu osiyanasiyana omwe amandiphunzitsa zinthu zambiri.\\n'"
      ]
     },
     "execution_count": 7,
     "metadata": {},
     "output_type": "execute_result"
    }
   ],
   "source": [
    "data['Text'][0]"
   ]
  },
  {
   "cell_type": "code",
   "execution_count": 20,
   "id": "22f9d88f",
   "metadata": {},
   "outputs": [
    {
     "data": {
      "text/plain": [
       "POLITICS                279\n",
       "SOCIAL                  152\n",
       "RELIGION                147\n",
       "LAW/ORDER               136\n",
       "SOCIAL ISSUES           134\n",
       "HEALTH                  127\n",
       "ECONOMY                  86\n",
       "FARMING                  78\n",
       "SPORTS                   49\n",
       "EDUCATION                43\n",
       "RELATIONSHIPS            39\n",
       "WILDLIFE/ENVIRONMENT     36\n",
       "OPINION/ESSAY            26\n",
       "LOCALCHIEFS              25\n",
       "CULTURE                  23\n",
       "WITCHCRAFT               16\n",
       "MUSIC                    15\n",
       "TRANSPORT                11\n",
       "ARTS AND CRAFTS           7\n",
       "FLOODING                  7\n",
       "Name: Label, dtype: int64"
      ]
     },
     "execution_count": 20,
     "metadata": {},
     "output_type": "execute_result"
    }
   ],
   "source": [
    "data[\"Label\"].value_counts()"
   ]
  },
  {
   "cell_type": "code",
   "execution_count": 28,
   "id": "dddbee04",
   "metadata": {},
   "outputs": [
    {
     "data": {
      "text/plain": [
       "' Chimanga chikololedwa chochepaUnduna Kauniuni woyamba wa zokolola wasonyeza kuti chaka chino Amalawi akolola chimanga chocheperako kusiyana ndi chaka chatha, chikalata chimene unduna wa malimidwe watulutsa chatero.\\n Chaka chilichonse undunawu umachita kauniuni katatu pa mbewu, ziweto ndi nsomba pofuna kuunikira kuti zokolola zikhala zotani.\\n  Chakwera akwanitse malonjezoHRDC  Masankhidwe a nduna autsa mapiri pa chigwa  Malonjezo ayamba kuoneka Kauniuni woyambayo wasonyeza kuti chaka chino mlingo wa chimanga utsika kuchoka pa matani 2 776 277 chaka chatha kufika pa 2 719 425, ndipo izi zikutanthauza kuti pa makilogalamu 100 alionse omwe tidapeza chaka chatha, chaka chino pazichoka makilogalamu awiri.\\n Kauniyu wapezanso kuti fodya wa chaka chino achuluka kuchoka pa makilogalamu 192 967 541 chaka chatha kufika pa makilogalamu 211 083 000 chaka chino pomwe thonje atsika ndi makilogalamu 43.2 pa makilogalamu 100 alionse omwe adakololedwa chaka chatha.\\n Undunawu wati mpunga uchuluka ndi makilogalamu 1.4 pa makilogalamu 100 omwe adakololedwa chaka chatha pomwe mtedza uchuluka ndi makilogalamu 4.5, nyemba 5.2 ndipo nandolo 3.1 pa makilogalamu 100 aliwonse omwe adakololedwa chaka chatha.\\n Mkulu wa mgwirizano wa mabungwe a zaulimi wa Civil Society Agriculture Network (Cisanet) Tamani Mvula Nkhono adati kauniuni wa mtunduwu ndiwofunika chifukwa umapereka chithunzithunzi cha kakololedwe.\\n Iye adati undunawu wachita bwino kutulutsa zotsatira zakauniuni woyambayu koma lipitirize kuunikanso kawiri kamene katsala.\\n'"
      ]
     },
     "execution_count": 28,
     "metadata": {},
     "output_type": "execute_result"
    }
   ],
   "source": [
    "data.loc[data['Label'] == 'WILDLIFE/ENVIRONMENT'].iloc[10].Text"
   ]
  },
  {
   "cell_type": "code",
   "execution_count": 14,
   "id": "18bf6ed5",
   "metadata": {},
   "outputs": [],
   "source": [
    "from googletrans import Translator"
   ]
  },
  {
   "cell_type": "code",
   "execution_count": 15,
   "id": "d58aa818",
   "metadata": {},
   "outputs": [],
   "source": [
    "def get_free_proxies():\n",
    "    url = \"https://free-proxy-list.net/\"\n",
    "    # get the HTTP response and construct soup object\n",
    "    soup = bs(requests.get(url).content, \"html.parser\")\n",
    "    proxies = []\n",
    "    #print(soup)\n",
    "    for row in soup.find(\"table\", attrs={\"class\": \"table table-striped table-bordered\"}).find_all(\"tr\")[1:]:\n",
    "        tds = row.find_all(\"td\")\n",
    "        try:\n",
    "            ip = tds[0].text.strip()\n",
    "            port = tds[1].text.strip()\n",
    "            host = f\"{ip}:{port}\"\n",
    "            proxies.append(host)\n",
    "        except IndexError:\n",
    "            continue\n",
    "    return proxies"
   ]
  },
  {
   "cell_type": "code",
   "execution_count": 16,
   "id": "4de263d2",
   "metadata": {},
   "outputs": [],
   "source": [
    "translator = Translator(proxies=get_free_proxies())"
   ]
  },
  {
   "cell_type": "code",
   "execution_count": 17,
   "id": "ddc60a0b",
   "metadata": {},
   "outputs": [
    {
     "data": {
      "text/plain": [
       "' Mwangonde: Khansala wachinyamata Akamati achinyamata ndi atsogoleri a mawa, ambiri amaganiza kuti izi ndi nkhambakamwa chabe. Koma achinyamata ena, monga Lusubilo Mwangonde, akukwaniritsa akupherezetsa mawuwa osati pongolota kuti adzakhala, koma kutsogolera kumene chifukwa nthawi yawo yakwana. DAILES BANDA adacheza ndi Mwangonde, khansala wachinyama, yemwe akuimira Jumbo Ward mumzinda wa Mzuzu, motere:  Chisale watuluka nkumangidwanso  Sipakala waimitsa Nyumba ya Malamulo  Pa Wenela pasintha zedi Ali ndi masomphenya: Mwangonde Tikudziweni  Ndine Lusubilo Mwangonde, ndili ndi zaka 27 zakubadwa. Ndinabadwa mbanja la ana asanu ndipo ndine wachinayi kubadwa. Ndimachokera mmudzi mwa Mwamalopa, kwa Paramount Chief Kyungu mboma la Karonga. Sindili pabanja pakadalipano.\\n Mbiri ya maphunziro anu ndi yotani? Maphunziro anga a pulaimale ndidachitira kusukula yapulaiveti ya Viphya mumzinda wa Mzuzu ndipo asekondale ndidachitira pa Phwezi Boys mboma la Rumphi. Ndili ndi diploma ya Accounting ndipo pakadalipano ndikupanga digiri komanso Chartered Accounting kusukulu ya Malawi College of Accountancy (MCA).\\n Mudayamba bwanji zandale? Kuyambira ndili wachichepere, zaka 12, ndakhala ndikukhala mumaudindo a utgogoleri. Ichi ndi china mwa zinthu zomwe zidandilimbikitsa kuti ndikhoza kudzapambana pazisankho. Koma chachikulu chomwe chidandichititsa kuti ndilowe ukhansala chidali chifukwa chakuti ndinkafuna kupereka mpata kwa anthu kuti azitha kuyankhula zakukhosi kwawo polimbikitsa demokalase ndi chitukuko.\\n Ntchito mukugwira ndi zomwe munkayembekezera? Eya, ndiponso ndinkayembekezera zambiri.\\n Masomphenya anu ndi otani pandale? Ine ndine munthu wokhulupirira Mulungu ndipo ndili ndi chikhulupiriro choti Iye ndi amene adzandionetsere zomwe ndikuyera kuchita ndi tsogolo langa.\\n Zinthu zina zomwe mumachita ndi chiyani pambali pa ukhansala? Ndikakhala sindikugwira ntchito yaukhansala ndimakhala ndikuchita bizinesi, nthawi zina ndimakhala ndili kusukulu komwe ndikuchita maphuro anga a digiri. Kuonjezera pamenepo ndili ndi bungwe lomwe ndidayambitsa ndi anzanga ena la Centre for Participatory Democracy lomwe limalimbikitsa demokalase.\\n Zomwe mwakwanitsa ndi zotani? Ndathandiza kuti ntchito yopala misewu ya kudera la Moyale itheke. Misewuyi yakhala nthawi yaitali osapalidwa. Ndidathandiziranso kuti ochita malonda ayambe kumanga mashopu anjerwa ndi kusiya kumangira matabwa kapena zigwagwa. Ndidakwanitsanso kukaimirira khonsolo ya Mzuzu ku Nyumba ya Malamulo. Ndaonanso kuti ntchitoyi yandithandiza kusintha momwe ndimaonera zinthu komanso ndimakumana ndi anthu osiyanasiyana omwe amandiphunzitsa zinthu zambiri.\\n'"
      ]
     },
     "execution_count": 17,
     "metadata": {},
     "output_type": "execute_result"
    }
   ],
   "source": [
    "data['Text'][0]"
   ]
  },
  {
   "cell_type": "code",
   "execution_count": 18,
   "id": "5640a4a2",
   "metadata": {},
   "outputs": [
    {
     "data": {
      "text/plain": [
       "\"Mwangonde: A young councilor When they say young people are the leaders of tomorrow, many think that this is just a myth. But some young people, such as Lusubilo Mwangonde, are fulfilling this promise by not just pretending to be, but taking the lead because their time has come. DAILES BANDA spoke to Mwangonde, a wildlife councilor representing Jumbo Ward in Mzuzu, as follows: Chisale has been re-arrested Sipakala has suspended Parliament in Wenela I was born in a family of five children and am the fourth born. I come from Mwamalopa village, Paramount Chief Kyungu in Karonga district. I'm not married yet.\\n What is your educational background? My primary education was at Viphya Private School in Mzuzu and my high school education was at Phwezi Boys' Rumphi District. I have a Diploma in Accounting and am currently pursuing a degree and Chartered Accounting at the Malawi College of Accountancy (MCA).\\n How did you get into politics? Ever since I was a teenager, 12 years old, I have been in leadership positions. This is one of the things that inspired me to be able to win elections. But the main reason I went to the council was because I wanted to give people a chance to express their views in promoting democracy and development.\\n Are you working on what you expected? Yeah, and I was expecting a lot more.\\n What is your political vision? I am a person who believes in God and has faith that He is the one who will show me what I should do with my future.\\n What are some of the things you do besides counseling? When I don't work as a councilor I do business, sometimes I go to school where I do my degree. In addition I have an organization founded by some of my colleagues the Center for Participatory Democracy that promotes democracy.\\n What are your achievements? I helped make the Moyale road construction project possible. The roads have long been unpaved. I also helped retailers to start building brick shops and to stop building timber or masonry. I was also able to represent Mzuzu in Parliament. I also find that this work has helped me to change my attitude and to meet different people who teach me a lot of things.\""
      ]
     },
     "execution_count": 18,
     "metadata": {},
     "output_type": "execute_result"
    }
   ],
   "source": [
    "translator.translate(data['Text'][0],src='ny',dest='en').text"
   ]
  },
  {
   "cell_type": "code",
   "execution_count": 19,
   "id": "48226f5e",
   "metadata": {},
   "outputs": [],
   "source": [
    "li_chi = []\n",
    "for i,phrase in enumerate(li):\n",
    "    li_chi.append(translator.translate(phrase,src='en',dest='ny').text)\n",
    "    #break"
   ]
  },
  {
   "cell_type": "code",
   "execution_count": 21,
   "id": "ca45d063",
   "metadata": {},
   "outputs": [
    {
     "data": {
      "text/plain": [
       "\"Pambuyo pa mvula yamphamvu yomwe idayamba koyambirira kwa 02 Epulo 2022, kugumuka kunachitika m'mudzi wa Cocha Blanca, m'tauni ya Ancuya kumadzulo kwa Nariño. Nyumba ziwiri za m’mudzimo zinawonongeka kotheratu, kupha kapena kuvulaza okhala mkatimo. Malinga ndi lipoti loyamba lodziwika ndi Nariño's Administrative Directorate for Disaster Risk Management (DAGRD), chochitikacho chinasiya anthu a 3 akufa ndipo anthu a 5 anavulala. Kugumuka kwa nthaka m'derali kunatsekanso misewu yofunika kwambiri. Jhon Rojas, Bwanamkubwa wa Nariño, pamodzi ndi gulu la DAGRD Nariño anapita kuderali kuti athandizire kugwirizanitsa ntchito zadzidzidzi. Bwanamkubwayu wati kugwa kwamvula kwadzetsa chiwopsezo cha kusefukira kwa nthaka kumidzi zomwe zayika mabanja pachiwopsezo. Ena achoka m’nyumba zawo pofuna kupewa ngozi. Bwanamkubwayu adawonjezeranso kuti thandizo laperekedwa kwa anthu omwe akhudzidwa ndipo ntchito yokonza kapena kukonza misewu yayamba.\""
      ]
     },
     "execution_count": 21,
     "metadata": {},
     "output_type": "execute_result"
    }
   ],
   "source": [
    "li_chi[0]"
   ]
  },
  {
   "cell_type": "code",
   "execution_count": 20,
   "id": "377cb439",
   "metadata": {},
   "outputs": [],
   "source": [
    "li_chi_no_punc = []\n",
    "for i,phrase in enumerate(li_chi):\n",
    "    res = re.sub(r'[^\\w\\s]', '', phrase)\n",
    "    li_chi_no_punc.append(res)"
   ]
  },
  {
   "cell_type": "code",
   "execution_count": 107,
   "id": "ea27e9ab",
   "metadata": {},
   "outputs": [
    {
     "data": {
      "text/plain": [
       "'Pambuyo pa mvula yamphamvu yomwe idayamba koyambirira kwa 02 Epulo 2022 kugumuka kunachitika mmudzi wa Cocha Blanca mtauni ya Ancuya kumadzulo kwa Nariño Nyumba ziwiri za mmudzimo zinawonongeka kotheratu kupha kapena kuvulaza okhala mkatimo Malinga ndi lipoti loyamba lodziwika ndi Nariños Administrative Directorate for Disaster Risk Management DAGRD chochitikacho chinasiya anthu a 3 akufa ndipo anthu a 5 anavulala Kugumuka kwa nthaka mderali kunatsekanso misewu yofunika kwambiri Jhon Rojas Bwanamkubwa wa Nariño pamodzi ndi gulu la DAGRD Nariño anapita kuderali kuti athandizire kugwirizanitsa ntchito zadzidzidzi Bwanamkubwayu wati kugwa kwamvula kwadzetsa chiwopsezo cha kusefukira kwa nthaka kumidzi zomwe zayika mabanja pachiwopsezo Ena achoka mnyumba zawo pofuna kupewa ngozi Bwanamkubwayu adawonjezeranso kuti thandizo laperekedwa kwa anthu omwe akhudzidwa ndipo ntchito yokonza kapena kukonza misewu yayamba'"
      ]
     },
     "execution_count": 107,
     "metadata": {},
     "output_type": "execute_result"
    }
   ],
   "source": [
    "li_chi_no_punc[0]"
   ]
  },
  {
   "cell_type": "code",
   "execution_count": 108,
   "id": "9661a57a",
   "metadata": {},
   "outputs": [
    {
     "data": {
      "text/plain": [
       "'Anthu osachepera 16 ataya miyoyo yawo mvula yopitilira 800 mm mu maola 48 idayambitsa kusefukira kwamadzi komanso kusefukira kwa nthaka mzigawo za Baixada Fluminense ndi Costa Verde mboma la Rio de Janeiro Brazil boma linali limodzi mwa madera omwe anakhudzidwa kwambiri Akuluakulu a mderalo adanena kuti kuphulika kwa nthaka mdera la Ponta Negra kunawononga nyumba za 7 ndikuyika anthu osachepera 8 a banja limodzi Pofika pa 02 Epulo anthu 7 adamwalira pamwambowu pomwe munthu mmodzi adapulumutsidwa ali wamoyoDipatimenti yoona za chithandizo cha anthu ku Paraty yati idathandiza mabanja 219 okhudzidwa mmadera 22 oyandikana nawo Pafupifupi mabanja 71 adasamutsidwa ndikusamukira kumalo osakhalitsa kuphatikiza masukulu ammatauni Ma municipality adalengeza za State of Public Calamity pa 02 Epulo 2022 Mbali za manispala oyandikana nawo a Angra dos Reis adawona mvula ya 809 mm mu maola 48 mpaka 02 Epulo 2022 Adalengezanso za ngozi yapagulu pa 02 Epulo 2022 Pofika pa 03 Epulo bungwe la National Civil Defense ku Brazil linanena kuti anthu 8 afa komanso anthu atatu asowa ku Angra dos Reis Ozimitsa moto apulumutsa anthu asanu Anthu okwana 181 anasamuka mnyumba zawo nkupita kumalo osakhalitsa Atolankhani akumaloko anenanso za ngozi yokhudzana ndi nyengo ku Mesquita mtunda wa makilomita 40 kumpoto chakumadzulo kwa mzinda wa Rio de Janeiro kumene bambo wina anagwidwa ndi magetsi chifukwa cha madzi osefukira pamene ankafuna kuthandiza munthu wina Akuluakulu a munisipa adati chomwe chaphetsa imfayi chikufufuzidwabe Misewu yatsekedwa ndipo nyumba zawonongeka ndi kusefukira kwa nthaka Akuluakulu aboma athandiza mabanja ambiri omwe akhudzidwa Mesquita inalemba mvula ya 266 mm pafupifupi maola asanu ndi limodzi pa 02 April akuluakulu adatiAnthu oposa 230 anataya miyoyo yawo mmadera awiri a kusefukira kwa madzi ndi kugwa kwa nthaka ku Petrópolis ku Fluminense Mountain Region mchigawo cha boma mu February ndi March chaka chino'"
      ]
     },
     "execution_count": 108,
     "metadata": {},
     "output_type": "execute_result"
    }
   ],
   "source": [
    "li_chi_no_punc[1]"
   ]
  },
  {
   "cell_type": "code",
   "execution_count": 84,
   "id": "02e0022d",
   "metadata": {},
   "outputs": [
    {
     "data": {
      "text/plain": [
       "[\"Pambuyo pa mvula yamphamvu yomwe idayamba koyambirira kwa 02 Epulo 2022, kugumuka kunachitika m'mudzi wa Cocha Blanca, m'tauni ya Ancuya kumadzulo kwa Nariño. Nyumba ziwiri za m’mudzimo zinawonongeka kotheratu, kupha kapena kuvulaza okhala mkatimo. Malinga ndi lipoti loyamba lodziwika ndi Nariño's Administrative Directorate for Disaster Risk Management (DAGRD), chochitikacho chinasiya anthu a 3 akufa ndipo anthu a 5 anavulala. Kugumuka kwa nthaka m'derali kunatsekanso misewu yofunika kwambiri. Jhon Rojas, Bwanamkubwa wa Nariño, pamodzi ndi gulu la DAGRD Nariño anapita kuderali kuti athandizire kugwirizanitsa ntchito zadzidzidzi. Bwanamkubwayu wati kugwa kwamvula kwadzetsa chiwopsezo cha kusefukira kwa nthaka kumidzi zomwe zayika mabanja pachiwopsezo. Ena achoka m’nyumba zawo pofuna kupewa ngozi. Bwanamkubwayu adawonjezeranso kuti thandizo laperekedwa kwa anthu omwe akhudzidwa ndipo ntchito yokonza kapena kukonza misewu yayamba.\"]"
      ]
     },
     "execution_count": 84,
     "metadata": {},
     "output_type": "execute_result"
    }
   ],
   "source": [
    "li_chi"
   ]
  },
  {
   "cell_type": "code",
   "execution_count": 86,
   "id": "e9abb129",
   "metadata": {},
   "outputs": [
    {
     "data": {
      "text/plain": [
       "\"Pambuyo pa mvula yamphamvu yomwe idayamba koyambirira kwa 02 Epulo 2022, kugumuka kunachitika m'mudzi wa Cocha Blanca, m'tauni ya Ancuya kumadzulo kwa Nariño. Nyumba ziwiri za m’mudzimo zinawonongeka kotheratu, kupha kapena kuvulaza okhala mkatimo. Malinga ndi lipoti loyamba lodziwika ndi Nariño's Administrative Directorate for Disaster Risk Management (DAGRD), chochitikacho chinasiya anthu a 3 akufa ndipo anthu a 5 anavulala. Kugumuka kwa nthaka m'derali kunatsekanso misewu yofunika kwambiri. Jhon Rojas, Bwanamkubwa wa Nariño, pamodzi ndi gulu la DAGRD Nariño anapita kuderali kuti athandizire kugwirizanitsa ntchito zadzidzidzi. Bwanamkubwayu wati kugwa kwamvula kwadzetsa chiwopsezo cha kusefukira kwa nthaka kumidzi zomwe zayika mabanja pachiwopsezo. Ena achoka m’nyumba zawo pofuna kupewa ngozi. Bwanamkubwayu adawonjezeranso kuti thandizo laperekedwa kwa anthu omwe akhudzidwa ndipo ntchito yokonza kapena kukonza misewu yayamba.\""
      ]
     },
     "execution_count": 86,
     "metadata": {},
     "output_type": "execute_result"
    }
   ],
   "source": [
    "li_chi[0]"
   ]
  },
  {
   "cell_type": "code",
   "execution_count": 89,
   "id": "6f358f36",
   "metadata": {},
   "outputs": [
    {
     "data": {
      "text/plain": [
       "\"Madzi osefukira akhudza anthu oposa 25,000 m’madera osiyanasiyana a chilumba cha Sumatra, ku Indonesia, sabata yatha. Pafupifupi munthu m'modzi wamwalira ndipo wina wasowa mvula yamphamvu itagwetsa chigumula m'chigawo cha Aceh.Padakali pano anthu anayi afa pa chigumula chomwe chinaononga nyumba m'mphepete mwa msewu m'chigawo cha Central Java ku Java Island.Magulu akusakasaka munthu m'modzi yemwe akuti wasowa. pambuyo pakugumuka kwa nthaka mdera lakutali la Rikit Gaib ku Gayo Lues Regency, Chigawo cha Aceh. Munthu m'modzi wamwalira m'nyumba yomwe idawonongeka chifukwa cha mvula yamphamvu yomwe idachitika kumapeto kwa 22 Novembara 2021. Akuluakulu a masoka mdzikolo anenanso za kusefukira kwa madzi pachilumba cha Sumatra masiku angapo apitawa. Madzi osefukira anasefukira m’chigawo cha kumpoto kwa Sumatra mvula yamphamvu itachititsa kuti mitsinje ya Padang ndi Bailang isefukire pa 20 November 2021, ndipo madera ena a Tebing Tinggi City, Rambutan, Bajenis, Padang Hilir, ndi Padang Hulu anasefukira. Malinga ndi bungwe la ASEAN Disaster Information Network, madzi osefukira anali ozama mpaka mamita 1.2 m’madera ena. Nyumba zambirimbiri zinawonongeka ndipo anthu pafupifupi 18,430 anakhudzidwa.Chigumula chinanenedwa ku Indra Makmur ku East Aceh Regency ndi regency kum'mawa kwa Aceh Province pa 18 November. Pafupifupi nyumba za 300 zinawonongeka ndipo anthu 1,440 anakhudzidwa. Madzi osefukira ku Asahan Regency ku North Sumatra Province anachitika tsiku lomwelo mvula yamkuntho inachititsa kuti mtsinje wa Asahan usefuke. Misewu, milatho, mbewu ndi nyumba za 230 zinawonongeka ndipo anthu 5,952 anakhudzidwa. Kugwa kwa nthaka ku JavaNvula yamphamvu pachilumba choyandikana ndi Java yachititsa kusefukira kwa madzi komanso kugumuka kwa nthaka makamaka ku Banjarnegara Regency, Central Java Province, pa 19 November 2021, kumene anthu 4 amwalira pambuyo poti chigumula chinawononga nyumba pafupi ndi msewu m'boma la Pagentan. Munthu m'modzi wavulala ndipo ena atatu adasamutsidwa.\""
      ]
     },
     "execution_count": 89,
     "metadata": {},
     "output_type": "execute_result"
    }
   ],
   "source": [
    "li_chi[100]"
   ]
  },
  {
   "cell_type": "code",
   "execution_count": 22,
   "id": "de64e391",
   "metadata": {},
   "outputs": [],
   "source": [
    "df_flood = pd.DataFrame(li_chi, columns =['Text'])\n",
    "df_flood['Label'] = 'FLOODING'\n",
    "#df_flood['ID'] = [i for i in range(len(li_chi))]"
   ]
  },
  {
   "cell_type": "code",
   "execution_count": 23,
   "id": "9b355569",
   "metadata": {},
   "outputs": [
    {
     "data": {
      "text/html": [
       "<div>\n",
       "<style scoped>\n",
       "    .dataframe tbody tr th:only-of-type {\n",
       "        vertical-align: middle;\n",
       "    }\n",
       "\n",
       "    .dataframe tbody tr th {\n",
       "        vertical-align: top;\n",
       "    }\n",
       "\n",
       "    .dataframe thead th {\n",
       "        text-align: right;\n",
       "    }\n",
       "</style>\n",
       "<table border=\"1\" class=\"dataframe\">\n",
       "  <thead>\n",
       "    <tr style=\"text-align: right;\">\n",
       "      <th></th>\n",
       "      <th>Text</th>\n",
       "      <th>Label</th>\n",
       "    </tr>\n",
       "  </thead>\n",
       "  <tbody>\n",
       "    <tr>\n",
       "      <th>0</th>\n",
       "      <td>Pambuyo pa mvula yamphamvu yomwe idayamba koya...</td>\n",
       "      <td>FLOODING</td>\n",
       "    </tr>\n",
       "    <tr>\n",
       "      <th>1</th>\n",
       "      <td>Anthu osachepera 16 ataya miyoyo yawo mvula yo...</td>\n",
       "      <td>FLOODING</td>\n",
       "    </tr>\n",
       "    <tr>\n",
       "      <th>2</th>\n",
       "      <td>Anthu osachepera anayi ataya miyoyo yawo mvula...</td>\n",
       "      <td>FLOODING</td>\n",
       "    </tr>\n",
       "    <tr>\n",
       "      <th>3</th>\n",
       "      <td>Anthu opitilira 50 ataya miyoyo yawo ku Mozamb...</td>\n",
       "      <td>FLOODING</td>\n",
       "    </tr>\n",
       "    <tr>\n",
       "      <th>4</th>\n",
       "      <td>Mvula yamphamvu kuyambira pa Marichi 20, 2022 ...</td>\n",
       "      <td>FLOODING</td>\n",
       "    </tr>\n",
       "  </tbody>\n",
       "</table>\n",
       "</div>"
      ],
      "text/plain": [
       "                                                Text     Label\n",
       "0  Pambuyo pa mvula yamphamvu yomwe idayamba koya...  FLOODING\n",
       "1  Anthu osachepera 16 ataya miyoyo yawo mvula yo...  FLOODING\n",
       "2  Anthu osachepera anayi ataya miyoyo yawo mvula...  FLOODING\n",
       "3  Anthu opitilira 50 ataya miyoyo yawo ku Mozamb...  FLOODING\n",
       "4  Mvula yamphamvu kuyambira pa Marichi 20, 2022 ...  FLOODING"
      ]
     },
     "execution_count": 23,
     "metadata": {},
     "output_type": "execute_result"
    }
   ],
   "source": [
    "df_flood.head()"
   ]
  },
  {
   "cell_type": "code",
   "execution_count": 24,
   "id": "49801396",
   "metadata": {},
   "outputs": [],
   "source": [
    "df_flood.to_csv('flood_chichewa.csv',index=False)"
   ]
  }
 ],
 "metadata": {
  "kernelspec": {
   "display_name": "Python 3",
   "language": "python",
   "name": "python3"
  },
  "language_info": {
   "codemirror_mode": {
    "name": "ipython",
    "version": 3
   },
   "file_extension": ".py",
   "mimetype": "text/x-python",
   "name": "python",
   "nbconvert_exporter": "python",
   "pygments_lexer": "ipython3",
   "version": "3.8.8"
  }
 },
 "nbformat": 4,
 "nbformat_minor": 5
}
